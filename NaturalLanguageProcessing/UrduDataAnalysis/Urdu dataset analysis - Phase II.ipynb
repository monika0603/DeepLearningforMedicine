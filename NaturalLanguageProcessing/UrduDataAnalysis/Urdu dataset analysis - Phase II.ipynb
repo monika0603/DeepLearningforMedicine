{
 "cells": [
  {
   "cell_type": "markdown",
   "metadata": {},
   "source": [
    "# Basic Imports"
   ]
  },
  {
   "cell_type": "code",
   "execution_count": 5,
   "metadata": {},
   "outputs": [],
   "source": [
    "from jupyterthemes import jtplot\n",
    "# choose which theme to inherit plotting style from\n",
    "# onedork | grade3 | oceans16 | chesterish | monokai | solarizedl | solarizedd\n",
    "jtplot.style(theme='onedork')\n",
    "\n",
    "# set \"context\" (paper, notebook, talk, poster)\n",
    "# scale font-size of ticklabels, legend, etc.\n",
    "# remove spines from x and y axes and make grid dashed\n",
    "jtplot.style(context='talk', fscale=1.4, spines=False, gridlines='--')\n",
    "\n",
    "# turn on X- and Y-axis tick marks (default=False)\n",
    "# turn off the axis grid lines (default=True)\n",
    "# and set the default figure size\n",
    "jtplot.style(ticks=True, grid=False, figsize=(6, 4.5))\n",
    "\n",
    "# reset default matplotlib rcParams\n",
    "jtplot.reset()\n",
    "\n",
    "import pandas as pd\n",
    "pd.set_option('display.max_colwidth', 100)\n",
    "\n",
    "import string\n",
    "string.punctuation\n",
    "\n",
    "import re\n",
    "\n",
    "import nltk\n",
    "stopword = nltk.corpus.stopwords.words('english')\n",
    "\n",
    "from sklearn.feature_extraction.text import CountVectorizer\n",
    "from sklearn.feature_extraction.text import TfidfVectorizer\n",
    "\n",
    "import matplotlib.pyplot as plt\n",
    "import numpy as np\n",
    "%matplotlib inline\n",
    "\n",
    "from sklearn.ensemble import RandomForestClassifier\n",
    "from sklearn.model_selection import KFold, cross_validate\n",
    "\n",
    "from sklearn.metrics import precision_recall_fscore_support as score\n",
    "from sklearn.model_selection import train_test_split\n",
    "from sklearn.model_selection import GridSearchCV\n",
    "from sklearn.ensemble import GradientBoostingClassifier\n",
    "from sklearn.linear_model import SGDClassifier, LogisticRegression\n",
    "from sklearn import metrics\n",
    "\n",
    "import matplotlib.pyplot as plt\n",
    "plt.style.use('ggplot')"
   ]
  },
  {
   "cell_type": "markdown",
   "metadata": {},
   "source": [
    "# Read data using Pandas"
   ]
  },
  {
   "cell_type": "code",
   "execution_count": 6,
   "metadata": {},
   "outputs": [],
   "source": [
    "fullcorpus = pd.read_csv('/Users/monsharm6/Projects/NaturalLanguageProcessing/UrduDataset/RomanUrduDataSet.csv', \n",
    "                         sep=',', header=None)"
   ]
  },
  {
   "cell_type": "code",
   "execution_count": 7,
   "metadata": {},
   "outputs": [
    {
     "ename": "ImportError",
     "evalue": "cannot import name 'is_url' from 'pandas.io.common' (/anaconda3/lib/python3.7/site-packages/pandas/io/common.py)",
     "output_type": "error",
     "traceback": [
      "\u001b[0;31m---------------------------------------------------------------------------\u001b[0m",
      "\u001b[0;31mImportError\u001b[0m                               Traceback (most recent call last)",
      "\u001b[0;32m/anaconda3/lib/python3.7/site-packages/IPython/core/formatters.py\u001b[0m in \u001b[0;36m__call__\u001b[0;34m(self, obj)\u001b[0m\n\u001b[1;32m    343\u001b[0m             \u001b[0mmethod\u001b[0m \u001b[0;34m=\u001b[0m \u001b[0mget_real_method\u001b[0m\u001b[0;34m(\u001b[0m\u001b[0mobj\u001b[0m\u001b[0;34m,\u001b[0m \u001b[0mself\u001b[0m\u001b[0;34m.\u001b[0m\u001b[0mprint_method\u001b[0m\u001b[0;34m)\u001b[0m\u001b[0;34m\u001b[0m\u001b[0;34m\u001b[0m\u001b[0m\n\u001b[1;32m    344\u001b[0m             \u001b[0;32mif\u001b[0m \u001b[0mmethod\u001b[0m \u001b[0;32mis\u001b[0m \u001b[0;32mnot\u001b[0m \u001b[0;32mNone\u001b[0m\u001b[0;34m:\u001b[0m\u001b[0;34m\u001b[0m\u001b[0;34m\u001b[0m\u001b[0m\n\u001b[0;32m--> 345\u001b[0;31m                 \u001b[0;32mreturn\u001b[0m \u001b[0mmethod\u001b[0m\u001b[0;34m(\u001b[0m\u001b[0;34m)\u001b[0m\u001b[0;34m\u001b[0m\u001b[0;34m\u001b[0m\u001b[0m\n\u001b[0m\u001b[1;32m    346\u001b[0m             \u001b[0;32mreturn\u001b[0m \u001b[0;32mNone\u001b[0m\u001b[0;34m\u001b[0m\u001b[0;34m\u001b[0m\u001b[0m\n\u001b[1;32m    347\u001b[0m         \u001b[0;32melse\u001b[0m\u001b[0;34m:\u001b[0m\u001b[0;34m\u001b[0m\u001b[0;34m\u001b[0m\u001b[0m\n",
      "\u001b[0;32m/anaconda3/lib/python3.7/site-packages/pandas/core/frame.py\u001b[0m in \u001b[0;36m_repr_html_\u001b[0;34m(self)\u001b[0m\n\u001b[1;32m    672\u001b[0m         \u001b[0mmin_rows\u001b[0m \u001b[0;34m=\u001b[0m \u001b[0mget_option\u001b[0m\u001b[0;34m(\u001b[0m\u001b[0;34m\"display.min_rows\"\u001b[0m\u001b[0;34m)\u001b[0m\u001b[0;34m\u001b[0m\u001b[0;34m\u001b[0m\u001b[0m\n\u001b[1;32m    673\u001b[0m         \u001b[0mmax_cols\u001b[0m \u001b[0;34m=\u001b[0m \u001b[0mget_option\u001b[0m\u001b[0;34m(\u001b[0m\u001b[0;34m\"display.max_columns\"\u001b[0m\u001b[0;34m)\u001b[0m\u001b[0;34m\u001b[0m\u001b[0;34m\u001b[0m\u001b[0m\n\u001b[0;32m--> 674\u001b[0;31m         \u001b[0mmax_colwidth\u001b[0m \u001b[0;34m=\u001b[0m \u001b[0mget_option\u001b[0m\u001b[0;34m(\u001b[0m\u001b[0;34m\"display.max_colwidth\"\u001b[0m\u001b[0;34m)\u001b[0m\u001b[0;34m\u001b[0m\u001b[0;34m\u001b[0m\u001b[0m\n\u001b[0m\u001b[1;32m    675\u001b[0m         \u001b[0mshow_dimensions\u001b[0m \u001b[0;34m=\u001b[0m \u001b[0mget_option\u001b[0m\u001b[0;34m(\u001b[0m\u001b[0;34m\"display.show_dimensions\"\u001b[0m\u001b[0;34m)\u001b[0m\u001b[0;34m\u001b[0m\u001b[0;34m\u001b[0m\u001b[0m\n\u001b[1;32m    676\u001b[0m         \u001b[0;32mif\u001b[0m \u001b[0mget_option\u001b[0m\u001b[0;34m(\u001b[0m\u001b[0;34m\"display.expand_frame_repr\"\u001b[0m\u001b[0;34m)\u001b[0m\u001b[0;34m:\u001b[0m\u001b[0;34m\u001b[0m\u001b[0;34m\u001b[0m\u001b[0m\n",
      "\u001b[0;32m/anaconda3/lib/python3.7/site-packages/pandas/core/frame.py\u001b[0m in \u001b[0;36mto_html\u001b[0;34m(self, buf, columns, col_space, header, index, na_rep, formatters, float_format, sparsify, index_names, justify, max_rows, max_cols, show_dimensions, decimal, bold_rows, classes, escape, notebook, border, table_id, render_links)\u001b[0m\n\u001b[1;32m   2263\u001b[0m             \u001b[0;31m`\u001b[0m\u001b[0;31m`\u001b[0m\u001b[0mpandas\u001b[0m\u001b[0;34m.\u001b[0m\u001b[0moptions\u001b[0m\u001b[0;34m.\u001b[0m\u001b[0mdisplay\u001b[0m\u001b[0;34m.\u001b[0m\u001b[0mmax_info_rows\u001b[0m\u001b[0;31m`\u001b[0m\u001b[0;31m`\u001b[0m \u001b[0;32mand\u001b[0m\u001b[0;34m\u001b[0m\u001b[0;34m\u001b[0m\u001b[0m\n\u001b[1;32m   2264\u001b[0m             \u001b[0;31m`\u001b[0m\u001b[0;31m`\u001b[0m\u001b[0mpandas\u001b[0m\u001b[0;34m.\u001b[0m\u001b[0moptions\u001b[0m\u001b[0;34m.\u001b[0m\u001b[0mdisplay\u001b[0m\u001b[0;34m.\u001b[0m\u001b[0mmax_info_columns\u001b[0m\u001b[0;31m`\u001b[0m\u001b[0;31m`\u001b[0m\u001b[0;34m.\u001b[0m \u001b[0mA\u001b[0m \u001b[0mvalue\u001b[0m \u001b[0mof\u001b[0m \u001b[0;32mTrue\u001b[0m \u001b[0malways\u001b[0m\u001b[0;34m\u001b[0m\u001b[0;34m\u001b[0m\u001b[0m\n\u001b[0;32m-> 2265\u001b[0;31m             \u001b[0mshows\u001b[0m \u001b[0mthe\u001b[0m \u001b[0mcounts\u001b[0m\u001b[0;34m,\u001b[0m \u001b[0;32mand\u001b[0m \u001b[0;32mFalse\u001b[0m \u001b[0mnever\u001b[0m \u001b[0mshows\u001b[0m \u001b[0mthe\u001b[0m \u001b[0mcounts\u001b[0m\u001b[0;34m.\u001b[0m\u001b[0;34m\u001b[0m\u001b[0;34m\u001b[0m\u001b[0m\n\u001b[0m\u001b[1;32m   2266\u001b[0m \u001b[0;34m\u001b[0m\u001b[0m\n\u001b[1;32m   2267\u001b[0m         \u001b[0mReturns\u001b[0m\u001b[0;34m\u001b[0m\u001b[0;34m\u001b[0m\u001b[0m\n",
      "\u001b[0;32m/anaconda3/lib/python3.7/site-packages/pandas/io/formats/format.py\u001b[0m in \u001b[0;36mto_html\u001b[0;34m(self, classes, notebook, border)\u001b[0m\n\u001b[1;32m    725\u001b[0m             \u001b[0;32mfor\u001b[0m \u001b[0mi\u001b[0m\u001b[0;34m,\u001b[0m \u001b[0mc\u001b[0m \u001b[0;32min\u001b[0m \u001b[0menumerate\u001b[0m\u001b[0;34m(\u001b[0m\u001b[0mframe\u001b[0m\u001b[0;34m)\u001b[0m\u001b[0;34m:\u001b[0m\u001b[0;34m\u001b[0m\u001b[0;34m\u001b[0m\u001b[0m\n\u001b[1;32m    726\u001b[0m                 \u001b[0mfmt_values\u001b[0m \u001b[0;34m=\u001b[0m \u001b[0mself\u001b[0m\u001b[0;34m.\u001b[0m\u001b[0m_format_col\u001b[0m\u001b[0;34m(\u001b[0m\u001b[0mi\u001b[0m\u001b[0;34m)\u001b[0m\u001b[0;34m\u001b[0m\u001b[0;34m\u001b[0m\u001b[0m\n\u001b[0;32m--> 727\u001b[0;31m                 fmt_values = _make_fixed_width(\n\u001b[0m\u001b[1;32m    728\u001b[0m                     \u001b[0mfmt_values\u001b[0m\u001b[0;34m,\u001b[0m\u001b[0;34m\u001b[0m\u001b[0;34m\u001b[0m\u001b[0m\n\u001b[1;32m    729\u001b[0m                     \u001b[0mself\u001b[0m\u001b[0;34m.\u001b[0m\u001b[0mjustify\u001b[0m\u001b[0;34m,\u001b[0m\u001b[0;34m\u001b[0m\u001b[0;34m\u001b[0m\u001b[0m\n",
      "\u001b[0;32m/anaconda3/lib/python3.7/site-packages/pandas/io/formats/html.py\u001b[0m in \u001b[0;36m<module>\u001b[0;34m\u001b[0m\n\u001b[1;32m     14\u001b[0m \u001b[0;32mfrom\u001b[0m \u001b[0mpandas\u001b[0m \u001b[0;32mimport\u001b[0m \u001b[0moption_context\u001b[0m\u001b[0;34m\u001b[0m\u001b[0;34m\u001b[0m\u001b[0m\n\u001b[1;32m     15\u001b[0m \u001b[0;34m\u001b[0m\u001b[0m\n\u001b[0;32m---> 16\u001b[0;31m \u001b[0;32mfrom\u001b[0m \u001b[0mpandas\u001b[0m\u001b[0;34m.\u001b[0m\u001b[0mio\u001b[0m\u001b[0;34m.\u001b[0m\u001b[0mcommon\u001b[0m \u001b[0;32mimport\u001b[0m \u001b[0mis_url\u001b[0m\u001b[0;34m\u001b[0m\u001b[0;34m\u001b[0m\u001b[0m\n\u001b[0m\u001b[1;32m     17\u001b[0m from pandas.io.formats.format import (\n\u001b[1;32m     18\u001b[0m     \u001b[0mDataFrameFormatter\u001b[0m\u001b[0;34m,\u001b[0m\u001b[0;34m\u001b[0m\u001b[0;34m\u001b[0m\u001b[0m\n",
      "\u001b[0;31mImportError\u001b[0m: cannot import name 'is_url' from 'pandas.io.common' (/anaconda3/lib/python3.7/site-packages/pandas/io/common.py)"
     ]
    },
    {
     "data": {
      "text/plain": [
       "                                                                                                       0  \\\n",
       "0      Sai kha ya her kisi kay bus ki bat nhi hai lakin main ki hal kal bi Aj aur aj bi sirf Aus say bus   \n",
       "1                                                                                              sahi bt h   \n",
       "2                                                                                            Kya bt hai,   \n",
       "3                                                                                             Wah je wah   \n",
       "4                                                                                   Are wha kaya bat hai   \n",
       "5                                                                                     Wah kya baat likhi   \n",
       "6                                                                                  Wha Itni sari khubiya   \n",
       "7                                                                                           Itni khubiya   \n",
       "8                                            Ya allah rehm farma hm sab pe or zalimo ko hidayat de ameen   \n",
       "9     Please Everyone AllAh S.w.T ka naam hAmesha Bary Lawzo main Likha kary Wo he Zaat sUb say Bari Hey   \n",
       "10        Ya mere rab tu bra kreem hy is mulk k halat PR reham frma. Is watn.e.Aziz ki hifazat frma.amin   \n",
       "11   jaago Pakistani coom jaago ye humary nokar han humarey tex se inko tankha milti h or ye hum paki...   \n",
       "12   kia kia jae .kon sacha ha ALLAH JANY .PAK KESE BDL SAKTA HA I THINK 7 NSL TO ASE E GUZR JAIN GI ...   \n",
       "13    afsos hota hai garip insan kha jay Allah ki lati me awaz hai jo zulum kry ga Allah ki lati pary gi   \n",
       "14                                                                                    Allah insaaf karey   \n",
       "15   ALLAH MUSALMAN PHIR DOR E JAHALAT ME JARAHA H HIYADAY FARMA AESE LOGO KO JO AWAM KI ZINDGIYO KO ...   \n",
       "16                                                                                    Je Thik Kaha Right   \n",
       "17                                                                                          jee ye to he   \n",
       "18                                                           Maa cheez e ASE ha jis ka koi namil Badl Ni   \n",
       "19                                                                                    Wah wah yeh toh hy   \n",
       "20                                                                                          jee ye to he   \n",
       "21                                                                                         Zenda bad yar   \n",
       "22   Es leay Muskurany ki koshish kia karo Es se wo loug ju apk Rouny pr muskuraty hain wo Loug phir ...   \n",
       "23                                                                                         Wha bhut qoob   \n",
       "24                                                              right\\nOr sada time same nahi rehtaaaaaa   \n",
       "25                                                                                  Wha wha kaya bat hai   \n",
       "26                                                                     Bohat khoob so true Alhamdulillah   \n",
       "27   dil me khud aaka ho nala jm hai akbaal sjdo me pde rahna rahne se jnnat nahi milee yhi likha hai...   \n",
       "28                                                Sjdo me bhi wo hi pda he jis k dil me khuda ka Dr he .   \n",
       "29                                                                                   Beshaq haq baat hai   \n",
       "..                                                                                                   ...   \n",
       "170                                        Haha acha chlo koshish krna dono bhai hon, aur bara vala mra🤣   \n",
       "171                         Haha pgl choty bhaie wali zyada faidy m hoty sb set hoa va milta jithani g 😂   \n",
       "172                                      Har pal har dum azam hmara\\nSb sy perfct jo vo shakhs hmara😂😂😂😂   \n",
       "173                                                                  Lkn phr b roub tou bari ka hi hota😂   \n",
       "174                                                                 Yr wesy mil k sb ko set kr dyn gyn 😂   \n",
       "175                                                              Ptq ni ab set krengy ya khud set hongy😔   \n",
       "176                                                        Bs sai wa swery fir uni da hostel done ay :-D   \n",
       "177                                                          Haha idea bura nai tha wesy chalo nxt sae 😎   \n",
       "178                                                     Xactly,cup apna,spoon apna... SAKOON APNA ....😜😛   \n",
       "179                                                                                     Aisaaa hi hai...   \n",
       "180                                                                           tere lye bday gft mil gya😉   \n",
       "181                    koi issue nai bhale mera cup use karen 🤣 beta meri bottle b har koi use karta hai   \n",
       "182                                                                                    Pyar bharta h ase   \n",
       "183                                                                           Kiaa pata behna shareef ho   \n",
       "184                                                                                       shareef hi hai   \n",
       "185                                                                           tm dost ho yar keh skti ho   \n",
       "186                                                 me idhr b aisi hun apko islamabad ka shak pra rehta🤣   \n",
       "187                                                             Alhumdulilah ghalazat to nhi hai 😈😯👊👊👊👊👊   \n",
       "188                             hahahhaahaha me to kahin sa b maesna ni lgta .tumhain pta ni kaisay lgta   \n",
       "189                                                            Hahah hum bi apko sharif hi smjta han jnb   \n",
       "190                                                                       Haha Haha haye mei war jaon🤣🤣🤣   \n",
       "191                                                       tm mere kch kehne se pehle he smjh jatay ho sb   \n",
       "192                                                            Woh to MASHA'ALLAH se meri qabliat Hai..    \n",
       "193                                                                                  Aur masoomiyat bhi    \n",
       "194                                             ye apke liye likha gaya hai ... area per square eench :P   \n",
       "195                                                                   Bhai main ek shareef insan hon :-P   \n",
       "196                                               yd h aik mohtrma hua krti ti shareeef tareeen bibi 😂😂😂   \n",
       "197                                                         Haha...mtlb main shareef nazar aati hun...😜😁   \n",
       "198                                                                         Wyse main shareef hun b...😂😉   \n",
       "199                                                                                          no galazaat   \n",
       "\n",
       "            1    2  \n",
       "0    Positive  NaN  \n",
       "1    Positive  NaN  \n",
       "2    Positive  NaN  \n",
       "3    Positive  NaN  \n",
       "4    Positive  NaN  \n",
       "5    Positive  NaN  \n",
       "6    Positive  NaN  \n",
       "7    Positive  NaN  \n",
       "8    Positive  NaN  \n",
       "9    Positive  NaN  \n",
       "10   Positive  NaN  \n",
       "11   Positive  NaN  \n",
       "12   Positive  NaN  \n",
       "13   Positive  NaN  \n",
       "14   Positive  NaN  \n",
       "15   Positive  NaN  \n",
       "16   Positive  NaN  \n",
       "17   Positive  NaN  \n",
       "18   Positive  NaN  \n",
       "19   Positive  NaN  \n",
       "20   Positive  NaN  \n",
       "21   Positive  NaN  \n",
       "22   Positive  NaN  \n",
       "23   Positive  NaN  \n",
       "24   Positive  NaN  \n",
       "25   Positive  NaN  \n",
       "26   Positive  NaN  \n",
       "27   Positive  NaN  \n",
       "28   Positive  NaN  \n",
       "29   Positive  NaN  \n",
       "..        ...  ...  \n",
       "170  Positive  NaN  \n",
       "171  Positive  NaN  \n",
       "172  Positive  NaN  \n",
       "173  Positive  NaN  \n",
       "174  Positive  NaN  \n",
       "175  Positive  NaN  \n",
       "176  Positive  NaN  \n",
       "177  Positive  NaN  \n",
       "178  Positive  NaN  \n",
       "179  Positive  NaN  \n",
       "180  Positive  NaN  \n",
       "181  Positive  NaN  \n",
       "182  Positive  NaN  \n",
       "183  Positive  NaN  \n",
       "184  Positive  NaN  \n",
       "185  Positive  NaN  \n",
       "186  Positive  NaN  \n",
       "187  Positive  NaN  \n",
       "188  Positive  NaN  \n",
       "189  Positive  NaN  \n",
       "190  Positive  NaN  \n",
       "191  Positive  NaN  \n",
       "192  Positive  NaN  \n",
       "193  Positive  NaN  \n",
       "194  Positive  NaN  \n",
       "195  Positive  NaN  \n",
       "196  Positive  NaN  \n",
       "197  Positive  NaN  \n",
       "198  Positive  NaN  \n",
       "199  Positive  NaN  \n",
       "\n",
       "[200 rows x 3 columns]"
      ]
     },
     "execution_count": 7,
     "metadata": {},
     "output_type": "execute_result"
    }
   ],
   "source": [
    "fullcorpus.head(200)"
   ]
  },
  {
   "cell_type": "code",
   "execution_count": 29,
   "metadata": {},
   "outputs": [],
   "source": [
    "fullcorpus.columns = ['body_text', 'sentiment', 'junk']"
   ]
  },
  {
   "cell_type": "code",
   "execution_count": 30,
   "metadata": {},
   "outputs": [],
   "source": [
    "fullcorpusI = fullcorpus.drop(['junk'], axis=1)"
   ]
  },
  {
   "cell_type": "code",
   "execution_count": 31,
   "metadata": {},
   "outputs": [
    {
     "data": {
      "text/html": [
       "<div>\n",
       "<style scoped>\n",
       "    .dataframe tbody tr th:only-of-type {\n",
       "        vertical-align: middle;\n",
       "    }\n",
       "\n",
       "    .dataframe tbody tr th {\n",
       "        vertical-align: top;\n",
       "    }\n",
       "\n",
       "    .dataframe thead th {\n",
       "        text-align: right;\n",
       "    }\n",
       "</style>\n",
       "<table border=\"1\" class=\"dataframe\">\n",
       "  <thead>\n",
       "    <tr style=\"text-align: right;\">\n",
       "      <th></th>\n",
       "      <th>body_text</th>\n",
       "      <th>sentiment</th>\n",
       "    </tr>\n",
       "  </thead>\n",
       "  <tbody>\n",
       "    <tr>\n",
       "      <th>0</th>\n",
       "      <td>Sai kha ya her kisi kay bus ki bat nhi hai lakin main ki hal kal bi Aj aur aj bi sirf Aus say bus</td>\n",
       "      <td>Positive</td>\n",
       "    </tr>\n",
       "    <tr>\n",
       "      <th>1</th>\n",
       "      <td>sahi bt h</td>\n",
       "      <td>Positive</td>\n",
       "    </tr>\n",
       "    <tr>\n",
       "      <th>2</th>\n",
       "      <td>Kya bt hai,</td>\n",
       "      <td>Positive</td>\n",
       "    </tr>\n",
       "    <tr>\n",
       "      <th>3</th>\n",
       "      <td>Wah je wah</td>\n",
       "      <td>Positive</td>\n",
       "    </tr>\n",
       "    <tr>\n",
       "      <th>4</th>\n",
       "      <td>Are wha kaya bat hai</td>\n",
       "      <td>Positive</td>\n",
       "    </tr>\n",
       "  </tbody>\n",
       "</table>\n",
       "</div>"
      ],
      "text/plain": [
       "                                                                                           body_text  \\\n",
       "0  Sai kha ya her kisi kay bus ki bat nhi hai lakin main ki hal kal bi Aj aur aj bi sirf Aus say bus   \n",
       "1                                                                                          sahi bt h   \n",
       "2                                                                                        Kya bt hai,   \n",
       "3                                                                                         Wah je wah   \n",
       "4                                                                               Are wha kaya bat hai   \n",
       "\n",
       "  sentiment  \n",
       "0  Positive  \n",
       "1  Positive  \n",
       "2  Positive  \n",
       "3  Positive  \n",
       "4  Positive  "
      ]
     },
     "execution_count": 31,
     "metadata": {},
     "output_type": "execute_result"
    }
   ],
   "source": [
    "fullcorpusI.head()"
   ]
  },
  {
   "cell_type": "code",
   "execution_count": 32,
   "metadata": {},
   "outputs": [
    {
     "data": {
      "text/plain": [
       "(20229, 2)"
      ]
     },
     "execution_count": 32,
     "metadata": {},
     "output_type": "execute_result"
    }
   ],
   "source": [
    "fullcorpusI.shape"
   ]
  },
  {
   "cell_type": "code",
   "execution_count": 33,
   "metadata": {},
   "outputs": [
    {
     "data": {
      "text/plain": [
       "body_text    6013\n",
       "sentiment    6013\n",
       "dtype: int64"
      ]
     },
     "execution_count": 33,
     "metadata": {},
     "output_type": "execute_result"
    }
   ],
   "source": [
    "fullcorpusI[fullcorpusI['sentiment'] == 'Positive'].count()"
   ]
  },
  {
   "cell_type": "code",
   "execution_count": 34,
   "metadata": {},
   "outputs": [
    {
     "data": {
      "text/plain": [
       "body_text    5286\n",
       "sentiment    5286\n",
       "dtype: int64"
      ]
     },
     "execution_count": 34,
     "metadata": {},
     "output_type": "execute_result"
    }
   ],
   "source": [
    "fullcorpusI[fullcorpusI['sentiment'] == 'Negative'].count()"
   ]
  },
  {
   "cell_type": "code",
   "execution_count": 35,
   "metadata": {},
   "outputs": [
    {
     "data": {
      "text/plain": [
       "body_text    8928\n",
       "sentiment    8929\n",
       "dtype: int64"
      ]
     },
     "execution_count": 35,
     "metadata": {},
     "output_type": "execute_result"
    }
   ],
   "source": [
    "fullcorpusI[fullcorpusI['sentiment'] == 'Neutral'].count()"
   ]
  },
  {
   "cell_type": "code",
   "execution_count": 36,
   "metadata": {},
   "outputs": [],
   "source": [
    "fullcorpusI = fullcorpusI[fullcorpusI.sentiment != 'Neutral']"
   ]
  },
  {
   "cell_type": "code",
   "execution_count": 37,
   "metadata": {},
   "outputs": [
    {
     "data": {
      "text/plain": [
       "(11300, 2)"
      ]
     },
     "execution_count": 37,
     "metadata": {},
     "output_type": "execute_result"
    }
   ],
   "source": [
    "fullcorpusI.shape"
   ]
  },
  {
   "cell_type": "code",
   "execution_count": 13,
   "metadata": {},
   "outputs": [],
   "source": [
    "fullcorpusI['body_text'] = fullcorpusI['body_text'].apply(lambda x: x.lower())"
   ]
  },
  {
   "cell_type": "code",
   "execution_count": 14,
   "metadata": {},
   "outputs": [],
   "source": [
    "# Filtering only valid texts and words. \n",
    "fullcorpusI['body_text'] = fullcorpusI['body_text'].apply(lambda x: re.sub('[^a-zA-z0-9\\s]','',x))"
   ]
  },
  {
   "cell_type": "code",
   "execution_count": 38,
   "metadata": {},
   "outputs": [
    {
     "name": "stdout",
     "output_type": "stream",
     "text": [
      "12026\n"
     ]
    }
   ],
   "source": [
    "print(fullcorpusI[fullcorpusI['sentiment'] == 'Positive'].size)"
   ]
  },
  {
   "cell_type": "code",
   "execution_count": 39,
   "metadata": {},
   "outputs": [
    {
     "name": "stdout",
     "output_type": "stream",
     "text": [
      "10572\n"
     ]
    }
   ],
   "source": [
    "print(fullcorpusI[fullcorpusI['sentiment'] == 'Negative'].size)"
   ]
  },
  {
   "cell_type": "code",
   "execution_count": 40,
   "metadata": {},
   "outputs": [
    {
     "data": {
      "text/plain": [
       "body_text    5286\n",
       "sentiment    5286\n",
       "dtype: int64"
      ]
     },
     "execution_count": 40,
     "metadata": {},
     "output_type": "execute_result"
    }
   ],
   "source": [
    "fullcorpusI[fullcorpusI['sentiment'] == 'Negative'].count()"
   ]
  },
  {
   "cell_type": "code",
   "execution_count": 41,
   "metadata": {},
   "outputs": [
    {
     "data": {
      "text/plain": [
       "body_text    6013\n",
       "sentiment    6013\n",
       "dtype: int64"
      ]
     },
     "execution_count": 41,
     "metadata": {},
     "output_type": "execute_result"
    }
   ],
   "source": [
    "fullcorpusI[fullcorpusI['sentiment'] == 'Positive'].count()"
   ]
  },
  {
   "cell_type": "code",
   "execution_count": 42,
   "metadata": {},
   "outputs": [],
   "source": [
    "fullcorpusI['sentiment'] = [1 if sentiment == 'Positive' else 0 for sentiment in fullcorpusI['sentiment'].values]"
   ]
  },
  {
   "cell_type": "code",
   "execution_count": 43,
   "metadata": {},
   "outputs": [
    {
     "data": {
      "text/html": [
       "<div>\n",
       "<style scoped>\n",
       "    .dataframe tbody tr th:only-of-type {\n",
       "        vertical-align: middle;\n",
       "    }\n",
       "\n",
       "    .dataframe tbody tr th {\n",
       "        vertical-align: top;\n",
       "    }\n",
       "\n",
       "    .dataframe thead th {\n",
       "        text-align: right;\n",
       "    }\n",
       "</style>\n",
       "<table border=\"1\" class=\"dataframe\">\n",
       "  <thead>\n",
       "    <tr style=\"text-align: right;\">\n",
       "      <th></th>\n",
       "      <th>body_text</th>\n",
       "      <th>sentiment</th>\n",
       "    </tr>\n",
       "  </thead>\n",
       "  <tbody>\n",
       "    <tr>\n",
       "      <th>0</th>\n",
       "      <td>Sai kha ya her kisi kay bus ki bat nhi hai lakin main ki hal kal bi Aj aur aj bi sirf Aus say bus</td>\n",
       "      <td>1</td>\n",
       "    </tr>\n",
       "    <tr>\n",
       "      <th>1</th>\n",
       "      <td>sahi bt h</td>\n",
       "      <td>1</td>\n",
       "    </tr>\n",
       "    <tr>\n",
       "      <th>2</th>\n",
       "      <td>Kya bt hai,</td>\n",
       "      <td>1</td>\n",
       "    </tr>\n",
       "    <tr>\n",
       "      <th>3</th>\n",
       "      <td>Wah je wah</td>\n",
       "      <td>1</td>\n",
       "    </tr>\n",
       "    <tr>\n",
       "      <th>4</th>\n",
       "      <td>Are wha kaya bat hai</td>\n",
       "      <td>1</td>\n",
       "    </tr>\n",
       "  </tbody>\n",
       "</table>\n",
       "</div>"
      ],
      "text/plain": [
       "                                                                                           body_text  \\\n",
       "0  Sai kha ya her kisi kay bus ki bat nhi hai lakin main ki hal kal bi Aj aur aj bi sirf Aus say bus   \n",
       "1                                                                                          sahi bt h   \n",
       "2                                                                                        Kya bt hai,   \n",
       "3                                                                                         Wah je wah   \n",
       "4                                                                               Are wha kaya bat hai   \n",
       "\n",
       "   sentiment  \n",
       "0          1  \n",
       "1          1  \n",
       "2          1  \n",
       "3          1  \n",
       "4          1  "
      ]
     },
     "execution_count": 43,
     "metadata": {},
     "output_type": "execute_result"
    }
   ],
   "source": [
    "fullcorpusI.head()"
   ]
  },
  {
   "cell_type": "code",
   "execution_count": 44,
   "metadata": {},
   "outputs": [
    {
     "data": {
      "text/plain": [
       "body_text    6013\n",
       "sentiment    6013\n",
       "dtype: int64"
      ]
     },
     "execution_count": 44,
     "metadata": {},
     "output_type": "execute_result"
    }
   ],
   "source": [
    "fullcorpusI[fullcorpusI['sentiment'] == 1].count()"
   ]
  },
  {
   "cell_type": "code",
   "execution_count": 45,
   "metadata": {},
   "outputs": [
    {
     "data": {
      "text/plain": [
       "body_text    5287\n",
       "sentiment    5287\n",
       "dtype: int64"
      ]
     },
     "execution_count": 45,
     "metadata": {},
     "output_type": "execute_result"
    }
   ],
   "source": [
    "fullcorpusI[fullcorpusI['sentiment'] == 0].count()"
   ]
  },
  {
   "cell_type": "markdown",
   "metadata": {},
   "source": [
    "# Remove punctuation"
   ]
  },
  {
   "cell_type": "code",
   "execution_count": 46,
   "metadata": {},
   "outputs": [],
   "source": [
    "def remove_punctuation(text):\n",
    "    # Iterate over characters in text and return character if it is not in string.punctuation\n",
    "    text_nopunct = \"\".join([char for char in text if char not in string.punctuation])\n",
    "    return text_nopunct"
   ]
  },
  {
   "cell_type": "code",
   "execution_count": 47,
   "metadata": {},
   "outputs": [],
   "source": [
    "fullcorpusI['body_text_nopunct'] = fullcorpusI['body_text'].apply(lambda x: remove_punctuation(x))"
   ]
  },
  {
   "cell_type": "code",
   "execution_count": 48,
   "metadata": {},
   "outputs": [
    {
     "data": {
      "text/html": [
       "<div>\n",
       "<style scoped>\n",
       "    .dataframe tbody tr th:only-of-type {\n",
       "        vertical-align: middle;\n",
       "    }\n",
       "\n",
       "    .dataframe tbody tr th {\n",
       "        vertical-align: top;\n",
       "    }\n",
       "\n",
       "    .dataframe thead th {\n",
       "        text-align: right;\n",
       "    }\n",
       "</style>\n",
       "<table border=\"1\" class=\"dataframe\">\n",
       "  <thead>\n",
       "    <tr style=\"text-align: right;\">\n",
       "      <th></th>\n",
       "      <th>body_text</th>\n",
       "      <th>sentiment</th>\n",
       "      <th>body_text_nopunct</th>\n",
       "    </tr>\n",
       "  </thead>\n",
       "  <tbody>\n",
       "    <tr>\n",
       "      <th>0</th>\n",
       "      <td>Sai kha ya her kisi kay bus ki bat nhi hai lakin main ki hal kal bi Aj aur aj bi sirf Aus say bus</td>\n",
       "      <td>1</td>\n",
       "      <td>Sai kha ya her kisi kay bus ki bat nhi hai lakin main ki hal kal bi Aj aur aj bi sirf Aus say bus</td>\n",
       "    </tr>\n",
       "    <tr>\n",
       "      <th>1</th>\n",
       "      <td>sahi bt h</td>\n",
       "      <td>1</td>\n",
       "      <td>sahi bt h</td>\n",
       "    </tr>\n",
       "    <tr>\n",
       "      <th>2</th>\n",
       "      <td>Kya bt hai,</td>\n",
       "      <td>1</td>\n",
       "      <td>Kya bt hai</td>\n",
       "    </tr>\n",
       "    <tr>\n",
       "      <th>3</th>\n",
       "      <td>Wah je wah</td>\n",
       "      <td>1</td>\n",
       "      <td>Wah je wah</td>\n",
       "    </tr>\n",
       "    <tr>\n",
       "      <th>4</th>\n",
       "      <td>Are wha kaya bat hai</td>\n",
       "      <td>1</td>\n",
       "      <td>Are wha kaya bat hai</td>\n",
       "    </tr>\n",
       "    <tr>\n",
       "      <th>5</th>\n",
       "      <td>Wah kya baat likhi</td>\n",
       "      <td>1</td>\n",
       "      <td>Wah kya baat likhi</td>\n",
       "    </tr>\n",
       "    <tr>\n",
       "      <th>6</th>\n",
       "      <td>Wha Itni sari khubiya</td>\n",
       "      <td>1</td>\n",
       "      <td>Wha Itni sari khubiya</td>\n",
       "    </tr>\n",
       "    <tr>\n",
       "      <th>7</th>\n",
       "      <td>Itni khubiya</td>\n",
       "      <td>1</td>\n",
       "      <td>Itni khubiya</td>\n",
       "    </tr>\n",
       "    <tr>\n",
       "      <th>8</th>\n",
       "      <td>Ya allah rehm farma hm sab pe or zalimo ko hidayat de ameen</td>\n",
       "      <td>1</td>\n",
       "      <td>Ya allah rehm farma hm sab pe or zalimo ko hidayat de ameen</td>\n",
       "    </tr>\n",
       "    <tr>\n",
       "      <th>9</th>\n",
       "      <td>Please Everyone AllAh S.w.T ka naam hAmesha Bary Lawzo main Likha kary Wo he Zaat sUb say Bari Hey</td>\n",
       "      <td>1</td>\n",
       "      <td>Please Everyone AllAh SwT ka naam hAmesha Bary Lawzo main Likha kary Wo he Zaat sUb say Bari Hey</td>\n",
       "    </tr>\n",
       "    <tr>\n",
       "      <th>10</th>\n",
       "      <td>Ya mere rab tu bra kreem hy is mulk k halat PR reham frma. Is watn.e.Aziz ki hifazat frma.amin</td>\n",
       "      <td>1</td>\n",
       "      <td>Ya mere rab tu bra kreem hy is mulk k halat PR reham frma Is watneAziz ki hifazat frmaamin</td>\n",
       "    </tr>\n",
       "    <tr>\n",
       "      <th>11</th>\n",
       "      <td>jaago Pakistani coom jaago ye humary nokar han humarey tex se inko tankha milti h or ye hum paki...</td>\n",
       "      <td>1</td>\n",
       "      <td>jaago Pakistani coom jaago ye humary nokar han humarey tex se inko tankha milti h or ye hum paki...</td>\n",
       "    </tr>\n",
       "    <tr>\n",
       "      <th>12</th>\n",
       "      <td>kia kia jae .kon sacha ha ALLAH JANY .PAK KESE BDL SAKTA HA I THINK 7 NSL TO ASE E GUZR JAIN GI ...</td>\n",
       "      <td>1</td>\n",
       "      <td>kia kia jae kon sacha ha ALLAH JANY PAK KESE BDL SAKTA HA I THINK 7 NSL TO ASE E GUZR JAIN GI BD...</td>\n",
       "    </tr>\n",
       "    <tr>\n",
       "      <th>13</th>\n",
       "      <td>afsos hota hai garip insan kha jay Allah ki lati me awaz hai jo zulum kry ga Allah ki lati pary gi</td>\n",
       "      <td>1</td>\n",
       "      <td>afsos hota hai garip insan kha jay Allah ki lati me awaz hai jo zulum kry ga Allah ki lati pary gi</td>\n",
       "    </tr>\n",
       "    <tr>\n",
       "      <th>14</th>\n",
       "      <td>Allah insaaf karey</td>\n",
       "      <td>1</td>\n",
       "      <td>Allah insaaf karey</td>\n",
       "    </tr>\n",
       "    <tr>\n",
       "      <th>15</th>\n",
       "      <td>ALLAH MUSALMAN PHIR DOR E JAHALAT ME JARAHA H HIYADAY FARMA AESE LOGO KO JO AWAM KI ZINDGIYO KO ...</td>\n",
       "      <td>1</td>\n",
       "      <td>ALLAH MUSALMAN PHIR DOR E JAHALAT ME JARAHA H HIYADAY FARMA AESE LOGO KO JO AWAM KI ZINDGIYO KO ...</td>\n",
       "    </tr>\n",
       "    <tr>\n",
       "      <th>16</th>\n",
       "      <td>Je Thik Kaha Right</td>\n",
       "      <td>1</td>\n",
       "      <td>Je Thik Kaha Right</td>\n",
       "    </tr>\n",
       "    <tr>\n",
       "      <th>17</th>\n",
       "      <td>jee ye to he</td>\n",
       "      <td>1</td>\n",
       "      <td>jee ye to he</td>\n",
       "    </tr>\n",
       "    <tr>\n",
       "      <th>18</th>\n",
       "      <td>Maa cheez e ASE ha jis ka koi namil Badl Ni</td>\n",
       "      <td>1</td>\n",
       "      <td>Maa cheez e ASE ha jis ka koi namil Badl Ni</td>\n",
       "    </tr>\n",
       "    <tr>\n",
       "      <th>19</th>\n",
       "      <td>Wah wah yeh toh hy</td>\n",
       "      <td>1</td>\n",
       "      <td>Wah wah yeh toh hy</td>\n",
       "    </tr>\n",
       "    <tr>\n",
       "      <th>20</th>\n",
       "      <td>jee ye to he</td>\n",
       "      <td>1</td>\n",
       "      <td>jee ye to he</td>\n",
       "    </tr>\n",
       "    <tr>\n",
       "      <th>21</th>\n",
       "      <td>Zenda bad yar</td>\n",
       "      <td>1</td>\n",
       "      <td>Zenda bad yar</td>\n",
       "    </tr>\n",
       "    <tr>\n",
       "      <th>22</th>\n",
       "      <td>Es leay Muskurany ki koshish kia karo Es se wo loug ju apk Rouny pr muskuraty hain wo Loug phir ...</td>\n",
       "      <td>1</td>\n",
       "      <td>Es leay Muskurany ki koshish kia karo Es se wo loug ju apk Rouny pr muskuraty hain wo Loug phir ...</td>\n",
       "    </tr>\n",
       "    <tr>\n",
       "      <th>23</th>\n",
       "      <td>Wha bhut qoob</td>\n",
       "      <td>1</td>\n",
       "      <td>Wha bhut qoob</td>\n",
       "    </tr>\n",
       "    <tr>\n",
       "      <th>24</th>\n",
       "      <td>right\\nOr sada time same nahi rehtaaaaaa</td>\n",
       "      <td>1</td>\n",
       "      <td>right\\nOr sada time same nahi rehtaaaaaa</td>\n",
       "    </tr>\n",
       "    <tr>\n",
       "      <th>25</th>\n",
       "      <td>Wha wha kaya bat hai</td>\n",
       "      <td>1</td>\n",
       "      <td>Wha wha kaya bat hai</td>\n",
       "    </tr>\n",
       "    <tr>\n",
       "      <th>26</th>\n",
       "      <td>Bohat khoob so true Alhamdulillah</td>\n",
       "      <td>1</td>\n",
       "      <td>Bohat khoob so true Alhamdulillah</td>\n",
       "    </tr>\n",
       "    <tr>\n",
       "      <th>27</th>\n",
       "      <td>dil me khud aaka ho nala jm hai akbaal sjdo me pde rahna rahne se jnnat nahi milee yhi likha hai...</td>\n",
       "      <td>1</td>\n",
       "      <td>dil me khud aaka ho nala jm hai akbaal sjdo me pde rahna rahne se jnnat nahi milee yhi likha hai...</td>\n",
       "    </tr>\n",
       "    <tr>\n",
       "      <th>28</th>\n",
       "      <td>Sjdo me bhi wo hi pda he jis k dil me khuda ka Dr he .</td>\n",
       "      <td>1</td>\n",
       "      <td>Sjdo me bhi wo hi pda he jis k dil me khuda ka Dr he</td>\n",
       "    </tr>\n",
       "    <tr>\n",
       "      <th>29</th>\n",
       "      <td>Beshaq haq baat hai</td>\n",
       "      <td>1</td>\n",
       "      <td>Beshaq haq baat hai</td>\n",
       "    </tr>\n",
       "    <tr>\n",
       "      <th>...</th>\n",
       "      <td>...</td>\n",
       "      <td>...</td>\n",
       "      <td>...</td>\n",
       "    </tr>\n",
       "    <tr>\n",
       "      <th>170</th>\n",
       "      <td>Haha acha chlo koshish krna dono bhai hon, aur bara vala mra🤣</td>\n",
       "      <td>1</td>\n",
       "      <td>Haha acha chlo koshish krna dono bhai hon aur bara vala mra🤣</td>\n",
       "    </tr>\n",
       "    <tr>\n",
       "      <th>171</th>\n",
       "      <td>Haha pgl choty bhaie wali zyada faidy m hoty sb set hoa va milta jithani g 😂</td>\n",
       "      <td>1</td>\n",
       "      <td>Haha pgl choty bhaie wali zyada faidy m hoty sb set hoa va milta jithani g 😂</td>\n",
       "    </tr>\n",
       "    <tr>\n",
       "      <th>172</th>\n",
       "      <td>Har pal har dum azam hmara\\nSb sy perfct jo vo shakhs hmara😂😂😂😂</td>\n",
       "      <td>1</td>\n",
       "      <td>Har pal har dum azam hmara\\nSb sy perfct jo vo shakhs hmara😂😂😂😂</td>\n",
       "    </tr>\n",
       "    <tr>\n",
       "      <th>173</th>\n",
       "      <td>Lkn phr b roub tou bari ka hi hota😂</td>\n",
       "      <td>1</td>\n",
       "      <td>Lkn phr b roub tou bari ka hi hota😂</td>\n",
       "    </tr>\n",
       "    <tr>\n",
       "      <th>174</th>\n",
       "      <td>Yr wesy mil k sb ko set kr dyn gyn 😂</td>\n",
       "      <td>1</td>\n",
       "      <td>Yr wesy mil k sb ko set kr dyn gyn 😂</td>\n",
       "    </tr>\n",
       "    <tr>\n",
       "      <th>175</th>\n",
       "      <td>Ptq ni ab set krengy ya khud set hongy😔</td>\n",
       "      <td>1</td>\n",
       "      <td>Ptq ni ab set krengy ya khud set hongy😔</td>\n",
       "    </tr>\n",
       "    <tr>\n",
       "      <th>176</th>\n",
       "      <td>Bs sai wa swery fir uni da hostel done ay :-D</td>\n",
       "      <td>1</td>\n",
       "      <td>Bs sai wa swery fir uni da hostel done ay D</td>\n",
       "    </tr>\n",
       "    <tr>\n",
       "      <th>177</th>\n",
       "      <td>Haha idea bura nai tha wesy chalo nxt sae 😎</td>\n",
       "      <td>1</td>\n",
       "      <td>Haha idea bura nai tha wesy chalo nxt sae 😎</td>\n",
       "    </tr>\n",
       "    <tr>\n",
       "      <th>178</th>\n",
       "      <td>Xactly,cup apna,spoon apna... SAKOON APNA ....😜😛</td>\n",
       "      <td>1</td>\n",
       "      <td>Xactlycup apnaspoon apna SAKOON APNA 😜😛</td>\n",
       "    </tr>\n",
       "    <tr>\n",
       "      <th>179</th>\n",
       "      <td>Aisaaa hi hai...</td>\n",
       "      <td>1</td>\n",
       "      <td>Aisaaa hi hai</td>\n",
       "    </tr>\n",
       "    <tr>\n",
       "      <th>180</th>\n",
       "      <td>tere lye bday gft mil gya😉</td>\n",
       "      <td>1</td>\n",
       "      <td>tere lye bday gft mil gya😉</td>\n",
       "    </tr>\n",
       "    <tr>\n",
       "      <th>181</th>\n",
       "      <td>koi issue nai bhale mera cup use karen 🤣 beta meri bottle b har koi use karta hai</td>\n",
       "      <td>1</td>\n",
       "      <td>koi issue nai bhale mera cup use karen 🤣 beta meri bottle b har koi use karta hai</td>\n",
       "    </tr>\n",
       "    <tr>\n",
       "      <th>182</th>\n",
       "      <td>Pyar bharta h ase</td>\n",
       "      <td>1</td>\n",
       "      <td>Pyar bharta h ase</td>\n",
       "    </tr>\n",
       "    <tr>\n",
       "      <th>183</th>\n",
       "      <td>Kiaa pata behna shareef ho</td>\n",
       "      <td>1</td>\n",
       "      <td>Kiaa pata behna shareef ho</td>\n",
       "    </tr>\n",
       "    <tr>\n",
       "      <th>184</th>\n",
       "      <td>shareef hi hai</td>\n",
       "      <td>1</td>\n",
       "      <td>shareef hi hai</td>\n",
       "    </tr>\n",
       "    <tr>\n",
       "      <th>185</th>\n",
       "      <td>tm dost ho yar keh skti ho</td>\n",
       "      <td>1</td>\n",
       "      <td>tm dost ho yar keh skti ho</td>\n",
       "    </tr>\n",
       "    <tr>\n",
       "      <th>186</th>\n",
       "      <td>me idhr b aisi hun apko islamabad ka shak pra rehta🤣</td>\n",
       "      <td>1</td>\n",
       "      <td>me idhr b aisi hun apko islamabad ka shak pra rehta🤣</td>\n",
       "    </tr>\n",
       "    <tr>\n",
       "      <th>187</th>\n",
       "      <td>Alhumdulilah ghalazat to nhi hai 😈😯👊👊👊👊👊</td>\n",
       "      <td>1</td>\n",
       "      <td>Alhumdulilah ghalazat to nhi hai 😈😯👊👊👊👊👊</td>\n",
       "    </tr>\n",
       "    <tr>\n",
       "      <th>188</th>\n",
       "      <td>hahahhaahaha me to kahin sa b maesna ni lgta .tumhain pta ni kaisay lgta</td>\n",
       "      <td>1</td>\n",
       "      <td>hahahhaahaha me to kahin sa b maesna ni lgta tumhain pta ni kaisay lgta</td>\n",
       "    </tr>\n",
       "    <tr>\n",
       "      <th>189</th>\n",
       "      <td>Hahah hum bi apko sharif hi smjta han jnb</td>\n",
       "      <td>1</td>\n",
       "      <td>Hahah hum bi apko sharif hi smjta han jnb</td>\n",
       "    </tr>\n",
       "    <tr>\n",
       "      <th>190</th>\n",
       "      <td>Haha Haha haye mei war jaon🤣🤣🤣</td>\n",
       "      <td>1</td>\n",
       "      <td>Haha Haha haye mei war jaon🤣🤣🤣</td>\n",
       "    </tr>\n",
       "    <tr>\n",
       "      <th>191</th>\n",
       "      <td>tm mere kch kehne se pehle he smjh jatay ho sb</td>\n",
       "      <td>1</td>\n",
       "      <td>tm mere kch kehne se pehle he smjh jatay ho sb</td>\n",
       "    </tr>\n",
       "    <tr>\n",
       "      <th>192</th>\n",
       "      <td>Woh to MASHA'ALLAH se meri qabliat Hai..</td>\n",
       "      <td>1</td>\n",
       "      <td>Woh to MASHAALLAH se meri qabliat Hai</td>\n",
       "    </tr>\n",
       "    <tr>\n",
       "      <th>193</th>\n",
       "      <td>Aur masoomiyat bhi</td>\n",
       "      <td>1</td>\n",
       "      <td>Aur masoomiyat bhi</td>\n",
       "    </tr>\n",
       "    <tr>\n",
       "      <th>194</th>\n",
       "      <td>ye apke liye likha gaya hai ... area per square eench :P</td>\n",
       "      <td>1</td>\n",
       "      <td>ye apke liye likha gaya hai  area per square eench P</td>\n",
       "    </tr>\n",
       "    <tr>\n",
       "      <th>195</th>\n",
       "      <td>Bhai main ek shareef insan hon :-P</td>\n",
       "      <td>1</td>\n",
       "      <td>Bhai main ek shareef insan hon P</td>\n",
       "    </tr>\n",
       "    <tr>\n",
       "      <th>196</th>\n",
       "      <td>yd h aik mohtrma hua krti ti shareeef tareeen bibi 😂😂😂</td>\n",
       "      <td>1</td>\n",
       "      <td>yd h aik mohtrma hua krti ti shareeef tareeen bibi 😂😂😂</td>\n",
       "    </tr>\n",
       "    <tr>\n",
       "      <th>197</th>\n",
       "      <td>Haha...mtlb main shareef nazar aati hun...😜😁</td>\n",
       "      <td>1</td>\n",
       "      <td>Hahamtlb main shareef nazar aati hun😜😁</td>\n",
       "    </tr>\n",
       "    <tr>\n",
       "      <th>198</th>\n",
       "      <td>Wyse main shareef hun b...😂😉</td>\n",
       "      <td>1</td>\n",
       "      <td>Wyse main shareef hun b😂😉</td>\n",
       "    </tr>\n",
       "    <tr>\n",
       "      <th>199</th>\n",
       "      <td>no galazaat</td>\n",
       "      <td>1</td>\n",
       "      <td>no galazaat</td>\n",
       "    </tr>\n",
       "  </tbody>\n",
       "</table>\n",
       "<p>200 rows × 3 columns</p>\n",
       "</div>"
      ],
      "text/plain": [
       "                                                                                               body_text  \\\n",
       "0      Sai kha ya her kisi kay bus ki bat nhi hai lakin main ki hal kal bi Aj aur aj bi sirf Aus say bus   \n",
       "1                                                                                              sahi bt h   \n",
       "2                                                                                            Kya bt hai,   \n",
       "3                                                                                             Wah je wah   \n",
       "4                                                                                   Are wha kaya bat hai   \n",
       "5                                                                                     Wah kya baat likhi   \n",
       "6                                                                                  Wha Itni sari khubiya   \n",
       "7                                                                                           Itni khubiya   \n",
       "8                                            Ya allah rehm farma hm sab pe or zalimo ko hidayat de ameen   \n",
       "9     Please Everyone AllAh S.w.T ka naam hAmesha Bary Lawzo main Likha kary Wo he Zaat sUb say Bari Hey   \n",
       "10        Ya mere rab tu bra kreem hy is mulk k halat PR reham frma. Is watn.e.Aziz ki hifazat frma.amin   \n",
       "11   jaago Pakistani coom jaago ye humary nokar han humarey tex se inko tankha milti h or ye hum paki...   \n",
       "12   kia kia jae .kon sacha ha ALLAH JANY .PAK KESE BDL SAKTA HA I THINK 7 NSL TO ASE E GUZR JAIN GI ...   \n",
       "13    afsos hota hai garip insan kha jay Allah ki lati me awaz hai jo zulum kry ga Allah ki lati pary gi   \n",
       "14                                                                                    Allah insaaf karey   \n",
       "15   ALLAH MUSALMAN PHIR DOR E JAHALAT ME JARAHA H HIYADAY FARMA AESE LOGO KO JO AWAM KI ZINDGIYO KO ...   \n",
       "16                                                                                    Je Thik Kaha Right   \n",
       "17                                                                                          jee ye to he   \n",
       "18                                                           Maa cheez e ASE ha jis ka koi namil Badl Ni   \n",
       "19                                                                                    Wah wah yeh toh hy   \n",
       "20                                                                                          jee ye to he   \n",
       "21                                                                                         Zenda bad yar   \n",
       "22   Es leay Muskurany ki koshish kia karo Es se wo loug ju apk Rouny pr muskuraty hain wo Loug phir ...   \n",
       "23                                                                                         Wha bhut qoob   \n",
       "24                                                              right\\nOr sada time same nahi rehtaaaaaa   \n",
       "25                                                                                  Wha wha kaya bat hai   \n",
       "26                                                                     Bohat khoob so true Alhamdulillah   \n",
       "27   dil me khud aaka ho nala jm hai akbaal sjdo me pde rahna rahne se jnnat nahi milee yhi likha hai...   \n",
       "28                                                Sjdo me bhi wo hi pda he jis k dil me khuda ka Dr he .   \n",
       "29                                                                                   Beshaq haq baat hai   \n",
       "..                                                                                                   ...   \n",
       "170                                        Haha acha chlo koshish krna dono bhai hon, aur bara vala mra🤣   \n",
       "171                         Haha pgl choty bhaie wali zyada faidy m hoty sb set hoa va milta jithani g 😂   \n",
       "172                                      Har pal har dum azam hmara\\nSb sy perfct jo vo shakhs hmara😂😂😂😂   \n",
       "173                                                                  Lkn phr b roub tou bari ka hi hota😂   \n",
       "174                                                                 Yr wesy mil k sb ko set kr dyn gyn 😂   \n",
       "175                                                              Ptq ni ab set krengy ya khud set hongy😔   \n",
       "176                                                        Bs sai wa swery fir uni da hostel done ay :-D   \n",
       "177                                                          Haha idea bura nai tha wesy chalo nxt sae 😎   \n",
       "178                                                     Xactly,cup apna,spoon apna... SAKOON APNA ....😜😛   \n",
       "179                                                                                     Aisaaa hi hai...   \n",
       "180                                                                           tere lye bday gft mil gya😉   \n",
       "181                    koi issue nai bhale mera cup use karen 🤣 beta meri bottle b har koi use karta hai   \n",
       "182                                                                                    Pyar bharta h ase   \n",
       "183                                                                           Kiaa pata behna shareef ho   \n",
       "184                                                                                       shareef hi hai   \n",
       "185                                                                           tm dost ho yar keh skti ho   \n",
       "186                                                 me idhr b aisi hun apko islamabad ka shak pra rehta🤣   \n",
       "187                                                             Alhumdulilah ghalazat to nhi hai 😈😯👊👊👊👊👊   \n",
       "188                             hahahhaahaha me to kahin sa b maesna ni lgta .tumhain pta ni kaisay lgta   \n",
       "189                                                            Hahah hum bi apko sharif hi smjta han jnb   \n",
       "190                                                                       Haha Haha haye mei war jaon🤣🤣🤣   \n",
       "191                                                       tm mere kch kehne se pehle he smjh jatay ho sb   \n",
       "192                                                            Woh to MASHA'ALLAH se meri qabliat Hai..    \n",
       "193                                                                                  Aur masoomiyat bhi    \n",
       "194                                             ye apke liye likha gaya hai ... area per square eench :P   \n",
       "195                                                                   Bhai main ek shareef insan hon :-P   \n",
       "196                                               yd h aik mohtrma hua krti ti shareeef tareeen bibi 😂😂😂   \n",
       "197                                                         Haha...mtlb main shareef nazar aati hun...😜😁   \n",
       "198                                                                         Wyse main shareef hun b...😂😉   \n",
       "199                                                                                          no galazaat   \n",
       "\n",
       "     sentiment  \\\n",
       "0            1   \n",
       "1            1   \n",
       "2            1   \n",
       "3            1   \n",
       "4            1   \n",
       "5            1   \n",
       "6            1   \n",
       "7            1   \n",
       "8            1   \n",
       "9            1   \n",
       "10           1   \n",
       "11           1   \n",
       "12           1   \n",
       "13           1   \n",
       "14           1   \n",
       "15           1   \n",
       "16           1   \n",
       "17           1   \n",
       "18           1   \n",
       "19           1   \n",
       "20           1   \n",
       "21           1   \n",
       "22           1   \n",
       "23           1   \n",
       "24           1   \n",
       "25           1   \n",
       "26           1   \n",
       "27           1   \n",
       "28           1   \n",
       "29           1   \n",
       "..         ...   \n",
       "170          1   \n",
       "171          1   \n",
       "172          1   \n",
       "173          1   \n",
       "174          1   \n",
       "175          1   \n",
       "176          1   \n",
       "177          1   \n",
       "178          1   \n",
       "179          1   \n",
       "180          1   \n",
       "181          1   \n",
       "182          1   \n",
       "183          1   \n",
       "184          1   \n",
       "185          1   \n",
       "186          1   \n",
       "187          1   \n",
       "188          1   \n",
       "189          1   \n",
       "190          1   \n",
       "191          1   \n",
       "192          1   \n",
       "193          1   \n",
       "194          1   \n",
       "195          1   \n",
       "196          1   \n",
       "197          1   \n",
       "198          1   \n",
       "199          1   \n",
       "\n",
       "                                                                                       body_text_nopunct  \n",
       "0      Sai kha ya her kisi kay bus ki bat nhi hai lakin main ki hal kal bi Aj aur aj bi sirf Aus say bus  \n",
       "1                                                                                              sahi bt h  \n",
       "2                                                                                             Kya bt hai  \n",
       "3                                                                                             Wah je wah  \n",
       "4                                                                                   Are wha kaya bat hai  \n",
       "5                                                                                     Wah kya baat likhi  \n",
       "6                                                                                  Wha Itni sari khubiya  \n",
       "7                                                                                           Itni khubiya  \n",
       "8                                            Ya allah rehm farma hm sab pe or zalimo ko hidayat de ameen  \n",
       "9       Please Everyone AllAh SwT ka naam hAmesha Bary Lawzo main Likha kary Wo he Zaat sUb say Bari Hey  \n",
       "10            Ya mere rab tu bra kreem hy is mulk k halat PR reham frma Is watneAziz ki hifazat frmaamin  \n",
       "11   jaago Pakistani coom jaago ye humary nokar han humarey tex se inko tankha milti h or ye hum paki...  \n",
       "12   kia kia jae kon sacha ha ALLAH JANY PAK KESE BDL SAKTA HA I THINK 7 NSL TO ASE E GUZR JAIN GI BD...  \n",
       "13    afsos hota hai garip insan kha jay Allah ki lati me awaz hai jo zulum kry ga Allah ki lati pary gi  \n",
       "14                                                                                    Allah insaaf karey  \n",
       "15   ALLAH MUSALMAN PHIR DOR E JAHALAT ME JARAHA H HIYADAY FARMA AESE LOGO KO JO AWAM KI ZINDGIYO KO ...  \n",
       "16                                                                                    Je Thik Kaha Right  \n",
       "17                                                                                          jee ye to he  \n",
       "18                                                           Maa cheez e ASE ha jis ka koi namil Badl Ni  \n",
       "19                                                                                    Wah wah yeh toh hy  \n",
       "20                                                                                          jee ye to he  \n",
       "21                                                                                         Zenda bad yar  \n",
       "22   Es leay Muskurany ki koshish kia karo Es se wo loug ju apk Rouny pr muskuraty hain wo Loug phir ...  \n",
       "23                                                                                         Wha bhut qoob  \n",
       "24                                                              right\\nOr sada time same nahi rehtaaaaaa  \n",
       "25                                                                                  Wha wha kaya bat hai  \n",
       "26                                                                     Bohat khoob so true Alhamdulillah  \n",
       "27   dil me khud aaka ho nala jm hai akbaal sjdo me pde rahna rahne se jnnat nahi milee yhi likha hai...  \n",
       "28                                                 Sjdo me bhi wo hi pda he jis k dil me khuda ka Dr he   \n",
       "29                                                                                   Beshaq haq baat hai  \n",
       "..                                                                                                   ...  \n",
       "170                                         Haha acha chlo koshish krna dono bhai hon aur bara vala mra🤣  \n",
       "171                         Haha pgl choty bhaie wali zyada faidy m hoty sb set hoa va milta jithani g 😂  \n",
       "172                                      Har pal har dum azam hmara\\nSb sy perfct jo vo shakhs hmara😂😂😂😂  \n",
       "173                                                                  Lkn phr b roub tou bari ka hi hota😂  \n",
       "174                                                                 Yr wesy mil k sb ko set kr dyn gyn 😂  \n",
       "175                                                              Ptq ni ab set krengy ya khud set hongy😔  \n",
       "176                                                          Bs sai wa swery fir uni da hostel done ay D  \n",
       "177                                                          Haha idea bura nai tha wesy chalo nxt sae 😎  \n",
       "178                                                              Xactlycup apnaspoon apna SAKOON APNA 😜😛  \n",
       "179                                                                                        Aisaaa hi hai  \n",
       "180                                                                           tere lye bday gft mil gya😉  \n",
       "181                    koi issue nai bhale mera cup use karen 🤣 beta meri bottle b har koi use karta hai  \n",
       "182                                                                                    Pyar bharta h ase  \n",
       "183                                                                           Kiaa pata behna shareef ho  \n",
       "184                                                                                       shareef hi hai  \n",
       "185                                                                           tm dost ho yar keh skti ho  \n",
       "186                                                 me idhr b aisi hun apko islamabad ka shak pra rehta🤣  \n",
       "187                                                             Alhumdulilah ghalazat to nhi hai 😈😯👊👊👊👊👊  \n",
       "188                              hahahhaahaha me to kahin sa b maesna ni lgta tumhain pta ni kaisay lgta  \n",
       "189                                                            Hahah hum bi apko sharif hi smjta han jnb  \n",
       "190                                                                       Haha Haha haye mei war jaon🤣🤣🤣  \n",
       "191                                                       tm mere kch kehne se pehle he smjh jatay ho sb  \n",
       "192                                                               Woh to MASHAALLAH se meri qabliat Hai   \n",
       "193                                                                                  Aur masoomiyat bhi   \n",
       "194                                                 ye apke liye likha gaya hai  area per square eench P  \n",
       "195                                                                     Bhai main ek shareef insan hon P  \n",
       "196                                               yd h aik mohtrma hua krti ti shareeef tareeen bibi 😂😂😂  \n",
       "197                                                               Hahamtlb main shareef nazar aati hun😜😁  \n",
       "198                                                                            Wyse main shareef hun b😂😉  \n",
       "199                                                                                          no galazaat  \n",
       "\n",
       "[200 rows x 3 columns]"
      ]
     },
     "execution_count": 48,
     "metadata": {},
     "output_type": "execute_result"
    }
   ],
   "source": [
    "fullcorpusI.head(200)"
   ]
  },
  {
   "cell_type": "markdown",
   "metadata": {},
   "source": [
    "# Feature Engineering"
   ]
  },
  {
   "cell_type": "markdown",
   "metadata": {},
   "source": [
    "## Create a feature for text message length\n",
    "* Working under the hypothesis that negative messages are longer than positive messages."
   ]
  },
  {
   "cell_type": "code",
   "execution_count": 49,
   "metadata": {},
   "outputs": [],
   "source": [
    "fullcorpusI['body_length'] = fullcorpusI['body_text'].apply(lambda x: len(x) - x.count(\" \"))"
   ]
  },
  {
   "cell_type": "code",
   "execution_count": 50,
   "metadata": {},
   "outputs": [
    {
     "data": {
      "text/html": [
       "<div>\n",
       "<style scoped>\n",
       "    .dataframe tbody tr th:only-of-type {\n",
       "        vertical-align: middle;\n",
       "    }\n",
       "\n",
       "    .dataframe tbody tr th {\n",
       "        vertical-align: top;\n",
       "    }\n",
       "\n",
       "    .dataframe thead th {\n",
       "        text-align: right;\n",
       "    }\n",
       "</style>\n",
       "<table border=\"1\" class=\"dataframe\">\n",
       "  <thead>\n",
       "    <tr style=\"text-align: right;\">\n",
       "      <th></th>\n",
       "      <th>body_text</th>\n",
       "      <th>sentiment</th>\n",
       "      <th>body_text_nopunct</th>\n",
       "      <th>body_length</th>\n",
       "    </tr>\n",
       "  </thead>\n",
       "  <tbody>\n",
       "    <tr>\n",
       "      <th>0</th>\n",
       "      <td>Sai kha ya her kisi kay bus ki bat nhi hai lakin main ki hal kal bi Aj aur aj bi sirf Aus say bus</td>\n",
       "      <td>1</td>\n",
       "      <td>Sai kha ya her kisi kay bus ki bat nhi hai lakin main ki hal kal bi Aj aur aj bi sirf Aus say bus</td>\n",
       "      <td>73</td>\n",
       "    </tr>\n",
       "    <tr>\n",
       "      <th>1</th>\n",
       "      <td>sahi bt h</td>\n",
       "      <td>1</td>\n",
       "      <td>sahi bt h</td>\n",
       "      <td>7</td>\n",
       "    </tr>\n",
       "    <tr>\n",
       "      <th>2</th>\n",
       "      <td>Kya bt hai,</td>\n",
       "      <td>1</td>\n",
       "      <td>Kya bt hai</td>\n",
       "      <td>9</td>\n",
       "    </tr>\n",
       "    <tr>\n",
       "      <th>3</th>\n",
       "      <td>Wah je wah</td>\n",
       "      <td>1</td>\n",
       "      <td>Wah je wah</td>\n",
       "      <td>8</td>\n",
       "    </tr>\n",
       "    <tr>\n",
       "      <th>4</th>\n",
       "      <td>Are wha kaya bat hai</td>\n",
       "      <td>1</td>\n",
       "      <td>Are wha kaya bat hai</td>\n",
       "      <td>16</td>\n",
       "    </tr>\n",
       "  </tbody>\n",
       "</table>\n",
       "</div>"
      ],
      "text/plain": [
       "                                                                                           body_text  \\\n",
       "0  Sai kha ya her kisi kay bus ki bat nhi hai lakin main ki hal kal bi Aj aur aj bi sirf Aus say bus   \n",
       "1                                                                                          sahi bt h   \n",
       "2                                                                                        Kya bt hai,   \n",
       "3                                                                                         Wah je wah   \n",
       "4                                                                               Are wha kaya bat hai   \n",
       "\n",
       "   sentiment  \\\n",
       "0          1   \n",
       "1          1   \n",
       "2          1   \n",
       "3          1   \n",
       "4          1   \n",
       "\n",
       "                                                                                   body_text_nopunct  \\\n",
       "0  Sai kha ya her kisi kay bus ki bat nhi hai lakin main ki hal kal bi Aj aur aj bi sirf Aus say bus   \n",
       "1                                                                                          sahi bt h   \n",
       "2                                                                                         Kya bt hai   \n",
       "3                                                                                         Wah je wah   \n",
       "4                                                                               Are wha kaya bat hai   \n",
       "\n",
       "   body_length  \n",
       "0           73  \n",
       "1            7  \n",
       "2            9  \n",
       "3            8  \n",
       "4           16  "
      ]
     },
     "execution_count": 50,
     "metadata": {},
     "output_type": "execute_result"
    }
   ],
   "source": [
    "fullcorpusI.head()"
   ]
  },
  {
   "cell_type": "markdown",
   "metadata": {},
   "source": [
    "## Create a feature for % of text is punctuation"
   ]
  },
  {
   "cell_type": "code",
   "execution_count": 51,
   "metadata": {},
   "outputs": [],
   "source": [
    "def count_punct(text):\n",
    "    count = sum([1 for char in text if char in string.punctuation])\n",
    "    if count > 0:\n",
    "        return round(count/(len(text) - text.count(\" \")), 3)*100\n",
    "    else:\n",
    "        return 0"
   ]
  },
  {
   "cell_type": "code",
   "execution_count": 52,
   "metadata": {},
   "outputs": [],
   "source": [
    "fullcorpusI['punct%'] = fullcorpusI['body_text'].apply(lambda x: count_punct(x))"
   ]
  },
  {
   "cell_type": "code",
   "execution_count": 53,
   "metadata": {},
   "outputs": [
    {
     "data": {
      "text/html": [
       "<div>\n",
       "<style scoped>\n",
       "    .dataframe tbody tr th:only-of-type {\n",
       "        vertical-align: middle;\n",
       "    }\n",
       "\n",
       "    .dataframe tbody tr th {\n",
       "        vertical-align: top;\n",
       "    }\n",
       "\n",
       "    .dataframe thead th {\n",
       "        text-align: right;\n",
       "    }\n",
       "</style>\n",
       "<table border=\"1\" class=\"dataframe\">\n",
       "  <thead>\n",
       "    <tr style=\"text-align: right;\">\n",
       "      <th></th>\n",
       "      <th>body_text</th>\n",
       "      <th>sentiment</th>\n",
       "      <th>body_text_nopunct</th>\n",
       "      <th>body_length</th>\n",
       "      <th>punct%</th>\n",
       "    </tr>\n",
       "  </thead>\n",
       "  <tbody>\n",
       "    <tr>\n",
       "      <th>0</th>\n",
       "      <td>Sai kha ya her kisi kay bus ki bat nhi hai lakin main ki hal kal bi Aj aur aj bi sirf Aus say bus</td>\n",
       "      <td>1</td>\n",
       "      <td>Sai kha ya her kisi kay bus ki bat nhi hai lakin main ki hal kal bi Aj aur aj bi sirf Aus say bus</td>\n",
       "      <td>73</td>\n",
       "      <td>0.0</td>\n",
       "    </tr>\n",
       "    <tr>\n",
       "      <th>1</th>\n",
       "      <td>sahi bt h</td>\n",
       "      <td>1</td>\n",
       "      <td>sahi bt h</td>\n",
       "      <td>7</td>\n",
       "      <td>0.0</td>\n",
       "    </tr>\n",
       "    <tr>\n",
       "      <th>2</th>\n",
       "      <td>Kya bt hai,</td>\n",
       "      <td>1</td>\n",
       "      <td>Kya bt hai</td>\n",
       "      <td>9</td>\n",
       "      <td>11.1</td>\n",
       "    </tr>\n",
       "    <tr>\n",
       "      <th>3</th>\n",
       "      <td>Wah je wah</td>\n",
       "      <td>1</td>\n",
       "      <td>Wah je wah</td>\n",
       "      <td>8</td>\n",
       "      <td>0.0</td>\n",
       "    </tr>\n",
       "    <tr>\n",
       "      <th>4</th>\n",
       "      <td>Are wha kaya bat hai</td>\n",
       "      <td>1</td>\n",
       "      <td>Are wha kaya bat hai</td>\n",
       "      <td>16</td>\n",
       "      <td>0.0</td>\n",
       "    </tr>\n",
       "  </tbody>\n",
       "</table>\n",
       "</div>"
      ],
      "text/plain": [
       "                                                                                           body_text  \\\n",
       "0  Sai kha ya her kisi kay bus ki bat nhi hai lakin main ki hal kal bi Aj aur aj bi sirf Aus say bus   \n",
       "1                                                                                          sahi bt h   \n",
       "2                                                                                        Kya bt hai,   \n",
       "3                                                                                         Wah je wah   \n",
       "4                                                                               Are wha kaya bat hai   \n",
       "\n",
       "   sentiment  \\\n",
       "0          1   \n",
       "1          1   \n",
       "2          1   \n",
       "3          1   \n",
       "4          1   \n",
       "\n",
       "                                                                                   body_text_nopunct  \\\n",
       "0  Sai kha ya her kisi kay bus ki bat nhi hai lakin main ki hal kal bi Aj aur aj bi sirf Aus say bus   \n",
       "1                                                                                          sahi bt h   \n",
       "2                                                                                         Kya bt hai   \n",
       "3                                                                                         Wah je wah   \n",
       "4                                                                               Are wha kaya bat hai   \n",
       "\n",
       "   body_length  punct%  \n",
       "0           73     0.0  \n",
       "1            7     0.0  \n",
       "2            9    11.1  \n",
       "3            8     0.0  \n",
       "4           16     0.0  "
      ]
     },
     "execution_count": 53,
     "metadata": {},
     "output_type": "execute_result"
    }
   ],
   "source": [
    "fullcorpusI.head()"
   ]
  },
  {
   "cell_type": "markdown",
   "metadata": {},
   "source": [
    "## Evaluate created features"
   ]
  },
  {
   "cell_type": "code",
   "execution_count": 99,
   "metadata": {},
   "outputs": [
    {
     "data": {
      "text/plain": [
       "<matplotlib.legend.Legend at 0x1ab4fd7eb8>"
      ]
     },
     "execution_count": 99,
     "metadata": {},
     "output_type": "execute_result"
    },
    {
     "data": {
      "image/png": "[encoded data removed]",
      "text/plain": [
       "<Figure size 432x288 with 1 Axes>"
      ]
     },
     "metadata": {
      "needs_background": "light"
     },
     "output_type": "display_data"
    }
   ],
   "source": [
    "bins = np.linspace(0, 200, 40)\n",
    "\n",
    "plt.hist(fullcorpusI[fullcorpusI['sentiment'] == 1]['body_length'], bins, alpha=0.5, density=True, label='Positive')\n",
    "plt.hist(fullcorpusI[fullcorpusI['sentiment'] == 0]['body_length'], bins, alpha=0.5, density=True, label='Negative')\n",
    "plt.legend(loc='upper right')"
   ]
  },
  {
   "cell_type": "code",
   "execution_count": 100,
   "metadata": {},
   "outputs": [
    {
     "data": {
      "text/plain": [
       "<matplotlib.legend.Legend at 0x1ab51b84a8>"
      ]
     },
     "execution_count": 100,
     "metadata": {},
     "output_type": "execute_result"
    },
    {
     "data": {
      "image/png": "[encoded data removed]",
      "text/plain": [
       "<Figure size 432x288 with 1 Axes>"
      ]
     },
     "metadata": {
      "needs_background": "light"
     },
     "output_type": "display_data"
    }
   ],
   "source": [
    "bins = np.linspace(0, 50, 50)\n",
    "\n",
    "plt.hist(fullcorpusI[fullcorpusI['sentiment'] == 1]['punct%'], bins, alpha=0.5, density=True, label='Positive')\n",
    "plt.hist(fullcorpusI[fullcorpusI['sentiment'] == 0]['punct%'], bins, alpha=0.5, density=True, label='Negative')\n",
    "plt.legend(loc='upper right')"
   ]
  },
  {
   "cell_type": "markdown",
   "metadata": {},
   "source": [
    "# Vectorization\n",
    "* Process of encoding text as integers to create feature vectors. "
   ]
  },
  {
   "cell_type": "markdown",
   "metadata": {},
   "source": [
    "## Apply count vectorizer\n",
    "* CountVectorizer simply counts the number of times a word appears in the document. "
   ]
  },
  {
   "cell_type": "code",
   "execution_count": 60,
   "metadata": {},
   "outputs": [],
   "source": [
    "# \\W+ regular expression will split a word based on one or more non word characters. It will split on white \n",
    "# spaces, special characters etc. Although this method is now redundant. All of this has already been taken care of \n",
    "# above. \n",
    "\n",
    "def clean_text(text):\n",
    "    text = \"\".join([char.lower() for char in text if char not in string.punctuation])\n",
    "    tokens = re.split('\\W+', text)\n",
    "    return tokens"
   ]
  },
  {
   "cell_type": "code",
   "execution_count": 61,
   "metadata": {},
   "outputs": [
    {
     "name": "stdout",
     "output_type": "stream",
     "text": [
      "(11300, 25631)\n",
      "['', '0', '03002341366', '03004328290', '0300929358603339293586', '03097065975', '04', '0esa', '0r', '1', '10', '100', '1000', '10000000', '1000000000', '100100', '108', '109', '10960', '10days', '10g', '10mbps', '10saal', '10th', '11', '110', '1100', '1111bar', '1127', '112929', '113020', '113320', '11365', '1140', '1145', '115', '11953', '11th', '12', '120', '1200', '120mm', '122', '125', '126', '12616', '1286wan', '129', '1299', '12baje', '12june', '12lakh', '13', '130', '1300', '131', '1325', '133th', '135', '1350', '136', '138', '14', '140', '14th', '15', '150', '1500', '150000', '150gaz', '154', '15400', '16', '160', '1600', '161', '16122015', '162', '163', '164', '16th', '17', '170', '17558', '178', '18', '18000', '1811', '1821', '1828', '187', '188', '1890', '19', '190', '1900', '1902', '1908', '1909', '1910', '1912', '1914', '1917', '1918', '1919', '192', '1920', '1921', '1923', '1924', '1927', '1930', '1931', '1932', '1933', '1934', '1935', '1936', '1937', '1938', '1939', '1940', '1941', '1942', '1943', '1944', '1945', '1946', '1947', '1948', '1949', '1949ke', '1950', '1951', '1952', '1953', '1954', '1955', '1956', '1957', '1958', '1959', '1960', '1961', '1962', '1963', '1964', '196419651966', '1965', '1966', '1967', '1968', '1969', '1970', '1971', '1972', '197273', '1973', '1974', '1975', '1976', '1977', '197778', '1978', '1979', '1980', '1981', '1982', '1983', '1984', '1985', '1986', '1987', '1988', '1989', '1990', '1991', '1992', '1993', '1994', '1995', '1996', '1997', '1998', '1999', '1baje', '1cc', '1d', '1day', '1feet', '1gb', '1kg', '1office', '1st', '2', '20', '200', '2000', '2001', '20014', '2002', '2003', '2004', '2005', '2006', '2007', '2008', '2009', '2010', '2011', '2012', '2013', '2014', '2015', '2016', '2017', '2018', '2019', '202', '2023', '209', '20th', '21', '2100', '212200', '21month', '21th', '22', '22o', '23', '2300', '24', '242', '245', '247', '25', '250', '256', '25lakh', '26', '27', '279', '28', '280', '2800', '29', '299', '2bje', '2dono', '2g', '2k18', '2mp', '2nd', '2no', '2o', '2ono', '2ron', '2sajdo', '3', '30', '300', '3000', '300times', '303', '30prsent', '31', '310', '32', '32k', '33', '331runs', '34', '342', '34726', '35', '350', '3500', '35267', '356', '358', '36', '365', '36b', '37', '375', '38', '380', '39', '3achasorry', '3afrad', '3d', '3g', '3gb', '3ino', '3nhi', '3rd', '3target', '4', '40', '400', '4000', '40000', '400rs', '41th', '42', '426', '43', '44', '44700', '45', '45100', '46', '47', '4750', '4753waqiat', '48', '480', '48va', '4g', '4th', '5', '50', '500', '5000', '500mb', '500rs', '501', '502', '51', '53', '54', '55', '56', '57', '58', '59', '5kil', '5mp', '5o', '5rupe', '5star', '5th', '6', '60', '600', '6000', '600tcs', '61', '62', '63', '631', '636', '64', '646', '6499', '65', '657518', '69', '6th', '7', '70', '700', '708', '70cc', '70maon', '71', '72', '74', '745', '75', '750', '75y', '76', '77', '799', '7afrad', '7no', '8', '80', '800', '805', '8068', '81', '83', '830', '836', '840nd', '85', '8am', '8mm', '8mp', '9', '90', '91', '92', '940', '948', '95', '950', '9600', '9753', '99', '997', '9th', '9thbhi', 'a', 'a1', 'a6a', 'aa', 'aa6i', 'aaa', 'aaaa', 'aaaaa', 'aaaaappppp', 'aaaallllaaaa', 'aaah', 'aaainda', 'aaalam', 'aaalu', 'aaap', 'aaatma', 'aaaya', 'aab', 'aabaadi', 'aabaai', 'aabad', 'aabbba', 'aachay', 'aachi', 'aachuki', 'aadam', 'aadat', 'aadha', 'aadhay', 'aadhi', 'aadmi', 'aadmiyon', 'aadmy', 'aae', 'aaeen', 'aaega', 'aaegi', 'aaein', 'aaey', 'aaeyn', 'aafaaq', 'aafaq', 'aafia', 'aafiat', 'aafiyat', 'aafreeni', 'aafrini', 'aaftab', 'aafza', 'aag', 'aaga', 'aagah', 'aagahi', 'aagai', 'aagash', 'aagay', 'aagaya', 'aagaye', 'aagaz', 'aage', 'aaghaz', 'aaghosh', 'aagly', 'aagrah', 'aagy', 'aagye', 'aah', 'aahang', 'aahata', 'aahinda', 'aahista', 'aahkoon', 'aai', 'aaid', 'aaiga', 'aaigi', 'aain', 'aainda', 'aaindah', 'aaini', 'aaisa', 'aaisaa', 'aaiyd', 'aaiye', 'aaiyn', 'aaiyna', 'aaiynda', 'aaiyne', 'aaiyni', 'aaj', 'aaja', 'aajai', 'aajata', 'aajati', 'aajaye', 'aajzi', 'aak', 'aaka', 'aakar', 'aake', 'aaker', 'aakhir', 'aakhirat', 'aakhirkar', 'aakhrat', 'aakhri', 'aakrr', 'aal', 'aala', 'aalaa', 'aalah', 'aalam', 'aalameen', 'aalamenao', 'aalamgeer', 'aalamgir', 'aalim', 'aalime', 'aalla', 'aalm', 'aalmi', 'aam', 'aama', 'aamaal', 'aamad', 'aamada', 'aamadah', 'aamadgi', 'aamal', 'aamdani', 'aamdeed', 'aameeeenn', 'aameeen', 'aameen', 'aamen', 'aamesizh', 'aamezish', 'aamin', 'aamir', 'aamiriyat', 'aamiyana', 'aamla', 'aamm', 'aamriyat', 'aamriyaton', 'aamun', 'aan', 'aana', 'aanay', 'aanda', 'aandy', 'aane', 'aaney', 'aangan', 'aani', 'aankh', 'aankhain', 'aankhe', 'aankhein', 'aankhen', 'aankhon', 'aankhu', 'aankon', 'aanounce', 'aanso', 'aansoo', 'aansoun', 'aanti', 'aao', 'aaon', 'aap', 'aapas', 'aapk', 'aapka', 'aapke', 'aapki', 'aapko', 'aapmaan', 'aapne', 'aapneend', 'aapp', 'aapsay', 'aapsy', 'aapus', 'aaqa', 'aaqaeon', 'aar', 'aara', 'aaraam', 'aarahe', 'aarai', 'aaram', 'aare', 'aarha', 'aari', 'aarzae', 'aarzi', 'aarzoo', 'aasaan', 'aasakta', 'aasakte', 'aasakti', 'aasan', 'aasani', 'aashaat', 'aashi', 'aashiqana', 'aashique', 'aashna', 'aashora', 'aashura', 'aasman', 'aasodgi', 'aasra', 'aata', 'aatala', 'aatay', 'aate', 'aatee', 'aatey', 'aati', 'aaty', 'aavin', 'aawaaz', 'aawam', 'aawar', 'aawaz', 'aawazein', 'aay', 'aaya', 'aayat', 'aaye', 'aayega', 'aayein', 'aayen', 'aayi', 'aayy', 'aazaa', 'aazad', 'aazba', 'aazma', 'aazmai', 'aazmane', 'aazmi', 'aazoo', 'ab', 'aba', 'abaad', 'abad', 'abadat', 'abadi', 'abasi', 'abasin', 'abay', 'abb', 'abba', 'abbas', 'abbasi', 'abbasiya', 'abbbbb', 'abbey', 'abbori', 'abbot', 'abbotbilal', 'abbottabad', 'abbu', 'abc', 'abd', 'abdat', 'abdton', 'abdu', 'abdul', 'abdullah', 'abdur', 'abe', 'abey', 'abh', 'abhe', 'abhee', 'abhi', 'abhijab', 'abhy', 'abi', 'abid', 'abiii', 'ablaagh', 'abn', 'abnahi', 'abnormal', 'abnormalllll', 'abo', 'aboor', 'abor', 'abortion', 'about', 'above', 'abqari', 'abqoum', 'abqri', 'abraham', 'abrar', 'abrat', 'abroad', 'abs', 'absa', 'absolutely', 'abtar', 'abtari', 'abtum', 'abtuo', 'abu', 'abulla', 'aburi', 'abuse', 'abutalib', 'aby', 'abyy', 'abyyy', 'ac', 'academies', 'academy', 'acadmy', 'acahanak', 'acahy', 'acaunt', 'accama', 'accept', 'accessories', 'accha', 'acche', 'accident', 'according', 'account', 'accounts', 'accurate', 'acer', 'ach', 'acha', 'achaa', 'achaaaa', 'achai', 'achaiazal', 'achakzai', 'achanak', 'achasorry', 'achay', 'achayyy', 'achcha', 'achchay', 'achche', 'achchey', 'ache', 'achee', 'achey', 'achha', 'achhay', 'achhy', 'achi', 'achievement', 'achiheh', 'achii', 'achotey', 'achwa', 'achy', 'acid', 'acne', 'acno', 'aco', 'acre', 'across', 'act', 'acting', 'acting5', 'action', 'activate', 'activists', 'actng', 'actor', 'actors', 'actorz', 'actress', 'actresses', 'actually', 'ad', 'ada', 'adaa', 'adaaa', 'adaad', 'adaalati', 'adaaon', 'adab', 'adabi', 'adad', 'adaegi', 'adaeygi', 'adaigi', 'adair', 'adaiygi', 'adakar', 'adakara', 'adakaran', 'adakarana', 'adakaraon', 'adakari', 'adakaron', 'adal', 'adala', 'adalat', 'adalaten', 'adalateuzma', 'adalati', 'adalaton', 'adalti', 'adalto', 'adalton', 'adam', 'adamjee', 'adapt', 'adaq', 'adara', 'adarat', 'adaray', 'adare', 'adarey', 'adaron', 'adarti', 'adat', 'adatal', 'adaten', 'adavaan', 'adbelateef', 'adbi', 'adbiyat', 'adbp', 'add', 'adda', 'adde', 'addictive', 'addition', 'additional', 'additor', 'address', 'adebon', 'adeeb', 'adeeba', 'adeebo', 'adeebon', 'adelaide', 'adem', 'adh', 'adha', 'adhay', 'adhi', 'adhora', 'adhori', 'adhy', 'adi', 'adiamirager', 'adil', 'adjust', 'adjustable', 'adjusting', 'adleed', 'adlia', 'adliya', 'admi', 'admin', 'admincity42', 'administration', 'administrator', 'admission', 'admit', 'admiyat', 'admiyon', 'admnaccountstechncialnon', 'adnan', 'adob', 'adolf', 'adopt', 'adraak', 'adrak', 'adress', 'adriya', 'adten', 'adul', 'adv', 'advance', 'adventure', 'adventures', 'advertise', 'advertisement', 'advertisementtestintervieo', 'advertising', 'advice', 'advisory', 'adwaar', 'adwaiyat', 'adwar', 'adwiya', 'adwiyaat', 'adyalateri', 'adyan', 'ae', 'aeay', 'aeb', 'aedaad', 'aehad', 'aehal', 'aehalkar', 'aeham', 'aehbaab', 'aehkamat', 'aehl', 'aehloayaal', 'aehmiyat', 'aehsaas', 'aehtejaaj', 'aehtejaj', 'aehwal', 'aein', 'aekar', 'aelaan', 'aelan', 'aelania', 'aen', 'aenda', 'aenelz', 'aengein', 'aesa', 'aese', 'aesi', 'aesii', 'aesy', 'aeteraf', 'aethe', 'aevi', 'aey', 'aeyea', 'aeyse', 'aezaaz', 'aezazaat', 'aezazi', 'afaq', 'afaqiyat', 'afat', 'affairs', 'affan', 'affia', 'affiat', 'affordable', 'afganistan', 'afghan', 'afghani', 'afghani1', 'afghanistan', 'afghaniyoo', 'afghanon', 'afghanstan', 'afham', 'afia', 'afiat', 'afidi', 'afiya', 'afiyat', 'afkaar', 'afkar', 'afnan', 'afraad', 'afrad', 'afratafri', 'afreede', 'afreen', 'africa', 'african', 'afridi', 'afridii', 'afrin', 'afrine', 'afriyat', 'afroz', 'afsana', 'afsane', 'afsanon', 'afsanwi', 'afsar', 'afsaran', 'afshaniyon', 'afsoos', 'afsos', 'afsro', 'afsurdah', 'aftaar', 'aftab', 'aftad', 'aftar', 'after', 'afteralldd', 'afwahon', 'afwaj', 'afwajepakistan', 'afya', 'afyuni', 'afzaai', 'afzai', 'afzaii', 'afzal', 'ag', 'agae', 'agaey', 'agah', 'agai', 'agaii', 'again', 'against', 'agar', 'agarcha', 'agarchay', 'agatha', 'agay', 'agaya', 'agaye', 'agayi', 'agaz', 'age', 'agen', 'agency', 'agenda', 'agent', 'agentitni', 'agents', 'ager', 'ages', 'agey', 'agg', 'aggar', 'aggy', 'agha', 'aghaz', 'aghomath', 'aghr', 'aghwa', 'aghyar', 'agla', 'aglay', 'agle', 'agley', 'agli', 'agly', 'ago', 'agr', 'agra', 'agrataj', 'agree', 'agreed', 'agrmi', 'agwa', 'agwah', 'agy', 'agya', 'agyaaa', 'agye', 'ah', 'aha', 'ahaaaaaa', 'ahaahaahawoh', 'ahad', 'ahadees', 'ahahaha', 'ahahahah', 'ahahahahhaha', 'ahahahahhahaha', 'ahahahha', 'ahal', 'ahali', 'ahalkar', 'ahalkaron', 'aham', 'ahamiyat', 'ahan', 'ahang', 'ahata', 'ahatah', 'ahate', 'ahbab', 'ahbbaa', 'ahde', 'ahe', 'ahead', 'ahelkar', 'ahelkaru', 'ahem', 'ahetajaj', 'ahhaa', 'ahhaha', 'ahi', 'ahilkar', 'ahilkaro', 'ahista', 'ahkamat', 'ahla', 'ahlay', 'ahle', 'ahlesunnah', 'ahli', 'ahliya', 'ahlkar', 'ahlo', 'ahm', 'ahmad', 'ahmadabad', 'ahmaqana', 'ahmed', 'ahmedabad', 'ahmeyat', 'ahmiyat', 'ahmyat', 'aho', 'ahooo', 'ahreee', 'ahsaas', 'ahsan', 'ahsanabad', 'ahsas', 'ahsaseadam', 'ahsita', 'ahstgi', 'ahtaram', 'ahtayjaj', 'ahtejaj', 'ahtemam', 'ahteram', 'ahtijaj', 'ahtiram', 'ahtiyaat', 'ahtiyat', 'ahtjaj', 'ahy', 'ahya', 'ai', 'aiad', 'aib', 'aibadat', 'aid', 'aida', 'aids', 'aie', 'aiek', 'aiga', 'aihsaaz', 'aihteraam', 'aii', 'aij', 'aijaad', 'aijaz', 'aijysy', 'aik', 'aikido', 'aikk', 'aikno', 'ailan', 'aim', 'ain', 'ainay', 'ainda', 'aindah', 'aingaein', 'air', 'airbase', 'airline', 'airlines', 'airlink', 'airport', 'airports', 'airs', 'ais', 'aisa', 'aisaaa', 'aisay', 'aise', 'aisea', 'aisee', 'aiseeee', 'aiseeeee', 'aisey', 'aish', 'aisha', 'aishion', 'aisi', 'aist', 'aisy', 'aitabar', 'aitamaad', 'aitamad', 'aitbaar', 'aitbar', 'aitebar', 'aitedaal', 'aitemad', 'aitemadi', 'aiteraaf', 'aiteraf', 'aitikaf', 'aitiraf', 'aitkaf', 'aitmaad', 'aitraf', 'aitraz', 'aiwan', 'aiye', 'aiza', 'aizaz', 'aizazat', 'aj', 'aja', 'ajaa', 'ajab', 'ajae', 'ajaegi', 'ajaeplz', 'ajahan', 'ajai', 'ajain', 'ajaiya', 'ajajldi', 'ajao', 'ajaoajj', 'ajar', 'ajaradari', 'ajarah', 'ajata', 'ajatay', 'ajati', 'ajaty', 'ajay', 'ajaye', 'ajaz', 'ajeb', 'ajeeb', 'ajer', 'ajib', 'ajiya', 'ajj', 'ajkal', 'ajki', 'ajkl', 'ajmaeen', 'ajmair', 'ajmal', 'ajoobaa', 'ajpne', 'ajr', 'ajra', 'ajrak', 'ajy', 'ajz', 'ak', 'akal', 'akalay', 'akaly', 'akar', 'akas', 'akasariyat', 'akasi', 'akbaal', 'akbar', 'akber', 'akdadar', 'ake', 'akela', 'akelal', 'akelay', 'akele', 'akeley', 'akeli', 'aker', 'akhairee', 'akhari', 'akhatta', 'akhbar', 'akhbaraat', 'akhbarat', 'akhbat', 'akheeer', 'akheer', 'akher', 'akherat', 'akhir', 'akhirat', 'akhiri', 'akhirt', 'akhiyan', 'akho', 'akhrajat', 'akhrat', 'akhri', 'akhriat', 'akhtalafat', 'akhtamam', 'akhtar', 'akhtayar', 'akhter', 'akhttha', 'akhtyarat', 'aki', 'akib', 'akir', 'akkasi', 'akki', 'akkrha', 'aklouti', 'akmal', 'akml', 'aknaf', 'akram', 'aks', 'aksar', 'aksariyat', 'aksaryat', 'aksbandi', 'akshay', 'akshy', 'aksr', 'aksriyat', 'aktefa', 'aktruss', 'aky', 'al', 'ala', 'alaa', 'alaaa', 'alag', 'alaga', 'alah', 'alahazrat', 'alahidgi', 'alaikum', 'alakum', 'alal', 'alalat', 'alam', 'alama', 'alamadeen', 'alamat', 'alambardar', 'alamberdar', 'alamdar', 'alame', 'alameen', 'alami', 'alan', 'alaqay', 'alaqi', 'alaqon', 'alaqye', 'alarm', 'alauddin', 'alaw', 'alawa', 'alaya', 'alayhi', 'albata', 'albatta', 'albta', 'album', 'albums', 'alcohol', 'aleem', 'aleen', 'alehda', 'alehdah', 'alehdgi', 'alekum', 'alert', 'alewas', 'alfaaz', 'alfax', 'alfaz', 'alg', 'algebra', 'alha', 'alhamdo', 'alhamdolillah', 'alhamduallah', 'alhamdulilah', 'alhamdulillah', 'alhamra', 'alhaq', 'alhayda', 'alhmdolillah', 'alhumdulilah', 'alhumdulillah', 'ali', 'alif', 'aligarh', 'alikom', 'alikum', 'alikumap', 'alikumiqrar', 'alim', 'alipur', 'alkalam', 'alkareem', 'alkhair', 'all', 'alla', 'allaaaaa', 'allaahhh', 'allah', 'allaha', 'allahallah', 'allahapak', 'allahen', 'allahlafz', 'allahmare', 'allahtaala', 'allahthank', 'allak', 'allama', 'allan', 'allanetasqand', 'allaopko', 'allauddin', 'allaw', 'allawww', 'allergy', 'allha', 'alliance', 'allied', 'alll', 'alllah', 'allot', 'alloulad', 'allrounder', 'allz', 'almeay', 'almeen', 'almi', 'almighty', 'almiya', 'almiye', 'almnak', 'almost', 'almr', 'alood', 'alot', 'alottt', 'alqadar', 'alqaida', 'alrdy', 'already', 'alsar', 'also', 'altaaf', 'altaf', 'although', 'alvaaz', 'alvidah', 'alwa', 'alwada', 'always', 'alwayzzz', 'alzam', 'am', 'ama', 'amaaa', 'amaal', 'amaan', 'amaant', 'amad', 'amada', 'amaizing', 'amal', 'amala', 'amalba', 'amaldaramad', 'amali', 'amalon', 'amama', 'aman', 'amanabbasi', 'amanat', 'amane', 'amantech', 'amanullah', 'amar', 'amarat', 'amary', 'amateur', 'amaxing', 'amaya', 'amaze', 'amazing', 'amazingly', 'amb', 'ambassador', 'ambiah', 'ambulance', 'ambulances', 'amdad', 'amdani', 'amded', 'amdorafat', 'ameed', 'ameeeeeen', 'ameeeeen', 'ameeeen', 'ameeen', 'ameen', 'ameenameen', 'ameenjazakumullahoo', 'ameenlabaik', 'ameennallah', 'ameer', 'amen', 'amer', 'amergency', 'america', 'american', 'americans', 'americi', 'amez', 'ameza', 'ami', 'amin', 'amir', 'amirana', 'amitabh', 'amjad', 'amjgah', 'aml', 'amla', 'amlan', 'amley', 'amli', 'amm', 'amma', 'ammal', 'amman', 'ammar', 'ammeen', 'ammen', 'ammi', 'ammii', 'ammm', 'ammunition', 'amn', 'amna', 'amnesty', 'amokhas', 'amoman', 'amomi', 'amon', 'amoor', 'amoorekashmir', 'amor', 'amount', 'amp', 'ampala', 'amraaz', 'amraz', 'amriaat', 'amriat', 'amrica', 'amrici', 'amriki', 'amritsar', 'amriyat', 'amroz', 'an', 'ana', 'anab', 'anahay', 'analysis', 'anam', 'anand', 'anar', 'anasir', 'anat', 'anatomy', 'anay', 'anayat', 'anchor', 'and', 'andaaz', 'andaaza', 'andar', 'anday', 'andaz', 'andaza', 'andazah', 'anddoz', 'ande', 'ander', 'andesh', 'andesha', 'andha', 'andhay', 'andhe', 'andheray', 'andhere', 'andhey', 'andhi', 'andhon', 'andhy', 'andi', 'andiya', 'andohnaak', 'andoz', 'andoze', 'andr', 'andriod', 'android', 'androidp', 'andron', 'androne', 'androni', 'androon', 'andy', 'andya', 'ane', 'aney', 'anfaradi', 'angaaro', 'angaiz', 'angar', 'angel', 'angela', 'angeles', 'angelina', 'angez', 'anghuta', 'angle', 'angoor', 'angootha', 'angothi', 'angraizi', 'angrazoon', 'angreazi', 'angreez', 'angreizi', 'angres', 'angrez', 'angrezi', 'angrezon', 'angutha', 'anhi', 'anhin', 'anhk', 'ani', 'anjaam', 'anjam', 'anjomanon', 'anjuman', 'anjumano', 'anjumanon', 'anker', 'ankh', 'ankhain', 'ankhein', 'ankho', 'ankhon', 'ankhy', 'anklet', 'anko', 'ankon', 'anmol', 'anmool', 'anna', 'anni', 'announcer', 'annual', 'anokha', 'anokhi', 'anoukha', 'anp', 'anpa', 'anparh', 'anpi', 'ans', 'ansaiya', 'ansar', 'ansari', 'answer', 'anthak', 'anthony', 'anti', 'antie', 'antiii', 'antiimran', 'antizehr', 'anty', 'anum', 'anuman', 'anuragthakur', 'anwan', 'anwar', 'any', 'anyaa', 'anye', 'anyl', 'anything', 'ao', 'aoa', 'aoama', 'aoashahbaz', 'aoawo', 'aohda', 'aolado', 'aolat', 'aony', 'aoo', 'aor', 'aorat', 'aoskae', 'aosol', 'aounga', 'aour', 'aourat', 'ap', 'apani', 'apas', 'apc', 'apca', 'apcasindh', 'apeal', 'api', 'apk', 'apka', 'apkaaa', 'apkadars', 'apkay', 'apke', 'apkea', 'apki', 'apkii', 'apko', 'apky', 'apme', 'apmf', 'apn', 'apna', 'apnae', 'apnane', 'apnao', 'apnapan', 'apnaspoon', 'apnate', 'apnay', 'apnaya', 'apne', 'apnee', 'apney', 'apni', 'apnii', 'apnin', 'apno', 'apnon', 'apns', 'apny', 'apozishan', 'app', 'appeal', 'appearance', 'apperance', 'applicable', 'apply', 'appna', 'appne', 'appni', 'appp', 'appreciate', 'approve', 'approved', 'approx', 'april', 'aps', 'apsand', 'apsay', 'apse', 'apun', 'apwa', 'aqaid', 'aqaiyd', 'aqal', 'aqalmand', 'aqarib', 'aqawami', 'aqawani', 'aqbii', 'aqdaar', 'aqdamat', 'aqdameqatal', 'aqeeda', 'aqeedat', 'aqeedatein', 'aqib', 'aql', 'aqleem', 'aqleeyat', 'aqli', 'aqliyat', 'aqoobat', 'aqraba', 'aqsa', 'aqtaydar', 'aqtesadi', 'aqwaam', 'aqwal', 'aqwam', 'aqwamemutehda', 'aqwami', 'ar', 'araam', 'araamday', 'araamdey', 'arab', 'arabic', 'arafat', 'arah', 'araha', 'arahe', 'arahi', 'arai', 'arain', 'araish', 'arakeen', 'aram', 'aramdah', 'aramday', 'aramy', 'arany', 'arasta', 'arastah', 'aray', 'arazi', 'arba', 'arbon', 'ard', 'ardili', 'ardy', 'are', 'area', 'areas', 'arena', 'arent', 'arest', 'arey', 'arfa', 'argar', 'argentina', 'argument', 'arha', 'arhay', 'arhi', 'ari', 'arif', 'arjun', 'arkaan', 'arkan', 'arm', 'armaan', 'armaanp', 'arman', 'armeen', 'arms', 'army', 'arooj', 'arrays', 'arre', 'arrey', 'arreyy', 'arrived', 'arrrrraaayyyy', 'arryy', 'arsa', 'arsaa', 'arsaallll', 'arsal', 'arsalan', 'arsaland', 'arsalsab', 'arsalwale', 'arsay', 'arse', 'arsel', 'arsey', 'arshad', 'arshema', 'arsl', 'arsy', 'art', 'artae', 'arthur', 'arti', 'article', 'articulation', 'artist', 'artistic', 'artists', 'arts', 'aru', 'ary', 'arymanhos', 'arynews', 'aryramzan', 'aryyyyy', 'arz', 'arzi', 'as', 'asa', 'asaan', 'asaana', 'asaani', 'asabab', 'asabi', 'asad', 'asaka', 'asal', 'asalam', 'asalamkhaire', 'asan', 'asani', 'asaniyan', 'asap', 'asar', 'asarowasee', 'asasa', 'asataza', 'asatiza', 'asaw', 'asay', 'asbaaq', 'asbab', 'asbiat', 'ase', 'ased', 'aseer', 'asees', 'aser', 'asey', 'asfhu', 'asgar', 'asghar', 'ash', 'ashaar', 'ashaat', 'ashad', 'ashat', 'ashba', 'ashfaq', 'ashian', 'ashion', 'ashiq', 'ashkhas', 'ashna', 'ashob', 'ashraf', 'ashrafiya', 'ashray', 'ashre', 'ashrey', 'ashur', 'ashwariya', 'asi', 'asia', 'asian', 'asif', 'asifa', 'asifalizardari', 'asim', 'ask', 'askari', 'asked', 'askty', 'asky', 'asl', 'asla', 'aslaah', 'aslaam', 'aslah', 'aslaha', 'aslam', 'asleh', 'asli', 'asliat', 'aslob', 'aslubi', 'asma', 'asmaan', 'asman', 'asmani', 'asmat', 'asna', 'asnaa', 'asol', 'asooloon', 'asosi', 'asp', 'aspori', 'asr', 'asraaat', 'asraat', 'asrat', 'asrati', 'asro', 'ass', 'assa', 'assalam', 'assalamu', 'assalamualikum', 'assambly', 'assan', 'assase', 'assembliyon', 'assembly', 'assemblyan', 'assets', 'assho', 'assi', 'assignment', 'assistant', 'asslaam', 'asslaim', 'asslam', 'asslam0alaikumsir', 'asslamoalaikum', 'associate', 'association', 'assosiate', 'assosiation', 'astable', 'astaffirullah', 'astafirullah', 'astag', 'astagf', 'astagfar', 'astagfiruallahdrama', 'astagfirullah', 'astagfirullahlanat', 'astagfirullha', 'astagfurallah', 'astaghfaar', 'astaghfar', 'astaghferrullah', 'astaghferullah', 'astaghfirullah', 'astakfaar', 'astakhfirul', 'astaqhfar', 'astiblashmint', 'astrgfriullah', 'asu', 'asy', 'at', 'ata', 'ataa', 'atab', 'atafrmaae', 'atah', 'atan', 'ataraf', 'ataullah', 'atay', 'ataymad', 'atc', 'atd', 'ate', 'atee', 'atein', 'atemad', 'ateraf', 'atey', 'ath', 'atha', 'athlete', 'athletes', 'athletics', 'athwein', 'ati', 'atiq', 'atiraf', 'atiya', 'atlas', 'atleast', 'atm', 'atmanjai', 'atna', 'atnay', 'atni', 'atomi', 'atraaf', 'atraf', 'atrey', 'atta', 'attaa', 'attach', 'attached', 'attack', 'attacks', 'attaria', 'attaul', 'attaullah', 'attaurahman', 'attay', 'attempt', 'attend', 'attended', 'attention', 'atth', 'atti', 'atticates', 'attitude', 'attiyat', 'attock', 'atul', 'aty', 'atya', 'atyat', 'au', 'aual', 'aubnice', 'auction', 'audience', 'audio', 'audition', 'auditorium', 'aue', 'aug', 'augusst', 'august', 'auhad', 'auhd', 'auhda', 'auhde', 'auhdey', 'auhdon', 'aulaad', 'aulad', 'aulade', 'aungi', 'aunti', 'auntian', 'auntie', 'aunties', 'auntii', 'auntiyan', 'aunty', 'auo', 'auqaat', 'auqat', 'aur', 'aur70', 'aura', 'aurat', 'auratmulk', 'auratssss', 'auratt', 'aurbarha', 'aurchand', 'aurnawaz', 'aurtain', 'aurtein', 'aurto', 'aurtoan', 'aurton', 'aus', 'ausa', 'auske', 'aussies', 'austin', 'australia', 'australian', 'ausy', 'aut', 'authority', 'autobiography', 'autograph', 'auwaleen', 'auz', 'auzanobehwar', 'available', 'availiable', 'average', 'avid', 'avoid', 'aw', 'awaaam', 'awaaaz', 'awaam', 'awaar', 'awaaragardi', 'awaaz', 'awail', 'awais', 'awaiyl', 'awal', 'awam', 'awami', 'awamil', 'awan', 'awanda', 'awar', 'awara', 'awarat', 'award', 'awarddd', 'awards', 'away', 'awaz', 'awaza', 'awazein', 'awazen', 'awazon', 'awein', 'awes0mesong', 'awesome', 'awey', 'awkward', 'awla', 'awlad', 'awlla', 'awn', 'awqat', 'awr', 'awrad', 'awratu', 'awsm', 'awsome', 'awsume', 'awwaam', 'awwal', 'awwaleen', 'awwalin', 'awwlaaa', 'awww', 'awz', 'axani', 'axha', 'axhi', 'axhw', 'axhy', 'axr', 'ay', 'aya', 'ayaaaa', 'ayaan', 'ayaat', 'ayad', 'ayaiss', 'ayal', 'ayan', 'ayanat', 'ayanend', 'ayashaid', 'ayashi', 'ayashya', 'ayat', 'ayatien', 'ayaz', 'aybeez', 'aye', 'ayed', 'ayee', 'ayeen', 'ayega', 'ayegi', 'ayegy', 'ayein', 'ayemaza', 'ayenda', 'ayengii', 'ayesha', 'ayga', 'aygh', 'aygi', 'ayi', 'ayinda', 'ayingy', 'ayjazat', 'ayk', 'ayn', 'ayni', 'ayny', 'ayoob', 'ayoub', 'aysa', 'ayse', 'aysha', 'aysi', 'aysy', 'ayt', 'aytayrazat', 'ayub', 'ayy', 'ayya', 'ayyab', 'ayyam', 'ayyat', 'ayyub', 'ayyy', 'az', 'aza', 'azaa', 'azaab', 'azaad', 'azaadi', 'azaan', 'azab', 'azabo', 'azad', 'azadana', 'azadi', 'azadieniswanoinsani', 'azafa', 'azal', 'azam', 'azan', 'azarai', 'azari', 'azat', 'azaz', 'azazat', 'azb', 'azbar', 'azeat', 'azeem', 'azeen', 'azeez', 'azezo', 'azha', 'aziat', 'azid', 'azim', 'azimabd', 'aziyat', 'aziyaton', 'aziz', 'azizabad', 'azizaksar', 'aziziqtesadi', 'azizka', 'azizke', 'azizki', 'azizne', 'azizon', 'azizpakistan', 'azizpar', 'azizsahab', 'azizu', 'azjald', 'azlan', 'azli', 'azma', 'azmaany', 'azmae', 'azmai', 'azmaish', 'azmaishyn', 'azmat', 'azmay', 'azmeen', 'azmuda', 'azo', 'azrah', 'azwaje', 'azziyat', 'b', 'b0h0at', 'b0ht', 'ba', 'ba6ay', 'baa', 'baaar', 'baab', 'baad', 'baadal', 'baadkhaqan', 'baag', 'baagh', 'baahon', 'baaijh', 'baaki', 'baal', 'baalon', 'baandrii', 'baani', 'baant', 'baap', 'baap3g', 'baar', 'baaral', 'baari', 'baary', 'baasaani', 'baasani', 'baat', 'baatain', 'baatein', 'baaten', 'baato', 'baaton', 'baatoon', 'baatyn', 'baax', 'baaz', 'baazabta', 'baazo', 'bab', 'baba', 'babaeradio', 'babar', 'babarkat', 'babbar', 'babe', 'babeeeee', 'babiz', 'babluu', 'babo', 'babr', 'babu', 'baby', 'bach', 'bacha', 'bachaa', 'bachaay', 'bachae', 'bachai', 'bachaiarsal', 'bachain', 'bachan', 'bachana', 'bachanay', 'bachane', 'bachany', 'bachao', 'bachay', 'bachaya', 'bachayameeennn', 'bachayay', 'bachaye', 'bachayein', 'bachchon', 'bache', 'bachega', 'bachen', 'bachey', 'bachi', 'bachian', 'bachigirl', 'bachion', 'bachiya', 'bachiyan', 'bachiyon', 'bachiyoun', 'bachna', 'bachne', 'bachny', 'bacho', 'bachoday', 'bachodi', 'bachon', 'bachoo', 'bachoon', 'bachoooooooo', 'bachou', 'bachpan', 'bachpen', 'bachty', 'bachu', 'bachun', 'bachy', 'bachyaan', 'bachyaor', 'bachyon', 'bachyyy', 'back', 'background', 'bad', 'bada', 'badal', 'badalna', 'badalnai', 'badalnay', 'badalne', 'badalny', 'badalta', 'badalte', 'badaltey', 'badam', 'badami', 'badan', 'badar', 'badast', 'badastor', 'badaulat', 'badault', 'baday', 'badazan', 'badbakhat', 'badchodiyan', 'baddor', 'badeazan', 'badely', 'bader', 'badey', 'badge', 'badi', 'badil', 'badin', 'badl', 'badla', 'badley', 'badlo', 'badlta', 'badlty', 'badly', 'badmash', 'badmashi', 'badnaam', 'badnaami', 'badnam', 'badnama', 'badnami', 'badobast', 'badolat', 'badotal', 'badqiamati', 'badqismati', 'badrja', 'badsha', 'badshah', 'badshahi', 'badshahon', 'badtameez', 'badtameezi', 'badtar', 'badtareen', 'baduaen', 'badunwani', 'badzani', 'bae', 'baech', 'baeruni', 'baezaat', 'bag', 'baga', 'bagaawt', 'bagahe', 'bagai', 'bagair', 'bagairat', 'bagairti', 'bagairton', 'bagarat', 'bagart', 'bagawat', 'bager', 'bagerat', 'bagger', 'bagh', 'bagha', 'baghair', 'baghar', 'bagharat', 'baghawat', 'baghawaton', 'bagheir', 'bagher', 'bagherat', 'baghi', 'baghir', 'baghiyana', 'bagir', 'bago', 'bagon', 'bagor', 'bagrt', 'baha', 'bahaa', 'bahaal', 'bahaar', 'bahad', 'bahadarhe', 'bahadur', 'bahaduri', 'bahal', 'bahali', 'bahan', 'bahana', 'bahane', 'bahaney', 'bahanon', 'bahany', 'bahaq', 'bahar', 'bahas', 'bahasiat', 'bahasyat', 'bahat', 'bahawalpur', 'bahduri', 'bahefazat', 'bahein', 'bahen', 'baher', 'bahesiyat', 'bahhot', 'bahi', 'bahifazat', 'bahimat', 'bahini', 'bahir', 'bahmi', 'bahn', 'bahnoon', 'baho', 'bahon', 'bahoo', 'bahoot', 'bahot', 'bahri', 'bahu', 'bahusun', 'bahut', 'bahyon', 'bai', 'baibasie', 'baich', 'baichna', 'baicho', 'baidaar', 'baidar', 'baig', 'baigari', 'baighairat', 'baigrat', 'bain', 'bainul', 'bair', 'bairoon', 'bais', 'bait', 'baita', 'baith', 'baithay', 'baithnay', 'baithy', 'baitiyon', 'baitulmal', 'baitulmukarram', 'baiyo', 'baiys', 'baj', 'baja', 'bajae', 'bajah', 'bajai', 'bajanay', 'bajane', 'bajani', 'bajaorr', 'bajat', 'bajawar', 'bajay', 'bajaya', 'bajaye', 'baje', 'bajhay', 'bajhaye', 'baji', 'bajlani', 'bajne', 'bajri', 'bajtay', 'bajwa', 'bajy', 'bakamaal', 'bakar', 'bakara', 'bakasrat', 'bake', 'bakery', 'bakhabar', 'bakhair', 'bakhash', 'bakhashnay', 'bakhbar', 'bakheel', 'bakhobi', 'bakhran', 'bakhs', 'bakhsh', 'bakhsha', 'bakhshay', 'bakhshi', 'bakhshish', 'bakhshnay', 'bakhshne', 'bakhshy', 'bakhtawar', 'bakhubi', 'bakhud', 'bakhushi', 'baki', 'bakion', 'bakirdar', 'bakki', 'bakra', 'bakray', 'baksh', 'bakshain', 'bakwaas', 'bakwas', 'bakwasa', 'bakwass', 'bakwasss', 'bakya', 'bal', 'bala', 'balagat', 'balance', 'balbotey', 'baldan', 'baldia', 'baldiya', 'baldiyati', 'baldness', 'baldyati', 'balhamdulilha', 'balin', 'balit', 'balkay', 'balke', 'balkeh', 'balkey', 'balky', 'balkyn', 'ball', 'balla', 'ballah', 'baller', 'balling', 'balls', 'baloch', 'balochistan', 'balochon', 'baluchistan', 'bam', 'bamaqaam', 'bambai', 'bamushaqqat', 'ban', 'bana', 'banaa', 'banaaee', 'banad', 'banadiya', 'banado', 'banae', 'banaey', 'banai', 'banaien', 'banain', 'banainge', 'banaiye', 'banalo', 'banana', 'bananay', 'banane', 'banani', 'banany', 'banao', 'banaraha', 'banata', 'banate', 'banati', 'banaunga', 'banay', 'banaya', 'banaye', 'banayega', 'banayein', 'banayen', 'banaygi', 'banayi', 'banch', 'band', 'banda', 'bandaehur', 'bandagi', 'bandar', 'bandari', 'banday', 'bande', 'bandergha', 'bandey', 'bandh', 'bandha', 'bandhan', 'bandhey', 'bandhte', 'bandi', 'bandish', 'bandishon', 'bandiyon', 'bandna', 'bando', 'bandobast', 'bandon', 'bandoq', 'bandri', 'bandrii', 'bandriii', 'bands', 'bandy', 'bane', 'banega', 'banegi', 'banein', 'banene', 'baney', 'bangal', 'bangali', 'bangashaaa', 'bangaye', 'bangladesh', 'bangladeshi', 'bani', 'banien', 'baniy', 'banjar', 'bank', 'banke', 'banker', 'banking', 'banks', 'bann', 'banna', 'bannai', 'bannane', 'bannay', 'bannde', 'banne', 'banned', 'banner', 'banney', 'banni', 'bannnd', 'bannu', 'banny', 'bano', 'bansakta', 'bant', 'banta', 'bantay', 'bante', 'banti', 'bantnay', 'banu', 'banul', 'banwa', 'banwanay', 'banwane', 'banwani', 'banwany', 'bany', 'banya', 'banyan', 'banye', 'banyen', 'bap', 'bapa', 'baqa', 'baqaida', 'baqaidah', 'baqaiyda', 'baqarar', 'baqaul', 'baqaya', 'baqazai', 'baqi', 'baqidah', 'baqion', 'baqiya', 'baqiyon', 'baqol', 'baqoul2us', 'baqwas', 'baqya', 'bar', 'bara', 'baraamad', 'baraat', 'barabar', 'baraber', 'barabr', 'barack', 'baradar', 'baradari', 'barae', 'barah', 'barahemeherbani', 'baraherast', 'barai', 'barak', 'baramad', 'baramed', 'barange', 'barangi', 'baras', 'barat', 'baratne', 'baratta', 'baray', 'baraye', 'barbaad', 'barbad', 'barbadi', 'barber', 'barbi', 'bardari', 'bardash', 'bardasht', 'bardashta', 'barden', 'bardhast', 'bare', 'baree', 'baresagheer', 'baresh', 'barey', 'barf', 'bargaho', 'bargahon', 'bargahy', 'barh', 'barha', 'barhai', 'barhain', 'barhane', 'barhao', 'barhata', 'barhate', 'barhati', 'barhaya', 'barhe', 'barhega', 'barhi', 'barhm', 'barhna', 'barhne', 'barhny', 'barhtay', 'barhte', 'barhti', 'bari', 'bariish', 'barika', 'barikiyon', 'barish', 'barishay', 'barishon', 'barjaman', 'barkaraar', 'barkat', 'barkatain', 'barkatay', 'barkate', 'barketin', 'barkhast', 'barnadeno', 'baro', 'barod', 'barodi', 'barohi', 'baron', 'barony', 'barood', 'baroodi', 'barosa', 'barotha', 'baroz', 'barpa', 'barqarar', 'barr', 'barra', 'barray', 'barre', 'barresagher', 'barri', 'barrier', 'barry', 'barsaaati', 'barsaat', 'barsar', 'barsat', 'barsaye', 'barsi', 'barson', 'barta', 'bartania', 'bartanvi', 'bartanwi', 'bartanya', 'bartao', 'bartar', 'bartaraf', 'bartarfi', 'bartari', 'barthday', 'barti', 'baru', 'barue', 'barwany', 'barwaqat', 'bary', 'baryaneya', 'baryani', 'bas', 'basa', 'basakhtagi', 'basalahiyat', 'basalat', 'basane', 'basaor', 'basar', 'base', 'baseet', 'bash', 'bashak', 'bashamoul', 'bashamr', 'bashana', 'basharat', 'basheer', 'bashrm', 'bashtar', 'bashumar', 'basi', 'basic', 'basically', 'basketball', 'basmaa', 'basne', 'bason', 'basri', 'bass', 'bassany', 'bast', 'basta', 'bastard', 'basti', 'bat', 'bata', 'bataaye', 'batadreej', 'batadrij', 'batae', 'bataen', 'bataey', 'batai', 'bataie', 'bataien', 'batain', 'batamize', 'batamizi', 'batana', 'batane', 'batangarh', 'batany', 'batao', 'bataon', 'batata', 'batataab', 'batatay', 'batate', 'batati', 'bataty', 'bataun', 'bataur', 'batawo', 'batay', 'bataya', 'bataye', 'bate', 'bateeyn', 'batein', 'bateleyan', 'baten', 'batey', 'bath', 'bathay', 'bati', 'batien', 'batilmos', 'batin', 'bating', 'batio', 'batiyaan', 'batiyon', 'batkat', 'batman', 'batmeez', 'batmeezi', 'batna', 'batne', 'batni', 'bato', 'baton', 'bator', 'batota', 'batour', 'batsman', 'batsmanon', 'batsmen', 'batt', 'battain', 'battary', 'batteries', 'battery', 'batting', 'battrey', 'batttery', 'batty', 'batwa', 'baty', 'batya', 'batye', 'batyn', 'bauhat', 'bauht', 'bauter', 'bawa', 'bawajod', 'bawajood', 'bawajud', 'bawaqar', 'bawaqt', 'bawjood', 'bawli', 'bawud', 'bawujud', 'bay', 'bayak', 'bayakwaqat', 'bayan', 'bayanat', 'baybass', 'baycot', 'baydardi', 'bayein', 'baygairat', 'baygeerut', 'bayhis', 'bayie', 'baykaar', 'baysharmo', 'baytay', 'bayton', 'baz', 'bazaar', 'bazabta', 'bazafta', 'bazagisht', 'bazahir', 'bazameer', 'bazar', 'bazat', 'bazbot', 'bazgha', 'bazi', 'baziab', 'bazid', 'bazigar', 'bazla', 'bazmi', 'bazo', 'bazon', 'bazookathaaaaaaaanice', 'bazor', 'bazu', 'bazyabi', 'bb', 'bba', 'bbc', 'bbracelet', 'bc', 'bccho', 'bcha', 'bchaain', 'bchary', 'bchay', 'bchaye', 'bchayn', 'bchchy', 'bche', 'bchho', 'bchieo', 'bchion', 'bcho', 'bchodo', 'bchon', 'bchun', 'bchy', 'bchykoi', 'bcmai', 'bcom', 'bcoz', 'bcz', 'bd', 'bda', 'bday', 'bdda', 'bdi', 'bdl', 'bdla', 'bdly', 'bdnaam', 'bdqismte', 'bdr', 'bdrja', 'bds', 'bdtameez', 'bdua', 'be', 'bea', 'beach', 'beahumar', 'beaja', 'beard', 'beaswan', 'beathh', 'beati', 'beaurucrat', 'beautiful', 'beautifully', 'beauty', 'bebaak', 'bebadal', 'bebaki', 'bebunyaad', 'bebunyad', 'because', 'bech', 'bechaine', 'bechani', 'bechany', 'bechara', 'becharay', 'bechare', 'becharey', 'bechari', 'bechariyan', 'becharo', 'bechary', 'bechayni', 'bechiyun', 'bechnay', 'bechny', 'bechry', 'bechte', 'bechy', 'bechye', 'becoz', 'becz', 'bedaar', 'bedareegh', 'bee', 'beech', 'beechy', 'beemar', 'beemariyan', 'been', 'beenish', 'beeno', 'bees', 'beet', 'beeti', 'befikr', 'beforethank', 'begair', 'begairat', 'begairati', 'begairti', 'begairto', 'begarat', 'begaret', 'begari', 'begart', 'begat', 'begerat', 'begert', 'begerti', 'beggar', 'beggers', 'beghair', 'beghairat', 'beghairaton', 'beghairt', 'beghairto', 'beghairty', 'begharat', 'begharti', 'begharto', 'beghaurt', 'beghayrat', 'begherat', 'beghirat', 'begonah', 'begratt', 'begrut', 'begum', 'begunah', 'begyrat', 'begyrti', 'beh', 'behaae', 'behad', 'behan', 'behar', 'beharbani', 'beharhaal', 'beharhal', 'behas', 'behayai', 'behayi', 'behbood', 'behen', 'behenchod', 'beheno', 'behes', 'behind', 'behis', 'behiss', 'behiyaee', 'behj', 'behjty', 'behlaya', 'behlgairtaaa', 'behn', 'behna', 'behnaa', 'behnay', 'behno', 'behono', 'behooda', 'behraal', 'behre', 'behreh', 'behri', 'behry', 'behs', 'behsak', 'behss', 'behta', 'behtar', 'behtareen', 'behtaren', 'behtari', 'behter', 'behtr', 'behtree', 'behtreen', 'behtren', 'behtri', 'behtrin', 'behuda', 'beijing', 'being', 'beirut', 'beit', 'beithi', 'beizati', 'beizzat', 'beizzati', 'beja', 'bejh', 'bejhi', 'bejigri', 'bejne', 'bejta', 'bejty', 'bekaar', 'bekar', 'bekas', 'bekhabar', 'bekhari', 'bekkar', 'bel', 'bela', 'beleieve', 'believe', 'belkul', 'belor', 'belos', 'beloss', 'belowo', 'belt', 'belts', 'bemaar', 'bemar', 'bemari', 'bemarion', 'bemariyon', 'bemisaal', 'bemisal', 'bemsal', 'bemuhar', 'ben', 'bena', 'benaqab', 'benazer', 'benazir', 'bench', 'benchod', 'bend', 'bengal', 'bengali', 'beno', 'benoori', 'benskta', 'benul', 'benulaqwami', 'benya', 'bepanah', 'beparwahi', 'ber', 'bera', 'berailwi', 'beratna', 'berbad', 'berdash', 'berdasht', 'bereham', 'berham', 'beron', 'beroni', 'berozgari', 'berra', 'berry', 'bertaraf', 'bertari', 'bes', 'besabri', 'besahak', 'besahara', 'besahmar', 'besakhtagi', 'besh', 'beshak', 'beshakki', 'beshamargo', 'beshaq', 'beshaqkhush', 'besharaf', 'besharam', 'besharm', 'besharmo', 'beshk', 'beshomar', 'beshtar', 'beshumaar', 'beshumar', 'best', 'besti', 'bestie', 'bestnot', 'besuri', 'bet', 'beta', 'betaa', 'betab', 'betaj', 'betakan', 'betasur', 'betay', 'bete', 'betey', 'beth', 'betha', 'bethana', 'bethay', 'bethaya', 'bethe', 'bethi', 'bethne', 'bethny', 'bethta', 'bethti', 'bethun', 'bethy', 'beti', 'betii', 'betion', 'betiyan', 'betiyn', 'betiyon', 'betiyun', 'beto', 'beton', 'betoun', 'betreen', 'better', 'bettry', 'betuki', 'bety', 'betyan', 'beuoro', 'beuro', 'beutiful', 'bevi', 'bewafa', 'bewah', 'bewakoof', 'bewakuf', 'bewaqof', 'bewaqoof', 'bewawoof', 'bewi', 'bewkof', 'bewkooof', 'bey', 'beyadbi', 'beyan', 'beydar', 'beydari', 'beygharat', 'beyhosh', 'beyk', 'beyn', 'beyron', 'beyyy', 'bezaar', 'bezabtagiyon', 'bezameer', 'bezti', 'bf', 'bgair', 'bger', 'bghair', 'bghari', 'bgrto', 'bgyrat', 'bh', 'bha', 'bhaa', 'bhaaag', 'bhaaaiii', 'bhaag', 'bhaagi', 'bhaagne', 'bhaagte', 'bhaai', 'bhaari', 'bhaaripann', 'bhabhi', 'bhabi', 'bhacha', 'bhae', 'bhaee', 'bhag', 'bhaga', 'bhagay', 'bhagdhar', 'bhage', 'bhaghat', 'bhagne', 'bhago', 'bhagoge', 'bhagte', 'bhagti', 'bhahi', 'bhahrway', 'bhai', 'bhaie', 'bhaii', 'bhaiii', 'bhaij', 'bhaijan', 'bhaijenzainab', 'bhaijho', 'bhaio', 'bhaipakistaaaaan', 'bhaith', 'bhaiyo', 'bhaiyon', 'bhaj', 'bhaja', 'bhaji', 'bhal', 'bhala', 'bhalai', 'bhalay', 'bhale', 'bhalla', 'bhallah', 'bhalo', 'bhaly', 'bhan', 'bhancho', 'bhand', 'bhandbhandbhand', 'bhander', 'bhangi', 'bhanje', 'bhanjey', 'bhanp', 'bhao', 'bhaot', 'bhar', 'bhara', 'bharain', 'bharakne', 'bharam', 'bharat', 'bharata', 'bharati', 'bhare', 'bharh', 'bharhaas', 'bhari', 'bharkas', 'bharmar', 'bharosa', 'bharpoor', 'bharpor', 'bharpur', 'bharr', 'bharta', 'bhartay', 'bharte', 'bharti', 'bhartia', 'bhartiyon', 'bharwana', 'bharway', 'bhary', 'bhat', 'bhata', 'bhatak', 'bhatakny', 'bhatay', 'bhater', 'bhati', 'bhatkae', 'bhatt', 'bhatta', 'bhatti', 'bhattihain', 'bhawen', 'bhawon', 'bhaya', 'bhayoun', 'bhayun', 'bhe', 'bhee', 'bheee', 'bheega', 'bheej', 'bheeja', 'bheek', 'bhegey', 'bhei', 'bhej', 'bheja', 'bhejengy', 'bhejey', 'bhejh', 'bhejhna', 'bhejhtay', 'bheji', 'bhejne', 'bhejo', 'bhejoge', 'bhejta', 'bhejtay', 'bhejti', 'bhejty', 'bhen', 'bhenchod', 'bhenr', 'bhensoo', 'bher', 'bheren', 'bheron', 'bherwe', 'bhes', 'bhetar', 'bhetareen', 'bhetari', 'bhetreen', 'bhhi', 'bhht', 'bhi', 'bhiaur', 'bhibalochistan', 'bhii', 'bhiii', 'bhijwa', 'bhijwane', 'bhio', 'bhir', 'bhj', 'bhja', 'bhji', 'bhjo', 'bhjti', 'bhjty', 'bhju', 'bhjy', 'bhn', 'bhnchod', 'bhnon', 'bhoat', 'bhohat', 'bhok', 'bhokay', 'bhoki', 'bhol', 'bhola', 'bholaiyon', 'bholi', 'bholney', 'bhonk', 'bhonkna', 'bhonkne', 'bhonkta', 'bhook', 'bhooka', 'bhooki', 'bhool', 'bhoolain', 'bhoolbhulaiya', 'bhoolte', 'bhooot', 'bhoot', 'bhooti', 'bhootni', 'bhoran', 'bhorsa', 'bhosri', 'bhot', 'bhounkata', 'bhounkta', 'bhout', 'bhr', 'bhra', 'bhrm', 'bhrti', 'bhry', 'bht', 'bhtr', 'bhtreen', 'bhtt', 'bhttt', 'bhtttt', 'bhudha', 'bhugaat', 'bhugat', 'bhugatna', 'bhugatni', 'bhul', 'bhula', 'bhulane', 'bhuli', 'bhullaiyon', 'bhulta', 'bhuran', 'bhurgarima', 'bhurgri', 'bhut', 'bhuto', 'bhutto', 'bhux', 'bhuxa', 'bhy', 'bhyee', 'bhyn', 'bi', 'bia', 'biakhir', 'bianat', 'bibi', 'bich', 'bicha', 'bichaein', 'bichai', 'bicharay', 'bichari', 'bicharian', 'bichary', 'bichna', 'bicho', 'big', 'bigar', 'bigara', 'bigarte', 'bigest', 'biggest', 'bighar', 'bigirat', 'bigly', 'bih', 'bihat', 'bijabr', 'bijli', 'biju', 'bik', 'bikaoo', 'bike', 'biker', 'bikhar', 'bikheir', 'bikherne', 'bikherte', 'bikhrey', 'bikhri', 'biklul', 'bikna', 'bikny', 'bikr', 'biktaa', 'bikti', 'bikul', 'bikwass', 'biky', 'bil', 'bila', 'bilal', 'bilamoom', 'bilashuba', 'bilashubah', 'bilawa', 'bilawal', 'bilawalbhuttozardari', 'bilawja', 'bilco', 'bilcul', 'biljabar', 'biljabr', 'bilkhair', 'bilkhasoos', 'bilkhosos', 'bilkhusoos', 'bilkhusos', 'bilkil', 'bilkl', 'bilkol', 'bilkuk', 'bilkul', 'bilkull', 'bilkulzindagee', 'bilkuuullboht', 'bill', 'billa', 'billahazrat', 'billi', 'billion', 'billo', 'bills', 'bilmushafa', 'bilo', 'bilquis', 'bilqul', 'bilraza', 'bimario', 'bimariyan', 'bimaro', 'bin', 'bina', 'binternational', 'binzi', 'biography', 'biradri', 'birbade', 'birendranath', 'birmingham', 'birth', 'birthday', 'biruu', 'biryani', 'bisat', 'bisma', 'bismelah', 'bistar', 'bitch', 'bitching', 'bitha', 'bithayee', 'biti', 'bivi', 'biwi', 'biya', 'biyan', 'biz', 'bizti', 'bjay', 'bjaye', 'bje', 'bjhy', 'bji', 'bjp', 'bjta', 'bjy', 'bk', 'bkhire', 'bkwaas', 'bkwas', 'bkwaspoor', 'bkwass', 'bkwss', 'bl', 'bla', 'black', 'blackheads', 'blackmailer', 'blackmailing', 'blake', 'blame', 'blast', 'blatter', 'blawel', 'bleach', 'blenders', 'bless', 'blik', 'blinding', 'blk', 'blke', 'blkl', 'blkul', 'blky', 'blochistan', 'block', 'blockbuster', 'blood', 'bloomberg', 'bludy', 'blue', 'blues', 'bluetooth', 'bn', 'bna', 'bnaa', 'bnaaa', 'bnadiahon', 'bnadiya', 'bnae', 'bnaega', 'bnai', 'bnaiye', 'bnana', 'bnanay', 'bnane', 'bnao', 'bnatay', 'bnate', 'bnatey', 'bnaty', 'bnay', 'bnaya', 'bnaye', 'bnayi', 'bnb', 'bnd', 'bnda', 'bnday', 'bndish', 'bndo', 'bndy', 'bndyy', 'bne', 'bngayaa', 'bni', 'bnja', 'bnjaty', 'bnke', 'bnna', 'bnne', 'bnta', 'bnty', 'bnwai', 'bnyan', 'boaht', 'boajh', 'board', 'boarding', 'boards', 'boat', 'bobi', 'bochar', 'boder', 'body', 'bohaaaat', 'bohaaat', 'bohar', 'bohat', 'bohata', 'bohatb', 'bohatbaki', 'bohatt', 'bohet', 'bohj', 'bohl', 'bohoot', 'bohot', 'bohottttt', 'bohran', 'boht', 'bohtt', 'bohut', 'bohy', 'bojh', 'bokare', 'bokay', 'bokhari', 'bol', 'bola', 'bolanty', 'bolawa', 'bolay', 'bolaya', 'bolaye', 'bolchistan', 'bold', 'boldaty', 'boldena', 'bole', 'bolein', 'bolen', 'bolenge', 'bolengi', 'bolengii', 'boley', 'boli', 'bolian', 'boliga', 'bolimujh', 'bolin', 'boline', 'bolkr', 'bollll', 'bollywood', 'boln', 'bolna', 'bolnay', 'bolne', 'bolngy', 'bolny', 'bolo', 'bolon', 'bolonbus', 'boloun', 'bolrahi', 'bolta', 'boltay', 'bolte', 'bolti', 'bolty', 'bolunbaat', 'bolunga', 'bolungi', 'boly', 'bolyaaaaa', 'bolyn', 'bomb', 'bombaar', 'bombay', 'bombing', 'bombon', 'bona', 'bonanain', 'bond', 'bone', 'bonga', 'bongay', 'bonk', 'boo', 'boohat', 'boojh', 'book', 'booklet', 'books', 'bool', 'boom', 'boond', 'boondein', 'boooooo9oooooohat', 'boorha', 'booring', 'boot', 'bora', 'borai', 'boraiyon', 'border', 'borders', 'bore', 'bori', 'boria', 'boriat', 'boring', 'boris', 'boriyat', 'born', 'bosnia', 'boss', 'bossa', 'boston', 'bot', 'botal', 'botay', 'botel', 'both', 'botham', 'boti', 'botles', 'bottel', 'botter', 'bottle', 'bottles', 'bottom', 'bought', 'bouht', 'bounce', 'bouncy', 'bound', 'boundary', 'bouth', 'bowl', 'bowled', 'bowler', 'bowlers', 'bowlimg', 'bowling', 'bowlnig', 'box', 'boy', 'boycott', 'boyfrnd', 'bpharmacy', 'bpl', 'bpx', 'bqchy', 'bqi', 'br', 'bra', 'brabr', 'braclet', 'bradari', 'bradman', 'bramad', 'branch', 'brand', 'brando', 'brands', 'brave', 'brazil', 'brazilian', 'brdasht', 'brdast', 'bread', 'breafing', 'break', 'breakdancing', 'breaking', 'bri', 'brian', 'bridge', 'bridges', 'brigade', 'briged', 'bright', 'briii', 'brilliant', 'bring', 'britania', 'britannia', 'british', 'britsh', 'brkaat', 'brkarar', 'bro', 'broadcaster', 'brockers', 'brohi', 'broke', 'broken', 'broo', 'brosa', 'brother', 'brothers', 'brothron', 'brown', 'brows', 'brri', 'brtanya', 'brtarf', 'bruce', 'bruh', 'bruns', 'brush', 'bry', 'bs', 'bsand', 'bsby', 'bsc', 'bsck', 'bsoch', 'bsrefrence', 'bss', 'bsss', 'bssss', 'bst', 'bstie', 'bsut', 'bt', 'bta', 'btaa', 'btaaa', 'btae', 'btaein', 'btaen', 'btai', 'btaien', 'btain', 'btaiy', 'btana', 'btaney', 'btany', 'btao', 'btata', 'btati', 'btay', 'btaya', 'btaye', 'btayega', 'bth', 'bthaiamgr', 'btmix', 'btshaa', 'btta', 'btton', 'bttttt', 'btw', 'bty', 'btya', 'btyaa', 'buahaa', 'buahahahahahaa', 'buahhahaa', 'bucha', 'buchi', 'buchisaved', 'buchoo', 'buchooo', 'buchpan', 'buchu', 'buckle', 'bud', 'buddha', 'buddy', 'budget', 'budh', 'budhay', 'budhii', 'budhy', 'budnr', 'budshakal', 'bufferzon', 'bughz', 'bugti', 'buhahah', 'buhat', 'buhht', 'buhoth', 'buht', 'buhut', 'building', 'bujat', 'bukhari', 'bukry', 'bukwas', 'bula', 'bulana', 'buland', 'bulandi', 'bulandion', 'bulandiyan', 'bulandiyon', 'bulany', 'bulao', 'bulata', 'bulate', 'bulaya', 'bulayengy', 'bulbul', 'bulbulay', 'bulkey', 'bullet', 'bulnad', 'bumbari', 'bumps', 'bun', 'bund', 'bunda', 'bunday', 'bundey', 'bundirh', 'bungalow', 'buniad', 'buniadi', 'buniyad', 'buniyadi', 'bunno', 'bunyad', 'bunyadi', 'bunyadon', 'bura', 'buraay', 'burai', 'buraiyon', 'burdbar', 'bureaucrats', 'burey', 'burg', 'burger', 'buri', 'burie', 'burj', 'burma', 'burn', 'burney', 'burra', 'burri', 'burro', 'bury', 'bus', 'buses', 'bush', 'bushra', 'business', 'businessman', 'busness', 'buster', 'busy', 'but', 'but2', 'butt', 'butto', 'button', 'buttu', 'buuuht', 'bux', 'buy', 'buzdil', 'buzdili', 'buzdilun', 'buzrgo', 'buzrig', 'buzurg', 'buzurgon', 'buzzer', 'bv', 'bx', 'by', 'byan', 'bycharo', 'byelections', 'bygert', 'bygharet', 'byimani', 'byke', 'byrozgar', 'byshk', 'bytiu', 'bytuki', 'byun', 'byzabiteyon', 'byzameer', 'bzati', 'bzayada', 'bzi', 'bzr', 'c', 'ca', 'cab', 'caben', 'caches', 'cadet', 'cafe', 'cage', 'cahaye', 'cahba', 'cahey', 'cahiya', 'cahiye', 'cahlakiyan', 'cahta', 'cahy', 'caiptan', 'cakh', 'cal', 'calcutta', 'calendar', 'calhay', 'california', 'call', 'called', 'calls', 'cambridge', 'camel', 'camelpor', 'camera', 'cameras', 'camerawhatsapp', 'cammison', 'cammistion', 'camon', 'camp', 'campaign', 'camps', 'campus', 'can', 'canada', 'canadake', 'cananda', 'cancel', 'cancellation', 'cancer', 'candian', 'candidate', 'candidates', 'canes', 'canidate', 'cannes', 'cant', 'cantrolar', 'cantt', 'cap', 'capital', 'capri', 'captain', 'captaincy', 'captaini', 'captains', 'captainship', 'captan', 'captancy', 'captian', 'captiancy', 'caption', 'capturedownload', 'car', 'cara', 'card', 'cards', 'care', 'careem', 'career', 'careful', 'cares', 'carh', 'caribbean', 'carlyle', 'caror', 'caroron', 'carpeted', 'cars', 'case', 'cases', 'cash', 'cassette', 'cassettes', 'cast', 'caste', 'casual', 'cat', 'cataini', 'catch', 'categories', 'categorizations', 'category', 'catgory', 'catholic', 'catnaini', 'catptain', 'caudhary', 'cause', 'cd', 'ce5', 'ceam', 'cease', 'ceetiyaan', 'celebrate', 'celebrities', 'celebrity', 'cell', 'cemnt', 'cenema', 'center', 'centers', 'central', 'centre', 'centuries', 'century', 'cerem', 'ch', 'cha', 'chaa', 'chaaa', 'chaand', 'chaandi', 'chaante', 'chaap', 'chaar', 'chaaron', 'chaashni', 'chaatein', 'chaba', 'chabi', 'chabuk', 'chacha', 'chachu', 'chachudary', 'chadar', 'chadndia', 'chae', 'chaeay', 'chaey', 'chaeye', 'chaeygudgudi', 'chaghal', 'chagharzo', 'chah', 'chaha', 'chahai', 'chahain', 'chahat', 'chahata', 'chahatay', 'chahate', 'chahati', 'chahay', 'chahe', 'chahea', 'chaheay', 'chahee', 'chaheete', 'chahein', 'chahen', 'chahey', 'chaheya', 'chaheyakia', 'chaheye', 'chaheyea', 'chaheyein', 'chahhye', 'chahi', 'chahia', 'chahian', 'chahiay', 'chahidaaaa', 'chahie', 'chahiea', 'chahiey', 'chahiue', 'chahiy', 'chahiya', 'chahiyae', 'chahiyay', 'chahiye', 'chahiyeagar', 'chahiyebut', 'chahiyeh', 'chahiyelanat', 'chahiyelogo', 'chahiyen', 'chahiyephir', 'chahke', 'chahna', 'chahne', 'chaho', 'chahon', 'chahonga', 'chahongi', 'chahpa', 'chahpay', 'chahpo', 'chahre', 'chahta', 'chahtay', 'chahte', 'chahti', 'chahty', 'chahunga', 'chahungi', 'chahy', 'chahyae', 'chahye', 'chahyeitni', 'chahyekeu', 'chahyen', 'chahyey', 'chahyy', 'chai', 'chaia', 'chaie', 'chaiea', 'chaif', 'chain', 'chaina', 'chair', 'chairing', 'chairman', 'chairperson', 'chairta', 'chaiy', 'chaiya', 'chaiyaaanon', 'chaiye', 'chaiyee', 'chakachond', 'chakar', 'chaki', 'chakka', 'chakkan', 'chakkar', 'chakkay', 'chakker', 'chaklet', 'chakori', 'chakr', 'chal', 'chala', 'chalaaak', 'chalaak', 'chalae', 'chalai', 'chalaie', 'chalaien', 'chalak', 'chalana', 'chalanay', 'chalane', 'chalaney', 'chalany', 'chalata', 'chalate', 'chalaty', 'chalau', 'chalay', 'chalaya', 'chalayi', 'chaldi', 'chale', 'chalees', 'chalega', 'chalegi', 'chalen', 'chalet', 'chali', 'chalien', 'chaligeye', 'chaljaye', 'chaljye', 'challan', 'challenge', 'challi', 'chalna', 'chalnay', 'chalne', 'chalni', 'chalny', 'chalo', 'chalra', 'chalraha', 'chalta', 'chaltai', 'chaltay', 'chalte', 'chaltee', 'chalti', 'chalu', 'chaly', 'chalyga', 'cham', 'chamak', 'chaman', 'chamant', 'chamat', 'chamcha', 'chameleon', 'chameli', 'chamka', 'champion', 'championship', 'chamra', 'chan', 'chanals', 'chance', 'chancellor', 'chances', 'chand', 'chanda', 'chandaaaaaaaaaaaaaaa', 'chandaand', 'chandah', 'chandal', 'chanday', 'chande', 'chander', 'chandi', 'chandni', 'chaney', 'change', 'changeary', 'changi', 'chanlange', 'chann', 'channel', 'channeldramas', 'channels', 'chany', 'chap', 'chapa', 'chapal', 'chapatian', 'chape', 'chaperay', 'chaperein', 'chapion', 'chapna', 'chapny', 'chappal', 'chaprasi', 'chapta', 'char', 'chara', 'charaag', 'character', 'characters', 'charactrs', 'charag', 'charagreat', 'charah', 'charaho', 'charane', 'charao', 'charas', 'charcha', 'charche', 'charcoal', 'chare', 'charey', 'charge', 'charger', 'charges', 'chargha', 'charging', 'charh', 'charhaho', 'charhao', 'charhaya', 'charhi', 'charhti', 'charity', 'charj', 'charjid', 'charkhe', 'charles', 'charney', 'charon', 'chars', 'charsi', 'charter', 'chase', 'chashm', 'chashni', 'chasm', 'chass', 'chastise', 'chat', 'chata', 'chatai', 'chatey', 'chati', 'chatni', 'chatt', 'chattan', 'chattay', 'chatty', 'chaty', 'chaudhary', 'chaudhry', 'chauhan', 'chauhanany', 'chauhanne', 'chauti', 'chawa', 'chawal', 'chawalian', 'chawen', 'chawey', 'chawl', 'chawla', 'chawlain', 'chawlen', 'chay', 'chaya', 'chayai', 'chayay', 'chaye', 'chayein', 'chayi', 'chayiey', 'chayiy', 'chayta', 'che', 'chea', 'cheap', 'cheaper', 'cheapo', 'cheat', 'cheating', 'check', 'checking', 'cheda', 'chedd', 'chee', 'cheeda', 'cheeez', 'cheef', 'cheekhain', 'cheekhay', 'cheekhne', 'cheeks', 'cheema', 'cheen', 'cheena', 'cheeni', 'cheep', 'cheepest', 'chees', 'cheesay', 'cheese', 'cheet', 'cheetah', 'cheetay', 'cheete', 'cheethray', 'cheez', 'cheezai', 'cheezen', 'cheezo', 'cheezon', 'cheezoon', 'cheezz', 'chehra', 'chehray', 'chehre', 'cheif', 'cheiz', 'cheizen', 'cheizon', 'chekh', 'chem', 'chemistry', 'chen', 'chena', 'chend', 'cheni', 'chenkh', 'chennai', 'cheque', 'chera', 'chero', 'chet', 'chetaa', 'chetan', 'chettaaa', 'chey', 'chez', 'cheza', 'chezain', 'chezan', 'cheze', 'chezon', 'chezz', 'chezzz', 'chha', 'chhaa', 'chhahey', 'chhahiyayikhlasimaan', 'chhahtay', 'chhaiye', 'chharm', 'chhhannn', 'chhittar', 'chhokra', 'chhola', 'chhupati', 'chhurio', 'chhurwaya', 'chhuuuh', 'chhyeye', 'chi', 'chia', 'chian', 'chiay', 'chichori', 'chief', 'chife', 'chijo', 'chikhain', 'chikni', 'chila', 'child', 'childhood', 'children', 'chill', 'chillana', 'chillmagar', 'chillwifi', 'chimat', 'chimgadar', 'china', 'chindihkhoor', 'chine', 'chinese', 'chingchi', 'chini', 'chiniot', 'chinn', 'chino', 'chintooo', 'chipka', 'chipkaana', 'chir', 'chiraagh', 'chiragh', 'chirak', 'chishti', 'chishtti', 'chitral', 'chittar', 'chitti', 'chittion', 'chiya', 'chiye', 'chiyeah', 'chiyonti', 'chiz', 'chizaaay', 'chizen', 'chk', 'chkkr', 'chkma', 'chkr', 'chky', 'chl', 'chla', 'chlay', 'chle', 'chli', 'chlkon', 'chlna', 'chlo', 'chloroform', 'chlta', 'chly', 'chmacga', 'chnce', 'chng', 'chnge', 'cho', 'choaty', 'choclate', 'chocolate', 'chod', 'chodhry', 'chodri', 'choghli', 'chohdri', 'chohty', 'choice', 'chok', 'choka', 'choki', 'chokidar', 'choklate', 'choleinholadi', 'choli', 'chomme', 'chon', 'chona', 'chonk', 'choo', 'chood', 'choohe', 'choolah', 'choom', 'choomen', 'choon', 'chooorrr', 'choor', 'chooron', 'choos', 'choose', 'choot', 'choppers', 'chor', 'chora', 'chorangi', 'chorao', 'choray', 'choraykhunzeer', 'chord', 'chorde', 'chordenge', 'chordi', 'chordia', 'chordo', 'chore', 'choreyon', 'chorh', 'chori', 'chorian', 'chorna', 'chornay', 'chorne', 'chorni', 'choro', 'chorolog', 'choron', 'choronga', 'chorooooo', 'chorr', 'chorro', 'chorte', 'chorti', 'chorunga', 'chory', 'chota', 'chotaa', 'chotani', 'chotay', 'chote', 'chotha', 'choti', 'chotii', 'chotio', 'chotiyan', 'chotroi', 'chott', 'chottay', 'chotte', 'chotti', 'chotu', 'choty', 'chouda', 'choudhary', 'choudhry', 'choukri', 'chour', 'chourangi', 'chouri', 'choutha', 'chouthe', 'chowk', 'choza', 'chpairh', 'chraghon', 'chrey', 'chrh', 'chrhado', 'chrhi', 'christie', 'chtiay', 'chu', 'chubby', 'chubhta', 'chuby', 'chud', 'chudhry', 'chugli', 'chugliyaan', 'chugliyan', 'chuglyan', 'chuindrigar', 'chuka', 'chukar', 'chukay', 'chuke', 'chukey', 'chuki', 'chukikhar', 'chukk', 'chukka', 'chuky', 'chulayan', 'chulbula', 'chulbule', 'chummi', 'chumny', 'chun', 'chuna', 'chunacha', 'chunache', 'chunan', 'chunanchay', 'chunanchey', 'chunao', 'chunda', 'chundrigar', 'chune', 'chuney', 'chungal', 'chunke', 'chunn', 'chunnamuslim', 'chunta', 'chunti', 'chup', 'chupa', 'chupakar', 'chupane', 'chupani', 'chupatay', 'chupaya', 'chupaye', 'chupe', 'chupegi', 'chupegiiiiii', 'chupi', 'chupke', 'chupky', 'chupo', 'chupp', 'chupty', 'chur', 'chura', 'churai', 'churail', 'churana', 'churane', 'church', 'churel', 'churian', 'churriyun', 'churyan', 'chushti', 'chuss', 'chut', 'chuta', 'chutey', 'chuth', 'chuti', 'chutiya', 'chutiyapay', 'chutiyapy', 'chutiye', 'chutiyo', 'chutiyon', 'chutti', 'chutty', 'chutye', 'chuxx', 'chwal', 'chwl', 'chy', 'chye', 'chyee', 'chz', 'ci', 'cia', 'cid', 'cigaratte', 'cigarette', 'cigret', 'cii', 'cinema', 'cinemas', 'cinematography', 'circket', 'circuit', 'ciruit', 'cities', 'citrus', 'city', 'citynews021', 'civic', 'civil', 'civilian', 'civilised', 'cj', 'cjal', 'clapping', 'clarification', 'clash', 'class', 'classes', 'classical', 'clasz', 'clean', 'cleaner', 'clear', 'clerks', 'cliff', 'clinic', 'clip', 'clips', 'clipsbilkul', 'clny', 'clock', 'close', 'cloth', 'clown', 'clr', 'club', 'clues', 'cm', 'cmbalochistan', 'cmgilgitbaltistan', 'cmnt', 'cmon', 'cmsindh', 'cmt', 'cn4m', 'cng', 'cnic', 'cnt', 'co', 'coach', 'coaches', 'coaching', 'coachon', 'coasjenral', 'coat', 'coatching', 'coca', 'cocaacollla', 'cocacola', 'coching', 'coda', 'code', 'coffee', 'coins', 'coiumn', 'coke', 'cokolary', 'cola', 'colambia', 'colin', 'collage', 'collar', 'collection', 'collector', 'college', 'colleges', 'collegiate', 'collge', 'colligate', 'colombia', 'colonel', 'colony', 'color', 'colorado', 'colors', 'colour', 'colours', 'colourslowest', 'colum', 'columbia', 'column', 'columnon', 'columns', 'com', 'combination', 'combine', 'combodia', 'come', 'comedian', 'comedy', 'comentry', 'comfortable', 'comic', 'coming', 'comition', 'comittee', 'comity', 'comman', 'command', 'commandar', 'commander', 'commando', 'commandos', 'commandz', 'comment', 'commentary', 'comments', 'commercial', 'commercials', 'commetti', 'commision', 'commission', 'commissioned', 'commissioner', 'commissioners', 'committee', 'common', 'commotion', 'communist', 'community', 'comnt', 'compaign', 'companies', 'companions', 'company', 'compare', 'compel', 'competition', 'competitions', 'compign', 'complain', 'complaint', 'complete', 'complex', 'compnay', 'compose', 'composition', 'compound', 'compromise', 'computer', 'comrade', 'comrades', 'comsats', 'concealer', 'concentrate', 'concept', 'concert', 'concerts', 'condition', 'conditioner', 'conditions', 'condoleezza', 'conductor', 'conf', 'confederation', 'confedrationke', 'conferenc', 'conference', 'conferences', 'conferrence', 'confessed', 'confidence', 'conflict', 'confrence', 'confuse', 'confused', 'congratulations', 'congregation', 'congress', 'connect', 'connection', 'considered', 'conspiracy', 'constable', 'constituency', 'constitution', 'construction', 'contact', 'contacts', 'contect03007722017', 'content', 'continevesly', 'continue', 'contract', 'control', 'convent', 'convention', 'convert', 'convey', 'conviniently', 'conway', 'cook', 'cooking', 'cool', 'coolege', 'coolers', 'cooling', 'coolthikness', 'coom', 'coordinator', 'copan', 'cope', 'copeter', 'cops', 'copter', 'coptroon', 'copy', 'core', 'corept', 'corft', 'corporation', 'correct', 'corrency', 'corrupt', 'corruption', 'cort', 'costwhen', 'cota', 'cotching', 'cotton', 'could', 'couldnt', 'councelon', 'council', 'counsel', 'counselor', 'count', 'counter', 'countery', 'countries', 'country', 'county', 'couple', 'coupon', 'courraption', 'course', 'courses', 'court', 'courts', 'cousin', 'covarage', 'cover', 'coverge', 'covering', 'cow', 'cox', 'cozn', 'cp', 'cpl', 'cr', 'cracked', 'crackers', 'crane', 'crap', 'crash', 'crasi', 'craze', 'crazy', 'creadit', 'cream', 'create', 'creative', 'creativity', 'credit', 'cricket', 'cricketer', 'cricketers', 'crickets', 'crickt', 'cried', 'crimes', 'crislar', 'cror', 'croran', 'crore', 'croron', 'cross', 'crowd', 'cruiserskis', 'crupt', 'crush', 'crushed', 'cs', 'ctd', 'ctegory', 'ctype', 'cuahiya', 'culb', 'cultural', 'culture', 'cumeti', 'cup', 'cups', 'curacy', 'cure', 'currancy', 'current', 'curropti0n', 'currupt', 'curupt', 'cus', 'customers', 'customs', 'cut', 'cute', 'cuteee', 'cuteiee', 'cutting', 'cx', 'cycle', 'cylinder', 'czar', 'czn', 'czns', 'd', 'd0', 'd0or', 'da', 'daa', 'daad', 'daadi', 'daadra', 'daagh', 'daal', 'daali', 'daalna', 'daalne', 'daalo', 'daan', 'daandali', 'daant', 'daanthon', 'daar', 'daarfani', 'daastan', 'daastano', 'daawa', 'daawat', 'dab', 'daba', 'dabane', 'dabang', 'dabao', 'dabate', 'dabba', 'dabbing', 'daber', 'daboo', 'dad', 'dada', 'daddy', 'dadi', 'dadra', 'dadris', 'dae', 'daein', 'daekh', 'daekhwast', 'daey', 'dafa', 'dafah', 'dafan', 'dafatir', 'dafha', 'dafna', 'dafrrr', 'daftar', 'daftaron', 'dafter', 'dagabaj', 'dagar', 'daggay', 'dagh', 'dagha', 'dagi', 'dah', 'dahai', 'dahi', 'dahk', 'dahkta', 'dahla', 'dahllahh', 'dahro', 'dahshat', 'dahshatgard', 'dai', 'daik', 'daikh', 'daikha', 'daikhain', 'daikhay', 'daikhaydeedaar', 'daikhein', 'daikhna', 'daikhny', 'daikho', 'daikna', 'daikty', 'dailogue', 'daily', 'daim', 'daimon', 'dain', 'daina', 'dainameen', 'daingay', 'dainhumari', 'dainsh', 'dainy', 'dair', 'daira', 'dairah', 'dairey', 'dairon', 'dairpa', 'dairy', 'dais', 'daita', 'daite', 'daiti', 'daivs', 'dajanon', 'dajjaala', 'dajjal', 'daka', 'dakaaar', 'dakaar', 'dakait', 'dakan', 'daketi', 'dakh', 'dakha', 'dakhal', 'dakhali', 'dakhian', 'dakhil', 'dakhila', 'dakhla', 'dakhli', 'dakhna', 'dakhnay', 'dakhne', 'dakhni', 'dakho', 'dakhon', 'dakhta', 'dakhtay', 'dakhty', 'dakhy', 'dakni', 'dako', 'dakoooo', 'daku', 'dal', 'dala', 'dalal', 'dalar', 'dalay', 'daldo', 'dale', 'daleel', 'dali', 'dalil', 'dallal', 'dalliya', 'dallon', 'dalna', 'dalnay', 'dalne', 'dalny', 'dalogi', 'daltee', 'daly', 'dalygh', 'dam', 'damage', 'damagh', 'damaka', 'daman', 'damani', 'dame', 'damishq', 'damkr', 'damon', 'damtor', 'dan', 'dana', 'dance', 'dancer', 'dances', 'dand', 'dandimarta', 'dandli', 'dane', 'dang', 'danga', 'dangl', 'dani', 'danis', 'danish', 'danishver', 'danishwar', 'danista', 'daniyal', 'dano', 'dant', 'danta', 'danto', 'danty', 'dany', 'danyal', 'daolat', 'daor', 'daouran', 'dap', 'dapa', 'dar', 'dara', 'daraata', 'darad', 'daraj', 'darakhsha', 'darakht', 'darama', 'daramai', 'darame', 'daramo', 'daramy', 'daranah', 'darao', 'darasal', 'daraya', 'daraz', 'daraze', 'darazi', 'daraziya', 'darazpk', 'darazz', 'darbader', 'darbari', 'dard', 'dardeaashob', 'dardmandi', 'dare', 'dareechon', 'darendon', 'darh', 'darhi', 'darhkast', 'darhm', 'dari', 'daria', 'dario', 'dariya', 'darj', 'darja', 'darjaat', 'darjan', 'darjano', 'darje', 'darjey', 'dark', 'darkar', 'darkast', 'darker', 'darkhast', 'darkhastfrom', 'darkhawast', 'darkhawst', 'darkhst', 'darkhuasat', 'darkhuast', 'darkhust', 'darkhuwast', 'darkhwast', 'darkot', 'darma', 'darmayan', 'darme', 'darmeyan', 'darmeyani', 'darmian', 'darmiyaan', 'darmiyan', 'darmiyani', 'darmya', 'darmyan', 'daro', 'daron', 'darood', 'darosat', 'daroud', 'darpan', 'darpe', 'darpen', 'darpook', 'darr', 'dars', 'darsgah', 'darsgahon', 'darshan', 'darta', 'dartay', 'darti', 'dartu', 'daru', 'darud', 'darust', 'darwaazay', 'darwaza', 'darwazay', 'darwaze', 'darwazey', 'darwazon', 'darwesh', 'darya', 'daryaft', 'darzi', 'das', 'dash', 'dashing', 'dasht', 'dashtt', 'dasso', 'dast', 'dasta', 'dastaan', 'dastakhat', 'dastan', 'dastani', 'dastar', 'dastaras', 'dastarkhuwan', 'dastawez', 'dastawezi', 'dastawiz', 'dastbadar', 'dastbardar', 'dasti', 'dastiyab', 'dastkhat', 'daston', 'dastoor', 'dastoorsaazki', 'dastor', 'dat', 'data', 'datay', 'date', 'dati', 'dating', 'datkar', 'dats', 'datt', 'daty', 'dau', 'daubing', 'daughter', 'daulat', 'daultana', 'daur', 'daura', 'dauran', 'dauraniye', 'dauranya', 'daure', 'dauresadarat', 'daurte', 'dawa', 'dawaan', 'dawae', 'dawam', 'dawan', 'dawaniyon', 'dawat', 'dawedaar', 'dawks', 'dawlance', 'dawn', 'dawon', 'dawood', 'day', 'dayameen', 'daydi', 'daye', 'dayer', 'daykha', 'dayna', 'daynay', 'days', 'dayta', 'dayy', 'db', 'dba', 'dd', 'ddoubt', 'de', 'dea', 'deadly', 'deakha', 'deal', 'dealing', 'deameen', 'deamin', 'deaputra', 'dear', 'dearest', 'dears', 'deay', 'debate', 'dec', 'deccan', 'deceleration', 'december', 'decide', 'decision', 'decisions', 'dedaar', 'dedar', 'dedenge', 'dedetey', 'dedia', 'dedo', 'dee', 'deed', 'deeda', 'deeer', 'deegar', 'deeger', 'deekha', 'deen', 'deeni', 'deep', 'deepti', 'deer', 'deewar', 'defect', 'defenc', 'defence', 'defend', 'defender', 'defense', 'deg', 'dega', 'degaa', 'degajisko', 'degar', 'degare', 'dege', 'degi', 'degree', 'degrees', 'degreeyan', 'deh', 'dehaai', 'dehaaiyon', 'dehaan', 'dehaat', 'dehai', 'dehaion', 'dehaiyon', 'dehan', 'dehani', 'dehat', 'dehati', 'dehatiyon', 'dehato', 'dehayon', 'dehi', 'dehka', 'dehkny', 'dehko', 'dehktay', 'dehli', 'dehshat', 'dehshatgard', 'dehshatgardi', 'dehshatghaar', 'dehsht', 'dehshtgard', 'deia', 'deikh', 'deikhlo', 'deikho', 'dein', 'deinay', 'deinge', 'deinpolice', 'deisel', 'dek', 'deka', 'deke', 'dekh', 'dekha', 'dekhaa', 'dekhaga', 'dekhai', 'dekhain', 'dekhaisawar', 'dekhana', 'dekhane', 'dekhao', 'dekhatay', 'dekhaty', 'dekhawy', 'dekhay', 'dekhaya', 'dekhaye', 'dekhe', 'dekhee', 'dekhein', 'dekhen', 'dekhenge', 'dekhey', 'dekhi', 'dekhin', 'dekhiye', 'dekhiyein', 'dekhk', 'dekhkar', 'dekhlo', 'dekhn', 'dekhna', 'dekhnay', 'dekhne', 'dekhney', 'dekhny', 'dekho', 'dekhodono', 'dekhrahy', 'dekhta', 'dekhtay', 'dekhte', 'dekhti', 'dekhty', 'dekhun', 'dekhunga', 'dekhy', 'dekhye', 'dekne', 'dekthi', 'delata', 'delati', 'delay', 'delaya', 'deleer', 'delete', 'delhi', 'delibhee', 'deliver', 'delivered', 'delivery', 'delivry', 'delvry', 'demag', 'demagh', 'demaghi', 'demand', 'demanding', 'demg', 'demgh', 'demige', 'demmak', 'democratic', 'den', 'dena', 'denay', 'dendey', 'dene', 'deney', 'denge', 'dengue', 'dengy', 'deni', 'deniii', 'denim', 'denna', 'denus', 'denver', 'deny', 'deo', 'depart', 'department', 'departmental', 'depend', 'depp', 'depty', 'deputy', 'der', 'dera', 'derah', 'derahe', 'derahi', 'deraho', 'dere', 'dereference', 'derena', 'derh', 'dero', 'ders', 'dery', 'des', 'describe', 'description', 'desent', 'deserv', 'deserve', 'deserved', 'deserves', 'desgin', 'desh', 'deshmukh', 'desi', 'desigen', 'design', 'designer', 'designers', 'designing', 'desimand', 'destbardar', 'destberdar', 'destroy', 'deta', 'detail', 'details', 'detalahore', 'detay', 'detayap', 'dete', 'detee', 'detein', 'detey', 'deti', 'dety', 'deu', 'dev', 'devar', 'development', 'devi', 'device', 'dewa', 'dewaar', 'dewaliya', 'dewana', 'dewanawaar', 'dewane', 'dewangi', 'dewanon', 'dewar', 'dewarein', 'dey', 'deya', 'deyaaur', 'deyameen', 'deyanatdar', 'deyatha', 'deye', 'deyepakistan', 'deyo', 'deyti', 'dezine', 'dfa', 'dfaa', 'dfm', 'dg', 'dgarsal', 'dhaal', 'dhaandli', 'dhaarnay', 'dhabay', 'dhabi', 'dhabne', 'dhachka', 'dhagay', 'dhage', 'dhai', 'dhair', 'dhairoon', 'dhak', 'dhaka', 'dhakay', 'dhake', 'dhakel', 'dhakela', 'dhakey', 'dhakkay', 'dhakkey', 'dhakta', 'dhal', 'dhala', 'dhale', 'dhali', 'dhalna', 'dhamaka', 'dhamakay', 'dhamakon', 'dhamaky', 'dhamka', 'dhamkaya', 'dhamki', 'dhamkian', 'dhamkiyan', 'dhamkiyon', 'dhanaywaad', 'dhancah', 'dhanche', 'dhanda', 'dhandli', 'dhang', 'dhani', 'dhann', 'dhanywaar', 'dhap', 'dhar', 'dharakne', 'dharaksha', 'dharakti', 'dharam', 'dharay', 'dharh', 'dharkan', 'dharken', 'dharki', 'dharna', 'dharnay', 'dharnayjalsaynational', 'dharrkan', 'dhatein', 'dhawa', 'dhear', 'dheela', 'dheet', 'dhehli', 'dhek', 'dheknay', 'dhekti', 'dheli', 'dhemaka', 'dheme', 'dhet', 'dhila', 'dhkta', 'dhnki', 'dho', 'dhobi', 'dhoka', 'dhokha', 'dhola', 'dhond', 'dhonda', 'dhondein', 'dhondh', 'dhondne', 'dhondo', 'dhone', 'dhong', 'dhonta', 'dhooka', 'dhool', 'dhoom', 'dhoondny', 'dhoop', 'dhop', 'dhoti', 'dhoundh', 'dhrna', 'dhund', 'dhundhna', 'dhundiye', 'dhung', 'dhuni', 'dhunn', 'dhunon', 'dhunte', 'dhuonay', 'dhuraya', 'dhuwaan', 'dhyka', 'di', 'dia', 'diabetes', 'diaek', 'dial', 'dialogue', 'dialogues', 'dian', 'diana', 'diaphragm', 'diary', 'diay', 'dibi', 'dicunt', 'did', 'didnt', 'die', 'dien', 'diesel', 'diet', 'dieting', 'diezel', 'difaa', 'difai', 'difference', 'different', 'difficult', 'dig', 'digger', 'digital', 'digre', 'digri', 'dihaan', 'dihai', 'dihan', 'dihani', 'dii', 'dijye', 'dikahaya', 'dikh', 'dikha', 'dikhaai', 'dikhaay', 'dikhaayi', 'dikhae', 'dikhaegaye', 'dikhaen', 'dikhaey', 'dikhaeyngi', 'dikhai', 'dikhain', 'dikhana', 'dikhane', 'dikhani', 'dikhany', 'dikhao', 'dikhata', 'dikhaty', 'dikhaya', 'dikhaye', 'dikhayen', 'dikhi', 'dikhlae', 'dikhne', 'dikhta', 'dikhwa', 'dikhye', 'diko', 'dikty', 'dil', 'dila', 'dilaao', 'dilaata', 'diladi', 'dilai', 'dilaiga', 'dilane', 'dilao', 'dilata', 'dilate', 'dilau', 'dilaway', 'dilay', 'dilaya', 'dilchaps', 'dilchapsi', 'dilchasp', 'dilchaspi', 'dilchspi', 'dile', 'dili', 'diljami', 'dilkash', 'dilkashi', 'dill', 'dilli', 'dillo', 'dilnasheen', 'dilo', 'dilon', 'dilpasnd', 'dilse', 'dilwai', 'dilwane', 'dilwatein', 'dilwaya', 'dily', 'dimaag', 'dimag', 'dimaggio', 'dimagh', 'dimaghi', 'dimagho', 'dimgh', 'din', 'dini', 'dinn', 'dino', 'dinon', 'dinoooo', 'dinosaurs', 'dintonic', 'dinya', 'diploma', 'dir', 'direct', 'direction', 'director', 'directors', 'directron', 'dirt', 'dirty', 'dirver', 'dis', 'disa', 'disability', 'disappoinment', 'disappoint', 'disappointed', 'disappointing', 'discipline', 'discount', 'discunt', 'discussion', 'disgusting', 'disgustng', 'dish', 'disheart', 'dishes', 'disi', 'dislike', 'diso', 'dispensary', 'display', 'disposal', 'dispose', 'dissopintd', 'dist', 'distri', 'district', 'districts', 'disturbance', 'disunt', 'ditta', 'ditto', 'division', 'divisional', 'divorce', 'diwais', 'diwaliya', 'diwangi', 'diwar', 'diwnload', 'diy', 'diya', 'diyaa', 'diyadusra', 'diyakarte', 'diyake', 'diyalo', 'diyan', 'diyantdaar', 'diyar', 'diyatu', 'diye', 'diyedosto', 'diyen', 'diyepora', 'dj', 'djudge', 'dke', 'dkh', 'dkha', 'dkhanay', 'dkhaty', 'dkhlo', 'dkho', 'dko', 'dkti', 'dlasa', 'dlassa', 'dlaty', 'dlay', 'dleel', 'dlt', 'dm', 'dmagh', 'dmc', 'dmg', 'dn', 'dna', 'dnay', 'dne', 'dngrr', 'dno', 'dnt', 'dny', 'do', 'doa', 'doam', 'doar', 'dob', 'doba', 'dobara', 'dobarah', 'dobarahdubai', 'dobta', 'dochar', 'docter', 'doctor', 'doctorate', 'doctors', 'doctron', 'doe', 'does', 'doesnt', 'dog', 'dogay', 'dogi', 'dohrana', 'dohraya', 'doing', 'dokan', 'dokanon', 'dokha', 'dol', 'dolat', 'dolatae', 'doll', 'dollar', 'dollars', 'dolll', 'dollor', 'dolls', 'dolly', 'dolor', 'dom', 'domail', 'domestic', 'don', 'donald', 'donaldzzzz', 'donations', 'done', 'donga', 'dongi', 'donkey', 'donkeys', 'dono', 'donon', 'dononn', 'donoo', 'donoon', 'dont', 'donu', 'donwo', 'doo', 'doob', 'doobi', 'doobny', 'doodh', 'doolat', 'doon', 'doonga', 'dooob', 'dooooob', 'door', 'doorian', 'doosra', 'doosray', 'doosre', 'doosri', 'doosro', 'doosron', 'doosroo', 'doosru', 'doosry', 'dooston', 'dopata', 'dope', 'dopher', 'dopta', 'dor', 'dora', 'doraan', 'doraanetaleem', 'dorah', 'doran', 'dorben', 'dore', 'dork', 'dorna', 'doron', 'dorr', 'dosary', 'doshmanon', 'doskhi', 'dosra', 'dosray', 'dosre', 'dosrey', 'dosri', 'dosro', 'dosron', 'dosry', 'dossri', 'dost', 'dostana', 'dosti', 'dostiyan', 'dosto', 'doston', 'dostoo', 'dostoun', 'dostu', 'dot', 'dou', 'douaun', 'double', 'doubt', 'doubtapko', 'dougherty', 'doum', 'dounia', 'dour', 'doura', 'douran', 'doure', 'douri', 'dous', 'dow', 'dowa', 'down', 'downgrade', 'downloadcapture', 'doye', 'doym', 'doz', 'dozak', 'dozakh', 'doze', 'dozen', 'dozkhi', 'dp', 'dr', 'draftingvery', 'draig', 'dram', 'drama', 'dramaaaa', 'dramaap', 'dramai', 'dramas', 'dramatic', 'dramay', 'dramaybaaz', 'drame', 'dramein', 'dramey', 'drammas', 'dramo', 'dramon', 'dramy', 'drasal', 'drasl', 'drati', 'drawing', 'draz', 'drazpk', 'drd', 'dreams', 'dreenday', 'dress', 'dresse', 'dressers', 'dresses', 'dressing', 'driver', 'drivero', 'drivers', 'driving', 'driwing', 'drj', 'drja', 'drkhast', 'drkhuwast', 'drkhwast', 'drkwast', 'drma', 'drmae', 'drmyan', 'drna', 'dro', 'drone', 'drood', 'drop', 'drops', 'drpoke', 'drpokehimmat', 'drs', 'drsahiba', 'drshahid', 'drsyed', 'drugs', 'drum', 'drust', 'dry', 'dslr', 'dso', 'dsp', 'dsri', 'dsry', 'dt', 'dta', 'dty', 'du', 'dua', 'duaa', 'duaao', 'duae', 'duaen', 'duago', 'duahman', 'duain', 'duaion', 'dual', 'duao', 'duaon', 'duaoon', 'duaooon', 'duaoun', 'duaounke', 'duaown', 'duay', 'duayn', 'dub', 'dubai', 'dubara', 'dubata', 'dubkiyan', 'duble', 'dubli', 'dubo', 'dubsmash', 'due', 'duffer', 'duhai', 'duhri', 'dukaan', 'dukan', 'dukh', 'dukhaen', 'dukhane', 'dukhati', 'dukhi', 'dukhon', 'dukhra', 'dulha', 'dulhan', 'dulhay', 'dum', 'dumm', 'dump', 'dun', 'dunedin', 'dunga', 'dungi', 'dunia', 'dunioya', 'duniya', 'dunlop', 'duno', 'dunya', 'dunyaa', 'dunyaemauseeqi', 'dunyanews', 'duoan', 'dupata', 'dupe', 'duper', 'duphair', 'duppata', 'dur', 'durable', 'durani', 'durkhawast', 'durkhust', 'durkhwasat', 'durood', 'durr', 'durst', 'durust', 'durustagi', 'durwaza', 'dus', 'dusha', 'dushman', 'dushmani', 'dushmano', 'dushmanon', 'dushmn', 'dushwari', 'dushwariyon', 'dusra', 'dusray', 'dusre', 'dusri', 'dusro', 'dusron', 'dusry', 'dust', 'dut', 'dutt', 'dutta', 'duttlara', 'duty', 'duva', 'duwa', 'duwani', 'duwon', 'dw', 'dwn', 'dy', 'dya', 'dyaa', 'dyaaa', 'dyaaaa', 'dyameen', 'dyanat', 'dye', 'dyen', 'dyia', 'dyin', 'dykhi', 'dykhti', 'dykhu', 'dykna', 'dyn', 'dyna', 'dyni', 'dynmai', 'dyny', 'dyti', 'dytii', 'dyty', 'dyy', 'dyyyy', 'e', 'e4', 'ea', 'each', 'eagle', 'eaglets', 'eajaz', 'eak', 'eaman', 'ear', 'earlyage', 'earning', 'earphones', 'earpiece', 'easa', 'ease', 'easily', 'east', 'eastern', 'easy', 'eatara', 'eaten', 'eazt', 'ebadaat', 'ebadat', 'ebarat', 'ebrat', 'ece', 'ecl', 'ecomomy', 'economics', 'ecp', 'ed', 'eden', 'edgbaston', 'edhi', 'editing', 'edition', 'editor', 'edmund', 'educated', 'education', 'educational', 'educationno', 'educators', 'eduction', 'edward', 'ee', 'eee', 'eee1947', 'eee1977', 'eeeababeel', 'eeeadbi', 'eeeamroz', 'eeeanqa', 'eeecrescent', 'eeefalan', 'eeefanoon', 'eeehumayon', 'eeeibnesafi', 'eeejihad', 'eeeke', 'eeekia', 'eeemasar', 'eeephool', 'eeerozin', 'eeesawera', 'eeeshab', 'eeeshairi', 'eeesheraza', 'eeeshuru', 'eeesitara', 'eeetehreek', 'eeewo', 'eeeye', 'eeman', 'eench', 'eff', 'effect', 'effective', 'efficient', 'effort', 'efforts', 'eh', 'ehal', 'ehalkar', 'ehbab', 'ehel', 'ehelkar', 'ehem', 'ehich', 'ehl', 'ehliyaton', 'ehlkar', 'ehlkaro', 'ehm', 'ehmat', 'ehmiat', 'ehmiyat', 'eho', 'ehsaas', 'ehsan', 'ehsas', 'ehtajaaj', 'ehtajaj', 'ehtaram', 'ehtaran', 'ehteram', 'ehtijaj', 'ehtiyat', 'ehtiyati', 'ehtram', 'ehtyat', 'eid', 'eidi', 'eidmubarak', 'eijaad', 'eik', 'ein', 'eisvi', 'eiswi', 'either', 'eitinger', 'eitraz', 'eizat', 'ejad', 'ejaz', 'ejazat', 'ejazt', 'ejhoo', 'ek', 'ekar', 'eke', 'ekela', 'ekhtaiar', 'ekhtyarat', 'eknights', 'ekoi', 'elaa', 'elaan', 'elaaqay', 'elaaqo', 'elag', 'elahdgi', 'elahi', 'elaihi', 'elaj', 'elam', 'elamiye', 'elan', 'elaniya', 'elaqa', 'elaqaa', 'elaqai', 'elaqajat', 'elaqay', 'elaqe', 'elaqey', 'elaqo', 'elaqon', 'elaqu', 'elawa', 'elawaa', 'elawah', 'elction', 'elecation', 'elect', 'elected', 'election', 'elections', 'electric', 'electrical', 'electronic', 'electronics', 'eleven', 'eli', 'elif', 'elites', 'elizabeth', 'ellah', 'ellaj', 'ellan', 'ellen', 'elm', 'elmi', 'eltemaas', 'em', 'ema', 'emaan', 'email', 'eman', 'emandari', 'emarat', 'embroidery', 'emergence', 'emergency', 'eml', 'emma', 'emman', 'emoji', 'employeel', 'employees', 'emply', 'emplyees', 'en', 'ena', 'enayat', 'encounter', 'end', 'ending', 'endo', 'ends', 'energy', 'eng', 'engineer', 'engineering', 'england', 'english', 'englishtan', 'englistan', 'enho', 'enj', 'enjoy', 'enjoychalain', 'enjoyed', 'enjoyment', 'enko', 'enn', 'enna', 'ennayat', 'enough', 'enoughthey', 'enquiry', 'enrolment', 'ent', 'enter', 'entered', 'entertainer', 'entertainment', 'entry', 'envelop', 'environment', 'epi', 'epic', 'episode', 'episodegood', 'episodes', 'eqtidaar', 'equal', 'era', 'err', 'error', 'es', 'esa', 'esakhel', 'esakhelvi', 'esay', 'escape', 'ese', 'eseliye', 'esembly', 'esi', 'esie', 'esii', 'eska', 'eske', 'eski', 'esko', 'eslah', 'esmbly', 'especially', 'ess', 'essa', 'esshakhs', 'essi', 'essko', 'establishment', 'establishments', 'estate', 'estemal', 'esy', 'eta', 'etaat', 'etaleeem', 'etamad', 'etc', 'etemad', 'eteraf', 'ethnography', 'etifaq', 'etimad', 'etiraf', 'etjaj', 'etnay', 'etne', 'etni', 'etny', 'euns', 'euorapion', 'euro', 'europe', 'european', 'even', 'event', 'ever', 'every', 'everyone', 'everyting', 'evidence', 'ewanon', 'exactly', 'exams', 'excel', 'excellent', 'except', 'exceptional', 'excetive', 'exch', 'exchange', 'excise', 'excited', 'exciting', 'excuse', 'exe', 'exi', 'exit1', 'exmaz', 'exp', 'expect', 'expectations', 'expendables', 'expensive', 'experience', 'experince', 'experts', 'express', 'expression', 'expressnews', 'exprtn', 'extra', 'extravagence', 'ey', 'eya', 'eyanon', 'eye', 'eyes', 'eyex', 'eysa', 'eyse', 'ezaat', 'ezafa', 'ezafay', 'ezaz', 'ezazat', 'ezazi', 'ezt', 'f', 'f00d', 'f5', 'f7', 'fa', 'faal', 'faaltu', 'faasle', 'faasly', 'faattuu', 'fabiha', 'fabric', 'face', 'face400', 'facebook', 'faces', 'facewash', 'factories', 'factors', 'factory', 'factoryon', 'faderation', 'faeedy', 'faha', 'fahaashi', 'fahad', 'faham', 'fahasha', 'fahashi', 'faheem', 'fahrist', 'faida', 'faidaa', 'faidah', 'faiday', 'faidaymand', 'faidley', 'faido', 'faidy', 'faiedeha', 'fail', 'fainal', 'fair', 'fairg', 'fairing', 'fairy', 'faisal', 'faisala', 'faisalabad', 'faisl', 'faisla', 'faislay', 'faisle', 'faisley', 'faislo', 'faisly', 'faith', 'faiyda', 'faiyz', 'faiz', 'faiza', 'faiziyab', 'faizyaab', 'fajar', 'fakahi', 'fake', 'fakeer', 'fakhar', 'fakhira', 'fakhr', 'fakir', 'fal', 'falaah', 'falah', 'falahi', 'falahobaqa', 'falak', 'falap', 'falg', 'falij', 'fall', 'falny', 'falsafa', 'falsafe', 'falsafyana', 'falto', 'faltoo', 'faltu', 'falyat', 'famaly', 'famaye', 'fame', 'famile', 'families', 'family', 'famli', 'famliy', 'famly', 'famous', 'famus', 'fan', 'fana', 'fani', 'fankaar', 'fankar', 'fankara', 'fankarana', 'fankaron', 'fanni', 'fanon', 'fans', 'fansssss', 'fantabulous', 'fantastic', 'fantstic', 'faooq', 'faoundation', 'faqaa', 'faqedul', 'faqeer', 'faqeerni', 'faqmer', 'faqo', 'faqt', 'far', 'fara', 'farab', 'farad', 'faraghat', 'faraham', 'farahmi', 'farahum', 'faraiyz', 'faraiz', 'farakh', 'faram', 'faramosh', 'faraq', 'farar', 'farasat', 'farash', 'faraz', 'fard', 'fare', 'farg', 'farhad', 'farham', 'farhami', 'farhan', 'farhat', 'fari', 'farig', 'farigh', 'farikhat', 'fariq', 'farishtay', 'farishte', 'farishto', 'fariza', 'fark', 'farkhanda', 'farma', 'farmaameeeen', 'farmaameen', 'farmabardar', 'farmaday', 'farmae', 'farmaeay', 'farmaeinaameen', 'farmaenameen', 'farmaey', 'farmah', 'farmahy', 'farmai', 'farmain', 'farmaish', 'farmaishi', 'farmaiye', 'farmaiysh', 'farman', 'farmana', 'farmata', 'farmate', 'farmaty', 'farmay', 'farmaya', 'farmaye', 'farmayeaamin', 'farmayeaur', 'farmayee', 'farmayen', 'farme', 'farmers', 'farmiya', 'farmula', 'farmy', 'farmyaur', 'farmye', 'farmyeameen', 'farmyeeameen', 'farog', 'farogh', 'farokhat', 'farokht', 'farookht', 'faroon', 'farooq', 'farooqui', 'farosh', 'farosho', 'faroye', 'farq', 'farsh', 'faruad', 'farviz', 'farwa', 'faryaltalpur', 'faryama', 'farz', 'farzand', 'farzandan', 'farzandon', 'fasaad', 'fasadaat', 'fasadan', 'fasadat', 'fasadiyon', 'fasala', 'fasd', 'fash', 'fashion', 'fasi', 'fasih', 'fasila', 'fasla', 'faslain', 'fasle', 'fast', 'fastest', 'fat', 'fata', 'fatah', 'fateen', 'fateh', 'fatha', 'fathe', 'fatheha', 'father', 'fathey', 'fatima', 'fatimah', 'fatohat', 'fattay', 'fatwa', 'fatwy', 'fauj', 'fauji', 'fauqiyat', 'fav', 'favooorite', 'favorit', 'favorite', 'favour', 'favourite', 'favouritism', 'favv', 'fawad', 'fawaqtan', 'fax', 'fayaad', 'fayal', 'fayslah', 'fayz', 'faza', 'fazal', 'fazeehat', 'fazl', 'fazli', 'fazlul', 'fazlur', 'fazol', 'fazool', 'fazoolaurtein', 'fazul', 'fazuliat', 'fb', 'fbi', 'fbr', 'fear', 'feature', 'features', 'february', 'federal', 'federalfinanceminister', 'federation', 'fedreation', 'fee', 'feed', 'feeders', 'feel', 'feeling', 'feelings', 'feels', 'fees', 'feesad', 'feet', 'feets', 'feham', 'fehmeed', 'fehmi', 'fehmiyaan', 'fehrist', 'fekar', 'fell', 'females', 'fer', 'ferdous', 'ferfct', 'ferma', 'fermaeay', 'fermaiay', 'fermain', 'fermay', 'fermaye', 'fermya', 'feroza', 'ferozewala', 'fesla', 'festival', 'fever', 'fhela', 'fi', 'fia', 'fiada', 'fiance', 'fiction', 'fida', 'field', 'fielder', 'fielding', 'fifa', 'fifty', 'fight', 'figure', 'figures', 'fikaar', 'fikar', 'fikarmand', 'fiker', 'fikr', 'fikri', 'fikrr', 'fil', 'filal', 'file', 'filhaal', 'filhal', 'fill', 'film', 'filmae', 'filmane', 'filmaya', 'filmein', 'filmen', 'filmi', 'filmo', 'filmon', 'filmoo', 'films', 'filmsaaz', 'filmsazi', 'filmsazon', 'filmy', 'filn', 'filsm', 'fimon', 'final', 'finally', 'finals', 'finance', 'financeministerbalochistan', 'financeministersindh', 'financial', 'fine', 'finger', 'fingers', 'finishhh', 'finishing', 'fiqar', 'fiqr', 'fiqrahbazi', 'fir', 'firaq', 'firdos', 'firdous', 'firdus', 'fire', 'firee', 'fireemegan', 'firing', 'firmly', 'firna', 'firon', 'firqa', 'firqay', 'firqe', 'first', 'firstly', 'fisad', 'fishes', 'fist', 'fit', 'fitar', 'fitay', 'fitchur', 'fiter', 'fitna', 'fitness', 'fitny', 'fitr', 'fitrat', 'fitri', 'fitt', 'fittar', 'fittay', 'fitted', 'fitting', 'fitty', 'five', 'fixing', 'fiza', 'fizai', 'fizool', 'fjr', 'fkr', 'flag', 'flagship', 'flap', 'flat', 'flats', 'flavor', 'flavour', 'fleece', 'fleek', 'flight', 'flm', 'flmen', 'flood', 'flooding', 'flop', 'flopped', 'fltu', 'flu', 'flying', 'flyover', 'fm', 'fmay', 'foam', 'focus', 'foj', 'foji', 'fojiyon', 'fok', 'foke', 'fold', 'folk', 'follow', 'following', 'fone', 'food', 'foodye', 'fool', 'foot', 'football', 'footballer', 'footh', 'footpath', 'for', 'foran', 'forbes', 'force', 'forcefully', 'forces', 'ford', 'foreign', 'forget', 'fori', 'form', 'formal', 'formalities', 'formats', 'forms', 'forn', 'forum', 'forun', 'forward', 'forwd', 'fot', 'foto', 'fouj', 'fouji', 'found', 'foundation', 'founder', 'four', 'fouran', 'fouri', 'fours', 'fr', 'fragrance', 'fraiz', 'france', 'franches', 'franchise', 'francici', 'fraud', 'fraustrated', 'frd', 'free', 'freedom', 'freeeha', 'freezer', 'french', 'frendship', 'fresh', 'freshtake', 'frhan', 'fri', 'fridge', 'friend', 'friendly', 'friends', 'fries', 'frineds', 'frishton', 'frma', 'frmaamin', 'frmaay', 'frmae', 'frmaen', 'frmaey', 'frmaeyaameen', 'frmaeyn', 'frmana', 'frmanbrdari', 'frmary', 'frmay', 'frmaya', 'frmayaor', 'frmaye', 'frmayen', 'frmayn', 'frmyan', 'frmyen', 'frnd', 'frndship', 'frndz', 'frndzx', 'froad', 'froashi', 'from', 'front', 'frosh', 'frq', 'frst', 'frustation', 'frustration', 'fsadat', 'fsbdi', 'fsc', 'fua', 'fuck', 'fucking', 'fuj', 'ful', 'full', 'fully', 'fun', 'function', 'functional', 'functions', 'fund', 'fundraising', 'funds', 'funi', 'funkaron', 'funn', 'funny', 'fuqdan', 'furmay', 'fursat', 'fursit', 'future', 'fuz', 'fuzool', 'fv', 'fvrt', 'fvrte', 'fydae', 'fzool', 'g', 'ga', 'gaa', 'gaaaur', 'gaae', 'gaaeki', 'gaah', 'gaahe', 'gaai', 'gaalh', 'gaali', 'gaalian', 'gaaliyan', 'gaana', 'gaane', 'gaap', 'gaar', 'gaarat', 'gaari', 'gaasaray', 'gaate', 'gaati', 'gaavaange', 'gaay', 'gaaye', 'gaben', 'gabriel', 'gadaar', 'gadah', 'gadam', 'gadar', 'gadaria', 'gaddi', 'gadget', 'gadha', 'gadhay', 'gadhe', 'gadi', 'gae', 'gaee', 'gaegi', 'gaein', 'gaeinto', 'gaen', 'gaensonal', 'gaey', 'gaeyki', 'gaffar', 'gafia', 'gagaya', 'gah', 'gahay', 'gahe', 'gahra', 'gahriyan', 'gahriyoen', 'gahtiya', 'gai', 'gaiachasorrybye', 'gaib', 'gaibhrti', 'gaie', 'gaien', 'gaii', 'gaiii', 'gaiki', 'gain', 'gainayat', 'gaind', 'gaindi', 'gainsha', 'gair', 'gairey', 'gait', 'gajar', 'gajiya', 'gal', 'gala', 'galat', 'galazaat', 'galazat', 'gale', 'galey', 'galga', 'gali', 'galia', 'galian', 'galiya', 'galiyaan', 'galiyan', 'galiyou', 'gallan', 'gallery', 'galli', 'galliyon', 'gallon', 'galri', 'gals', 'galt', 'galti', 'gam', 'gamazan', 'gamdi', 'game', 'games', 'gaming', 'gamujhe', 'gamzan', 'gamzen', 'gan', 'gana', 'ganay', 'gand', 'ganda', 'gandagi', 'gandapur', 'gande', 'gandgi', 'gandh', 'gandhi', 'gandi', 'gandoo', 'gandu', 'gandum', 'gandy', 'gane', 'ganey', 'gang', 'gangbang', 'gangoli', 'gangwar', 'ganja', 'ganjay', 'ganje', 'ganjun', 'ganjy', 'ganty', 'gany', 'gao', 'gaoon', 'gaoun', 'gape', 'gar', 'gara', 'garak', 'garam', 'garama', 'garat', 'garbar', 'gard', 'gardaani', 'gardaar', 'gardan', 'gardante', 'gardantey', 'gardar', 'garden', 'gardens', 'gardi', 'gardon', 'gareban', 'gareeb', 'gareeban', 'gareebon', 'gareebu', 'garha', 'garhe', 'garhi', 'garhion', 'garhk', 'garhne', 'gari', 'garian', 'garib', 'garibon', 'gariftar', 'gario', 'garip', 'gariya', 'gariyaan', 'gark', 'garm', 'garma', 'garmane', 'garmaya', 'garmi', 'garmiyon', 'garmiyoun', 'garner', 'garriyon', 'garry', 'garwidah', 'garz', 'gas', 'gashti', 'gashtiii', 'gashurkriya', 'gata', 'gatar', 'gate', 'gatia', 'gatyaa', 'gaub', 'gaun', 'gaurd', 'gavawa', 'gave', 'gawah', 'gawahh', 'gawahi', 'gawaho', 'gawar', 'gawara', 'gawaro', 'gawaya', 'gawaye', 'gawrat', 'gay', 'gaya', 'gayaas', 'gayab', 'gayae', 'gayagarbage', 'gayasara', 'gayasood', 'gayb', 'gaycarsi', 'gaye', 'gayee', 'gayei', 'gayein', 'gayi', 'gayii', 'gayin', 'gayintarawih', 'gaymilk', 'gayn', 'gayshekh', 'gaytv', 'gayy', 'gazal', 'gazalat', 'gb', 'gd', 'gdaarain', 'ge', 'gea', 'gee', 'geeli', 'geer', 'geerai', 'geeramzan', 'geeri', 'geet', 'geeton', 'geftr', 'gehna', 'gehra', 'gehraai', 'gehrai', 'gehraion', 'gehraiyon', 'gehray', 'gehre', 'gehri', 'gehwara', 'gein', 'geinap', 'geir', 'gel', 'gen', 'general', 'generalize', 'generation', 'generator', 'genertator', 'genis', 'genius', 'genocide', 'genrators', 'geo', 'geoffrey', 'geographic', 'geographies', 'geography', 'geometry', 'geonews', 'geoo', 'george', 'ger', 'gerat', 'gerdi', 'geri', 'german', 'germany', 'germion', 'gernalo', 'ges', 'gesoey', 'get', 'getting', 'gey', 'geya', 'geye', 'geyi', 'gf', 'gft', 'gg', 'gha', 'ghaar', 'ghaat', 'ghabhara', 'ghabranay', 'ghadara', 'ghadari', 'ghaddar', 'ghaddari', 'ghaffar', 'ghaflat', 'ghafoor', 'ghaib', 'ghair', 'ghairat', 'ghairelo', 'ghairo', 'ghairon', 'ghairt', 'ghalat', 'ghalatbura', 'ghalati', 'ghalation', 'ghalazat', 'ghale', 'ghaleez', 'ghalib', 'ghaliban', 'ghaliti', 'ghaliz', 'ghalt', 'ghalti', 'ghaltiyon', 'gham', 'ghambeer', 'ghamsan', 'ghanaiyat', 'ghand', 'ghandi', 'ghani', 'ghanimat', 'ghanta', 'ghantay', 'ghante', 'ghanto', 'ghanton', 'ghanty', 'ghapla', 'ghaplon', 'ghar', 'ghara', 'gharack', 'gharanaaa', 'gharane', 'gharano', 'gharanon', 'gharaq', 'gharat', 'gharaz', 'ghareb', 'gharebon', 'ghareeb', 'ghareebi', 'ghareebon', 'gharelo', 'ghareloo', 'gharelu', 'ghari', 'gharib', 'gharibon', 'gharit', 'ghark', 'gharon', 'gharoon', 'gharoor', 'gharor', 'gharq', 'ghart', 'ghas', 'ghaseetna', 'ghasht', 'ghasib', 'ghasite', 'ghat', 'ghatey', 'ghatia', 'ghatiya', 'ghatya', 'ghaur', 'ghay', 'ghayab', 'ghayas', 'ghazal', 'ghazalein', 'ghazalen', 'ghazanfar', 'ghazi', 'ghazian', 'ghazlein', 'ghazlen', 'ghazlon', 'ghebt', 'gheebat', 'ghehra', 'ghelaf', 'ghelazat', 'gher', 'gherao', 'gherat', 'ghere', 'gherny', 'gherut', 'ghestro', 'ghib', 'ghisa', 'ghizjaogi', 'ghlay', 'ghlazat', 'ghleez', 'ghlt', 'ghlti', 'ghoar', 'ghohar', 'gholte', 'ghomnay', 'ghomte', 'ghomti', 'ghonsa', 'ghoom', 'ghooma', 'ghoomo', 'ghoomta', 'ghoomte', 'ghoont', 'ghoonty', 'ghoori', 'ghor', 'ghoray', 'ghori', 'ghos', 'ghosh', 'ghotki', 'ghotne', 'ghoust', 'ghq', 'ghr', 'ghrak', 'ghreeb', 'ghro', 'ghror', 'ghtiya', 'ghtya', 'ghufrana', 'ghulam', 'ghulami', 'ghum', 'ghuman', 'ghumao', 'ghumaz', 'ghumein', 'ghunday', 'ghunghro', 'ghuni', 'ghunni', 'ghunny', 'ghur', 'ghurayo', 'ghurba', 'ghuroor', 'ghus', 'ghusa', 'ghusaa', 'ghusiley', 'ghusne', 'ghuss', 'ghussa', 'ghussay', 'ghussey', 'ghustakhon', 'ghusti', 'ghuthne', 'ghutne', 'ghuzar', 'ghyb', 'ghyer', 'gi', 'gia', 'giandhaira', 'giasa', 'gidh', 'gie', 'gift', 'giftogo', 'gii', 'giin', 'gikhatoon', 'gila', 'gilah', 'gilani', 'giley', 'gilgit', 'gilid', 'gillani', 'gilove', 'gilson', 'gine', 'gini', 'ginti', 'gir', 'gira', 'giraae', 'giraft', 'giraftar', 'giraftari', 'giran', 'girana', 'gird', 'girdopesh', 'girftar', 'giri', 'girift', 'girifta', 'giriftar', 'giriftari', 'girigiri', 'girl', 'girlfriend', 'girls', 'girlz', 'girna', 'girne', 'girny', 'giroh', 'girr', 'girti', 'girton', 'girty', 'gis', 'give', 'given', 'giving', 'giya', 'giyah', 'giye', 'giz', 'gizri', 'gla', 'glacier', 'gladiators', 'glamorous', 'glamour', 'glass', 'glasses', 'gli', 'global', 'globe', 'gloves', 'glt', 'glti', 'glty', 'gly', 'gmujhay', 'gn', 'gnda', 'gnde', 'gndi', 'gndo', 'go', 'goat', 'god', 'godh', 'godial', 'godrey', 'godthe', 'goes', 'goft', 'goftar', 'goftogo', 'gogi', 'gogo', 'gohngy', 'goi', 'going', 'goiyan', 'goke', 'gokhle', 'gol', 'gola', 'gold', 'golden', 'goldsmith', 'gole', 'goli', 'golia', 'golimar', 'goliyan', 'goliyon', 'golokara', 'golokari', 'golokaron', 'goltair', 'gona', 'gond', 'gone', 'gonj', 'goo', 'good', 'goodbye', 'goodinfinx', 'google', 'goomty', 'goonjta', 'goood', 'gooray', 'goose', 'goosht', 'gor', 'gorakh', 'gorakhpuri', 'gorey', 'gori', 'goron', 'gosh', 'gosha', 'gosht', 'goshtkhalaety', 'gosse', 'gossips', 'got', 'goth', 'gouk', 'gourmey', 'gov', 'govement', 'goverment', 'government', 'governments', 'governor', 'govinda', 'govt', 'goya', 'goziroo', 'gpa', 'gpl', 'gracey', 'grad', 'gradation', 'grade', 'grades', 'graduate', 'graduation', 'gram', 'gramo', 'gramophone', 'grand', 'grandfather', 'granger', 'graph', 'graphic', 'graphics', 'grass', 'grateful', 'great', 'greatbaki', 'greatcolor', 'greatest', 'green', 'grelo', 'grey', 'griftar', 'griftararrest', 'griftari', 'griftariyan', 'grinders', 'grip', 'grm', 'ground', 'groundpar', 'grounds', 'group', 'groupo', 'groups', 'grow', 'growing', 'grp', 'gt', 'gu', 'guaranteed', 'guard', 'gucci', 'guch', 'gud', 'gudaz', 'gudgudi', 'guftaar', 'guftagu', 'gufto', 'guftogo', 'guftogu', 'guftugo', 'guftugu', 'guide', 'guild', 'guilt', 'guilty', 'guinness', 'guitar', 'gujeshta', 'gujran', 'gujranwala', 'gujrat', 'gul', 'gulaab', 'gulab', 'gulami', 'gulbadankabhi', 'gulbai', 'gulberg', 'gulbhar', 'guldasta', 'guldaste', 'gulfeezan', 'gulistan', 'gull', 'gulldaan', 'gulokar', 'gulokari', 'gulookari', 'gulraiz', 'gulshan', 'gult', 'guly', 'gulzar', 'gum', 'guman', 'gumi', 'gumnaam', 'gumnami', 'gumrah', 'gumshoda', 'gumshudah', 'gun', 'guna', 'gunaah', 'gunah', 'gunahgar', 'gunaho', 'gunahoo', 'gunahun', 'gunaya', 'gund', 'gunda', 'gunday', 'gunehghar', 'gungunana', 'gungunane', 'gunjaish', 'gunjane', 'gunjh', 'gunn', 'gunnaghar', 'gunnah', 'gur', 'guraiz', 'gurbat', 'gurday', 'gurez', 'guriya', 'guroh', 'guru', 'gurumandir', 'gus', 'gusa', 'gussa', 'gussy', 'gustahi', 'gustakh', 'gustakhi', 'guthno', 'guthnon', 'guts', 'gutter', 'guwach', 'guy', 'guys', 'guzaar', 'guzaarna', 'guzaarne', 'guzaarte', 'guzaarunga', 'guzar', 'guzara', 'guzarao', 'guzare', 'guzaresh', 'guzari', 'guzarien', 'guzarish', 'guzarna', 'guzarne', 'guzarny', 'guzarta', 'guzartay', 'guzarte', 'guzarti', 'guzartii', 'guzashta', 'guzatre', 'guzeen', 'guzer', 'guzishta', 'guzr', 'guzra', 'guzralakin', 'guzray', 'guzre', 'guzri', 'guzrii', 'guzry', 'gwadar', 'gy', 'gya', 'gyaa', 'gyae', 'gyagr', 'gyajo', 'gyanlarke', 'gyanot', 'gye', 'gyebold', 'gyee', 'gyen', 'gyi', 'gyin', 'gym', 'gyming', 'gyn', 'gypml', 'gyy', 'h', 'h0', 'h0n', 'h0or', 'h0ti', 'h0vi', 'h9', 'ha', 'haa', 'haaa', 'haaaa', 'haaai', 'haabi', 'haad', 'haaeyy', 'haag', 'haagy', 'haahaahahahaha', 'haahahhan', 'haahhahahahahahaah', 'haai', 'haal', 'haalaat', 'haalal', 'haalat', 'haali', 'haalon', 'haami', 'haan', 'haanre', 'haar', 'haarey', 'haari', 'haarta', 'haas', 'haath', 'haathoon', 'haaton', 'haavi', 'haawi', 'habco', 'habhosaa', 'habib', 'hackers', 'hacksbay', 'had', 'hadaf', 'hadaff', 'hadait', 'hadayat', 'hadd', 'haddi', 'haddiyan', 'haddon', 'hadeed', 'hadees', 'hadeeso', 'hadein', 'hadfemalamat', 'hadh', 'hadia', 'hadith', 'hadiyan', 'hadiyo', 'hadlee', 'hadood', 'hadsa', 'hadsaat', 'hadsat', 'hadsati', 'hadsay', 'hadse', 'hadsey', 'hadud', 'hadyat', 'hadyt', 'hae', 'haekalma', 'haekrle', 'haey', 'hafee', 'hafeez', 'hafeez313', 'hafez', 'hafia', 'hafiath', 'hafiz', 'hafizhafeezurrehman', 'hafsa', 'haft', 'hafta', 'haftawar', 'haftay', 'hafte', 'haftepeykar', 'haftey', 'hafze', 'hagai', 'hagan', 'hagr', 'haha', 'hahaaa', 'hahaaachawal', 'hahaaaduleh', 'hahaahah', 'hahaahahhaau', 'hahah', 'hahaha', 'hahahaanu', 'hahahaaqasmay', 'hahahabt', 'hahahah', 'hahahaha', 'hahahahaaby', 'hahahahaah', 'hahahahah', 'hahahahaha', 'hahahahahagahahahahahaha', 'hahahahahah', 'hahahahahaha', 'hahahahahahaah', 'hahahahahahah', 'hahahahahahaha', 'hahahahahahahahaha', 'hahahahahahahahahaha', 'hahahahahahahahahahahaay', 'hahahahahahahahahahahaha', 'hahahahahahahahahahahahahahaha', 'hahahahahahahahahahha', 'hahahahahahahahahahhaha', 'hahahahahamain', 'hahahahahha', 'hahahahahhaahhaaha', 'hahahahahhaha', 'hahahahahhahaahhahahahaahh', 'hahahahahhahahahahhahaha', 'hahahahahhamera', 'hahahahahsunbal', 'hahahahatum', 'hahahahawelli', 'hahahahha', 'hahahahhaha', 'hahahahhahaha', 'hahahahhahahahaha', 'hahahahhor', 'hahahha', 'hahahhaa', 'hahahhaah', 'hahahhaahaha', 'hahahhag', 'hahahhaha', 'hahahhahah', 'hahahhahahahah', 'hahahhahahahhahahhaha', 'hahahhahahajahhah', 'hahahhahahhaha', 'hahahhahahhahaha', 'hahahhahahhhahahhha', 'hahahhahhaha', 'hahahhahhhhahahahahahhahahh', 'hahamtlb', 'hahha', 'hahhah', 'hahhaha', 'hahhahah', 'hahhahaha', 'hahhahahahaha', 'hahhahahahha', 'hahhahahha', 'hahhahha', 'hahhahhahah', 'hai', 'hai350', 'haia', 'haiabad', 'haiagar', 'haiallah', 'haiand', 'haianmool', 'haiarsal', 'haiaur', 'haibal', 'haider', 'haidin', 'haidusra', 'haidyne', 'haien', 'haif', 'haifrustration', 'haighr', 'haih', 'haihaha', 'haihakeem', 'haihawwa', 'haihmaari', 'haihum', 'haii', 'haiii', 'haiinshallah', 'haiisne', 'haijab', 'haijahan', 'haijahilo', 'haijo', 'haiju', 'haijunoon', 'haike', 'hail', 'hailaikin', 'hailast', 'haildc', 'hailehaza', 'hailekin', 'hailow', 'haim', 'haimagar', 'haimainy', 'haimein', 'haimeinpak', 'hain', 'haina', 'hainaap', 'hainaksr', 'hainallah', 'hainasir', 'hainawam', 'hainawaz', 'hainazir', 'haindian', 'haine', 'hainimran', 'hainis', 'hainkehri', 'hainkhasaray', 'hainn', 'hainna', 'hainnasir', 'hainnawaz', 'hainnhi', 'hainraiting', 'hainrazia', 'hainsha', 'hainshahrukh', 'hainso', 'hainthe', 'haintmharay', 'haintotally', 'hainurdu', 'hainya', 'hainyeh', 'hainzayada', 'haiour', 'haipagal', 'haipakistan', 'haipr', 'haiq', 'hair', 'hairan', 'hairat', 'hairazia', 'hairer', 'hairet', 'hairs', 'hairstyle', 'haisach', 'haisasti', 'haiseat', 'haisiat', 'haisiyat', 'haisole', 'haisul', 'haisyat', 'haitni', 'haiwano', 'haiwoh', 'haiya', 'haiye', 'haiyeh', 'haizbrdst', 'haj', 'hajassya', 'hajat', 'hajatmando', 'hajatmandon', 'hajese', 'hajh', 'haji', 'hajion', 'hajiyon', 'hajj', 'hajjan', 'hajjj', 'hajo', 'hak', 'hakaam', 'hakane', 'hakbi', 'hakeem', 'hakeemjimeri', 'hakim', 'hakir', 'hakmiyat', 'hakomat', 'hakoomat', 'hakoomt', 'hakumat', 'hal', 'halaat', 'halaf', 'halak', 'halakat', 'halakatain', 'halakato', 'halakaton', 'halakton', 'halal', 'halalt', 'halan', 'halanke', 'halankey', 'halaq', 'halaqat', 'halat', 'halay', 'haleem', 'halen', 'half', 'halfia', 'halfo', 'hali', 'haliya', 'halka', 'halkan', 'halkay', 'halke', 'halki', 'halkon', 'hall', 'hallah', 'halo', 'halos', 'halqa', 'halqaeahbab', 'halqay', 'halqe', 'halqey', 'halqon', 'halqy', 'halt', 'halwa', 'ham', 'hama', 'hamai', 'hamain', 'hamaisha', 'hamal', 'hamara', 'hamaray', 'hamare', 'hamarey', 'hamari', 'hamary', 'hamashah', 'hamat', 'hamay', 'hamayat', 'hamayn', 'hamayt', 'hamdardi', 'hamdardiyan', 'hamderdi', 'hamdi', 'hame', 'hameed', 'hamein', 'hamen', 'hamenbhi', 'hamenhafiz', 'hamerey', 'hamesh', 'hamesha', 'hameshaa', 'hameshah', 'hameshan', 'hamey', 'hami', 'hamid', 'hamien', 'hamil', 'hamin', 'hamish', 'hamisha', 'hamiyo', 'hamiyon', 'hamki', 'hamkinar', 'hamla', 'hamlawar', 'hamlay', 'hamle', 'hamley', 'hamlon', 'hammad', 'hammari', 'hammer', 'hamnawai', 'hamra', 'hamrah', 'hamrahi', 'hamri', 'hamry', 'hamsabko', 'hamsha', 'hamsheera', 'hamsubki', 'hamwar', 'hamy', 'hamza', 'han', 'hana', 'hanais', 'hanapki', 'hanbessak', 'hand', 'handsom', 'handsome', 'haneef', 'hanfaiaz', 'hang', 'hangama', 'hangami', 'hanger', 'hanif', 'haniya', 'hanji', 'hanjo', 'hanma', 'hans', 'hansana', 'hansane', 'hansi', 'hansii', 'hansna', 'hansta', 'hanstay', 'hanste', 'hansti', 'hansy', 'hansyi', 'hanya', 'hao', 'haon', 'haphele', 'haplase', 'haplz', 'hapny', 'happened', 'happiness', 'happy', 'haprice', 'haq', 'haqa', 'haqani', 'haqayaq', 'haqdar', 'haqeeeqat', 'haqeem', 'haqeeqat', 'haqeeqi', 'haqeeqt', 'haqeeqtan', 'haqeeqte', 'haqeqat', 'haqiqat', 'haqiqi', 'haqiqiat', 'haqooq', 'haqqani', 'har', 'hara', 'harab', 'harahan', 'haraj', 'haram', 'haramdyo', 'harame', 'haramekhore', 'harami', 'haramiyon', 'harane', 'harap', 'harasa', 'harasat', 'harass', 'harassing', 'harassment', 'harate', 'haray', 'haraya', 'hard', 'hare', 'hareef', 'hareefon', 'harefon', 'harein', 'hargiz', 'hari', 'harif', 'harifon', 'harimi', 'harindranath', 'haripur', 'haris', 'hariyon', 'harkaat', 'harkat', 'harkatein', 'harkaten', 'harkateqalb', 'harkaton', 'harkt', 'harktain', 'harm', 'harmful', 'harmgor', 'harmony', 'harnay', 'harne', 'harni', 'haro', 'haron', 'haroon', 'harr', 'harram', 'harrassment', 'harrods', 'harron', 'harry', 'harsh', 'hartaal', 'hartal', 'harte', 'harted', 'haru', 'harzo', 'has', 'hasa', 'hasaab', 'hasaal', 'hasab', 'hasad', 'hasan', 'hasas', 'hasb', 'hasbe', 'hasbnd', 'haseeb', 'haseen', 'haseena', 'hasein', 'hasen', 'hash', 'hasham', 'hashar', 'hashi', 'hashim', 'hashin', 'hashir', 'hashmi', 'hashmim', 'hashr', 'hasht', 'hashti', 'hashukriaa', 'hasi', 'hasiat', 'hasido', 'hasiil', 'hasil', 'hasiyat', 'hasna', 'hasnain', 'hasne', 'haso', 'hasrat', 'hasre', 'hassad', 'hassan', 'hassas', 'hassi', 'hassil', 'hasso', 'hastay', 'hasti', 'hastiii', 'hasyat', 'hat', 'hata', 'hatanay', 'hatane', 'hatao', 'hataya', 'hatchkuly', 'hate', 'hath', 'hatheli', 'hathiyar', 'hatho', 'hathon', 'hathora', 'hathou', 'hathyar', 'hatma', 'hatmhy', 'hatmi', 'hatmy', 'hatne', 'haton', 'hatra', 'hats', 'hatta', 'hatton', 'haty', 'hatyar', 'hau', 'hauay', 'hauqal', 'hausla', 'hausle', 'havaldar', 'have', 'havelian', 'haveliyan', 'havend', 'havent', 'havi', 'havy', 'haw', 'hawa', 'hawaa', 'hawadan', 'hawaen', 'hawai', 'hawaise', 'hawala', 'hawalay', 'hawale', 'hawaley', 'hawalon', 'hawaly', 'hawari', 'hawas', 'hawasbakhta', 'hawi', 'hawis', 'hawksbay', 'hawn', 'haww', 'hawwa', 'hawwww', 'haxd', 'hay', 'haya', 'hayaat', 'hayaati', 'hayaha', 'hayap', 'hayat', 'hayate', 'hayayi', 'haybag', 'haybuy', 'haydats', 'haydrabad', 'haye', 'hayeee', 'hayeeee', 'hayeen', 'hayeet', 'hayes', 'hayhe', 'hayjo', 'haymaa', 'hayn', 'haypathan', 'hayrat', 'haythora', 'hayyaqinan', 'hazaar', 'hazam', 'hazar', 'hazara', 'hazarat', 'hazarey', 'hazaro', 'hazaron', 'hazaroo', 'hazart', 'hazb', 'hazer', 'hazil', 'hazir', 'hazoor', 'hazraatokhwateen', 'hazrat', 'hazri', 'hazur', 'hbeb', 'hchalo', 'hd', 'hdees', 'hdi', 'hdosre', 'he', 'hea', 'head', 'heading', 'headphone', 'headphones', 'headset', 'healer', 'health', 'healthno', 'healthy', 'hean', 'heapky', 'heart', 'heartbreaking', 'hearts', 'heat', 'heater', 'heatup', 'heavy', 'hebib', 'hebut', 'hedayat', 'hee', 'heen', 'heer', 'heera', 'heerrrooo', 'heez', 'hefazat', 'hefazt', 'hehe', 'heheart', 'heheee', 'heheh', 'hehehe', 'heheheh', 'hehehehe', 'hehehehehe', 'heheheheheheh', 'heheyar', 'hei', 'hein', 'heinor', 'heinpractically', 'heis', 'hejra', 'hejray', 'heke', 'hela', 'helak', 'helen', 'helicopter', 'hell', 'hello', 'hells', 'helmet', 'helo', 'help', 'helped', 'helper', 'helping', 'hely', 'hemarhala', 'hemayat', 'hemin', 'hemsha', 'hen', 'hena', 'henso', 'henunke', 'henye', 'henzeer', 'heor', 'hepakistan', 'heq', 'her', 'hera', 'heraat', 'heramy', 'heran', 'herankun', 'herat', 'heratnak', 'herbay', 'here', 'hereef', 'herine', 'herjae', 'herkaron', 'herket', 'hero', 'heroen', 'heroien', 'heroin', 'heroines', 'heroins', 'heroni', 'hesab', 'hesagemustafai', 'hesiat', 'hesitation', 'hesiyat', 'het', 'hethey', 'hetyar', 'hewe', 'hey', 'heyher', 'heyn', 'heyramzan', 'heza', 'hezeer', 'hezo', 'hfunt', 'hga', 'hgai', 'hgareeb', 'hgya', 'hh', 'hhahahaha', 'hhahahahaahha', 'hhahahhahahahahahahha', 'hhamsha', 'hhhhhhhh', 'hhhhhhhhhhhhhhhry', 'hi', 'hia', 'hian', 'hiba', 'hibse', 'hichkole', 'hid', 'hidaiat', 'hidayat', 'hide', 'hidh', 'hidmat', 'hids', 'hidyat', 'hifaazat', 'hifaz', 'hifazat', 'hifazt', 'hifz', 'hifza', 'hifzia', 'hifzo', 'hifzt', 'higae', 'high', 'higher', 'highest', 'highlight', 'highlighting', 'highway', 'hiher', 'hihu', 'hii', 'hiii', 'hijab', 'hije', 'hijra', 'hijri', 'hik', 'hiking', 'hikmat', 'hil', 'hila', 'hilal', 'hilaleimtiaz', 'hilaliimtiaz', 'hilana', 'hilanay', 'hilarious', 'hilate', 'hili', 'hilight', 'hill', 'hilla', 'hilli', 'him', 'himat', 'himayat', 'himesh', 'himet', 'himmat', 'himmt', 'himrah', 'himself', 'hin', 'hina', 'hinallah', 'hind', 'hindamy', 'hindi', 'hindo', 'hindon', 'hindoun', 'hindu', 'hindustan', 'hindustani', 'hint', 'hio', 'hip', 'hir', 'hiran', 'hiras', 'hirasaan', 'hirasan', 'hirasat', 'hirast', 'his', 'hisa', 'hisaaa', 'hisaab', 'hisab', 'hisail', 'hisb', 'hiso', 'hispanwi', 'hiss', 'hissa', 'hissab', 'hissah', 'hissay', 'hisse', 'hisson', 'hissy', 'history', 'hisy', 'hit', 'hiwan', 'hiyaday', 'hizb', 'hizbe', 'hjae', 'hjaisay', 'hjao', 'hje', 'hkch', 'hkmrano', 'hkomat', 'hkomran', 'hkoomat', 'hlaat', 'hllali', 'hluu', 'hm', 'hmaara', 'hmaari', 'hmaien', 'hmain', 'hmaisha', 'hman', 'hmara', 'hmaray', 'hmare', 'hmarey', 'hmari', 'hmary', 'hmay', 'hmdhoty', 'hme', 'hmein', 'hmen', 'hmesha', 'hmin', 'hmko', 'hmla', 'hmm', 'hmmm', 'hmmmm', 'hmn', 'hmre', 'hmri', 'hmry', 'hmse', 'hmsh', 'hmy', 'hmyy', 'hn', 'hna', 'hnallah', 'hngay', 'hnge', 'hni', 'hnlng', 'hnlolx', 'hnnnnn', 'hnouman', 'hns', 'hnsta', 'hny', 'ho', 'hoa', 'hoab', 'hoakia', 'hoapny', 'hoar', 'hoax', 'hoay', 'hobby', 'hoburger', 'hochuke', 'hochuki', 'hockey', 'hodod', 'hodua', 'hoe', 'hoein', 'hoeus', 'hofinally', 'hoga', 'hogaaesa', 'hogae', 'hogaee', 'hogaey', 'hogai', 'hogaiee', 'hogaii', 'hogaplz', 'hogay', 'hogaya', 'hogayaa', 'hogaye', 'hogayee', 'hogayi', 'hogea', 'hogi', 'hogia', 'hogii', 'hogy', 'hogya', 'hogyajis', 'hogye', 'hogyi', 'hogyinsha', 'hogyq', 'hohazrat', 'hoi', 'hoiay', 'hoien', 'hoin', 'hoinasir', 'hoja', 'hojae', 'hojaegaa', 'hojaegi', 'hojaengy', 'hojahil', 'hojai', 'hojaiga', 'hojainge', 'hojana', 'hojanay', 'hojaney', 'hojani', 'hojao', 'hojaogi', 'hojaon', 'hojata', 'hojate', 'hojati', 'hojaty', 'hojatyy', 'hojaye', 'hojayee', 'hojayega', 'hojayen', 'hojayga', 'hojhail', 'hojyenge', 'hoka', 'hokar', 'hoker', 'hokhi', 'hokmrano', 'hokomat', 'hokoomat', 'hokr', 'hokum', 'hokumat', 'hoky', 'hokyu', 'holahore', 'holders', 'holding', 'holes', 'holi', 'hollywood', 'holy', 'home', 'homeo', 'homes', 'hon', 'hona', 'honaa', 'honahar', 'honaiy', 'honay', 'honbluetoothbroadband', 'honda', 'hone', 'honehaar', 'honest', 'honestly', 'honewale', 'honewali', 'honey', 'honeymoon', 'hong', 'honga', 'hongay', 'honge', 'hongi', 'hongy', 'honhur', 'honi', 'honk', 'honmujhe', 'honn', 'honnon', 'honorable', 'hont', 'honth', 'honton', 'hony', 'hoo', 'hooa', 'hoobchaa', 'hoodie', 'hooi', 'hook', 'hoon', 'hoona', 'hooo', 'hoooo', 'hooroof', 'hootaa', 'hootay', 'hooting', 'hooy', 'hop', 'hopagla', 'hopak', 'hope', 'hopeshawar', 'hopotkistani', 'hopunjabi', 'hoqoq', 'hor', 'hora', 'horaha', 'horahaor', 'horahay', 'horahi', 'horf', 'horha', 'horhe', 'horhi', 'horhy', 'hori', 'horn', 'horse', 'hosake', 'hosaki', 'hosakta', 'hosakti', 'hosh', 'hoshiyaar', 'hoshiyar', 'hoshukriya', 'hoshyah', 'hoshyr', 'hoskta', 'hoskti', 'hosla', 'hoslamand', 'hoslay', 'hosle', 'hosol', 'hosp', 'hospital', 'hospitals', 'host', 'hostel', 'hosting', 'hot', 'hota', 'hotaa', 'hotaaaaa', 'hotaallah', 'hotabalke', 'hotabcoz', 'hotai', 'hotay', 'hotaykabhi', 'hote', 'hotee', 'hotel', 'hotels', 'hotey', 'hotha', 'hoti', 'hotihy', 'hotii', 'hotinawaz', 'hotta', 'hottay', 'hoty', 'hou', 'houjao', 'houn', 'hours', 'house', 'housefull', 'housla', 'houta', 'houz', 'hova', 'hovie', 'hovy', 'how', 'howa', 'howae', 'howantda', 'howard', 'howarna', 'howashamsi', 'howay', 'howe', 'howi', 'howy', 'hoy', 'hoye', 'hoyein', 'hoyi', 'hpata', 'hpr', 'hr', 'hraam', 'hram', 'hrami', 'hran', 'hrasa', 'hrha', 'hriday', 'hrkat', 'hrs', 'hsan', 'hsart', 'hsin', 'hsmy', 'hta', 'htaao', 'hth', 'hti', 'htii', 'hty', 'hu', 'hua', 'huaa', 'huae', 'huawei', 'huay', 'hub', 'hud', 'huda', 'huddi', 'hudod', 'hudood', 'hue', 'huea', 'huee', 'hueenmagar', 'huein', 'hueto', 'huey', 'huga', 'hugai', 'hugya', 'hugye', 'huh', 'huhhh', 'huhn', 'hui', 'huie', 'huien', 'huijahan', 'huilekin', 'hujaigay', 'huje', 'hujjaj', 'hujom', 'huk', 'hukam', 'hukamran', 'hukamrano', 'hukamranon', 'hukkam', 'hukmaran', 'hukmarani', 'hukmarano', 'hukmerani', 'hukmran', 'hukmrani', 'hukmrano', 'hukom', 'hukomat', 'hukomatein', 'hukomati', 'hukomrani', 'hukoomat', 'hukoomatepakistan', 'hukum', 'hukumat', 'hukumati', 'hukumaton', 'hukumet', 'hukumraan', 'hukumrani', 'hukumrano', 'hukumranon', 'hukumty', 'hulchul', 'hum', 'huma', 'humaey', 'humahang', 'humain', 'humaisha', 'human', 'humanitarians', 'humara', 'humaray', 'humare', 'humarey', 'humari', 'humary', 'humay', 'humdardi', 'hume', 'humein', 'humeira', 'humen', 'humesah', 'humesha', 'humhain', 'humhara', 'humian', 'humkinar', 'humko', 'humla', 'humma', 'hummara', 'humme', 'hummy', 'humny', 'humpy', 'humra', 'humri', 'humsab', 'humse', 'humsha', 'humsree', 'humsy', 'humtv', 'humum', 'humy', 'humye', 'hun', 'hunar', 'hunarmandi', 'hunay', 'hunda', 'hundi', 'hundia', 'hundu', 'hundy', 'hundyun', 'hungama', 'hungami', 'hunh', 'hunhhh', 'hunk', 'hunnawaz', 'huno', 'huq', 'huqooq', 'huqoq', 'huqqa', 'hur', 'hurf', 'huri', 'huriat', 'hurmain', 'hurman', 'huron', 'hurr', 'hurray', 'hurriyat', 'hurt', 'hus', 'husan', 'husband', 'husbnd', 'hush', 'huskta', 'husn', 'husnain', 'husnekarkardgi', 'husnesalok', 'husool', 'husoosan', 'hussain', 'hussein', 'hussen', 'hussnain', 'husul', 'husun', 'huta', 'hutay', 'hute', 'huti', 'hutiya', 'hutiyaa', 'huu', 'huuu', 'huuufff', 'huvy', 'huwa', 'huway', 'huwe', 'huween', 'huwi', 'huwy', 'huya', 'huyae', 'huye', 'huyein', 'huzoor', 'huzur', 'hv', 'hva', 'hwa', 'hwaly', 'hy', 'hyaa', 'hyacting', 'hyafsoos', 'hyallah', 'hyap', 'hyapnae', 'hybari', 'hyder', 'hyderabad', 'hydri', 'hydry', 'hye', 'hyeeeeee', 'hyeeeeeeeedjchha', 'hygiene', 'hygutkaa', 'hyik', 'hyindia', 'hykoi', 'hymusharf', 'hyn', 'hynallah', 'hynzra', 'hypakistan', 'hypocracy', 'hyprsu', 'hysharam', 'hyshkl', 'hytum', 'hywe', 'hyy', 'hyya', 'hyyar', 'hyzardari', 'hzar', 'hzaror', 'hzaru', 'i', 'ia', 'ian', 'ibaadat', 'ibadat', 'ibadatgahon', 'ibadet', 'ibadt', 'ibarat', 'iblaagh', 'iblaaghi', 'ibn', 'ibnay', 'ibne', 'ibnesafi', 'ibraat', 'ibrahim', 'ibrar', 'ibrat', 'ibratnak', 'ibretnak', 'ibtadai', 'ibteda', 'ibtedah', 'ibtedai', 'ibtidai', 'ic', 'icc', 'ice', 'ici', 'icon', 'icu', 'id', 'idara', 'idare', 'idarey', 'idaro', 'idaron', 'idary', 'ide', 'idea', 'ideal', 'ideas', 'idhar', 'idhr', 'idiot', 'idr', 'idraak', 'idrees', 'idrrr', 'ieho', 'iehteyat', 'ieman', 'iesco', 'iey', 'if', 'ifazat', 'iffatopaak', 'iftekhar', 'iftetah', 'ifti', 'iftikhar', 'iftita', 'iftitah', 'iftkhar', 'ifywim', 'ig', 'ignores', 'ihata', 'ihsas', 'ihtejaj', 'ihtesham', 'ihtijaj', 'ihtijaji', 'ii', 'iimran', 'iintehi', 'ijaad', 'ijaat', 'ijaazat', 'ijad', 'ijant', 'ijaradari', 'ijaz', 'ijazaat', 'ijazat', 'iji', 'ijlaas', 'ijlas', 'ijra', 'ijtema', 'ijtemat', 'ijtima', 'ik', 'ikahatha', 'ikatha', 'ikathay', 'ikhbar', 'ikhlaq', 'ikhlaqi', 'ikhraj', 'ikhtaiarat', 'ikhtalaf', 'ikhtalafat', 'ikhtejaj', 'ikhtelaf', 'ikhtelafaat', 'ikhtelafat', 'ikhtetaam', 'ikhtetam', 'ikhteyar', 'ikhteyaraat', 'ikhtiaar', 'ikhtiaraat', 'ikhtiarat', 'ikhtii', 'ikhtilafat', 'ikhtitaam', 'ikhtiyar', 'ikhtyar', 'iklote', 'ikloti', 'ikram', 'ilaaj', 'ilaaqa', 'ilaawa', 'ilahi', 'ilaj', 'ilam', 'ilama', 'ilan', 'ilaqa', 'ilaqae', 'ilaqay', 'ilaqey', 'ilaqon', 'ilawa', 'ilawaaaaaa', 'ilazmat', 'ile', 'ill', 'illamat', 'illegal', 'illmo', 'illzam', 'ilm', 'ilmi', 'ilmioadbi', 'ilmm', 'ilove', 'iltaf', 'iltaja', 'ilteja', 'iltija', 'iltiwa', 'iltja', 'ilwa', 'ilyas', 'ilzaam', 'ilzam', 'ilzamaat', 'ilzamat', 'im', 'imaamon', 'imaan', 'imadad', 'image', 'images', 'imaginations', 'imagine', 'imakan', 'imal', 'imam', 'iman', 'imandari', 'imaran', 'imarat', 'imdaad', 'imdad', 'imdadadi', 'imdadi', 'imkaan', 'imkan', 'imkanat', 'imla', 'immidiatly', 'impact', 'imperfct', 'implement', 'implementation', 'importance', 'important', 'impression', 'imraan', 'imran', 'imrani', 'imrn', 'imtaiaz', 'imteazi', 'imtehaan', 'imtehan', 'imtehanat', 'imtezaj', 'imtiaz', 'imtiazi', 'imtiazoshohrat', 'imtiha', 'imtihan', 'imtiyaz', 'in', 'inaam', 'inacio', 'inam', 'inamaat', 'inami', 'inarki', 'inasan', 'inayat', 'inbox', 'incharge', 'inches', 'incident', 'incmplte', 'increase', 'increased', 'increment', 'indai', 'indar', 'independent', 'index', 'india', 'indian', 'indians', 'indies', 'indins', 'indiya', 'indoz', 'indra', 'indraj', 'industrial', 'industry', 'ineqaad', 'ineqad', 'infact', 'infantry', 'infaradi', 'infaradiyat', 'inferadi', 'infinite', 'infinix', 'infiradi', 'infiradiyat', 'info', 'information', 'inftarawal', 'ingey', 'ingrezi', 'inhain', 'inhan', 'inhay', 'inhe', 'inhein', 'inhi', 'inho', 'inhon', 'inhonay', 'inhone', 'inhrn', 'inhsllah', 'inhun', 'inhy', 'ini', 'initiative', 'injam', 'ink', 'inka', 'inkaar', 'inkar', 'inkari', 'inkasari', 'inkay', 'inke', 'inkear', 'inkesari', 'inki', 'inkishafat', 'inko', 'inky', 'inlog', 'inn', 'inna', 'innatural', 'inner', 'inni', 'inning', 'innings', 'innna', 'inocent', 'inon', 'inoxant', 'inpar', 'inqalab', 'inqelab', 'inqelabaat', 'inqelabi', 'inqilab', 'insaaaf', 'insaaan', 'insaaf', 'insaan', 'insaani', 'insaf', 'insahallah', 'insan', 'insaneit', 'insani', 'insaniyat', 'insano', 'insanon', 'insanoo', 'insay', 'inse', 'insedad', 'insert', 'insey', 'insha', 'inshaa', 'inshaaallah', 'inshaalah', 'inshaallah', 'inshaallahaurat', 'inshaf', 'inshal', 'inshala', 'inshallaallah', 'inshallah', 'inshallaha', 'inshallha', 'inshort', 'insidad', 'insjallah', 'insn', 'inspectors', 'inspiration', 'inspire', 'insta', 'install', 'institute', 'instructional', 'instructor', 'instrumental', 'insult', 'insurance', 'int', 'intaha', 'intahaee', 'intahaye', 'intahi', 'intakhabaat', 'intakhabat', 'intakhabi', 'intaqal', 'intaykahbat', 'intaykhabat', 'intazaar', 'intazam', 'intazamat', 'intazamia', 'intazar', 'inteazi', 'inteha', 'intehaa', 'intehaai', 'intehae', 'intehai', 'intehayi', 'intekhab', 'intekhabaat', 'intekhabat', 'intekhabi', 'intellectual', 'intelligence', 'inteqaal', 'inteqal', 'inteqami', 'inter', 'interest', 'interesting', 'intermediate', 'international', 'internet', 'interview', 'interviews', 'interviwe', 'inteshar', 'intezaar', 'intezam', 'intezamaat', 'intezamiya', 'intezar', 'inti', 'intiha', 'intikhab', 'intikhabat', 'intikhabi', 'intizamat', 'intizamia', 'intizar', 'intkhabi', 'intrest', 'introduce', 'intzamia', 'intzar', 'inushay', 'inuslt', 'investigate', 'invicibles', 'invite', 'io', 'ion', 'ioni', 'ipl', 'iplkhailnay', 'iqbak', 'iqbal', 'iqdaam', 'iqdaar', 'iqdam', 'iqdamaat', 'iqdamat', 'iqdat', 'iqdemat', 'iqra', 'iqraar', 'iqrar', 'iqtaysadi', 'iqtedaar', 'iqtedar', 'iqtesadi', 'iraade', 'iraadon', 'irada', 'iradah', 'iradon', 'iran', 'iraq', 'ird', 'irfan', 'iron', 'irritate', 'irritating', 'irsal', 'irshad', 'irtkab', 'irum', 'is', 'isa', 'isaf', 'isay', 'isayagar', 'isaymaham', 'isb', 'isbanday', 'isd', 'isdfa', 'ise', 'ish', 'ishaq', 'ishaqdar', 'ishara', 'ishhaq', 'ishq', 'ishrafia', 'ishraq', 'ishteyaq', 'ishtiharat', 'ishtihari', 'isi', 'isitiri', 'isjazbe', 'iska', 'iskay', 'iske', 'iskeem', 'iski', 'isko', 'isky', 'islaam', 'islah', 'islahat', 'islam', 'islamabad', 'islamabadcivilsecretariatemployeesassociation', 'islami', 'islamia', 'islamiat', 'islamic', 'islie', 'isliya', 'isliyay', 'isliye', 'isllam', 'islm', 'isloobi', 'islye', 'isma', 'ismail', 'ismbli', 'isme', 'ismein', 'ismen', 'isnan', 'isnay', 'isne', 'isnot', 'isny', 'ispar', 'ispay', 'ispe', 'ispecially', 'isqaat', 'israel', 'israr', 'isreal', 'iss', 'issahirka', 'isse', 'issey', 'issi', 'issliye', 'issme', 'isss', 'issue', 'issuemedia', 'issues', 'issy', 'issye', 'istaarah', 'istafa', 'istafay', 'istafsaar', 'istagfirullahfrman', 'istamaal', 'istamal', 'istaml', 'istaqamat', 'istaqbal', 'istaqbaliya', 'istaqlaal', 'istaqlaalmein', 'istaqlal', 'istarah', 'istawar', 'istayfa', 'istaymal', 'istefa', 'istefaa', 'istefada', 'istefadah', 'istefon', 'istehkaam', 'istehkam', 'istehsaal', 'istemaal', 'istemal', 'isteqbaal', 'isteqbal', 'istifay', 'istimaal', 'istimal', 'istiqamat', 'istiqbal', 'istmal', 'istra', 'istri', 'isue', 'isy', 'it', 'ita', 'itahad', 'itahdiyo', 'italian', 'italvi', 'itchy', 'itefaq', 'itehad', 'itehadi', 'itella', 'item', 'items', 'ithad', 'ithing', 'itjaj', 'itkhtyr', 'itla', 'itlaq', 'itn', 'itna', 'itnaa', 'itnaaa', 'itnaaaaaaaa', 'itnaay', 'itnay', 'itne', 'itnee', 'itneeee', 'itney', 'itni', 'itniii', 'itny', 'its', 'ittafaq', 'ittefaq', 'ittefaqi', 'ittefaqia', 'ittefaqiya', 'ittehad', 'ittela', 'ittelaat', 'ittihad', 'itwar', 'itwithout', 'ity', 'itzsherisr7', 'ix', 'iykwim', 'iyo', 'iz', 'izaafa', 'izafa', 'izafay', 'izafe', 'izafey', 'izafi', 'izat', 'izaz', 'izazaat', 'izazat', 'izehar', 'izhaar', 'izhan', 'izhar', 'izlaah', 'izzat', 'izzaten', 'izzet', 'izzt', 'j', 'j7', 'ja', 'jaa', 'jaaaaanu', 'jaaandiiii', 'jaaari', 'jaadoo', 'jaadu', 'jaag', 'jaago', 'jaah', 'jaahil', 'jaahiliyat', 'jaai', 'jaal', 'jaali', 'jaam', 'jaan', 'jaana', 'jaane', 'jaaneman', 'jaanen', 'jaani', 'jaano', 'jaanta', 'jaante', 'jaanu', 'jaanwron', 'jaao', 'jaari', 'jaat', 'jaata', 'jaatay', 'jaati', 'jaawan', 'jaay', 'jaaye', 'jab', 'jaba', 'jabar', 'jabbar', 'jaberana', 'jabhi', 'jabiron', 'jabkay', 'jabke', 'jabkey', 'jabra', 'jabri', 'jache', 'jack', 'jacket', 'jackman', 'jackt', 'jada', 'jaddah', 'jaddo', 'jaddojehad', 'jaded', 'jadeed', 'jadid', 'jado', 'jadogari', 'jadojahad', 'jadojehad', 'jadoo', 'jadooi', 'jadu', 'jadun', 'jae', 'jaega', 'jaegi', 'jaein', 'jaen', 'jaenge', 'jaengy', 'jaesy', 'jaey', 'jaeyn', 'jaez', 'jaezga', 'jafar', 'jaffar', 'jag', 'jaga', 'jagah', 'jagata', 'jagate', 'jagaya', 'jageerdaar', 'jageerdar', 'jagey', 'jagha', 'jaghaa', 'jaghain', 'jagi', 'jagidana', 'jagirdar', 'jagirdarana', 'jagmagate', 'jago', 'jagta', 'jaha', 'jahad', 'jahail', 'jahalat', 'jahaliyat', 'jahan', 'jahangir', 'jahangogi', 'jahanmi', 'jahannum', 'jahanum', 'jahanumi', 'jahat', 'jahay', 'jahaz', 'jahazon', 'jahed', 'jaheel', 'jahel', 'jahi', 'jahil', 'jahiliyat', 'jahilo', 'jahilon', 'jahiloo', 'jahiloon', 'jahliyat', 'jahlo', 'jahn', 'jahton', 'jahy', 'jai', 'jaib', 'jaien', 'jaif', 'jaiga', 'jaigi', 'jail', 'jailon', 'jain', 'jaipur', 'jair', 'jaisa', 'jaisasy', 'jaisay', 'jaise', 'jaisey', 'jaisi', 'jaiso', 'jaisy', 'jaiya', 'jaiyad', 'jaiye', 'jaiyza', 'jaiz', 'jaiza', 'jajj', 'jakar', 'jaker', 'jakhrani', 'jakr', 'jakri', 'jal', 'jala', 'jaladi', 'jaladiye', 'jalado', 'jalae', 'jalai', 'jalal', 'jalalabad', 'jalan', 'jalana', 'jalandahri', 'jalandhari', 'jalane', 'jalata', 'jalaya', 'jald', 'jaldbaazi', 'jalde', 'jaldi', 'jaldiupload', 'jaleel', 'jalega', 'jali', 'jalib', 'jall', 'jaln', 'jalna', 'jalny', 'jaloon', 'jaloos', 'jalsa', 'jalsag', 'jalsay', 'jalse', 'jalson', 'jalsoon', 'jalsy', 'jalta', 'jalte', 'jalti', 'jalty', 'jalwagar', 'jalyn', 'jam', 'jama', 'jamaa', 'jamaat', 'jamaima', 'jamal', 'jaman', 'jamana', 'jamaney', 'jamat', 'jamatain', 'jamati', 'jamato', 'jamaton', 'jameel', 'jamen', 'james', 'jamhooreyatlanat', 'jamhori', 'jamhoriyat', 'jamhurait', 'jamhuriat', 'jamhuriyat', 'jamhuryat', 'jamia', 'jamilien', 'jamima', 'jamma', 'jamshaid', 'jamshed', 'jamsheed', 'jamshoro', 'jamu', 'jan', 'jana', 'janaa', 'janaat', 'janab', 'janam', 'janat', 'janatul', 'janay', 'janaza', 'janaze', 'janb', 'janbahaq', 'janbaz', 'janbhaq', 'janchne', 'janda', 'jandaal', 'jandar', 'jandi', 'jane', 'janeafreen', 'janein', 'janeman', 'janemann', 'janey', 'jang', 'jange', 'jangeazeem', 'jangein', 'jangi', 'jangla', 'jangli', 'janglii', 'jani', 'janib', 'janibdari', 'janiye', 'janna', 'jannab', 'jannat', 'jannati', 'jannatul', 'janney', 'janni', 'janny', 'jano', 'jansher', 'jansherbhi', 'jansherko', 'janta', 'jantay', 'jante', 'jantey', 'janti', 'janty', 'janu', 'january', 'janubi', 'janvar', 'janwar', 'janwaron', 'janwaroo', 'janwr', 'jany', 'janye', 'jao', 'jaoge', 'jaon', 'jaoo', 'jaoon', 'jaouher', 'japan', 'japhi', 'jar', 'jaraed', 'jaraha', 'jarahe', 'jarahy', 'jaraid', 'jaraim', 'jaraiyd', 'jaraiym', 'jaraseem', 'jarayed', 'jarga', 'jarhana', 'jarhe', 'jarhiat', 'jarhiyat', 'jarhy', 'jari', 'jaridah', 'jarihana', 'jariya', 'jarnil', 'jarri', 'jarsi', 'jas', 'jasa', 'jasake', 'jasakta', 'jasakti', 'jasay', 'jasd', 'jase', 'jashan', 'jasi', 'jasmine', 'jasoosi', 'jasus', 'jasy', 'jata', 'jataa', 'jataay', 'jataek', 'jatay', 'jate', 'jatein', 'jatey', 'jathyee', 'jati', 'jatigatya', 'jatin', 'jatoi', 'jatti', 'jatuk', 'jaty', 'jatyhn', 'jau', 'jauhar', 'jaun', 'jaung', 'jaungi', 'jaura', 'java', 'javed', 'jawab', 'jawabi', 'jawad', 'jawahar', 'jawairia', 'jawan', 'jawani', 'jawano', 'jawanon', 'jawarerehmat', 'jawarri', 'jawaz', 'jawed', 'jawidaan', 'jawwad', 'jay', 'jaya', 'jayae', 'jayain', 'jayalon', 'jayawam', 'jayay', 'jaye', 'jayeagr', 'jayeee', 'jayega', 'jayege', 'jayegi', 'jayein', 'jayek', 'jayen', 'jayenge', 'jayengin', 'jayengy', 'jaygy', 'jaykant', 'jayn', 'jayon', 'jaza', 'jazaey', 'jazak', 'jazakallah', 'jazay', 'jazayi', 'jazba', 'jazbaat', 'jazbat', 'jazbati', 'jazbay', 'jazbe', 'jazbea', 'jazbey', 'jazza', 'jazzba', 'jb', 'jbhi', 'jbi', 'je', 'jeaga', 'jeainn', 'jealous', 'jeans', 'jeb', 'jedii', 'jee', 'jeedar', 'jeef', 'jeena', 'jeene', 'jeet', 'jeeta', 'jeetay', 'jeete', 'jeetein', 'jeeti', 'jeetien', 'jeetna', 'jeetnay', 'jeetne', 'jeeto', 'jeette', 'jeettey', 'jeetwahia', 'jeety', 'jeetya', 'jeevan', 'jeeve', 'jeewaay', 'jeewy', 'jega', 'jegha', 'jehad', 'jehangir', 'jehat', 'jehez', 'jeju', 'jemaima', 'jemama', 'jemee', 'jenaza', 'jeneral', 'jenewa', 'jeo', 'jeohazrousalminasbahi', 'jerey', 'jerry', 'jerseybanyan', 'jes', 'jesa', 'jesay', 'jese', 'jesey', 'jesi', 'jesii', 'jesmai', 'jessey', 'jesy', 'jet', 'jeta', 'jetein', 'jetna', 'jetne', 'jetni', 'jetoo', 'jette', 'jewan', 'jewellery', 'jewelry', 'jeya', 'jeye', 'jga', 'jhaalat', 'jhaar', 'jhagarta', 'jhaghron', 'jhagra', 'jhagron', 'jhagrty', 'jhalak', 'jhalakti', 'jhaltay', 'jhan', 'jhande', 'jhandey', 'jhandi', 'jhang', 'jhangir', 'jhangvi', 'jhanjhor', 'jhanjhora', 'jhankar', 'jhankna', 'jhapat', 'jhappi', 'jhapti', 'jhar', 'jharoo', 'jharty', 'jhatka', 'jhaz', 'jhelna', 'jhelum', 'jhez', 'jhim', 'jhok', 'jhoke', 'jhomne', 'jhoom', 'jhooooootay', 'jhoot', 'jhootay', 'jhootha', 'jhooti', 'jhot', 'jhota', 'jhotay', 'jhote', 'jhothghustak', 'jhoti', 'jhoto', 'jhoty', 'jhr', 'jhuk', 'jhuka', 'jhukane', 'jhuke', 'jhukunga', 'jhula', 'jhulon', 'jhunjhala', 'jhunjlaey', 'jhunke', 'jhurmat', 'jhuti', 'jhuty', 'ji', 'jia', 'jialo', 'jiasherry', 'jiay', 'jibat', 'jid', 'jiddat', 'jider', 'jidher', 'jido', 'jigar', 'jihad', 'jihadi', 'jihalat', 'jihein', 'jihon', 'jii', 'jijaiyat', 'jijuwa', 'jil', 'jila', 'jilaa', 'jilani', 'jildon', 'jin', 'jinah', 'jinat', 'jindagi', 'jindri', 'jinein', 'jinhain', 'jinhe', 'jinhein', 'jinhen', 'jinho', 'jinhon', 'jinhone', 'jinhoon', 'jini', 'jinjuwa', 'jinkay', 'jinke', 'jinki', 'jinko', 'jinnah', 'jins', 'jinsi', 'jiny', 'jis', 'jisay', 'jise', 'jisey', 'jisi', 'jiska', 'jiskay', 'jiskey', 'jiski', 'jisko', 'jism', 'jismani', 'jisnay', 'jisney', 'jispr', 'jiss', 'jissay', 'jisy', 'jitane', 'jithani', 'jitna', 'jitnay', 'jitne', 'jitney', 'jitni', 'jitny', 'jitty', 'jitwa', 'jitwain', 'jiya', 'jiye', 'jizroor', 'jla', 'jld', 'jldhi', 'jldi', 'jlin', 'jm', 'jnab', 'jnb', 'jnda', 'jnhe', 'jnloge', 'jnnat', 'jnnet', 'jnnt', 'jnta', 'jnty', 'jo', 'joaint', 'job', 'joban', 'jodational', 'jodhpur', 'joe', 'joel', 'jog', 'joggers', 'jogging', 'joh', 'johar', 'john', 'johnny', 'johreh', 'joi', 'joint', 'jokarta', 'joke', 'jokes', 'jokhio', 'jolie', 'joo', 'joon', 'joona', 'joori', 'joot', 'jootay', 'jooth', 'jooty', 'jor', 'jora', 'jore', 'jorha', 'jorhi', 'jori', 'joriyan', 'jorotation', 'jorta', 'josarak', 'josh', 'joshi', 'jot', 'jote', 'joti', 'joto', 'joton', 'jotta', 'jotumhen', 'jouhar', 'journal', 'journalist', 'jp', 'jr', 'jrhi', 'jrnal', 'js', 'jsa', 'jse', 'jsko', 'jsti', 'jsy', 'jti', 'jtna', 'jty', 'ju', 'jub', 'jubli', 'juch', 'juda', 'judagana', 'judah', 'judge', 'judges', 'judiciary', 'judo', 'jugad', 'jugadu', 'jugar', 'jugjmnt', 'juhi', 'juhnum', 'jui', 'juicer', 'jujus', 'jukty', 'jul', 'julam', 'juld', 'juldi', 'juldy', 'julius', 'jullandhuri', 'jullandhury', 'jully', 'julta', 'julty', 'july', 'juma', 'jumerat', 'jumla', 'jumle', 'jumlon', 'jumly', 'jumma', 'jummatulmubarak', 'jummerat', 'jump', 'jumper', 'juna', 'junaid', 'junbish', 'june', 'junejo', 'jung', 'jungjo', 'jungle', 'jungliyon', 'junior', 'juniors', 'junobi', 'junon', 'junoob', 'junoon', 'junta', 'juram', 'jurat', 'jure', 'jurhe', 'jurm', 'jurmana', 'jurmane', 'jurram', 'jurrat', 'just', 'justic', 'justice', 'justicebass', 'justiceiftikhar', 'justics', 'justin', 'juta', 'juth', 'juthi', 'juthy', 'juti', 'juttni', 'juty', 'juu', 'juwa', 'juz', 'juzvi', 'juzwaqti', 'jvd', 'jwab', 'jwaz', 'jwb', 'jxi', 'jy', 'jya', 'jyada', 'jye', 'jyie', 'jysa', 'jysi', 'jyso', 'jysy', 'jz', 'jza', 'jzba', 'k', 'k2', 'k6', 'ka', 'kaa', 'kaaaam', 'kaaam', 'kaabah', 'kaabhi', 'kaafi', 'kaafir', 'kaala', 'kaali', 'kaalij', 'kaam', 'kaami', 'kaamiyab', 'kaamon', 'kaamu', 'kaamyaab', 'kaamyab', 'kaamyabi', 'kaamyabiyan', 'kaan', 'kaano', 'kaanoun', 'kaar', 'kaarnamy', 'kaash', 'kaat', 'kaate', 'kaategi', 'kaati', 'kaay', 'kab', 'kaba', 'kabab', 'kabacha', 'kabar', 'kabeena', 'kabees', 'kabha', 'kabhar', 'kabhe', 'kabhi', 'kabhiii', 'kabi', 'kabil', 'kabina', 'kabool', 'kabse', 'kabul', 'kabyab', 'kabyabi', 'kacha', 'kachori', 'kachra', 'kachray', 'kachrayy', 'kachry', 'kad', 'kadaan', 'kadam', 'kadhi', 'kadre', 'kadunnn', 'kae', 'kaeu', 'kafalat', 'kafan', 'kafar', 'kafe', 'kafeel', 'kaffan', 'kafi', 'kafii', 'kafil', 'kafir', 'kafiron', 'kafirun', 'kaghan', 'kaghaz', 'kaghazat', 'kaghizaat', 'kaghzatenamzadgi', 'kagte', 'kagzaat', 'kah', 'kaha', 'kahaa', 'kahaaapñ', 'kahaingy', 'kahali', 'kahan', 'kahani', 'kahaniyan', 'kahaniyon', 'kahannnnnn', 'kahanyan', 'kahanyon', 'kahay', 'kahe', 'kahee', 'kaheen', 'kahein', 'kaheinge', 'kahen', 'kahenge', 'kahi', 'kahien', 'kahil', 'kahin', 'kahira', 'kahlany', 'kahli', 'kahna', 'kahnay', 'kahne', 'kahny', 'kaho', 'kahon', 'kahoo', 'kahoon', 'kahrchon', 'kahrye', 'kahsh', 'kahte', 'kahti', 'kahty', 'kahtye', 'kahunga', 'kahy', 'kai', 'kaien', 'kaif', 'kainat', 'kaisa', 'kaisay', 'kaise', 'kaiser', 'kaisey', 'kaisi', 'kaiswar', 'kaisy', 'kajia', 'kajo', 'kaka', 'kakhitaab', 'kakoi', 'kal', 'kala', 'kalaam', 'kalabaagh', 'kalabagh', 'kaladam', 'kalakot', 'kalam', 'kalay', 'kalbon', 'kale', 'kalex', 'kaley', 'kalhoro', 'kali', 'kalia', 'kalidi', 'kaliy', 'kaliyan', 'kaliyon', 'kallahu', 'kalliyan', 'kalma', 'kalpana', 'kalsoom', 'kalum', 'kam', 'kama', 'kamaaaalhar', 'kamaal', 'kamaata', 'kamai', 'kamaka', 'kamal', 'kamala', 'kamalaat', 'kamalat', 'kaman', 'kamana', 'kamane', 'kamao', 'kamaon', 'kamar', 'kamay', 'kamayi', 'kamayibe', 'kamba', 'kameen', 'kameeni', 'kameenian', 'kameeno', 'kameeny', 'kamenay', 'kamenie', 'kameno', 'kameyab', 'kami', 'kamiabi', 'kamil', 'kamina', 'kamini', 'kaminii', 'kaminiye', 'kamino', 'kaminy', 'kamiyaa', 'kamiyaab', 'kamiyab', 'kamiyabi', 'kamiyabide', 'kamiyabiyan', 'kamiyabiyon', 'kaml', 'kamla', 'kamli', 'kamm', 'kammal', 'kammmaaaaaalll', 'kamny', 'kamo', 'kamobesh', 'kamon', 'kamp', 'kamra', 'kamrah', 'kamran', 'kamraniyon', 'kamranyon', 'kamre', 'kamrey', 'kamsin', 'kamtab', 'kamtar', 'kamyaaab', 'kamyaab', 'kamyaabi', 'kamyab', 'kamyaban', 'kamyabe', 'kamyabeon', 'kamyabi', 'kamyabian', 'kamyabiyaan', 'kamyabiyan', 'kamyabiyon', 'kamyabton', 'kamyabyan', 'kamyabyon', 'kamyzb', 'kamzoor', 'kamzor', 'kamzori', 'kan', 'kana', 'kanch', 'kancha', 'kanda', 'kandahar', 'kandhon', 'kandi', 'kangaaal', 'kangaroos', 'kangri', 'kanhi', 'kanier', 'kanjar', 'kanjer', 'kanjr', 'kanjri', 'kanjron', 'kanjry', 'kano', 'kanon', 'kanoon', 'kanp', 'kanpta', 'kanrdas', 'kanry', 'kant', 'kanta', 'kante', 'kanun', 'kany', 'kanza', 'kao', 'kaor', 'kapda', 'kapery', 'kaperypeny', 'kapil', 'kapoor', 'kapra', 'kapray', 'kapre', 'kapro', 'kapron', 'kaproon', 'kaproun', 'kapry', 'kaptaan', 'kaptan', 'kar', 'kar0n', 'kara', 'karaamad', 'karaannchi', 'karab', 'karachi', 'karae', 'karaein', 'karaey', 'karaha', 'karahai', 'karahi', 'karai', 'karain', 'karaingay', 'karali', 'karam', 'karamat', 'karan', 'karana', 'karanay', 'karane', 'karani', 'karao', 'karar', 'karari', 'karat', 'karate', 'karatey', 'karati', 'karaur', 'karay', 'karaya', 'karayameen', 'karaye', 'karayhamasha', 'karayubqari', 'karayyee', 'karb', 'karbala', 'karband', 'karboaziyat', 'karchi', 'karda', 'kardagi', 'kardain', 'kardan', 'kardar', 'karday', 'karde', 'kardeah', 'kardene', 'kardenge', 'kardeta', 'kardetay', 'kardete', 'kardeti', 'kardeya', 'kardeye', 'kardi', 'kardia', 'kardiya', 'kardiye', 'kardo', 'kardonga', 'kardu', 'kardy', 'kardya', 'kare', 'karea', 'karedne', 'kareem', 'kareema', 'kareemi', 'kareen', 'karega', 'karegi', 'karei', 'karein', 'karem', 'karema', 'karen', 'karenge', 'karengi', 'karengy', 'karenthanx', 'karenwk', 'karey', 'kareyn', 'karhai', 'karhi', 'kari', 'karian', 'karien', 'karim', 'karima', 'karimabad', 'karin', 'karinda', 'karishma', 'kariya', 'kariye', 'kariyga', 'karkadagi', 'karkadgi', 'karkardagi', 'karkardegi', 'karkardgi', 'karkargadi', 'karkay', 'karke', 'karkerdagi', 'karkno', 'karkun', 'karkunan', 'karkuno', 'karky', 'karlate', 'karlay', 'karle', 'karlee', 'karlen', 'karli', 'karlia', 'karliya', 'karliyaa', 'karlo', 'karloff', 'karlunga', 'karlyna', 'karm', 'karna', 'karnah', 'karnama', 'karname', 'karnamey', 'karnamon', 'karnamy', 'karnay', 'karne', 'karnede', 'karney', 'karnga', 'karni', 'karny', 'karo', 'karoaor', 'karobaar', 'karobar', 'karobari', 'karoe', 'karogy', 'karohum', 'karon', 'karonga', 'karongi', 'karoo', 'karoobasbuhat', 'karoon', 'karoonga', 'karooo', 'karooooooo', 'karoor', 'karooto', 'karoporana', 'karor', 'karoran', 'karoron', 'karosingle', 'karoya', 'karr', 'karra', 'karradagi', 'karraha', 'karrahay', 'karrawai', 'karrawaio', 'karre', 'karrewai', 'karry', 'karsaka', 'karsakta', 'karskta', 'karskti', 'karstani', 'kart', 'karta', 'kartay', 'kartayab', 'karte', 'kartee', 'kartein', 'kartey', 'kartha', 'karti', 'kartii', 'kartin', 'karty', 'kartye', 'karu', 'karun', 'karunga', 'karwa', 'karwaa', 'karwaen', 'karwaengi', 'karwai', 'karwain', 'karwaiyan', 'karwan', 'karwana', 'karwanay', 'karwane', 'karwao', 'karwaokhud', 'karwaon', 'karwate', 'karwatein', 'karwatey', 'karwaty', 'karway', 'karwaya', 'karwayaa', 'karwaye', 'karwayi', 'karwaynge', 'karwii', 'kary', 'karye', 'karygaaur', 'karyn', 'karza', 'kas', 'kasa', 'kasaf', 'kasam', 'kasar', 'kasawab', 'kasay', 'kase', 'kaseer', 'kash', 'kasha', 'kashair', 'kashedgi', 'kashfi', 'kashh', 'kashidgi', 'kashif', 'kashish', 'kashkol', 'kashmakash', 'kashmaksh', 'kashmir', 'kashmiri', 'kashmirino', 'kashmirion', 'kashmirk', 'kasht', 'kashti', 'kasi', 'kasir', 'kasm', 'kasmay', 'kasoor', 'kasor', 'kasrat', 'kass', 'kasy', 'kat', 'katal', 'kataygi', 'kate', 'katein', 'katel', 'kateri', 'katha', 'kathin', 'kathoo', 'kati', 'katna', 'katne', 'katney', 'katni', 'kato', 'katpothly', 'katpotli', 'katputhli', 'katputle', 'katreena', 'katrina', 'katta', 'kattaa', 'kattar', 'katte', 'katty', 'kaun', 'kausar', 'kawarii', 'kawish', 'kawor', 'kay', 'kaya', 'kayal', 'kaye', 'kayi', 'kaynaat', 'kaysy', 'kayy', 'kaza', 'kazan', 'kazen', 'kazmi', 'kazori', 'kb', 'kba', 'kbahi', 'kbhe', 'kbhi', 'kbhii', 'kbi', 'kbollywood', 'kbr', 'kcca', 'kce', 'kch', 'kci', 'kcuh', 'kdr', 'ke', 'kea', 'keaa', 'keasy', 'keay', 'keaye', 'kedia', 'kedin', 'kee', 'keeep', 'keel', 'keemay', 'keen', 'keench', 'keep', 'keeray', 'keere', 'keerhe', 'keery', 'kef', 'kefiyat', 'keg', 'keh', 'kehalwana', 'kehdena', 'kehen', 'kehi', 'kehlae', 'kehlaega', 'kehlane', 'kehlaooo', 'kehlatay', 'kehlate', 'kehlati', 'kehna', 'kehnakuch', 'kehnay', 'kehne', 'kehny', 'kehri', 'kehta', 'kehtay', 'kehte', 'kehti', 'kehtu', 'kehty', 'kei', 'kein', 'kejeay', 'kejeye', 'kejeygaaaa', 'keliye', 'keller', 'kem', 'kemei', 'ken', 'kennedy', 'kenya', 'keon', 'keonke', 'keonkey', 'ker', 'kerain', 'keray', 'kerdagi', 'kerdar', 'kerdena', 'kerdenpurani', 'kerdenweb', 'kerdi', 'kerdia', 'kerdiay', 'kerdiya', 'kerdowe', 'kere', 'kerein', 'kerien', 'kerke', 'kern', 'kerna', 'kernay', 'kerne', 'kerney', 'kerni', 'kerny', 'kero', 'kersacay', 'kerta', 'kertay', 'kerte', 'kertey', 'kertha', 'kerti', 'kertot', 'kerty', 'kerva', 'kerwa', 'kerwaain', 'kerwadain', 'kerwai', 'kerwanay', 'kerwao', 'kerwate', 'kery', 'kerya', 'keryn', 'kesa', 'kesay', 'kesc', 'kese', 'kesi', 'kessa', 'kesy', 'ketab', 'ketabcha', 'ketabon', 'ketan', 'ketna', 'ketne', 'ketner', 'ketry', 'keu', 'keun', 'key', 'keya', 'keya1948', 'keyah', 'keye', 'keyeh', 'keykamal', 'keyon', 'keyyeah', 'kfi', 'kfr', 'kg', 'kgb', 'kgti', 'kh', 'kha', 'khaa', 'khaaaa', 'khaaabeeess', 'khaaan', 'khaabeesni', 'khaak', 'khaal', 'khaali', 'khaam', 'khaami', 'khaan', 'khaanai', 'khaas', 'khaasay', 'khab', 'khabaasat', 'khabais', 'khabar', 'khabaron', 'khabasat', 'khabast', 'khabees', 'khabeesni', 'khabeesun', 'khaber', 'khabes', 'khabi', 'khabre', 'khabrein', 'khabren', 'khabro', 'khabron', 'khad', 'khada', 'khaday', 'khadja', 'khadokhal', 'khadra', 'khadsha', 'khadshat', 'khae', 'khaeez', 'khael', 'khaelari', 'khafa', 'khahis', 'khai', 'khaial', 'khail', 'khailariyon', 'khaimon', 'khain', 'khaip', 'khair', 'khaira', 'khairain', 'khairay', 'khairiyat', 'khairo', 'khairoon', 'khaiyf', 'khaiz', 'khajal', 'khaka', 'khakay', 'khake', 'khaki', 'khal', 'khala', 'khalaf', 'khalai', 'khalbali', 'khaldah', 'khalen', 'khalendare', 'khali', 'khalid', 'khalifa', 'khalil', 'khaliq', 'khaliqehaqiqi', 'khalistan', 'khalla', 'khalon', 'khalq', 'khaltay', 'kham', 'khameeyab', 'khami', 'khamioon', 'khamiyon', 'khamoosh', 'khamosh', 'khamosh90000', 'khamoshaalami', 'khamoshan', 'khamoshi', 'khamoshoic', 'khamoshq', 'khamoshtext', 'khamoshunited', 'khamyaza', 'khan', 'khana', 'khanadari', 'khanam', 'khanay', 'khandaan', 'khandan', 'khandani', 'khandano', 'khandanon', 'khane', 'khaney', 'khani', 'khankuty', 'khanlegend', 'khanna', 'khanne', 'khano', 'khanon', 'khanpuri', 'khanri', 'khans', 'khansunjay', 'khantay', 'khanum', 'khany', 'khanyani', 'khanzeer', 'khao', 'khar', 'khara', 'kharaab', 'kharab', 'kharabi', 'kharablog', 'kharach', 'kharacho', 'kharadar', 'kharafaat', 'kharaknay', 'kharakti', 'kharash', 'kharay', 'kharb', 'kharch', 'kharcha', 'kharchay', 'kharchy', 'khare', 'khared', 'kharedari', 'kharedemne', 'kharedi', 'kharedli', 'kharedne', 'khareed', 'khareeda', 'khareedi', 'khareedny', 'khari', 'kharid', 'kharida', 'kharidari', 'khariden', 'kharidi', 'kharidna', 'kharidnay', 'kharidne', 'kharij', 'kharja', 'kharji', 'kharo', 'kharosh', 'kharsh', 'khary', 'khas', 'khasa', 'khasey', 'khash', 'khasi', 'khasiyat', 'khasma', 'khasoosi', 'khasosan', 'khasosi', 'khass', 'khassi', 'khasus', 'khasusan', 'khasusi', 'khasusy', 'khat', 'khata', 'khatab', 'khatabat', 'khatak', 'khatam', 'khatama', 'khatar', 'khatay', 'khate', 'khatem', 'khater', 'khati', 'khatibana', 'khatir', 'khatm', 'khatma', 'khatmah', 'khatmay', 'khatmaytv', 'khatme', 'khatmey', 'khatnaiyan', 'khaton', 'khatoon', 'khatoot', 'khatot', 'khatra', 'khatraat', 'khatrnaaak', 'khatt', 'khattak', 'khatwateen', 'khaty', 'khauf', 'khauff', 'khaufzada', 'khaul', 'khaulraha', 'khawaab', 'khawab', 'khawahish', 'khawaish', 'khawaja', 'khawajasaraa', 'khawand', 'khawani', 'khawar', 'khawateeen', 'khawateen', 'khawaten', 'khawatin', 'khawish', 'khaya', 'khayal', 'khayalat', 'khayali', 'khayanat', 'khaye', 'khayega', 'khayer', 'khaylaf', 'khaytab', 'khazan', 'khazana', 'khazane', 'khazano', 'khazany', 'khazat', 'khb', 'khbar', 'khbasat', 'khbees', 'khbes', 'khbr', 'khbsoorat', 'khd', 'khe', 'kheaar', 'khechna', 'khedeye', 'khedmatey', 'khee', 'kheein', 'kheel', 'kheelein', 'kheelna', 'kheelne', 'kheelon', 'kheelte', 'kheer', 'khel', 'khela', 'khelaf', 'khelain', 'khelana', 'khelari', 'khelaryon', 'khele', 'kheley', 'kheli', 'kheliaf', 'khelna', 'khelnay', 'khelne', 'khelon', 'khelta', 'kheltay', 'khelte', 'khelti', 'khemey', 'khench', 'khencha', 'khenchne', 'khenchti', 'kher', 'kheran', 'kheriyat', 'khesiani', 'khey', 'kheyal', 'khez', 'khezi', 'khgazane', 'khi', 'khial', 'khiar', 'khidmaat', 'khidmat', 'khidmata', 'khidmatekhalq', 'khidmatgar', 'khidmet', 'khidmut', 'khila', 'khilaaf', 'khilaao', 'khiladi', 'khilaf', 'khilafat', 'khilafwarzi', 'khilain', 'khilane', 'khilao', 'khilari', 'khilariuo', 'khilariuon', 'khilariyon', 'khilaryon', 'khilaye', 'khili', 'khilona', 'khilwar', 'khilwarh', 'khilwat', 'khincha', 'khine', 'khinzeer', 'khiraaj', 'khiraj', 'khiraje', 'khirajetehseen', 'khisak', 'khitaab', 'khitab', 'khiton', 'khitte', 'khittey', 'khiyal', 'khizar', 'khizr', 'khizri', 'khjd', 'khlengy', 'khlte', 'khmeeyab', 'khn', 'khna', 'khny', 'kho', 'khob', 'khobi', 'khobiyan', 'khobrorat', 'khobsoorti', 'khobsorat', 'khobsoratcutesweetlovelyetc', 'khobsorti', 'khobsurat', 'khobsurati', 'khobsurti', 'khod', 'khodai', 'khodna', 'khof', 'khoff', 'khofiya', 'khofnak', 'khoish', 'khoj', 'khokharapar', 'khokrapar', 'khol', 'khola', 'kholay', 'khole', 'kholein', 'kholenge', 'kholnay', 'kholne', 'kholti', 'kholy', 'khon', 'khoni', 'khoo', 'khoob', 'khoobi', 'khoobsorat', 'khoobsurat', 'khoobsurati', 'khoof', 'khoon', 'khoooof', 'khoor', 'khoota', 'khopri', 'khor', 'khorak', 'khori', 'khoro', 'khorri', 'khos', 'khose', 'khosh', 'khoshgwar', 'khoshion', 'khososi', 'khosry', 'khota', 'khotafree', 'khotay', 'khote', 'khoti', 'khotiyaaa', 'khoton', 'khotot', 'khoty', 'khou', 'khoud', 'khouf', 'khoye', 'khr', 'khrab', 'khrache', 'khray', 'khrb', 'khre', 'khrxh', 'khry', 'khshyan', 'khta', 'khtam', 'khtay', 'khte', 'khteeb', 'khti', 'khtm', 'khtrnaak', 'khty', 'khu', 'khuaf', 'khub', 'khubi', 'khubiya', 'khubiyon', 'khubsoorat', 'khubsorat', 'khubsurat', 'khubsuret', 'khubsurt', 'khubsurti', 'khubyan', 'khuch', 'khuchh', 'khud', 'khuda', 'khudad', 'khudadad', 'khudai', 'khudaraa', 'khudari', 'khudd', 'khudda', 'khudgharz', 'khudhh', 'khudi', 'khudiii', 'khudkash', 'khudkush', 'khudkushi', 'khudkushiyan', 'khudsy', 'khuf', 'khufia', 'khufiya', 'khul', 'khula', 'khulam', 'khulasa', 'khule', 'khulenge', 'khuley', 'khuli', 'khulla', 'khuloos', 'khulos', 'khulta', 'khulte', 'khulti', 'khulwa', 'khulwaye', 'khun', 'khunganian', 'khuraak', 'khurak', 'khurdad', 'khuro', 'khurram', 'khursheed', 'khuru', 'khus', 'khusboo', 'khuseakhlaq', 'khush', 'khusha', 'khushaaind', 'khushaal', 'khushai', 'khushboo', 'khushean', 'khushgawar', 'khushhaal', 'khushhaali', 'khushhh', 'khushi', 'khushian', 'khushion', 'khushiun', 'khushiyan', 'khushiyon', 'khushk', 'khushkhabri', 'khushkhabriyan', 'khushpolice', 'khushqismati', 'khushya', 'khushyo', 'khushyon', 'khusi', 'khusk', 'khusoos', 'khusoosan', 'khusosan', 'khusosi', 'khusra', 'khusre', 'khusrray', 'khusry', 'khuss', 'khusurt', 'khususan', 'khususi', 'khutot', 'khuwa', 'khuwaar', 'khuwaaroon', 'khuwab', 'khuwabegul', 'khuwabon', 'khuwah', 'khuwahish', 'khuwahishmand', 'khuwahon', 'khuwaish', 'khuwaja', 'khuwar', 'khuwari', 'khuwateen', 'khwa', 'khwaab', 'khwab', 'khwabb', 'khwabbkhwaab', 'khwahish', 'khwaja', 'khwas', 'khwata', 'khwateen', 'khy', 'khya', 'khyaal', 'khyal', 'khyber', 'khyer', 'khzane', 'khàwäjā', 'ki', 'ki70', 'kia', 'kiaa', 'kiai', 'kiamatlab', 'kiaplay', 'kiaramzan', 'kici', 'kick', 'kickback', 'kid', 'kidaar', 'kidar', 'kidding', 'kidhar', 'kidivorce', 'kidnap', 'kidolat', 'kidr', 'kids', 'kidskabi', 'kie', 'kiein', 'kien', 'kifayat', 'kigiayga', 'kihe', 'kihne', 'kii', 'kiis', 'kiisi', 'kijamat', 'kije', 'kijea', 'kijeye', 'kijia', 'kijie', 'kijiga', 'kijiya', 'kijiye', 'kijiyeinamulhasan', 'kijiyewhat', 'kijye', 'kijyegabht', 'kijyga', 'kikhaali', 'kikurufat', 'kil', 'kilarii', 'kiliay', 'kill', 'killer', 'killers', 'killing', 'kilo', 'kin', 'kinar', 'kinaray', 'kind', 'kinda', 'kindia', 'kindly', 'king', 'kings', 'kini', 'kinza', 'kinzaa', 'kio', 'kiok', 'kion', 'kioon', 'kipadasht', 'kiradar', 'kiran', 'kiraya', 'kiraye', 'kirayon', 'kirdar', 'kirdaron', 'kirshan', 'kis', 'kisa', 'kisam', 'kisan', 'kisath', 'kise', 'kishan', 'kisi', 'kisie', 'kisim', 'kisisaynafratkesykersaktyhen', 'kiski', 'kisko', 'kism', 'kismaat', 'kismat', 'kismet', 'kisnay', 'kisne', 'kiss', 'kissan', 'kissay', 'kissi', 'kissy', 'kisy', 'kit', 'kitaa', 'kitaab', 'kitab', 'kitaba', 'kitabain', 'kitabat', 'kitabein', 'kitaben', 'kitabon', 'kitana', 'kitchen', 'kithe', 'kithna', 'kithy', 'kitna', 'kitnaa', 'kitne', 'kitney', 'kitneyab', 'kitni', 'kitnii', 'kitny', 'kits', 'kittle', 'kiun', 'kiunkay', 'kiunke', 'kivay', 'kiy', 'kiya', 'kiyaaa', 'kiyaaaaa', 'kiyal', 'kiyamagar', 'kiyay', 'kiye', 'kiyea', 'kiyen', 'kiyon', 'kiyoon', 'kiyun', 'kiyya', 'kjtra', 'kkashti', 'kkis', 'kl', 'klasra', 'kleeay', 'kli', 'kliye', 'km', 'kmaal', 'kmaall', 'kmal', 'kmar', 'kmc', 'kmeena', 'kmeeni', 'kmeeniyo', 'kmeny', 'kmi', 'kmran', 'kn', 'kngree', 'knight', 'knjr', 'know', 'knowledge', 'knsa', 'knw', 'knws', 'ko', 'koa', 'koam', 'kobhi', 'koching', 'kochon', 'koe', 'koey', 'kofr', 'koh', 'kohala', 'kohat', 'kohi', 'kohinoor', 'kohli', 'kohna', 'kohraam', 'koi', 'koibattery', 'koie', 'koihall', 'koin', 'koiramzan', 'kok', 'kokila', 'kol', 'kolachi', 'kolibtw', 'kolkata', 'kolo', 'kom', 'koma', 'kon', 'kon1', 'kona', 'kone', 'kong', 'konn', 'konsa', 'konse', 'konsi', 'konxi', 'koo', 'kooch', 'kood', 'koom', 'koon', 'koond', 'kooo', 'koot', 'kootay', 'kop', 'koqiamat', 'korangi', 'koray', 'koren', 'korina', 'koriyon', 'koron', 'kort', 'koshah', 'koshash', 'koshihson', 'koshish', 'koshishein', 'koshishen', 'koshishon', 'koshishs', 'kosingarwala', 'kosis', 'kosish', 'kot', 'kota', 'kotahy', 'kote', 'kotha', 'kotli', 'kotni', 'koto', 'kotte', 'koty', 'koum', 'koun', 'koy', 'koye', 'koyi', 'kp', 'kpk', 'kps', 'kq', 'kr', 'kra', 'kraan', 'krab', 'krachi', 'krae', 'krain', 'kram', 'krammsa', 'kran', 'kraney', 'krany', 'kratay', 'kraty', 'kray', 'krbla', 'krdeen', 'krdena', 'krdeta', 'krdetee', 'krdetin', 'krdey', 'krdi', 'krdia', 'krdin', 'krdiwah', 'krdo', 'krdy', 'kre', 'kree', 'kreem', 'krega', 'krein', 'kreingy', 'kreininshallah', 'kren', 'krenge', 'krengy', 'krey', 'krgaii', 'krh', 'krheheyislambad', 'kri', 'krian', 'krien', 'krin', 'kringay', 'krk', 'krka', 'krke', 'krkey', 'krle', 'krleti', 'krli', 'krlia', 'krlo', 'krn', 'krna', 'krnaaa', 'krnaay', 'krnais', 'krnay', 'krne', 'krnee', 'krnga', 'krnge', 'krni', 'krny', 'kro', 'krogi', 'kron', 'kronzra', 'kroon', 'krr', 'krsktey', 'krt', 'krta', 'krtay', 'krte', 'krti', 'krtiii', 'krto', 'krty', 'kru', 'krun', 'krungi', 'krunlol', 'kruu', 'kruy', 'krwa', 'krwadenyunnn', 'krwae', 'krwaen', 'krwana', 'krwao', 'krwaoo', 'krwati', 'krway', 'krwaya', 'krwaye', 'krwny', 'kry', 'kryaameen', 'kryin', 'kryn', 'ks', 'ksa', 'ksamm', 'kse', 'ksee', 'ksh', 'ksi', 'ksis', 'ksm', 'ksmain', 'ksmyyy', 'ksy', 'ktna', 'ktne', 'ktni', 'ktnii', 'kty', 'ku', 'kua', 'kub', 'kubra', 'kubsoorat', 'kubsorat', 'kubsurat', 'kuc', 'kucch', 'kuch', 'kuchal', 'kuchhh', 'kud', 'kufar', 'kuffar', 'kufr', 'kufrrr', 'kuin', 'kuishi', 'kuj', 'kujh', 'kujhe', 'kuky', 'kul', 'kulbushan', 'kuli', 'kullo', 'kulsoom', 'kum', 'kumar', 'kun', 'kunal', 'kundan', 'kundi', 'kunjar', 'kunji', 'kunwari', 'kunyaalan', 'kupre', 'kur', 'kurah', 'kuray', 'kurcy', 'kurhtey', 'kuri', 'kurit', 'kuriyan', 'kursi', 'kursiya', 'kursiyon', 'kurta', 'kurti', 'kush', 'kusha', 'kushada', 'kushe', 'kushi', 'kusi', 'kussrrrriiiii', 'kuta', 'kutay', 'kute', 'kutee', 'kuti', 'kutia', 'kuto', 'kutt', 'kutta', 'kuttay', 'kutte', 'kuttey', 'kutti', 'kutton', 'kutty', 'kutub', 'kuty', 'kutyyyy', 'kuuj', 'kuuti', 'kuwaif', 'kw', 'ky', 'kya', 'kyaaa', 'kyaal', 'kyaaunty', 'kyea', 'kyel', 'kyia', 'kyliay', 'kyn', 'kyo', 'kyon', 'kyoon', 'kyou', 'kyoun', 'kyu', 'kyuki', 'kyun', 'kyunkar', 'kyunkay', 'kyunke', 'kyunkey', 'kyunn', 'kzn', 'l', 'l0', 'l0g', 'l0ve', 'la', 'laa', 'laaa', 'laaaaàantiiiiiiii', 'laaay', 'laachi', 'laad', 'laag', 'laagao', 'laakh', 'laal', 'laali', 'laan', 'laanat', 'laanati', 'laanatstupid', 'laani', 'laanti', 'laao', 'laash', 'laate', 'laay', 'laazmi', 'laazmu', 'labaik', 'labassistant', 'labay', 'labbak', 'labbeyaa', 'labi', 'labni', 'labon', 'labor', 'labour', 'labtop', 'lac', 'lad', 'laden', 'ladka', 'ladke', 'ladki', 'ladkiyan', 'ladkiyon', 'ladkon', 'lady', 'lae', 'laein', 'laen', 'laeq', 'laey', 'laf', 'lafani', 'lafaz', 'lafx', 'lafz', 'lafziyat', 'lafzon', 'lafzoo', 'lafzoon', 'lafztalaq', 'lag', 'laga', 'lagaa', 'lagadi', 'lagadia', 'lagadoo', 'lagae', 'lagaen', 'lagai', 'lagain', 'lagalekin', 'lagam', 'lagan', 'lagana', 'laganay', 'lagane', 'laganey', 'lagany', 'lagao', 'lagaoge', 'lagaou', 'lagaoun', 'lagaraha', 'lagat', 'lagata', 'lagataar', 'lagatar', 'lagatay', 'lagate', 'lagatee', 'lagatey', 'lagati', 'lagaun', 'lagave', 'lagay', 'lagaya', 'lagaye', 'lagayen', 'lagaygi', 'lagbag', 'lagdi', 'lage', 'lagee', 'lageen', 'lagega', 'lagegi', 'lagein', 'lagen', 'lagerlof', 'lagerloflik', 'lagerlofne', 'lagey', 'laggi', 'lagging', 'laggye', 'laghari', 'laghw', 'lagi', 'lagiii', 'lagimujhy', 'lagnay', 'lagne', 'lago', 'lagon', 'lagraha', 'lagrahe', 'lagrahee', 'lagrhi', 'lagta', 'lagtay', 'lagte', 'lagtee', 'lagtha', 'lagti', 'lagty', 'lagwa', 'lagwane', 'lagwaya', 'lagwaye', 'lagy', 'lagykoi', 'lahaq', 'lahnat', 'laho', 'lahooti', 'lahore', 'lahori', 'lahorii', 'lahoriiii', 'lahorio', 'lahryain', 'lahza', 'lai', 'laihaz', 'laikan', 'laikar', 'laiken', 'laikin', 'laila', 'lain', 'lainay', 'lainmun', 'laiq', 'laita', 'laitay', 'laiy', 'lajawaab', 'lajawab', 'lajawb', 'lajewab', 'lajiya', 'lajmi', 'lajna', 'laka', 'laken', 'lakh', 'lakha', 'lakhnow', 'lakho', 'lakhon', 'lakhpat', 'lakhtee', 'laki', 'lakin', 'lakki', 'laklanat', 'lakron', 'lakshmi', 'lal', 'lala', 'lalach', 'lalak', 'lalay', 'lalch', 'lalee', 'lalia', 'lalich', 'lalkar', 'lalkara', 'lamba', 'lambi', 'lambiii', 'lamby', 'lame', 'lamha', 'lamhaat', 'lamhat', 'lamhe', 'lamhon', 'lamz', 'lan', 'lana', 'lanaat', 'lanat', 'lanatho', 'lanati', 'lanaton', 'lanatttt', 'lanay', 'lance', 'land', 'landcruisers', 'landhi', 'landing', 'landon', 'landscape', 'landslidding', 'landsliding', 'lane', 'lanes', 'lanet', 'langa', 'langoor', 'langri', 'language', 'lani', 'lanka', 'lankan', 'lannat', 'lannnnatttt', 'lanpar', 'lant', 'lanta', 'lanth', 'lanti', 'lantiiiii', 'lanty', 'lanut', 'lany', 'lao', 'lapait', 'lapakte', 'lapata', 'lappet', 'laptop', 'laqab', 'laqanooniyat', 'laquniat', 'lar', 'lara', 'larai', 'laraib', 'larain', 'larakpan', 'larari', 'lare', 'larein', 'laren', 'large', 'largest', 'larh', 'larha', 'larhke', 'larhna', 'larhne', 'lari', 'larka', 'larkana', 'larkay', 'larke', 'larkeya', 'larki', 'larkian', 'larkion', 'larkitu', 'larkiya', 'larkiyan', 'larkiyo', 'larkiyon', 'larkiyoo', 'larkiyoun', 'larko', 'larkon', 'larky', 'larna', 'larnay', 'larne', 'laro', 'larooo', 'larre', 'larrkyun', 'larrnay', 'larro', 'larte', 'lartehm', 'larty', 'lary', 'larza', 'larzah', 'larzan', 'larzish', 'lasani', 'lasbela', 'lases', 'lash', 'lashadeed', 'lashari', 'lashen', 'lashkar', 'lashkaron', 'lashker', 'lasia', 'laskengy', 'last', 'lasting', 'lat', 'lata', 'latay', 'late', 'latein', 'lathi', 'lati', 'latif', 'latini', 'latka', 'latoo', 'latt', 'laty', 'lau', 'laubas', 'laughing', 'laughter', 'launceston', 'launcher', 'launching', 'laundering', 'laundon', 'laut', 'lautey', 'lautne', 'lava', 'lavay', 'law', 'lawahikeen', 'lawahiqeen', 'lawain', 'lawani', 'lawaris', 'lawi', 'lawiyo', 'lawl', 'lawn', 'laws', 'lawyer', 'lawzo', 'lay', 'laya', 'laye', 'layeh', 'layen', 'layer', 'layi', 'laykin', 'layl', 'layna', 'laynay', 'layy', 'lazam', 'lazat', 'lazim', 'lazmi', 'lazwal', 'lazzat', 'ldc', 'ldkio', 'le', 'lea', 'lead', 'leader', 'leaders', 'leading', 'leadr', 'leadro', 'leae', 'leag', 'leaga', 'leage', 'league', 'leagues', 'leak', 'leakege', 'leallah', 'learn', 'learnt', 'leased', 'leather', 'leay', 'leaye', 'lebanon', 'lebas', 'lecture', 'lectures', 'led', 'leder', 'ledy', 'lee', 'leeg', 'leen', 'leetay', 'leffa', 'left', 'leg', 'lega', 'legae', 'legandary', 'legaye', 'legend', 'legendary', 'leghari', 'leghri', 'leh', 'lehar', 'lehaz', 'lehaza', 'lehazah', 'lehjaa', 'lehjay', 'lehje', 'lehjy', 'lehmga', 'lehnga', 'lehra', 'lehraya', 'leien', 'lein', 'leine', 'leinge', 'leiy', 'leja', 'lejane', 'lekan', 'lekar', 'lekay', 'leken', 'lekh', 'lekhi', 'lekhne', 'lekhte', 'leki', 'lekin', 'lekn', 'leli', 'lelia', 'leligia', 'lelopr', 'lem0se', 'lemon', 'len', 'lena', 'lenay', 'lene', 'leney', 'lenge', 'length', 'leni', 'lens', 'lentil', 'leny', 'leo', 'leraya', 'lerhki', 'leri', 'lerky', 'lesaniyat', 'lesson', 'lessons', 'let', 'leta', 'letaa', 'letay', 'lete', 'letee', 'leti', 'letkey', 'letratur', 'lets', 'letter', 'lety', 'leva', 'level', 'levl', 'lewis', 'ley', 'leya', 'leyae', 'leyah', 'leye', 'leyea', 'leyeh', 'leyeyehi', 'leyin', 'leyn', 'leyr', 'lfthota', 'lfz', 'lg', 'lga', 'lgaa', 'lgaenge', 'lgai', 'lgain', 'lgake', 'lgana', 'lganay', 'lgao', 'lgaon', 'lgata', 'lgati', 'lgay', 'lgaya', 'lge', 'lgi', 'lgimujhe', 'lgna', 'lgnay', 'lgngi', 'lgra', 'lgrh', 'lgt', 'lgta', 'lgtay', 'lgti', 'lgtifighting', 'lgtii', 'lgty', 'lgw', 'lgwa', 'lgy', 'lhenga', 'lhhant', 'lhr', 'li', 'lia', 'liadua', 'liajo', 'liapni', 'liaqat', 'liaqatabad', 'liaquat', 'liaquatabad', 'liaquattbd', 'liaqutabad', 'liauqat', 'liay', 'liaye', 'libaas', 'libas', 'liberal', 'libia', 'libian', 'libraries', 'library', 'license', 'lider', 'lidr', 'lidrs', 'lie', 'lieay', 'liey', 'lieya', 'life', 'lift', 'lifting', 'lifz', 'light', 'lights', 'lightweight', 'ligtan', 'lihaaz', 'lihaz', 'lihaza', 'lijiye', 'lijye', 'likah', 'likal', 'likalne', 'like', 'liked', 'likele', 'liken', 'likes', 'likga', 'likh', 'likha', 'likhaa', 'likhane', 'likhay', 'likhe', 'likhee', 'likhein', 'likhi', 'likhin', 'likhna', 'likhnay', 'likhne', 'likhney', 'likhny', 'likho', 'likhoon', 'likhta', 'likhtay', 'likhte', 'likhtey', 'likhti', 'likhwa', 'likhwaney', 'likhy', 'likin', 'liking', 'likn', 'lillah', 'lillahi', 'limbo', 'line', 'liner', 'lines', 'link', 'lion', 'lipistic', 'lipstick', 'lipstickinner', 'liqua', 'liquid', 'lire', 'lisl', 'list', 'lit', 'lite', 'liter', 'literacy', 'literature', 'litre', 'litter', 'little', 'liue', 'live', 'liy', 'liya', 'liyaan', 'liyai', 'liyari', 'liyay', 'liye', 'liyea', 'liyee', 'liyeeeee', 'liyeh', 'liyehamare', 'liyehe', 'liyemuhtram', 'lke', 'lkha', 'lkhareeda', 'lkhi', 'lki', 'lkin', 'lkn', 'lkty', 'llagaye', 'llb', 'llekn', 'llm', 'lmbe', 'lmbi', 'lmg', 'lmha', 'ln', 'lngi', 'lo', 'load', 'loadhraan', 'loadshedding', 'loadsheding', 'loafer', 'loafers', 'loag', 'loan', 'local', 'location', 'lochapan', 'locket', 'lodhi', 'lodhran', 'lodi', 'lofgren', 'log', 'loggo', 'logh', 'loghon', 'logi', 'logic', 'logically', 'logicik', 'login', 'logkoi', 'logn', 'logo', 'logon', 'logono', 'logoo', 'logoon', 'logooo', 'logu', 'logun', 'loha', 'lohdi', 'loho', 'lohy', 'lok', 'loki', 'loking', 'lol', 'lollywood', 'lololol', 'lols', 'lolxxxx', 'lolxxxxoye', 'lolz', 'lomdiyan', 'lona', 'londa', 'londi', 'londiyon', 'london', 'londy', 'long', 'longa', 'longlasting', 'loo', 'loodhe', 'loog', 'loogo', 'loogon', 'look', 'looking', 'looks', 'loooo', 'loose', 'loot', 'loota', 'looterey', 'lootnay', 'lootne', 'lootoon', 'lootu', 'lora', 'lord', 'lords', 'lorri', 'lorry', 'los', 'lose', 'loser', 'lot', 'lota', 'lote', 'lotein', 'loton', 'lott', 'lottati', 'lotus', 'loty', 'loug', 'lougo', 'louse', 'lout', 'lov', 'love', 'loved', 'loveeee', 'lovely', 'loves', 'lovuuuuuu', 'low', 'lower', 'lowers', 'lowest', 'lown', 'lpg', 'lq', 'lrkaand', 'lrke', 'lrki', 'lrna', 'lrr', 'lt', 'ltka', 'ltkaya', 'lty', 'lu', 'luay', 'lub', 'lubna', 'luciana', 'luck', 'luckfor', 'lucknow', 'lucky', 'lud', 'ludhiana', 'ludhyanwi', 'lug', 'luga', 'lugdee', 'lughat', 'luiz', 'lul', 'lula', 'lumen', 'lun', 'luncher', 'lunga', 'lungs', 'luqman', 'lush', 'lut', 'lutaf', 'lutanay', 'lutaryyyy', 'luteray', 'luteron', 'lutf', 'lutny', 'lutt', 'luv', 'lux', 'lvl', 'ly', 'lya', 'lyari', 'lycoco', 'lye', 'lyeallah', 'lyehmy', 'lyein', 'lyek', 'lyin', 'lyjo', 'lyke', 'lykin', 'lyn', 'lyna', 'lyny', 'lypr', 'lyt', 'lyti', 'lyty', 'lyyy', 'm', 'm0hbt', 'm0m', 'ma', 'maa', 'maaa', 'maaaon', 'maaar', 'maaf', 'maafi', 'maah', 'maahi', 'maain', 'maajry', 'maal', 'maali', 'maalik', 'maam', 'maamly', 'maan', 'maana', 'maanay', 'maand', 'maangte', 'maani', 'maanne', 'maaon', 'maar', 'maara', 'maarain', 'maaray', 'maari', 'maaron', 'maarte', 'maarti', 'maashra', 'maasi', 'maasoom', 'maat', 'maaza', 'maazi', 'mabain', 'mabeen', 'mabein', 'mabi', 'mabni', 'mabood', 'mabry', 'mach', 'macha', 'machal', 'machata', 'machaya', 'machetes', 'machi', 'machin', 'machine', 'machines', 'machliyo', 'machrbi', 'mad', 'madaad', 'madad', 'madafati', 'madahon', 'madakhlat', 'madam', 'madaniyat', 'madaoo', 'madar', 'madaris', 'madars', 'madat', 'madbar', 'madd', 'maddah', 'maddahon', 'made', 'madey', 'madfan', 'madia', 'madid', 'madiha', 'madina', 'madir', 'madlal', 'madom', 'madr', 'madras', 'madu', 'mae', 'maeiygi', 'mael', 'maeny', 'maeshiyat', 'maesna', 'maeyl', 'maeyne', 'maeyno', 'maf', 'mafaad', 'mafad', 'mafadaat', 'mafadat', 'mafal', 'mafarqat', 'mafee', 'maff', 'maffrma', 'mafi', 'mafia', 'mafiya', 'maflok', 'maflooj', 'mag', 'magaar', 'magan', 'magar', 'magazine', 'mager', 'magferat', 'maggio', 'magharbi', 'maghfirat', 'maghniya', 'maghrabi', 'maghrib', 'maghribi', 'maghroor', 'magic', 'magical', 'magnetic', 'magoyan', 'magr', 'magrib', 'magsaysay', 'magwa', 'magzines', 'mah', 'maha', 'mahaan', 'mahajir', 'mahajireen', 'maham', 'mahana', 'maharat', 'maharet', 'mahaul', 'mahay', 'mahaz', 'mahboob', 'mahbooba', 'mahdood', 'maheena', 'maheenay', 'maheene', 'maheenon', 'mahene', 'mahenon', 'maher', 'mahesh', 'mahfile', 'mahfooz', 'mahfuz', 'mahi', 'mahina', 'mahinay', 'mahine', 'mahiney', 'mahiny', 'mahir', 'mahira', 'mahirakhan', 'mahiretaleem', 'mahjier', 'mahmood', 'mahnat', 'mahnooor', 'mahnoor', 'mahol', 'mahool', 'mahoul', 'mahramo', 'mahrat', 'mahrbane', 'mahreen', 'mahrom', 'mahroom', 'mahsi', 'mahsoom', 'mahsoor', 'mahsoos', 'mai', 'maibus', 'maid', 'maidaan', 'maidan', 'maikup', 'mail', 'mailakin', 'maill', 'maime', 'main', 'mainallah', 'mainay', 'maine', 'maino', 'mainqadam', 'maintain', 'maintenance', 'maintery', 'mainy', 'mairi', 'mairiiii', 'mairy', 'maisny', 'maiyt', 'maiz', 'maizbaan', 'maizbano', 'majal', 'majalis', 'majay', 'majboor', 'majboori', 'majbor', 'majboran', 'majbori', 'majboriyun', 'majbour', 'majbur', 'majburab', 'majburan', 'majed', 'majhaarr', 'majid', 'majida', 'majidu', 'majlis', 'majmey', 'majmoi', 'majmooa', 'majmooe', 'majmooi', 'majmou', 'majmouy', 'majmoye', 'majmua', 'majmuye', 'majn', 'majnun', 'majod', 'majood', 'major', 'majority', 'majroh', 'majrooh', 'majuza', 'makad', 'makalmon', 'makam', 'makami', 'makan', 'makanat', 'makani', 'makanon', 'makatib', 'make', 'makeen', 'makers', 'maket', 'makeup', 'makhdum', 'makhlok', 'makhlooq', 'makhloq', 'makhna', 'makhooq', 'makhoz', 'makhsoos', 'makhsos', 'makhsus', 'makhyaila', 'making', 'makkar', 'makki', 'makola', 'maksa', 'maktoob', 'mal', 'mala', 'malak', 'malala', 'malale', 'malamal', 'malang', 'malaysia', 'malazmine', 'malba', 'malbe', 'malbos', 'malbosaat', 'maler', 'maleria', 'malgoon', 'malhar', 'mali', 'malik', 'malika', 'malikan', 'malir', 'maliyat', 'maliyati', 'malka', 'malkana', 'malkiyat', 'malkonas', 'mall', 'malli', 'malliswari', 'malom', 'maloom', 'maloomat', 'maluwis', 'malwoot', 'malya', 'malzom', 'mam', 'mama', 'mamaki', 'mamala', 'mamaly', 'mamdad', 'mami', 'mamir', 'mamla', 'mamlaa', 'mamlat', 'mamlay', 'mamle', 'mamly', 'mamnoon', 'mamnua', 'mamnun', 'mamo', 'mamol', 'mamoli', 'mamoo', 'mamool', 'mamooli', 'mamoon', 'mamooo', 'mamoor', 'mamta', 'mamu', 'mamuli', 'man', 'mana', 'management', 'manager', 'manai', 'manain', 'manan', 'manana', 'mananay', 'manane', 'manasik', 'manata', 'manati', 'manaya', 'manayen', 'manayi', 'manazar', 'manazir', 'manbut', 'manchale', 'manchaley', 'mand', 'manda', 'mandaeet', 'mandate', 'mandi', 'mandir', 'mandiyan', 'mandiyoo', 'mandlarhi', 'mandlati', 'mane', 'manein', 'maney', 'manfi', 'mang', 'manga', 'mangal', 'mangha', 'manghopeer', 'manghopir', 'mangi', 'mangne', 'mangney', 'mangni', 'mango', 'mangopir', 'mangora', 'mangtay', 'mangtey', 'mangti', 'mangty', 'mangva', 'mangwa', 'mangwaayi', 'mangwaeen', 'mangwaenge', 'mangwai', 'mangwaliya', 'mangwati', 'mangwaya', 'mangwaye', 'mangwayi', 'mangy', 'manhoos', 'manhooss', 'manhoso', 'manhosu', 'manhun', 'manhus', 'mani', 'manica', 'manind', 'manjeh', 'manjhe', 'mankinds', 'mann', 'manna', 'mannat', 'manne', 'manners', 'mano', 'manoor', 'manoos', 'manpasand', 'mansab', 'mansha', 'manshiyat', 'mansoba', 'mansobe', 'mansokh', 'mansooba', 'mansoobay', 'mansoobe', 'mansookh', 'mansoor', 'mansub', 'mansuba', 'mansubah', 'mansubay', 'mansukh', 'manta', 'mantel', 'mantey', 'manti', 'mantiq', 'manty', 'manu', 'manuscript', 'manuyat', 'manwa', 'manwane', 'manwaya', 'many', 'manzala', 'manzar', 'manzareaam', 'manzer', 'manzil', 'manzila', 'manzilein', 'manzoor', 'manzoori', 'manzor', 'manzori', 'manzorqadir', 'manzur', 'manzuri', 'mao', 'maoan', 'maolna', 'maon', 'maoof', 'maoqa', 'maotbar', 'maqaam', 'maqabil', 'maqala', 'maqalmon', 'maqam', 'maqami', 'maqasid', 'maqblay', 'maqboiyat', 'maqbol', 'maqboliyat', 'maqbolyat', 'maqbool', 'maqbooliyat', 'maqbooza', 'maqboul', 'maqbuliat', 'maqbulyat', 'maqbuyat', 'maqhoron', 'maqlad', 'maqsad', 'maqsod', 'maqsood', 'maqtadra', 'maqtol', 'mar', 'mara', 'marabucho', 'marad', 'marahil', 'marakazi', 'marakz', 'maranr', 'marao', 'maraoob', 'marasam', 'marasi', 'marasim', 'maratay', 'maratib', 'maray', 'marbaka', 'march', 'marches', 'marcus', 'mard', 'mardaina', 'mardam', 'mardan', 'mardana', 'marde', 'mardejamhoriyat', 'mardemujahid', 'mardi', 'mardo', 'mardon', 'mardoo', 'mardoon', 'mardou', 'mardu', 'mardun', 'mare', 'maree', 'mareez', 'mareezo', 'mareezu', 'marein', 'maren', 'marey', 'marezo', 'marfat', 'marfiya', 'marg', 'margai', 'margi', 'margin', 'margla', 'margyi', 'marhala', 'marhale', 'marhaley', 'marhalon', 'marhla', 'marhom', 'marhoom', 'marhoon', 'marhum', 'mari', 'marilyn', 'maripor', 'maripur', 'marit', 'mariz', 'marizana', 'marizon', 'marja', 'marjaa', 'marjaiye', 'marjan', 'marjata', 'mark', 'marka', 'markaz', 'markazi', 'marke', 'marker', 'market', 'marketing', 'markets', 'markhem', 'markooz', 'marks', 'markts', 'markup', 'marlimant', 'marlin', 'marlo', 'marlow', 'marly', 'marna', 'marnay', 'marne', 'marnee', 'marney', 'marny', 'maro', 'marof', 'marogi', 'maron', 'maronda', 'maroof', 'marqa', 'marqaat', 'marr', 'marrd', 'marriage', 'married', 'marry', 'mars', 'marsa', 'marshal', 'marshalla', 'marshallah', 'marta', 'martaaba', 'martaba', 'martabah', 'martabe', 'martam', 'marte', 'marten', 'martey', 'marti', 'martial', 'martin', 'marton', 'marty', 'maru', 'marunga', 'marungi', 'marusi', 'marvee', 'marwa', 'marwati', 'marwayeee', 'mary', 'maryam', 'maryamnawazsharif', 'marye', 'marz', 'marzee', 'marzi', 'masa', 'masaib', 'masaibka', 'masail', 'masailse', 'masaiyl', 'masajid', 'masakh', 'masala', 'masalein', 'masanay', 'masawat', 'masawi', 'mascara', 'masdaaq', 'maseel', 'masg', 'mash', 'masha', 'mashaaallah', 'mashaallah', 'mashah', 'mashahllah', 'mashahoor', 'mashak', 'mashal', 'mashalla', 'mashallah', 'mashallha', 'mashanallah', 'masher', 'mashgala', 'mashhoor', 'mashhor', 'mashi', 'mashjid', 'mashkein', 'mashkook', 'mashlaha', 'mashlllha', 'mashoor', 'mashor', 'mashour', 'mashouri', 'mashq', 'mashqe', 'mashqesukhan', 'mashraqi', 'mashrati', 'mashriq', 'mashriqi', 'mashriqomaghrib', 'mashrobat', 'mashroot', 'mashrot', 'mashurraf', 'mashwara', 'mashwarah', 'mashware', 'mashwra', 'masif', 'masiha', 'masil', 'masiny', 'masjid', 'mask', 'maskeen', 'masla', 'maslaa', 'maslah', 'maslak', 'maslan', 'maslay', 'masle', 'maslehat', 'maslehatan', 'masley', 'masllah', 'maslmaneo', 'maslo', 'masloon', 'masly', 'masmar', 'masnad', 'masnoaat', 'masnoi', 'masnoiyon', 'masoba', 'masom', 'masood', 'masoom', 'masooma', 'masoomiyat', 'masqooq', 'masrof', 'masrofiyat', 'masroof', 'masroor', 'massa', 'massage', 'mast', 'mastana', 'mastani', 'mastarad', 'maste', 'master', 'masters', 'masti', 'mastoorat', 'masum', 'masuma', 'masyal', 'mat', 'matabah', 'matanaza', 'match', 'matched', 'matches', 'matcho', 'matchon', 'mate', 'material', 'mates', 'math', 'mathematician', 'mathew', 'mathira', 'mathlab', 'matho', 'matic', 'matlab', 'matlb', 'matleb', 'matlub', 'matmool', 'matnaza', 'matnoo', 'matqazi', 'matrial', 'matric', 'matro', 'matt', 'matter', 'matti', 'matwale', 'mauaamle', 'maujod', 'maujoda', 'maujodgi', 'maujood', 'maujudgi', 'mauka', 'maula', 'maulana', 'maulvi', 'mauqa', 'mauqaf', 'mauqay', 'mauqey', 'mauqiff', 'mauqqif', 'mauratab', 'mausam', 'mauseeqar', 'mauseeqaron', 'mauseeqi', 'mausi', 'mausiqaar', 'mausiqar', 'mausom', 'mausool', 'maussir', 'maut', 'mauzi', 'mauzoaat', 'mauzoo', 'maveshi', 'mawad', 'mawafiq', 'mawaqay', 'mawaqe', 'mawara', 'mawazna', 'mawin', 'mawra', 'mawraa', 'mawrae', 'mawraey', 'max', 'maxhine', 'maximus', 'may', 'mayal', 'mayanaaz', 'mayanaz', 'mayar', 'mayari', 'mayasar', 'mayasser', 'maybe', 'mayi', 'mayiri', 'mayishiyat', 'maykasan', 'maymar', 'mayn', 'maynay', 'mayoos', 'mayor', 'mayos', 'mayosi', 'mayosiyon', 'mayous', 'mayra', 'mayray', 'mayri', 'maysu', 'mayusi', 'mayyatain', 'maza', 'mazaa', 'mazah', 'mazahiya', 'mazahmat', 'mazaika', 'mazaj', 'mazak', 'mazakh', 'mazalim', 'mazamat', 'mazameen', 'mazamin', 'mazaq', 'mazar', 'mazay', 'mazboobi', 'mazboot', 'mazbot', 'mazboti', 'mazbut', 'mazda', 'mazdoor', 'maze', 'mazedar', 'mazeed', 'mazehmat', 'mazey', 'mazhab', 'mazhabi', 'mazhabka', 'mazhar', 'mazhb', 'mazi', 'mazid', 'mazkoora', 'mazkora', 'mazlom', 'mazlomiyat', 'mazlomon', 'mazloom', 'mazmon', 'mazmoon', 'mazo', 'mazol', 'mazole', 'mazoor', 'mazor', 'mazoron', 'mazrat', 'mazrt', 'mazur', 'mazy', 'mazydar', 'mazza', 'mba', 'mc', 'mcclum', 'mcg', 'mch', 'me', 'me22', 'me5', 'mea', 'meadows', 'meal', 'mean', 'means', 'mear', 'meary', 'mebarkat', 'mebhoot', 'mechanical', 'mechanism', 'mecullum', 'medal', 'medals', 'medan', 'medanon', 'meddle', 'medet', 'media', 'mediaaaaaaaa', 'medical', 'medication', 'medicine', 'medium', 'medora', 'medya', 'mee', 'meel', 'meen', 'meer', 'meera', 'meesaq', 'meesaqe', 'meesituation', 'meesna', 'meesnay', 'meesni', 'meesnian', 'meesny', 'meetha', 'meethai', 'meethi', 'mega', 'megar', 'meghan', 'meghraj', 'meh', 'mehaan', 'mehak', 'mehakma', 'mehakmon', 'mehanga', 'mehange', 'mehanti', 'mehar', 'meharban', 'mehaz', 'mehb0ob', 'mehbob', 'mehboob', 'mehbooba', 'mehboobaaameri', 'mehbub', 'mehdi', 'mehdod', 'mehdood', 'mehdud', 'meheena', 'mehekma', 'mehekmay', 'mehengi', 'meher', 'meherban', 'meherbani', 'mehfil', 'mehfilon', 'mehfoos', 'mehfooz', 'mehfoz', 'mehfuz', 'mehgayi', 'mehkma', 'mehmaan', 'mehman', 'mehmano', 'mehmood', 'mehmoodabad', 'mehnat', 'mehnati', 'mehnet', 'mehnga', 'mehngaa', 'mehngai', 'mehngay', 'mehnge', 'mehnghe', 'mehngi', 'mehnti', 'mehom', 'mehrabani', 'mehran', 'mehrban', 'mehrbani', 'mehri', 'mehrom', 'mehromi', 'mehromiyon', 'mehroom', 'mehroomi', 'mehrum', 'mehsoos', 'mehsos', 'mehsosat', 'mehsosta', 'mehsus', 'mehta', 'mehtab', 'mehzotaat', 'mehzoz', 'mei', 'meihi', 'meim', 'mein', 'meine', 'meinhowa', 'meininhein', 'meinkamiyab', 'meinkhelne', 'meinmadadgar', 'meinsayra', 'meinun', 'meinwo', 'meiny', 'meke', 'meko', 'mel', 'mela', 'melbrane', 'melegi', 'meli', 'melt', 'melta', 'mely', 'mem', 'member', 'memberaan', 'members', 'membr', 'meme', 'memon', 'memoona', 'memorial', 'memories', 'memory', 'men', 'menbhi', 'mendak', 'mended', 'mene', 'meneaunty', 'menegmant', 'mengal', 'menplz', 'mental', 'mention', 'mentioned', 'mentor', 'meny', 'meo', 'mer', 'mera', 'meraa', 'meramat', 'meray', 'merdi', 'mere', 'mereghar', 'meret', 'merey', 'merhalay', 'meri', 'merii', 'merit', 'merko', 'merrit', 'merry', 'mert', 'mertaba', 'mertaba7time', 'merwi', 'mery', 'merzi', 'mesa', 'meshaq', 'meshes', 'meshhhhiii', 'meshood', 'mesny', 'message', 'messages', 'messani', 'messney', 'messni', 'messsna', 'mestectomy', 'metal', 'metallic', 'metar', 'meter', 'meterial', 'metha', 'methi', 'meto', 'metro', 'meummar', 'mewa', 'mexico', 'mey', 'meyaar', 'meyani', 'meyar', 'meyari', 'meydan', 'meyla', 'meyn', 'meyno', 'meyzban', 'meyzbani', 'mezay', 'mezban', 'mezbani', 'mfi', 'mgfrat', 'mgfrt', 'mghy', 'mgr', 'mh', 'mhbt', 'mhengi', 'mhfooz', 'mhfoz', 'mhum', 'mi', 'mia', 'mian', 'mianallah', 'miandad', 'mianmuhammadnawazsharif', 'mianwali', 'mic', 'mice', 'michael', 'michel', 'mici', 'mickey', 'micky', 'microphone', 'microsdhc', 'mida', 'midaan', 'middle', 'midnight', 'midwife', 'mie', 'mien', 'miens', 'migfry', 'might', 'mihsos', 'mihy', 'mijaz', 'mijazi', 'mike', 'mil', 'mila', 'milaap', 'milad', 'milain', 'milamujhe', 'milana', 'milati', 'milay', 'milayga', 'mile', 'milee', 'milega', 'milein', 'milenge', 'miley', 'milgaya', 'mili', 'milibhagat', 'milinus', 'military', 'miljaenge', 'milk', 'milkar', 'mill', 'millar', 'millat', 'millennium', 'miller', 'milli', 'million', 'millionaire', 'millions', 'millons', 'mills', 'miln', 'milna', 'milnay', 'milne', 'milney', 'milni', 'milnye', 'milo', 'milologo', 'milon', 'milra', 'milrahe', 'milri', 'milta', 'miltay', 'milte', 'miltey', 'milti', 'miltq', 'milty', 'milwana', 'mily', 'milya', 'mimalik', 'min', 'mina', 'minaar', 'minafiq', 'minat', 'mind', 'minded', 'mines', 'minhaas', 'minhas', 'mini', 'minister', 'ministerial', 'ministrater', 'ministries', 'ministry', 'minna', 'minnat', 'minorities', 'minority', 'mins', 'mint', 'minto', 'minton', 'minus', 'minut', 'minute', 'minutes', 'miqdar', 'mir', 'mirasi', 'mirch', 'mirche', 'mirchi', 'mirror', 'mirz', 'mirza', 'mis', 'misaal', 'misal', 'misalein', 'misar', 'misbah', 'misdaq', 'miser', 'mishalain', 'mishan', 'miskeen', 'misl', 'mison', 'misprinting', 'misr', 'misra', 'misrey', 'miss', 'missal', 'misses', 'missing', 'mission', 'mississippi', 'mistak', 'mistakes', 'mists', 'mit', 'mita', 'mitaty', 'mitchel', 'mith', 'mitha', 'mithe', 'mithi', 'mitta', 'mitti', 'mix', 'mixed', 'mixture', 'miyan', 'miyana', 'miyaun', 'mizaaj', 'mizaj', 'mizar', 'mj', 'mjbor', 'mje', 'mjh', 'mjha', 'mjhai', 'mjhay', 'mjhe', 'mjhee', 'mjhpe', 'mjhse', 'mjhsy', 'mjhy', 'mjko', 'mjse', 'mjy', 'mka', 'mkhloqat', 'mkt', 'ml', 'mlahon', 'mlna', 'mlolvi', 'mlshame', 'mly', 'mm', 'mma', 'mmachines', 'mmcfd', 'mn', 'mna', 'mnayamahira', 'mnd', 'mne', 'mnhosay', 'mnlya', 'mnths', 'mntq', 'mny', 'mnzlen', 'moaawin', 'moakhar', 'moattal', 'moaviaabu', 'moawza', 'moaziz', 'moazzam', 'mob', 'mobarik', 'mobile', 'moble', 'mocktails', 'mode', 'model', 'modeling', 'moderators', 'modern', 'modi', 'modification', 'modir', 'moh', 'mohabat', 'mohabbat', 'mohabbatein', 'mohabt', 'mohaiday', 'mohaiya', 'mohamad', 'mohameed', 'mohammad', 'mohammed', 'mohani', 'mohbat', 'mohd', 'mohem', 'mohhabbt', 'mohibb', 'mohibbullah', 'mohibullah', 'mohim', 'mohlat', 'mohlet', 'mohlik', 'mohn', 'mohni', 'mohobat', 'mohol', 'mohqii', 'mohre', 'mohry', 'mohsin', 'mohtaj', 'mohtajgi', 'mohtaram', 'mohtarma', 'mohtarmah', 'mohtasar', 'mohtram', 'mohtrim', 'mohtrma', 'mohyeddin', 'moive', 'moj', 'moja', 'mojahideen', 'mojdgi', 'moje', 'mojod', 'mojood', 'mojoudah', 'mojud', 'mojuda', 'mojudah', 'mojudgi', 'mojza', 'moka', 'mokalme', 'mokamal', 'mokammal', 'mokay', 'mokhalfat', 'mokhalif', 'mokhalifin', 'mokhtallif', 'mokhtasar', 'mol', 'mola', 'molah', 'molana', 'molawes', 'molazim', 'molazmat', 'molazmet', 'molk', 'molka', 'molla', 'molna', 'molok', 'molood', 'molvi', 'molviown', 'mom', 'momalik', 'moman', 'momin', 'momina', 'mominaa', 'momino', 'momkin', 'mommy', 'momsmajh', 'momy', 'mon', 'monazzim', 'monday', 'money', 'monfiq', 'monh', 'monir', 'monitor', 'mono', 'monroe', 'month', 'monthli', 'monthly', 'months', 'mony', 'moo', 'mood', 'mool', 'moomenoon', 'moon', 'moona', 'moonh', 'mooon', 'mooucha', 'moqa', 'moqaam', 'moqabil', 'moqabla', 'moqablah', 'moqable', 'moqablon', 'moqaddas', 'moqadder', 'moqadma', 'moqadmat', 'moqadme', 'moqadmy', 'moqah', 'moqalat', 'moqam', 'moqarar', 'moqarir', 'moqarrar', 'moqay', 'moqe', 'moqeem', 'moqem', 'moqf', 'moqif', 'moqmuqa', 'moqy', 'mor', 'morady', 'moral', 'morals', 'morattab', 'moray', 'morche', 'more', 'morl', 'morni', 'mornibg', 'morning', 'morosiat', 'morshad', 'mortenson', 'mos', 'mosa', 'mosallat', 'mosalsal', 'mosalsel', 'mosam', 'mosamiat', 'mosanfeen', 'mosar', 'moselsel', 'moshaeron', 'moshaheda', 'moshaqqat', 'mosharaf', 'moshkil', 'moshkisl', 'mosibat', 'mosikar', 'mosikaron', 'mosiqaron', 'mosiqi', 'mosllah', 'mosque', 'most', 'mostly', 'mosul', 'mot', 'mota', 'motabik', 'motabiq', 'motadid', 'motae', 'motala', 'motalba', 'motamid', 'motaraf', 'motasir', 'motay', 'moter', 'moth', 'mother', 'moti', 'motivational', 'moto', 'motor', 'motorcycle', 'motorway', 'motram', 'motu', 'motuuu', 'mou', 'mouch', 'moujod', 'moujood', 'moujoodgi', 'moujud', 'mouk', 'moula', 'moulana', 'moun', 'mount', 'mountains', 'mouqa', 'mouqe', 'mouse', 'mousmiyat', 'mousom', 'mout', 'mouth1st', 'mouzo', 'move', 'movement', 'moves', 'movie', 'movies', 'moye', 'mozahra', 'mozu', 'mozuat', 'mpa', 'mpas', 'mpharmacy', 'mpo', 'mpr', 'mpsalmanon', 'mqbul', 'mqm', 'mr', 'mra', 'mrd', 'mrdo', 'mre', 'mrgy', 'mri', 'mrnaa', 'mrnaaa', 'mro', 'mrs', 'mrta', 'mrtba', 'mrti', 'mry', 'mrzi', 'ms', 'msail', 'msalsal', 'msc', 'msg', 'msges', 'msglow', 'msgs', 'msla', 'msngwaya', 'msrf', 'mt', 'mtlb', 'mtlub', 'mtr', 'mu', 'muaaehede', 'muaaf', 'muaahede', 'muaahedey', 'muaahedon', 'muaaiyna', 'muaamlaat', 'muaamlat', 'muaamle', 'muaamley', 'muaashi', 'muaashra', 'muaawin', 'muaawnat', 'muaawza', 'muaawze', 'muaf', 'muaff', 'muafi', 'muahida', 'muahiday', 'muajood', 'muakhar', 'muallima', 'mualm', 'muamalat', 'muamley', 'muan', 'muaqid', 'muash', 'muashi', 'muashra', 'muat', 'muatal', 'muattal', 'muattil', 'muavia', 'muawnat', 'muawza', 'muazam', 'muazzam', 'mubadla', 'muballigheen', 'mubarak', 'mubarakallah', 'mubarakapp', 'mubarakaur', 'mubarakbaad', 'mubarakbad', 'mubarakdua', 'mubarakplz', 'mubarik', 'mubarikapko', 'mubark', 'mubashair', 'mubasher', 'mubasireen', 'mubazol', 'mublighon', 'mubraak', 'mubrik', 'mubsireen', 'mubtala', 'mubtila', 'mubtla', 'much', 'muchain', 'muchone', 'mudabir', 'mudad', 'mudakhlat', 'mudat', 'muddat', 'mudeer', 'mudto', 'mufadat', 'mufarid', 'mufeed', 'muft', 'mufti', 'mug', 'mugha', 'mughal', 'mughals', 'mughamaaa', 'mughliya', 'mugy', 'muh', 'muhabat', 'muhabbat', 'muhabbt', 'muhafiz', 'muhafizon', 'muhaidah', 'muhaide', 'muhajir', 'muhajjir', 'muhajreen', 'muhajron', 'muhale', 'muhall', 'muhallay', 'muhallon', 'muhamed', 'muhammad', 'muhammadi', 'muhammed', 'muhaqiq', 'muharram', 'muhasra', 'muhaz', 'muhbbat', 'muhbt', 'muhbty', 'muheet', 'muhib', 'muhim', 'muhje', 'muhn', 'muhnjo', 'muhqam', 'muhram', 'muhsin', 'muhtaj', 'muhtamim', 'muhtaram', 'muhtarma', 'muhtrum', 'muj', 'muja', 'mujahid', 'mujahideen', 'mujay', 'mujayy', 'muje', 'mujeeb', 'mujeh', 'mujh', 'mujha', 'mujhai', 'mujhatib', 'mujhay', 'mujhe', 'mujhea', 'mujhetm', 'mujhey', 'mujhko', 'mujhse', 'mujhsey', 'mujhu', 'mujhy', 'mujibur', 'mujje', 'mujko', 'mujod', 'mujodah', 'mujood', 'mujrhy', 'mujrim', 'mujrimo', 'mujse', 'mujy', 'mujyb', 'muk', 'muka', 'mukaaa', 'mukaam', 'mukadmat', 'mukalmat', 'mukalme', 'mukalmey', 'mukalmon', 'mukamal', 'mukamil', 'mukammal', 'mukarne', 'mukesh', 'mukha', 'mukhaalif', 'mukhalfat', 'mukhalfeen', 'mukhalif', 'mukhatib', 'mukhatlif', 'mukherjee', 'mukhiyair', 'mukhlaseen', 'mukhlis', 'mukhlisana', 'mukhsusos', 'mukhtalif', 'mukhtalof', 'mukhtar', 'mukhtari', 'mukhtasir', 'mukhteser', 'mukkay', 'mukti', 'mulah', 'mulak', 'mulakat', 'mulana', 'mulaqaat', 'mulaqat', 'mulaqatein', 'mulaqath', 'mulaqaton', 'mulavis', 'mulawis', 'mulawiz', 'mulawwis', 'mulazemeen', 'mulazim', 'mulazimat', 'mulazma', 'mulazmat', 'mulazmeen', 'mulazmin', 'mulhik', 'mulik', 'muliki', 'mulji', 'mulk', 'mulki', 'mulkion', 'mulko', 'mulkon', 'mulla', 'mullah', 'mullk', 'mullon', 'mulq', 'multan', 'multavi', 'multinational', 'multitasking', 'mulzim', 'mulzimaan', 'mulziman', 'mulzimmashoq', 'mum', 'mumabi', 'mumain', 'mumalik', 'mumbai', 'mumkin', 'mumkina', 'mumlikat', 'mumliket', 'mumnoon', 'mumtaz', 'mun', 'muna', 'munadi', 'munafa', 'munafi', 'munafik', 'munafiq', 'munafiqana', 'munafqat', 'munafuq', 'munaqad', 'munaqada', 'munaqed', 'munaqid', 'munaqidah', 'munasbat', 'munasib', 'munawar', 'munazam', 'munazray', 'munazzam', 'munda', 'muneeza', 'munfaaqat', 'munfaat', 'munfarid', 'munfiet', 'munh', 'munhhh', 'municipal', 'munir', 'munjamid', 'munn', 'munni', 'munsafana', 'munsalik', 'munshi', 'munsif', 'munsifana', 'muntahij', 'muntakhab', 'muntakheb', 'muntakhib', 'muntaqil', 'muntaqili', 'muntazim', 'muntazir', 'muntazmeen', 'muqa', 'muqaam', 'muqabale', 'muqabalo', 'muqabalon', 'muqabil', 'muqabla', 'muqablay', 'muqable', 'muqabley', 'muqablon', 'muqadama', 'muqaddama', 'muqaddamaat', 'muqaddamey', 'muqaddar', 'muqaddmat', 'muqadma', 'muqadmat', 'muqadmay', 'muqadme', 'muqam', 'muqamaat', 'muqami', 'muqarar', 'muqarrar', 'muqe', 'muqeed', 'muqeem', 'muqtada', 'mur', 'muraad', 'murad', 'muradn', 'murafin', 'muratab', 'murattab', 'murda', 'murdabad', 'murder', 'mureed', 'mureedon', 'murgi', 'murree', 'murs', 'murshad', 'murshed', 'mursheed', 'murshid', 'murtad', 'murtadd', 'murtaza', 'musabibal', 'musafat', 'musafir', 'musafiron', 'musakhar', 'musakhir', 'musal', 'musalal', 'musalamano', 'musalat', 'musalem', 'musalmaan', 'musalman', 'musalmanan', 'musalmano', 'musalmanon', 'musalmanu', 'musalmanun', 'musalsal', 'musam', 'musanif', 'musanifa', 'musannif', 'musannifa', 'musannifeen', 'musar', 'musarrat', 'musawida', 'musawiri', 'musbat', 'musebat', 'museebat', 'musfirah', 'mushabihat', 'mushahidat', 'mushahide', 'mushahir', 'mushairre', 'mushaiyre', 'mushaiyron', 'musharaf', 'musharf', 'musharraf', 'mushawarat', 'mushayare', 'mushkail', 'mushkalat', 'mushkel', 'mushkelat', 'mushkil', 'mushkilaat', 'mushkilat', 'mushkily', 'mushkl', 'mushq', 'mushraf', 'mushrif', 'mushrik', 'mushtamil', 'mushtaq', 'mushtarka', 'mushtarkah', 'mushtarqa', 'mushterka', 'musibat', 'musibatein', 'musibaton', 'music', 'musical', 'musicedation', 'musician', 'musjid', 'muskan', 'muskaraty', 'muskhal', 'muskii', 'muskilaateh', 'muskorati', 'muskrati', 'muskura', 'muskurahat', 'muskurany', 'muskurate', 'muskuraty', 'muslamano', 'muslem', 'muslim', 'muslima', 'muslimbagh', 'muslimeen', 'muslims', 'muslma', 'muslmaan', 'muslman', 'muslmano', 'muslmanon', 'muslmanu', 'musluim', 'musol', 'mussllat', 'must', 'mustaafi', 'mustaar', 'mustabiq', 'mustafa', 'mustafai', 'mustafee', 'mustafeed', 'mustafi', 'mustahiq', 'mustahkam', 'mustakil', 'mustamil', 'mustanad', 'mustand', 'mustanid', 'mustaqbil', 'mustaqil', 'mustaqlan', 'mustarad', 'mustard', 'mustarid', 'mustazad', 'mustehaq', 'mustehkam', 'mustehkim', 'mustehqam', 'mustfa', 'mustrad', 'mustufa', 'mut', 'mutabadil', 'mutabar', 'mutabik', 'mutabiq', 'mutaddid', 'mutadid', 'mutafakkir', 'mutafariq', 'mutafiqa', 'mutaharat', 'mutahid', 'mutahida', 'mutahiq', 'mutaiyan', 'mutajasis', 'mutaji', 'mutakhib', 'mutala', 'mutalba', 'mutalbay', 'mutale', 'mutalia', 'mutalik', 'mutaliq', 'mutalla', 'mutalliq', 'mutameen', 'mutanafir', 'mutanaza', 'mutanfir', 'mutaqi', 'mutaradif', 'mutaradifat', 'mutarajim', 'mutarajjim', 'mutarannum', 'mutarif', 'mutarrif', 'mutasar', 'mutashir', 'mutasib', 'mutasir', 'mutasira', 'mutasireen', 'mutasra', 'mutasrin', 'mutassir', 'mutawajah', 'mutawajja', 'mutawaqa', 'mutawaqay', 'mutawaqe', 'mutawatr', 'mutawazi', 'mutayan', 'mutayyan', 'mutazad', 'mutazamin', 'mutazim', 'mutee', 'muteeurrehman', 'mutehrik', 'mutfiq', 'muthi', 'mutlub', 'mutmaeen', 'mutmaen', 'mutmain', 'mutmaiyn', 'mutmayeen', 'mutraf', 'mutsera', 'muttahid', 'muttahida', 'muttqy', 'muun', 'muwach', 'muyassar', 'muzaffar', 'muzahere', 'muzahimat', 'muzahira', 'muzahirah', 'muzahire', 'muzakrat', 'muzamat', 'muzammat', 'muzaqrat', 'muziz', 'muzloom', 'muzoat', 'muztr', 'muzzafer', 'muzzamat', 'my', 'myar', 'myn', 'myra', 'mza', 'mzaak', 'mzaq', 'mzeed', 'mzyy', 'n', 'na', 'na122', 'na171', 'naa', 'naaa', 'naaai', 'naaalamujy', 'naaam', 'naacha', 'naachna', 'naachne', 'naacho', 'naagle', 'naahal', 'naahen', 'naahi', 'naai', 'naaj', 'naak', 'naal', 'naam', 'naami', 'naamon', 'naamwar', 'naamzad', 'naamzadgi', 'naan', 'naara', 'naat', 'naaw', 'nab', 'nabena', 'nabha', 'nabi', 'nabila', 'nabina', 'nabod', 'naboot', 'nabovat', 'nabvi', 'nabwi', 'nach', 'nacha', 'nachaain', 'nachan', 'nachanay', 'nachany', 'nachata', 'nachate', 'nachnay', 'nachne', 'nachney', 'nachny', 'nachoon', 'nachte', 'nachti', 'nachun', 'nachwai', 'nachwata', 'nachwatey', 'nad', 'nada', 'nadan', 'nadar', 'nadeem', 'nadem', 'nadia', 'nadihinda', 'nadir', 'nadra', 'nae', 'naee', 'naeem', 'naeemi', 'naeemtariq', 'naegleria', 'naehl', 'naein', 'naewo', 'naey', 'nafa', 'nafanil', 'nafarmani', 'nafas', 'nafay', 'nafaz', 'nafees', 'nafi', 'nafil', 'nafiz', 'nafl', 'nafli', 'nafraat', 'nafrat', 'nafreen', 'nafs', 'nafsiat', 'nafsiyat', 'nafsiyati', 'nag', 'nagah', 'nagar', 'nageene', 'nagehaani', 'naghma', 'naghmaat', 'naghmat', 'naghmati', 'naghmay', 'naghme', 'naghmon', 'nagma', 'nagme', 'nagmo', 'nagri', 'nah', 'naha', 'nahagar', 'nahai', 'nahain', 'nahal', 'nahaney', 'nahe', 'nahee', 'naheef', 'naheen', 'nahein', 'nahen', 'nahh', 'nahi', 'nahid', 'nahien', 'nahihai', 'nahiii', 'nahiiiiiiii', 'nahiiiiiiiiiiiiiiiiiiiiiiiiiiiiiiiiiiiiiiiiiiiiiiiiiiiiiiiiiiiiiiiiiiiiiiiiii', 'nahiin', 'nahikashmir', 'nahimagar', 'nahin', 'nahinhave', 'nahioomeed', 'nahipakistan', 'nahiplz', 'nahiplzzzzz', 'nahn', 'naho', 'nahonus', 'nahy', 'nahya', 'nai', 'naib', 'naic', 'naichahta', 'naidu', 'naif', 'naih', 'naihal', 'naihawai', 'naik', 'naiki', 'naikiyon', 'naimaa', 'naimat', 'naimaton', 'nain', 'naina', 'nainsafi', 'nairobi', 'naiye', 'naizam', 'najaat', 'najais', 'najaiz', 'najane', 'najany', 'najariya', 'najat', 'nak', 'nakaam', 'nakaami', 'nakabandi', 'nakal', 'nakam', 'nakamai', 'nakami', 'nakamion', 'nakamiyon', 'nakamy', 'nakap', 'nakara', 'nakarah', 'nakay', 'nake', 'nakhasta', 'nakhere', 'nakhra', 'nakhre', 'nakhunda', 'nakhushgawar', 'nakhushi', 'nakhuwandah', 'naki', 'nakige', 'nakkah', 'nakuchkuchhotahai', 'nakushe', 'nal', 'nala', 'nalaa', 'nalaik', 'nalaiqi', 'nalan', 'nale', 'nalik', 'naliq', 'nallah', 'nam', 'nama', 'namaazrat', 'namak', 'namaloom', 'namanzoor', 'namat', 'namay', 'namaz', 'namazi', 'namaziyon', 'nambar', 'name', 'named', 'namein', 'nami', 'namil', 'namonay', 'namone', 'namono', 'namood', 'namoodar', 'namoona', 'namooni', 'namoony', 'namra', 'namsz', 'namudar', 'namumkinat', 'namunay', 'namwar', 'namzad', 'namzadgi', 'namzi', 'namzin', 'nan', 'nana', 'nandy', 'nangi', 'nanhi', 'nani', 'nao', 'napasand', 'napleyta', 'napne', 'naqab', 'naqabil', 'naqad', 'naqadeen', 'naqadon', 'naqal', 'naqalmakani', 'naqis', 'naqlo', 'naqool', 'naqoosh', 'naqosh', 'naqsh', 'naqsha', 'naqus', 'naqvi', 'nar', 'nara', 'naraan', 'naraemastana', 'naram', 'naray', 'narayan', 'naraz', 'narazgi', 'nare', 'nareesh', 'narey', 'narial', 'narkh', 'narmi', 'naron', 'narva', 'narwa', 'nary', 'nasaad', 'nasab', 'nasal', 'nasaly', 'nasar', 'nasb', 'naseb', 'nasebi', 'naseeb', 'naseehat', 'nasehat', 'naserullah', 'nasha', 'nashaayyyyy', 'nashaib', 'nashanay', 'nashar', 'nashata', 'nashati', 'nashe', 'nasheeb', 'nasheeley', 'nasheen', 'nashen', 'nashist', 'nashistein', 'nashiston', 'nashriyat', 'nashtay', 'nashy', 'nasib', 'nasibi', 'nasir', 'nasl', 'naslein', 'nasli', 'naslo', 'naslon', 'nasloo', 'naslooke', 'nasloon', 'nasly', 'nasrullah', 'nat', 'nata', 'nataij', 'natajurbe', 'natajurbekar', 'natak', 'nataya', 'nate', 'nateeja', 'nateja', 'nateje', 'nathional', 'natija', 'natijaa', 'natijatan', 'natijay', 'natije', 'natijey', 'nation', 'national', 'nationality', 'nations', 'natural', 'naturally', 'nature', 'nau', 'naubat', 'naughty', 'naujawan', 'naujawano', 'naukriyan', 'nauzaidah', 'navaaan', 'navaze', 'naveed', 'navigation', 'navil', 'naw', 'nawa', 'nawab', 'nawafil', 'nawan', 'nawaqif', 'nawasi', 'nawaso', 'nawaz', 'nawaza', 'nawazay', 'nawaze', 'nawazia', 'nawazish', 'nawazsharif', 'nawazy', 'naweed', 'nawen', 'nawis', 'nawisi', 'nawww', 'nay', 'naya', 'nayab', 'nayaft', 'nayar', 'naybachay', 'naye', 'nayi', 'naz', 'nazaebandi', 'nazakat', 'nazal', 'nazam', 'nazar', 'nazara', 'nazarandaz', 'nazarband', 'nazaren', 'nazarey', 'nazariya', 'nazariyati', 'nazaron', 'nazarr', 'nazaru', 'nazd', 'nazdeek', 'nazdek', 'nazdik', 'nazeba', 'nazeer', 'nazel', 'nazer', 'nazere', 'nazesh', 'nazia', 'nazil', 'nazim', 'nazimabad', 'nazir', 'nazireen', 'nazmein', 'nazmi', 'nazmon', 'nazmosabt', 'nazr', 'nazrain', 'nazrana', 'nazrane', 'nazre', 'nazreen', 'nazrey', 'nazro', 'nazron', 'nazubillah', 'nazuk', 'nbas', 'nbc', 'nbvy', 'nd', 'ne', 'nea', 'neacha', 'neak', 'neatness', 'neatoon', 'neaz', 'neb', 'neche', 'nechy', 'neck', 'necklace', 'neclear', 'ned', 'nee', 'neechay', 'neeche', 'need', 'needs', 'neeee', 'neeeyat', 'neek', 'neelam', 'neem', 'neend', 'neendain', 'neeva', 'negative', 'neh', 'nehaiat', 'nehain', 'nehaj', 'nehayat', 'nehi', 'nehro', 'nehru', 'nehsos', 'nei', 'neik', 'nekal', 'neki', 'nekiyaan', 'nekiyon', 'neklta', 'nekniyati', 'nekuch', 'nelson', 'nemat', 'nematoon', 'nen', 'nena', 'nend', 'neon', 'nepra', 'nergis', 'neshan', 'nesirf', 'nest', 'nesto', 'nestonabood', 'net', 'neta', 'neto', 'netted', 'network', 'networks', 'nevan', 'never', 'new', 'newa', 'newala', 'newan', 'news', 'newscaster', 'newspeper', 'newyork', 'newzi', 'next', 'ney', 'neya', 'neyat', 'neyie', 'neyk', 'nez', 'nezam', 'nfilm', 'ngo', 'ngos', 'nh', 'nhai', 'nhe', 'nheaap', 'nhee', 'nhen', 'nhi', 'nhiek', 'nhii', 'nhiii', 'nhiiii', 'nhiiiii', 'nhin', 'nhisdonokhush', 'nhn', 'nholnay', 'nhy', 'ni', 'nia', 'niamath', 'niap', 'niaz', 'niazi', 'niaziyon', 'nibhai', 'nibhane', 'nibhany', 'nibhaongi', 'nibhatay', 'nibhati', 'nibhaya', 'nic', 'nice', 'nicebut', 'nichawar', 'nichay', 'niche', 'nicholas', 'nicolas', 'nida', 'nifaaz', 'nifs', 'nigaar', 'nigah', 'nigahon', 'nigar', 'nigari', 'nigaron', 'nigha', 'night', 'nigran', 'nigrani', 'nigtan', 'nihayat', 'niho', 'nihqyat', 'nii', 'nijat', 'niji', 'nijkari', 'nikaal', 'nikah', 'nikal', 'nikala', 'nikalbol', 'nikale', 'nikaleybastard', 'nikali', 'nikaljaonga', 'nikalna', 'nikalnay', 'nikalne', 'nikalney', 'nikalni', 'nikalny', 'nikalo', 'nikalta', 'nikaltay', 'nikalte', 'nikaltee', 'nikalti', 'nikalty', 'nikalungi', 'nikalwany', 'nikammapan', 'nikammy', 'nikat', 'nikhaar', 'nikhar', 'nikharne', 'nikhez', 'nikkah', 'nikkama', 'nikl', 'nikla', 'niklay', 'nikle', 'niklega', 'nikli', 'niklien', 'niklny', 'niklo', 'niklta', 'niklti', 'nikly', 'niklyapka', 'nikmmey', 'nikryo', 'niksel', 'nikya', 'nilami', 'nimaz', 'nimra', 'nind', 'nine', 'niralay', 'nirali', 'nirma', 'nirmal', 'nirmala', 'nisa', 'nisaab', 'nisab', 'nisabi', 'nisahshtain', 'nisar', 'nisbat', 'nisbatan', 'nisf', 'nishan', 'nishana', 'nishandahi', 'nishani', 'nishaniya', 'nishaniyaan', 'nishaniyan', 'nishashtain', 'nishashton', 'nishast', 'nishtaaa', 'nissho', 'nistonabood', 'niswa', 'niswan', 'niswani', 'nit', 'nite', 'niteje', 'niwala', 'niyaat', 'niyat', 'niyati', 'niyaz', 'niyazi', 'nizaam', 'nizam', 'nizame', 'nizami', 'nj', 'nkal', 'nkalen', 'nkl', 'nko', 'nleak', 'nmein', 'nmusthekam', 'nmz', 'nnga', 'no', 'no1', 'nobahar', 'nobel', 'noble', 'noboht', 'node', 'nohat', 'noiyat', 'noiyyat', 'nojawan', 'nojawanon', 'nojwan', 'nok', 'nokar', 'nokia', 'nokri', 'nokrio', 'nokriya', 'nolna', 'noman', 'nomani', 'nominate', 'nominated', 'nomination', 'nominations', 'non', 'nonsense', 'noo', 'noochtii', 'nook', 'noon', 'noor', 'noorani', 'noori', 'nope', 'nora', 'norani', 'noreen', 'noreena', 'normal', 'normalkoi', 'norman', 'norml', 'north', 'northern', 'norway', 'nosh', 'noshi', 'nosht', 'not', 'notanki', 'note', 'nothing', 'notice', 'noticed', 'noticing', 'notification', 'notopeso', 'notre', 'nots', 'nou', 'nougat', 'noujawan', 'noujawano', 'nov', 'novel', 'novelon', 'november', 'now', 'nowa', 'nowah', 'nowaiz', 'nowdj', 'nowhere', 'np', 'nq', 'nqs', 'nr', 'nro', 'nrz', 'ns', 'nseeb', 'nsl', 'nts', 'nu', 'nudrat', 'nug', 'nuhein', 'nukat', 'nuksaan', 'nuksan', 'nukta', 'num', 'numaen', 'numaendgi', 'numaindagan', 'numaindagi', 'numaindah', 'numainde', 'numaish', 'numaiydegi', 'numaiynda', 'numaiyndon', 'numaiysh', 'numandagi', 'numaya', 'numayan', 'number', 'numer', 'nun', 'nuqsaan', 'nuqsan', 'nuqsanaat', 'nuqsanat', 'nuqsandah', 'nuqta', 'nurani', 'nurseon', 'nursery', 'nurson', 'nurul', 'nusan', 'nushkhy', 'nuslon', 'nusrat', 'nust', 'nuswan', 'nuswar', 'nutmeg', 'nutritionist', 'nuzool', 'nvinez', 'nw', 'nwaz', 'nwes', 'nwfp', 'nxt', 'ny', 'nybilo', 'nyc', 'nyccccc', 'nycplz', 'nye', 'nyi', 'nylik', 'nz', 'nzar', 'nzr', 'nzzr', 'o', 'oa', 'oar', 'oasat', 'oaski', 'obaid', 'obama', 'obsessed', 'occupied', 'ochee', 'oct', 'october', 'oddon', 'oder', 'odho', 'ody', 'oe', 'of', 'ofcourse', 'off', 'offc', 'offensive', 'offer', 'offers', 'office', 'officer', 'officers', 'official', 'oftn', 'ogi', 'ogra', 'ogya', 'oh', 'ohad', 'ohday', 'ohdedaron', 'ohdon', 'ohe', 'ohhh', 'ohhhh', 'ohhhhh', 'oi', 'oikha', 'oil', 'oily', 'ojhri', 'ok', 'okara', 'okat', 'okay', 'oki', 'okk', 'olaad', 'olad', 'oladon', 'old', 'olia', 'olma', 'om', 'omar', 'omer', 'omg', 'on', 'one', 'onho', 'onions', 'onka', 'onko', 'onli', 'online', 'only', 'ontiaro', 'ontuhadee', 'ony', 'oo', 'ooh', 'ooncha', 'oonh', 'ooo', 'ooonche', 'oooppss', 'ooper', 'oor', 'oorat', 'opds', 'opeming', 'open', 'opener', 'opening', 'openly', 'oper', 'operation', 'opinion', 'opoen', 'opperation', 'oppo', 'opportunity', 'opposite', 'opposition', 'opr', 'opration', 'option', 'optional', 'oqaat', 'oqat', 'or', 'orallah', 'orange', 'orangi', 'orat', 'orath', 'ordar', 'ordenence', 'order', 'ordinance', 'ordinary', 'oreo', 'org', 'orginazation', 'orhty', 'original', 'originalhe', 'originality', 'orignal', 'oriswa', 'orn', 'orooj', 'orr', 'ortain', 'orten', 'ortey', 'orton', 'orty', 'ory', 'os', 'osam', 'osama', 'osamayyy', 'osat', 'osay', 'oscar', 'oska', 'oski', 'osko', 'osm', 'osse', 'osy', 'otaak', 'otao', 'otayengy', 'ote', 'otha', 'other', 'others', 'othersor', 'otherwise', 'othy', 'otna', 'oty', 'ouchalna', 'oud', 'oulad', 'oun', 'ount', 'our', 'ourat', 'ourto', 'out', 'outbest', 'outclass', 'outstanding', 'oval', 'over', 'overactng', 'overall', 'overexicted', 'overs', 'overtake', 'ovi', 'ow', 'owe', 'owees', 'own', 'owner', 'ownermola', 'owners', 'owsom', 'owsome', 'owsum', 'oxford', 'oy', 'oye', 'oyee', 'oyeee', 'oz', 'p', 'p0is0n', 'pa', 'paa', 'paaani', 'paae', 'paaenge', 'paaey', 'paai', 'paak', 'paakbaaz', 'paal', 'paani', 'paanje', 'paao', 'paar', 'paaramzan', 'paas', 'paaye', 'paayedar', 'paayen', 'paband', 'pabandi', 'pabandi80000', 'pabandian', 'pabandiyan', 'pabandiyon', 'pac', 'pachab', 'pacham', 'pachas', 'pachta', 'pachtaye', 'pack', 'package', 'packaging', 'packed', 'packeging', 'packet', 'packing', 'pad', 'padaash', 'padash', 'padawar', 'padhne', 'padho', 'pae', 'paein', 'paen', 'paese', 'paesh', 'paey', 'pagal', 'pagall', 'pagalon', 'pagara', 'page', 'pages', 'paghal', 'pagham', 'pagle', 'pagli', 'pagly', 'pagti', 'pah', 'paham', 'pahan', 'pahar', 'paharh', 'pahari', 'paharon', 'paharoon', 'pahayya', 'pahchan', 'pahenkar', 'pahla', 'pahlay', 'pahle', 'pahley', 'pahli', 'pahly', 'pahoch', 'pahochney', 'pahonch', 'pahonche', 'pahonchi', 'pahonchna', 'pahonchney', 'pahucha', 'pahunch', 'pai', 'paiary', 'paida', 'paidaiah', 'paidaish', 'paidaishi', 'paidaiysh', 'paidawar', 'paigham', 'paihay', 'paikar', 'paima', 'paimane', 'paimaney', 'pain', 'painchod', 'paindo', 'paink', 'painters', 'painting', 'paintings', 'pair', 'pairwi', 'paisa', 'paisaaa', 'paisay', 'paise', 'paish', 'paiso', 'paison', 'paisoun', 'paistani', 'paisy', 'paisya', 'pait', 'paiton', 'paiwasta', 'pak', 'pak0', 'paka', 'pakad', 'pakar', 'pakarmy', 'pakarne', 'pakartey', 'pakati', 'pakdo', 'pakeeza', 'pakeza', 'pakhton', 'pakhtono', 'pakhtoon', 'pakhtun', 'pakhtunistan', 'pakhtunkhuwan', 'pakhtunkhwa', 'pakhtuno', 'paki', 'pakidtaan', 'pakiktan', 'pakin', 'paking', 'pakisran', 'pakistan', 'pakistaneyon', 'pakistani', 'pakistanibig', 'pakistanies', 'pakistanio', 'pakistanis', 'pakistankehna', 'pakistanmein', 'pakistanuon', 'pakistanyani', 'pakistanyu', 'pakistanzindabad', 'pakistsn', 'pakitan', 'pakitani', 'pakka', 'pakki', 'pakkori', 'pakmet', 'pakoray', 'pakory', 'pakr', 'pakra', 'pakrahii', 'pakrawa', 'pakray', 'pakre', 'pakrey', 'pakri', 'pakro', 'pakrti', 'pakry', 'pakye', 'pal', 'pala', 'palace', 'palak', 'palanda', 'palandey', 'palat', 'palatenium', 'palay', 'palazzo', 'palimony', 'palken', 'palna', 'palne', 'palra', 'palta', 'palte', 'palti', 'paltoo', 'palyer', 'pamali', 'pamist', 'pan', 'pana', 'panah', 'panamaindia', 'panch', 'panchween', 'panday', 'pandi', 'pandrah', 'pane', 'panga', 'panha', 'pani', 'panjab', 'panjabe', 'panjabi', 'panjabiyon', 'panji', 'panjub', 'panjwani', 'pankha', 'panr', 'pansi', 'pansy', 'pant', 'pao', 'paon', 'paonga', 'paooon', 'papa', 'paper', 'papers', 'paperz', 'pappi', 'pappii', 'pappr', 'par', 'para', 'parade', 'paraganda', 'paragraph', 'paraho', 'parakhne', 'paramedical', 'paramount', 'parashani', 'parastana', 'parasti', 'parasuit', 'parathaaa', 'paray', 'paraya', 'parayshan', 'parcel', 'parchaiyan', 'parcham', 'parchar', 'parchase', 'parchay', 'parchi', 'parchian', 'parchoon', 'parda', 'pardah', 'pardes', 'pardesh', 'pardh', 'pare', 'pareeshan', 'parega', 'paregi', 'parein', 'paren', 'parents', 'paresha', 'pareshaan', 'pareshan', 'pareshani', 'parey', 'parh', 'parha', 'parhaaya', 'parhae', 'parhaey', 'parhai', 'parhain', 'parhana', 'parhany', 'parhao', 'parhatay', 'parhate', 'parhati', 'parhaty', 'parhay', 'parhaya', 'parhaye', 'parhayi', 'parhe', 'parhen', 'parhi', 'parhna', 'parhnay', 'parhne', 'parhney', 'parhni', 'parhny', 'parho', 'parhta', 'parhtaa', 'parhtae', 'parhte', 'parhti', 'parhty', 'parhwa', 'parhy', 'parhya', 'pari', 'paris', 'paristaron', 'park', 'parked', 'parking', 'parks', 'parlement', 'parliament', 'parliamentarians', 'parliamentary', 'parlimani', 'parlimant', 'parmah', 'parmay', 'parmy', 'parna', 'parne', 'parnee', 'parny', 'parodies', 'parody', 'paron', 'parosi', 'parr', 'parra', 'parrh', 'parrhai', 'parri', 'parry', 'parsadi', 'parsal', 'parsant', 'parsash', 'parshad', 'part', 'parta', 'partey', 'parteyou', 'parti', 'participate', 'participated', 'particular', 'parties', 'partion', 'partisan', 'partition', 'partner', 'partnership', 'parts', 'party', 'parvaiz', 'parveen', 'parvez', 'parwah', 'parwan', 'parwar', 'parwardegar', 'parwardgar', 'parwarish', 'parwaye', 'parwaz', 'parwazon', 'pary', 'parznrzaid', 'pas', 'pasa', 'pasand', 'pasandedah', 'pasandedgi', 'pasandeeda', 'pasandeedaaa', 'pasandi', 'pasandidah', 'pasandon', 'pasay', 'pasbani', 'pase', 'paseena', 'paseeny', 'pasha', 'pasheen', 'pashemani', 'pashter', 'pashto', 'pashtoon', 'pashtu', 'pashtun', 'paskiunor', 'pasli', 'paslian', 'pasmandah', 'pasmandigaan', 'pasmandigan', 'pasnd', 'pason', 'paspa', 'pass', 'passand', 'passfoj', 'passing', 'passon', 'passport', 'password', 'passy', 'past', 'paste', 'paswood', 'pat', 'pata', 'patakh', 'patani', 'patar', 'pate', 'patey', 'path', 'pathan', 'pathar', 'pather', 'pathon', 'pathrao', 'pathri', 'paths', 'pathwaris', 'pati', 'patience', 'patient', 'patients', 'patishion', 'patla', 'patli', 'patly', 'patras', 'patri', 'patrol', 'patta', 'pattan', 'pattern', 'patterns', 'patthar', 'patther', 'patti', 'patwaari', 'patwaran', 'patwari', 'patwarii', 'patwario', 'patwarion', 'patwarioon', 'patwariun', 'patwariyon', 'paucha', 'pauda', 'paun', 'paunay', 'pavilian', 'pavilion', 'pawer', 'pax', 'pay', 'paya', 'payal', 'payala', 'payan', 'payar', 'payara', 'payare', 'payari', 'paye', 'payedar', 'payega', 'payein', 'payghaam', 'payment', 'payo', 'payri', 'paysay', 'payyeh', 'pazeer', 'pazeerai', 'pazeereshana', 'pazir', 'pazirai', 'pc', 'pchle', 'pchy', 'pco', 'pda', 'pde', 'pdma', 'pdni', 'pe', 'peace', 'peach', 'peachay', 'peachey', 'peara', 'pearl', 'peasha', 'pecha', 'pechay', 'peche', 'pecheda', 'pechey', 'pechlaye', 'pechle', 'pechy', 'peda', 'pedal', 'pedashi', 'pedawar', 'pee', 'peecha', 'peechay', 'peeche', 'peechey', 'peechly', 'peechy', 'peel', 'peele', 'peena', 'peenay', 'peene', 'peer', 'peerni', 'peeron', 'peerzada', 'peete', 'pefir', 'pegam', 'pegham', 'peh', 'pehal', 'pehan', 'pehanne', 'pehanta', 'pehante', 'pehchaaan', 'pehchaan', 'pehchan', 'pehchane', 'pehchani', 'pehchantehain', 'pehelay', 'pehen', 'pehene', 'pehenne', 'peher', 'pehi', 'pehla', 'pehlaaj', 'pehlay', 'pehle', 'pehlemain', 'pehley', 'pehli', 'pehlo', 'pehlon', 'pehloo', 'pehloun', 'pehly', 'pehn', 'pehna', 'pehnane', 'pehnate', 'pehnay', 'pehne', 'pehney', 'pehni', 'pehnkar', 'pehnkay', 'pehnn', 'pehnna', 'pehnnay', 'pehnne', 'pehnney', 'pehno', 'pehnoon', 'pehnta', 'pehran', 'peida', 'pekar', 'pekhte', 'pekra', 'pel', 'pelana', 'pemint', 'pemra', 'pen', 'pendant', 'pendants', 'pension', 'pensioners', 'pents', 'peons', 'people', 'peoples', 'pepsi', 'peqandous', 'per', 'pera', 'peraae', 'percent', 'perdhsnon', 'perents', 'perfct', 'perfect', 'perfectly', 'perfomence', 'perform', 'performance', 'performed', 'performer', 'performing', 'perfume', 'perh', 'perha', 'perhate', 'perhay', 'perhi', 'perhy', 'peri', 'period', 'perishaan', 'perkiss', 'permay', 'permisdion', 'permission', 'permit', 'pero', 'peroo', 'persian', 'person', 'personal', 'personality', 'personallah', 'personalty', 'pervaiz', 'pervaz', 'perveez', 'pervez', 'pervi', 'perviz', 'perwari', 'perwaz', 'perwi', 'pesa', 'pesco', 'pese', 'peser', 'pesh', 'pesha', 'peshab', 'peshangoi', 'peshanion', 'peshawar', 'peshawarana', 'peshawari', 'peshawer', 'peshediyon', 'peshkash', 'peshraft', 'peshwar', 'peso', 'peson', 'pesoon', 'pesy', 'peta', 'peter', 'peters', 'peti', 'petrol', 'petroleum', 'peuary', 'peuda', 'pevaiz', 'pew', 'pewr', 'pey', 'peya', 'peyand', 'peyar', 'peyara', 'peyari', 'peyary', 'peyda', 'peye', 'peygham', 'peyghamat', 'peyhazri', 'peykar', 'peymane', 'peyra', 'pgl', 'pgli', 'ph', 'phaat', 'phada', 'phadda', 'phainkay', 'phal', 'phalane', 'phali', 'phaly', 'phans', 'phansa', 'phansany', 'phansaya', 'phansi', 'phansiyan', 'phansna', 'phansti', 'phante', 'phaphole', 'phar', 'phara', 'pharakti', 'pharegi', 'pharhe', 'pharhta', 'pharndia', 'pharne', 'pharya', 'phas', 'phasa', 'phasaye', 'phasne', 'phass', 'phassti', 'phasti', 'phaswa', 'phat', 'phata', 'phataken', 'phate', 'phathi', 'phatichar', 'phatii', 'phatkey', 'phatnay', 'phatrao', 'phatt', 'phattar', 'phattay', 'phaty', 'phayrrrrr', 'phd', 'phechan', 'pheeche', 'pheel', 'pheke', 'pheki', 'phel', 'phela', 'phelaen', 'phelana', 'phelane', 'phelata', 'phelay', 'phelaya', 'phelaye', 'phele', 'pheley', 'pheli', 'phelnay', 'phelo', 'pheloon', 'phelti', 'phely', 'phen', 'phenane', 'phenao', 'phenata', 'phenk', 'phenkni', 'phenky', 'pheno', 'phephron', 'pher', 'phere', 'phernay', 'phero', 'phichle', 'philippine', 'phillips', 'philosopher', 'philosophical', 'philosophy', 'philpine', 'phinshi', 'phir', 'phiren', 'phirse', 'phirta', 'phirti', 'phisal', 'phlay', 'phle', 'phli', 'phlt', 'phly', 'phn', 'phnch', 'phnchayaha', 'phnchty', 'phobia', 'phochne', 'phochya', 'phol', 'phon', 'phonch', 'phonche', 'phonchi', 'phone', 'phonk', 'phool', 'phoolan', 'phoopian', 'phopho', 'phopiu', 'phopu', 'phor', 'phorte', 'phote', 'photi', 'photo', 'photographer', 'photographers', 'photography', 'photos', 'photosession', 'photoshoot', 'photoshop', 'phr', 'phrai', 'phrya', 'phsti', 'phtt', 'phudaaa', 'phuddi', 'phukhraj', 'phulke', 'phulki', 'phupa', 'phuphee', 'phupho', 'phupi', 'phupii', 'phupo', 'phuppo', 'phurteele', 'phurti', 'phus', 'phustain', 'phutt', 'physical', 'pi', 'pia', 'piada', 'piadaish', 'pianist', 'piano', 'piar', 'pib', 'pic', 'picha', 'pichay', 'piche', 'pichle', 'pick', 'picking', 'pics', 'picture', 'pictures', 'picturize', 'picxx', 'pida', 'piece', 'pieces', 'pighlty', 'pigli', 'pila', 'pilaa', 'pilaaa', 'pilaaaday', 'pilade', 'pilana', 'pilane', 'pilaoga', 'pilati', 'pilay', 'pilaye', 'pilot', 'pimple', 'pin', 'pinch', 'pindi', 'pink', 'pinki', 'pipa', 'pipe', 'pipeline', 'pir', 'pirates', 'pirni', 'pirokaron', 'pirzada', 'pisa', 'pisay', 'pishawir', 'pisti', 'pit', 'pita', 'pitaee', 'pitay', 'pitch', 'pitengey', 'pithoo', 'pitogi', 'pitware', 'pitwaye', 'piya', 'piyaar', 'piyaire', 'piyar', 'piyara', 'piyare', 'piyari', 'piyary', 'piyasay', 'piye', 'piyen', 'piyer', 'pizaa', 'pizza', 'pizzay', 'pk', 'pka', 'pkar', 'pkdna', 'pkka', 'pkr', 'pkr60', 'pkra', 'pl', 'place', 'plan', 'planet', 'planing', 'planingy', 'planning', 'plans', 'plant', 'plastic', 'plate', 'platoon', 'play', 'playboy', 'played', 'player', 'players', 'playing', 'playoff', 'playstaion', 'plears', 'pleas', 'please', 'pleasee', 'pleasure', 'ples', 'plez', 'plis', 'pliz', 'plot', 'plots', 'pls', 'plus', 'plx', 'plya', 'plyed', 'plz', 'plzo', 'plzz', 'plzzx', 'plzzz', 'plzzzzz', 'plzzzzzz', 'plzzzzzzzz', 'plzzzzzzzzzz', 'pm', 'pmajk', 'pmdc', 'pml', 'pmln', 'pmpakistan', 'pmt', 'pnha', 'pnji', 'po', 'poaint', 'poar', 'poat', 'poch', 'pocha', 'pochaaa', 'pochay', 'pochen', 'pochiye', 'pochliiii', 'pochna', 'pocho', 'pochta', 'pochte', 'pochti', 'pochty', 'pocket', 'pockets', 'poe', 'poems', 'poet', 'poetess', 'poetry', 'poets', 'pogo', 'pogram', 'pohach', 'pohanch', 'pohancha', 'pohanchana', 'pohanchane', 'pohanchani', 'pohanchaya', 'pohanche', 'pohanchegi', 'pohanchein', 'pohanchen', 'pohanchi', 'pohanchne', 'pohanchta', 'pohanchti', 'pohanchya', 'pohch', 'pohcha', 'pohchane', 'pohchaya', 'pohncha', 'pohnchane', 'pohnchaty', 'pohnchaya', 'pohnche', 'pohnchi', 'pohnchne', 'pohuch', 'pohunch', 'poileman', 'point', 'pointed', 'pointer', 'pointing', 'points', 'poire', 'pol', 'polat', 'police', 'policies', 'policiyon', 'policy', 'policyon', 'polio', 'polis', 'polish', 'polishing', 'political', 'politician', 'politicians', 'politics', 'politions', 'polka', 'pollice', 'polling', 'poncha', 'ponting', 'pooch', 'poocha', 'poochna', 'poochne', 'poochun', 'pooja', 'pool', 'poondi', 'pooniyan', 'pooocha', 'pooond', 'pooora', 'poor', 'poora', 'pooray', 'poore', 'poorer', 'poori', 'poorrfsbdi', 'poory', 'poot', 'pootar', 'pop', 'popping', 'popular', 'por', 'pora', 'porana', 'porani', 'poray', 'pore', 'pori', 'porn', 'poro', 'port', 'portable', 'portion', 'pory', 'pos', 'posh', 'poshak', 'poshidah', 'position', 'positive', 'possibl', 'post', 'poster', 'posters', 'poston', 'posts', 'poti', 'potter', 'pouch', 'pouchuon', 'pounds', 'poura', 'power', 'powered', 'powerful', 'powers', 'pp', 'pp152', 'pp162', 'ppl', 'ppocha', 'ppp', 'pppp', 'ppr', 'pr', 'pra', 'practical', 'practicaly', 'practice', 'practices', 'prada', 'pradesh', 'prado', 'pray', 'prayer', 'prda', 'pre', 'prediction', 'predictions', 'preedy', 'prem', 'premier', 'premium', 'presentation', 'presented', 'preshan', 'preshanian', 'president', 'presidents', 'presley', 'preson', 'press', 'pressure', 'prevail', 'prfomce', 'prgrmbna', 'prh', 'prha', 'prhana', 'prhane', 'prhaya', 'prhly', 'prhna', 'prhny', 'prhti', 'prhya', 'pri', 'price', 'pride', 'prime', 'primeministeroffice', 'primeminster', 'primery', 'primry', 'prince', 'princes', 'princess', 'principal', 'print', 'printed', 'printing', 'prints', 'private', 'privatization', 'privatize', 'priyanka', 'prize', 'prizes', 'prmaxhine', 'probably', 'problem', 'problems', 'problm', 'process', 'processor', 'proclaimed', 'prodece', 'produce', 'producer', 'producers', 'producing', 'product', 'product1010', 'production', 'productions', 'products', 'producttlove', 'professional', 'professor', 'profferi', 'prog', 'program', 'programe', 'programme', 'programmes', 'programming', 'programs', 'project', 'projects', 'promo', 'promote', 'promoting', 'promotion', 'proof', 'propaganda', 'propely', 'proper', 'property', 'protect', 'protection', 'protein', 'protest', 'proud', 'prove', 'proved', 'provide', 'province', 'provinces', 'provoke', 'prplease', 'prre', 'prta', 'prti', 'prupose', 'pry', 'pryers', 'ps', 'pse', 'pskistani', 'psl', 'psl3', 'psnd', 'psr', 'psychologist', 'pta', 'ptaa', 'ptamje', 'ptaw', 'ptcl', 'pthaan', 'pthan', 'pti', 'ptq', 'ptrol', 'ptv', 'pu', 'public', 'publicity', 'publish', 'puch', 'pucha', 'puchay', 'puchlena', 'puchlo', 'puchny', 'pucho', 'puchoo', 'puchta', 'puchty', 'puhanch', 'puhddi', 'puhonch', 'puhonchay', 'puja', 'pujari', 'pukaar', 'pukar', 'pukara', 'pukarte', 'pukarti', 'pukh', 'pukhrajdilshad', 'pukhta', 'pukhtagi', 'pukrain', 'pul', 'pull', 'pump', 'pumps', 'pun', 'punch', 'punchaa', 'punchad', 'punchta', 'punh', 'punish', 'punished', 'punishment', 'punjab', 'punjabi', 'punngaa', 'pupha', 'pur', 'pura', 'puraani', 'purana', 'puranay', 'purane', 'puraney', 'purani', 'puray', 'purchase', 'pure', 'purey', 'puri', 'purifier', 'purjosh', 'purkashish', 'purlutf', 'purpuse', 'pursan', 'pursane', 'purtashadud', 'purtasur', 'purumeed', 'pury', 'purzoor', 'purzour', 'pusht', 'pushto', 'pushtoon', 'puste', 'put', 'puter', 'putin', 'pvt', 'px', 'py', 'pyaar', 'pyaaray', 'pyaari', 'pyar', 'pyara', 'pyaray', 'pyare', 'pyari', 'pyary', 'pyda', 'pyi', 'pyiari', 'pyr', 'pyra', 'pyraa', 'pyre', 'pyrey', 'pyri', 'pysri', 'q', 'qaad', 'qaaeem', 'qaaf', 'qab', 'qabahat', 'qabail', 'qabaili', 'qabal', 'qabar', 'qabaristan', 'qabaz', 'qabbr', 'qabees', 'qaber', 'qabil', 'qabilay', 'qabile', 'qabilezikar', 'qabiliyat', 'qabill', 'qabiz', 'qabl', 'qabliat', 'qabliyat', 'qabo', 'qabol', 'qaboo', 'qabool', 'qabooleaam', 'qaboool', 'qaboul', 'qabr', 'qabristan', 'qabrustan', 'qabul', 'qabza', 'qabzay', 'qabze', 'qabzey', 'qad', 'qadam', 'qadamat', 'qadar', 'qadeem', 'qadeen', 'qadeer', 'qadem', 'qadiani', 'qadir', 'qadiyanio', 'qadiyon', 'qadmi', 'qadmo', 'qadr', 'qadre', 'qadrey', 'qadri', 'qadria', 'qadyani', 'qadyano', 'qafas', 'qaflay', 'qaflon', 'qahat', 'qahid', 'qahqa', 'qahwa', 'qaiadat', 'qaiam', 'qaid', 'qaida', 'qaideon', 'qaidiyon', 'qaidoband', 'qaidyon', 'qaiem', 'qail', 'qaim', 'qaimalishah', 'qaiyl', 'qaiym', 'qala', 'qalabe', 'qalam', 'qalandar', 'qalandars', 'qalandarzdamadammast', 'qalander', 'qalanders', 'qalandrs', 'qalb', 'qalbi', 'qalib', 'qalm', 'qalmi', 'qalq', 'qamar', 'qamat', 'qamees', 'qameez', 'qanayat', 'qandeel', 'qandeelbaloch', 'qandhri', 'qanon', 'qanondan', 'qanondanon', 'qanone', 'qanoni', 'qanoon', 'qanoondaano', 'qanooni', 'qanoonsaaz', 'qanun', 'qanuni', 'qaom', 'qaraar', 'qaradad', 'qarar', 'qarardaad', 'qarardad', 'qarardadon', 'qareb', 'qarebi', 'qareeb', 'qareebi', 'qaren', 'qari', 'qarib', 'qaribi', 'qarnama', 'qarz', 'qarza', 'qarzay', 'qarzey', 'qasam', 'qasbon', 'qasd', 'qaseeday', 'qasem', 'qasim', 'qasimabad', 'qasir', 'qasm', 'qasma', 'qasmay', 'qasmein', 'qasmi', 'qasmy', 'qasoor', 'qasor', 'qassam', 'qataa', 'qatai', 'qatal', 'qatar', 'qateel', 'qatel', 'qatil', 'qatilana', 'qatilo', 'qatleaam', 'qatleaam300', 'qatlon', 'qatron', 'qaulity', 'qaum', 'qaumi', 'qaumo', 'qawaal', 'qawali', 'qawaliyon', 'qawami', 'qawaneen', 'qawanin', 'qawwal', 'qawwali', 'qayadat', 'qayam', 'qayamat', 'qayamt', 'qayatam', 'qayel', 'qayem', 'qayim', 'qaym', 'qayyum', 'qaza', 'qazi', 'qaziye', 'qbeghert', 'qbool', 'qdr', 'qead', 'qeaidetanhaye', 'qeaidoband', 'qed', 'qedi', 'qediyon', 'qeed', 'qeemat', 'qeemti', 'qeemton', 'qehat', 'qehqahon', 'qehqaye', 'qeid', 'qemat', 'qematein', 'qematon', 'qemti', 'qeyam', 'qeyamat', 'qeyame', 'qeyamepakistan', 'qeyamkiya', 'qiamat', 'qiaser', 'qibla', 'qilat', 'qiley', 'qilla', 'qillat', 'qimat', 'qiraat', 'qirat', 'qisam', 'qisim', 'qism', 'qismat', 'qismati', 'qissa', 'qist', 'qiyadat', 'qiyam', 'qk', 'qlab', 'qmobile', 'qoam', 'qobolo', 'qoi', 'qol', 'qom', 'qomi', 'qomon', 'qonduz', 'qonotiyat', 'qoob', 'qoom', 'qotwal', 'qoum', 'qoumi', 'qowat', 'qsmyyy', 'qu', 'quadi', 'quaid', 'quaidbad', 'quaideen', 'quaidmqm', 'quaim', 'quait', 'qualifier', 'qualify', 'qualities', 'quality', 'qualityso', 'qualityvery', 'quallity', 'qualtiy', 'qualty', 'quami', 'quanlity', 'quarter', 'qubi', 'qudrat', 'qudrati', 'qudratullah', 'qudsiya', 'queen', 'question', 'quetta', 'quettay', 'qufria', 'quick', 'quidyon', 'quiet', 'quit', 'quite', 'quiz', 'qulity', 'quloob', 'qumi', 'qundooz', 'quom', 'quome', 'quomi', 'quota', 'quote', 'qura', 'quraan', 'quraish', 'quran', 'qurat', 'qurb', 'qurbaan', 'qurban', 'qurbani', 'qurbaniyon', 'qurbat', 'qurbt', 'qureshi', 'qurshi', 'qusoor', 'quta', 'qutty', 'quwat', 'quwwaton', 'qwp', 'qyaim', 'qyamat', 'qyamt', 'r', 'ra', 'raaasra', 'raab', 'raae', 'raaey', 'raah', 'raaj', 'raajgal', 'raami', 'raan', 'raapaglait', 'raasta', 'raastay', 'raaste', 'raat', 'raaton', 'raaye', 'raaz', 'raazdar', 'rab', 'rabbal', 'rabbani', 'rabbe', 'rabbmadina', 'rabi', 'rabia', 'rabne', 'rabta', 'rabte', 'rabulalmin', 'race', 'raceall', 'rachaya', 'rad', 'radd', 'radde', 'rade', 'radha', 'radio', 'rae', 'raey', 'rafaa', 'rafah', 'rafahi', 'rafaqat', 'rafay', 'rafeeq', 'rafi', 'rafiq', 'raft', 'rafta', 'raftaar', 'raftar', 'raftari', 'rafter', 'rag', 'ragab', 'ragarny', 'raghib', 'ragon', 'ragoo', 'ragrey', 'rah', 'raha', 'rahaa', 'rahabakwas', 'rahae', 'rahahi', 'rahai', 'rahain', 'raham', 'rahao', 'rahaunfortunately', 'rahay', 'rahe', 'raheapni', 'rahee', 'raheel', 'raheem', 'raheen', 'rahega', 'rahegi', 'rahein', 'raheingi', 'raheinn', 'rahem', 'rahen', 'rahengay', 'rahenge', 'rahengi', 'rahengy', 'raherast', 'rahety', 'rahey', 'raheyan', 'rahi', 'rahiaj', 'rahien', 'rahii', 'rahiits', 'rahim', 'rahimi', 'rahin', 'rahish', 'rahiye', 'rahka', 'rahko', 'rahm', 'rahman', 'rahmat', 'rahmet', 'rahmi', 'rahmtain', 'rahmte', 'rahna', 'rahnaa', 'rahne', 'rahnuma', 'rahnumai', 'raho', 'rahogi', 'rahon', 'rahonga', 'rahongi', 'rahoo', 'rahoun', 'rahsani', 'rahta', 'rahte', 'rahtey', 'rahti', 'rahty', 'rahu', 'rahukhuda', 'rahul', 'rahun', 'rahy', 'rahy16', 'rahye', 'rahygii', 'rahyn', 'rahyplz', 'rai', 'raidahi', 'raider', 'raiders', 'raij', 'rail', 'railway', 'railways', 'rainbow', 'rait', 'raiting', 'raiwand', 'raj', 'raja', 'rajab', 'rajesh', 'rajhistan', 'rajiuun', 'rajiv', 'rajment', 'rajpoot', 'rajputtheatre', 'raju', 'rajwana', 'rak', 'raka', 'rakah', 'rakahy', 'rakain', 'rakay', 'rakenameeen', 'rakh', 'rakha', 'rakhaameen', 'rakhaen', 'rakhain', 'rakhalekin', 'rakhat', 'rakhay', 'rakhayameen', 'rakhe', 'rakheameen', 'rakhee', 'rakhein', 'rakhen', 'rakhenge', 'rakhengi', 'rakhey', 'rakheyaameen', 'rakheyameeeeeeeeeeen', 'rakheyameen', 'rakhhen', 'rakhi', 'rakhiay', 'rakhien', 'rakhio', 'rakhiy', 'rakhiya', 'rakhiye', 'rakhkar', 'rakhke', 'rakhm', 'rakhn', 'rakhna', 'rakhnay', 'rakhne', 'rakhny', 'rakho', 'rakhoin', 'rakhon', 'rakhongi', 'rakhta', 'rakhtay', 'rakhte', 'rakhtee', 'rakhti', 'rakhty', 'rakhwa', 'rakhwala', 'rakhwate', 'rakhy', 'rakhyain', 'rakhyameen', 'rakhye', 'rakhyeh', 'rakhyiga', 'rakhyn', 'rakhyur', 'rakiya', 'rakna', 'rakne', 'rakny', 'rako', 'rakta', 'rakthae', 'raktho', 'rakun', 'raky', 'rakyameen', 'rally', 'ram', 'ramadan', 'raman', 'ramazan', 'rameez', 'rami', 'ramsha', 'ramzaan', 'ramzan', 'ramzin', 'ramzsn', 'rana', 'ranaa', 'ranai', 'ranbir', 'randava', 'randi', 'randy', 'rang', 'ranga', 'rangat', 'rangbazijo', 'range', 'rangeen', 'ranger', 'rangers', 'rangin', 'rangon', 'rangoun', 'rani', 'raniya', 'ranj', 'ranjish', 'rank', 'ranking', 'rao', 'raoshni', 'rape', 'raqabat', 'raqam', 'raqebon', 'raqs', 'ras', 'rasa', 'rasaai', 'rasai', 'rasaiyl', 'rasam', 'rasani', 'raseeli', 'rashan', 'rashdi', 'rasheed', 'rashid', 'rashk', 'rasidah', 'rasio', 'rasiya', 'rasmi', 'rasoli', 'rasooi', 'rasookh', 'rasool', 'rasoolallah', 'rassiya', 'rast', 'rasta', 'rastah', 'rastay', 'raste', 'rasty', 'rasukh', 'rasul', 'rat', 'rat0n', 'ratay', 'rate', 'rates', 'ratin', 'rating', 'ratings', 'ratna', 'ratobat', 'raton', 'ratt', 'ratte', 'rauf', 'raunat', 'raushan', 'ravi', 'ravian', 'raw', 'rawa', 'rawaa', 'rawaan', 'rawabit', 'rawadari', 'rawaeay', 'rawaha', 'rawait', 'rawaiya', 'rawaiyya', 'rawaiyye', 'rawalakot', 'rawalpindi', 'rawan', 'rawana', 'rawani', 'rawati', 'rawaya', 'rawayat', 'rawaye', 'rawish', 'ray', 'raye', 'raytti', 'rayyan', 'raz', 'raza', 'razahayat', 'razai', 'razakaar', 'razakarana', 'razakaron', 'raze', 'razi', 'razia', 'razm', 'razsa', 'razzaque', 'rbb', 'rbbika', 'rcvd', 'rd', 'rdy', 're', 'rea', 'react', 'reaction', 'reacts', 'read', 'reading', 'ready', 'reakhy', 'real', 'realease', 'realese', 'reality', 'realization', 'realize', 'really', 'realy', 'reason', 'reasoning', 'reazr', 'receive', 'received', 'recieved', 'recive', 'recoding', 'recommend', 'recommended', 'recommendedall', 'record', 'recorded', 'recorder', 'recording', 'recordings', 'records', 'recover', 'recreate', 'red', 'reee', 'reference', 'references', 'referendum', 'reflect', 'refocusing', 'refrence', 'refrendam', 'refrendom', 'regal', 'regards', 'regent', 'regiments', 'region', 'registered', 'registration', 'regret', 'regular', 'reh', 'reha', 'rehaam', 'rehae', 'rehai', 'rehaishgah', 'rehaiysh', 'rehaiyshgaah', 'reham', 'rehan', 'rehana', 'rehay', 'rehaye', 'rehayi', 'rehearsal', 'reheem', 'rehegi', 'rehem', 'rehene', 'rehgai', 'rehhm', 'rehi', 'rehkar', 'rehkey', 'rehm', 'rehman', 'rehmani', 'rehmat', 'rehmatinfinite', 'rehmi', 'rehn', 'rehna', 'rehnay', 'rehne', 'rehnuma', 'rehnumaa', 'rehnumai', 'rehnumao', 'rehnumaun', 'rehny', 'rehrat', 'rehta', 'rehtaaaaaa', 'rehtay', 'rehte', 'rehtein', 'rehti', 'rehty', 'rehum', 'reject', 'rejgtration', 'rekey', 'rekhay', 'rekhti', 'rekhy', 'rekshon', 'relatable', 'relate', 'relations', 'relax', 'release', 'relented', 'relief', 'relif', 'religion', 'reliyan', 'relu', 'remake', 'remand', 'remember', 'remembered', 'remend', 'remind', 'remote', 'remotely', 'removed', 'remover', 'rental', 'renumaon', 'reopen', 'repeat', 'reped', 'reply', 'report', 'reporter', 'repoters', 'request', 'requeste', 'requests', 'required', 'resala', 'resale', 'resaley', 'resalon', 'rescue', 'research', 'resembles', 'reserve', 'resha', 'resham', 'reshamiya', 'reshty', 'residency', 'resignation', 'resistant', 'resol', 'resolution', 'respect', 'response', 'responsibility', 'responsible', 'responsive', 'resquest', 'restart', 'restaurant', 'resulit', 'result', 'results', 'retail', 'retire', 'retired', 'retiree', 'retirement', 'retirment', 'return', 'revelation', 'review', 'reviews', 'reviseupgradation', 'rewayat', 'rewayati', 'rey', 'reyasat', 'reyaz', 'reyhna', 'reza', 'rh', 'rha', 'rhaa', 'rhain', 'rhay', 'rhaye', 'rhe', 'rhea', 'rhee', 'rhein', 'rhem', 'rhen', 'rhenay', 'rhene', 'rhey', 'rhgia', 'rhi', 'rhii', 'rhin', 'rhkay', 'rhke', 'rhko', 'rhkta', 'rhn', 'rhna', 'rhne', 'rhny', 'rho', 'rhogi', 'rhta', 'rhte', 'rhti', 'rhy', 'rhyga', 'rhyny', 'ri', 'ri88', 'riasat', 'riayat', 'riaz', 'ricardo', 'rice', 'rich', 'richard', 'richards', 'richie', 'rick', 'ricks', 'ricky', 'ride', 'riders', 'riding', 'right', 'rights', 'riha', 'rihaai', 'rihai', 'rihaishgaah', 'rihaishi', 'rikshaw', 'riksho', 'rim', 'rind', 'ring', 'rip', 'risala', 'risale', 'rise', 'rishikesh', 'rishotun', 'rishta', 'rishtay', 'rishtedar', 'rishton', 'rishty', 'rishwat', 'risk', 'riswaat', 'rit', 'riter', 'rivers', 'riwayaat', 'riwayat', 'riwayati', 'riyaazi', 'riyal', 'riyasat', 'riyasati', 'riyasato', 'riyasaton', 'riyaya', 'riyazati', 'riyazi', 'rizak', 'rizaq', 'rizk', 'rizq', 'rizvi', 'rizwanisbdgmailcom', 'rizwanul', 'rk', 'rkar', 'rkh', 'rkha', 'rkhay', 'rkhe', 'rkheamin', 'rkhna', 'rkhne', 'rkhny', 'rkho', 'rkhta', 'rkhtay', 'rkhte', 'rkhti', 'rkhty', 'rkhy', 'rkhye', 'rkhyega', 'rkkhy', 'rkna', 'rky', 'rmi', 'rmzan', 'rna', 'ro', 'roa', 'roab', 'road', 'roadaan', 'roadian', 'roads', 'roah', 'roak', 'robaro', 'robbers', 'robert', 'robi', 'robin', 'robina', 'robot', 'rock', 'rocket', 'rocks', 'rockslv', 'rocky', 'rofaqa', 'rogardani', 'roh', 'rohan', 'rohani', 'rohaniat', 'rohi', 'roi', 'rojhan', 'rok', 'roka', 'rokawaty', 'roke', 'rokh', 'rokhi', 'rokiye', 'roklo', 'rokna', 'roknay', 'rokne', 'roko', 'rokte', 'rokti', 'rola', 'rolaa', 'rolany', 'role', 'roles', 'roll', 'rolna', 'rolta', 'romaal', 'roman', 'romance', 'romaniyat', 'romantic', 'rona', 'ronak', 'rond', 'rone', 'roney', 'rony', 'roo', 'rooh', 'rook', 'rool', 'room', 'roomanvi', 'rooms', 'roona', 'roonuma', 'roooo', 'roop', 'roos', 'roosalman', 'roosi', 'rooth', 'rooti', 'rooz', 'roqom', 'rose', 'roshan', 'roshanas', 'roshanaz', 'roshnash', 'roshni', 'rosi', 'rota', 'rote', 'roteen', 'roti', 'roty', 'roub', 'roug', 'rough', 'rounaq', 'round', 'rounder', 'rouny', 'roushan', 'route', 'rowlatt', 'roxana', 'roya', 'royal', 'royat', 'roye', 'roz', 'roza', 'rozah', 'rozana', 'rozay', 'roze', 'rozeawwal', 'rozedar', 'rozgaar', 'rozgar', 'rozi', 'roznama', 'rozon', 'rozy', 'rp', 'rpt', 'rrakhy', 'rs', 'rss', 'rtd', 'rubab', 'rubber', 'rubbish', 'rubina', 'ruby', 'rude', 'rufaqa', 'rugo', 'ruhani', 'ruhsat', 'rujat', 'rujhaan', 'rujoo', 'ruju', 'ruk', 'ruka', 'rukan', 'rukawat', 'ruke', 'rukh', 'rukhsana', 'rukhsat', 'rukhset', 'rukhsta', 'rukii', 'rukn', 'ruknay', 'rukni', 'rukniyat', 'rukon', 'rukti', 'rukun', 'rukwai', 'ruky', 'rula', 'rulaa', 'rule', 'ruler', 'rules', 'run', 'runnerapp', 'runs', 'rupa', 'rupay', 'rupe', 'rupee', 'rupees', 'rupeesallh', 'rupey', 'rupiya', 'rupon', 'ruppes', 'ruppey', 'rupy', 'rupya', 'ruqby', 'rus', 'ruse', 'russia', 'russian', 'rusva', 'ruswa', 'ruswae', 'ruswai', 'rutba', 'rutbe', 'rutbey', 'ruzult', 'ry', 'rya', 'ryan', 'ryk', 'ryt', 's', 's5', 'sa', 'saaab', 'saaade', 'saaaf', 'saaas', 'saab', 'saad', 'saaday', 'saadgi', 'saadi', 'saaey', 'saaf', 'saah', 'saakh', 'saakhti', 'saal', 'saala', 'saalgira', 'saali', 'saalo', 'saalon', 'saalun', 'saamna', 'saamne', 'saani', 'saanp', 'saans', 'saanwli', 'saara', 'saarc', 'saare', 'saari', 'saary', 'saas', 'saat', 'saath', 'saathsub', 'saawan', 'saay', 'saaya', 'saaz', 'saazi', 'saazishoo', 'saazon', 'sab', 'sab2018', 'saba', 'sabab', 'sabak', 'sabaq', 'sabar', 'sabay', 'sabb', 'sabgadhay', 'sabghat', 'sabh', 'sabha', 'sabhalo', 'sabhi', 'sabie', 'sabihan', 'sabika', 'sabiq', 'sabiqa', 'sabit', 'sabk', 'sabke', 'sabki', 'sabko', 'sabne', 'saboor', 'saboot', 'sabot', 'sabqa', 'sabr', 'sabriii', 'sabse', 'sabun', 'saby', 'sabzi', 'sabzian', 'saccha', 'sach', 'sacha', 'sachai', 'sache', 'sachet', 'sachha', 'sachi', 'sachii', 'sachin', 'sacrifices', 'sacty', 'sad', 'sada', 'sadaa', 'sadabahar', 'sadah', 'sadakar', 'sadande', 'sadar', 'sadarat', 'sadarepakistan', 'sadarti', 'sadat', 'saday', 'saddaf', 'saddar', 'saddarati', 'sadder', 'saddi', 'saddiyon', 'sade', 'sadeqe', 'sadeqi', 'sadfkey', 'sadgi', 'sadha', 'sadhi', 'sadi', 'sadia', 'sadiki', 'sadiq', 'sadiqe', 'sadiqi', 'sadiqiwazeer', 'sadiyoon', 'sadko', 'sadky', 'sadma', 'sadme', 'sadmey', 'sadqa', 'sadqay', 'sadqe', 'sadqy', 'sadyon', 'sae', 'saed', 'saeed', 'saeedabad', 'saeenjab', 'saen', 'saet', 'saey', 'saf', 'safa', 'safai', 'safaid', 'safar', 'safarat', 'safaratkaar', 'safarname', 'safarsh', 'safarshi', 'safaya', 'safbandi', 'safdar', 'safe', 'safeer', 'safer', 'saff', 'saffed', 'saffon', 'safha', 'safi', 'safir', 'safon', 'safrica', 'sagaf', 'sagali', 'sagar', 'sage', 'saghar', 'sagheer', 'sah', 'sahab', 'sahaba', 'sahabzada', 'sahabzadi', 'sahafat', 'sahafi', 'sahafiuo', 'sahafiyon', 'sahafyon', 'sahak', 'sahar', 'sahara', 'sahare', 'sahat', 'sahb', 'sahbasss', 'sahe', 'saheb', 'sahebzade', 'sahee', 'sahekoi', 'sahel', 'saher', 'sahet', 'sahewal', 'sahi', 'sahib', 'sahiba', 'sahibaan', 'sahibap', 'sahih', 'sahii', 'sahil', 'sahir', 'sahira', 'sahiwal', 'sahk', 'sahksiyat', 'sahleh', 'saholat', 'saholatein', 'saholaten', 'saholatkar', 'saholaton', 'saholtein', 'sahooltein', 'sahrf', 'sahulat', 'sahulatkaro', 'sahulton', 'sahy', 'sahzada', 'sai', 'saiasat', 'saib', 'said', 'saif', 'saifullah', 'sailab', 'saima', 'sain', 'saiqeen', 'saira', 'saisat', 'saisi', 'saiy', 'saiyaan', 'saiye', 'saja', 'sajai', 'sajal', 'sajdah', 'sajde', 'sajdey', 'sajdon', 'sajed', 'sajh', 'saji', 'sajjad', 'sajna', 'sajne', 'saka', 'sakain', 'sakam', 'sakartona', 'sakatay', 'sakay', 'sake', 'sakein', 'saken', 'sakengi', 'sakey', 'sakha', 'sakhar', 'sakhat', 'sakhay', 'sakhe', 'sakhi', 'sakhsiyat', 'sakht', 'sakhta', 'sakhtah', 'sakhti', 'sakhtlaondi', 'sakhty', 'sakhun', 'saki', 'sakin', 'saknay', 'sako', 'sakogi', 'sakon', 'sakonat', 'sakoon', 'sakoot', 'sakot', 'saksiyat', 'sakta', 'saktah', 'saktay', 'sakte', 'saktein', 'saktey', 'sakth', 'sakti', 'saktin', 'sakty', 'saku', 'sakun', 'saky', 'sal', 'sala', 'salaad', 'salaam', 'salaami', 'salaamt', 'salaana', 'salaar', 'salah', 'salahiatein', 'salahiyaon', 'salahiyat', 'salahiyatein', 'salahiyaten', 'salahiyaton', 'salahyat', 'salahyatein', 'salahyaton', 'salakhon', 'salam', 'salamat', 'salamati', 'salami', 'salamiii', 'salamoalikum', 'salamt', 'salamti', 'salana', 'salao', 'salar', 'salaries', 'salary', 'salasat', 'salatu', 'salay', 'sale', 'saleem', 'saleemyat', 'saleha', 'sales', 'salgirah', 'sali', 'salif', 'saliha', 'saliqa', 'salisi', 'salk', 'sall', 'sallallaho', 'sallam', 'sallamtiyoun', 'salma', 'salman', 'salmat', 'salo', 'salon', 'saloni', 'saloo', 'salook', 'saloon', 'salt', 'saltanat', 'salute', 'saly', 'sam', 'samaa', 'samaaj', 'samaan', 'samad', 'samaete', 'samaey', 'samagh', 'samaghtay', 'samait', 'samaj', 'samaja', 'samajh', 'samajhdari', 'samajhna', 'samajhnay', 'samajhne', 'samajhta', 'samajhtay', 'samajhte', 'samajhti', 'samaji', 'samajiyat', 'samajti', 'samakh', 'saman', 'samandar', 'samander', 'samar', 'samara', 'samarbaar', 'samat', 'samaton', 'samayein', 'sambey', 'sambhal', 'sambhala', 'sambhalay', 'sambhalen', 'sambhalne', 'sambhalo', 'same', 'sameena', 'sameer', 'samer', 'samet', 'sameta', 'sameth', 'sameti', 'samgha', 'samhala', 'sami', 'samil', 'samina', 'samit', 'samj', 'samjain', 'samjana', 'samjdar', 'samjh', 'samjha', 'samjhane', 'samjhay', 'samjhaya', 'samjhdar', 'samjhe', 'samjhea', 'samjhegi', 'samjhen', 'samjhi', 'samjhiye', 'samjhna', 'samjhny', 'samjho', 'samjhon', 'samjhoo', 'samjhota', 'samjhta', 'samjhte', 'samjhty', 'samjhy', 'samjnye', 'samjo', 'samjty', 'samjy', 'samma', 'sammary', 'samna', 'samnabad', 'samnay', 'samne', 'samni', 'samny', 'samosay', 'samoye', 'samrat', 'samsung', 'samt', 'samw', 'san', 'sana', 'sanad', 'sanaf', 'sanam', 'sanat', 'sanati', 'sanbhal', 'sanbhala', 'sanbhali', 'sanbhalte', 'sanbhalti', 'sanctuaries', 'sanctuary', 'sandal', 'sandisk', 'sane', 'saneha', 'sanete', 'sanfi', 'sang', 'sangakara', 'sangat', 'sangeen', 'sangeta', 'sani', 'sania', 'saniha', 'sanihy', 'sanjeeda', 'sanjeedgi', 'sanji', 'sanjidah', 'sanjidgi', 'sankro', 'sankron', 'sanme', 'sanp', 'sansani', 'sanson', 'santos', 'sanu', 'sanwal', 'sanwarne', 'sanwaro', 'sanwer', 'sanwerjaaengi', 'sap', 'sapaid', 'sapar', 'sapat', 'sapna', 'sapnaajagg', 'sapnajag', 'sapney', 'sapoot', 'saport', 'sapot', 'sapotar', 'saqafat', 'saqafati', 'saqafti', 'saqam', 'saqawat', 'saqei', 'saqi', 'saqib', 'saqibsoomro', 'saqlain', 'saqoot', 'sar', 'sara', 'saraab', 'saraay', 'sarae', 'sarah', 'saraha', 'saraiki', 'sarak', 'sarapa', 'saraparasti', 'sarari', 'sarasur', 'saray', 'saraykia', 'sarayyy', 'sarbarah', 'sarbarahaan', 'sarbarahi', 'sarbat', 'sarcasm', 'sard', 'sardaar', 'sardar', 'sardarabdulmajid', 'sardarsanaullahzehri', 'sardi', 'sardio', 'sardion', 'sardiyon', 'sardiyoun', 'sare', 'sareaam', 'sarefehrist', 'sarehy', 'sarey', 'sarf', 'sarfeen', 'sargam', 'sargaram', 'sargarmi', 'sargarmiyan', 'sargarmiyo', 'sargarmiyon', 'sarge', 'sarghana', 'sargodha', 'sarhad', 'sarhaden', 'sarhadi', 'sarhay', 'sarhaya', 'sarhe', 'sari', 'sarifeen', 'sariy', 'sarjeena', 'sarjims', 'sarkain', 'sarkar', 'sarkari', 'sarkein', 'sarken', 'sarkey', 'sarko', 'sarkon', 'sarkoon', 'sarmad', 'sarmaya', 'sarmayakari', 'sarmaye', 'saro', 'sarojini', 'sarokar', 'saron', 'sarparast', 'sarparasti', 'sarray', 'sarsarati', 'sarshar', 'sartan', 'sarvay', 'sarwar', 'sarway', 'sarwe', 'sary', 'saryal', 'sarzameen', 'sarzamen', 'sarzamin', 'sarzamine', 'sas', 'sasha', 'saspant', 'sasta', 'sasti', 'sat', 'sata', 'satah', 'satahein', 'satar', 'satay', 'sataya', 'satehi', 'satellite', 'sath', 'sathdonkeys', 'sathee', 'sathewan', 'sathi', 'sathio', 'sathiyon', 'sathiyoun', 'sathkoi', 'sathmatlab', 'sathyon', 'sati', 'satisfactory', 'satisfied', 'satisfy', 'satr', 'satsanganyunnn', 'satsangyaanin', 'sattah', 'sattan', 'sattar', 'saturated', 'saturday', 'satween', 'satwen', 'saty', 'satya', 'sau', 'saubatein', 'saud', 'sauda', 'saudi', 'saudia', 'saudiarab', 'saunpi', 'save', 'saw', 'sawa', 'sawaa', 'sawaar', 'sawab', 'sawabi', 'sawairay', 'sawal', 'sawalaat', 'sawalat', 'sawalon', 'sawanah', 'sawar', 'sawari', 'sawarne', 'sawaro', 'sawat', 'saway', 'sawi', 'sawrna', 'sawrne', 'saws', 'saww', 'sawwki', 'saxa', 'say', 'saya', 'sayab', 'sayaeatifat', 'sayah', 'sayasat', 'sayd', 'sayhat', 'sayia', 'saying', 'sayingnahe', 'says', 'sayyan', 'saz', 'saza', 'sazaon', 'sazay', 'saze', 'sazesh', 'sazgar', 'sazi', 'sazindon', 'sazish', 'sazishein', 'sazon', 'sazza', 'sazzaa', 'sazzesh', 'sb', 'sbb', 'sbhe', 'sbjct', 'sbka', 'sbke', 'sbki', 'sbko', 'sbkod', 'sbkowarna', 'sbr', 'sbse', 'sbsy', 'scale', 'scalps', 'scandal', 'scandals', 'scandle', 'scandles', 'scene', 'scenery', 'scenes', 'scenr', 'scent', 'scents', 'sch', 'scha', 'schale', 'schan', 'schedule', 'schematic', 'scheme', 'scheme33', 'schna', 'scholar', 'scholarship', 'scholl', 'school', 'schools', 'schoool', 'science', 'sciencesi', 'scientist', 'scissor', 'scope', 'score', 'scortland', 'scot', 'scoter', 'scotland', 'scout', 'scr', 'screen', 'screenshot', 'screeshot', 'screnshots', 'screw', 'script', 'scroll', 'scrub', 'sd', 'sdcard', 'sdky', 'se', 'sea', 'seafghanistan', 'seagal', 'seal', 'sealay', 'sealed', 'search', 'searg', 'searious', 'seas', 'seasi', 'season', 'seasons', 'seat', 'seaton', 'seats', 'seaview', 'seb', 'sebaghawat', 'sec', 'secand', 'second', 'secondary', 'secondly', 'seconds', 'secovil', 'secret', 'secretariat', 'secretary', 'secretly', 'sectary', 'section', 'sector', 'sectory', 'security', 'seda', 'sedelhi', 'sedeqi', 'sedha', 'sedhi', 'sedhy', 'sedi', 'sedky', 'sedqi', 'seducing', 'see', 'seedha', 'seedhay', 'seedhi', 'seeen', 'seeing', 'seekh', 'seekha', 'seekhi', 'seekhna', 'seekhne', 'seekho', 'seekhtinsahir', 'seel', 'seemo', 'seen', 'seena', 'seenay', 'seene', 'seeney', 'seer', 'seerat', 'seet', 'seeta', 'seetv', 'seh', 'sehar', 'seharwardi', 'sehat', 'sehath', 'sehatmandon', 'sehatyab', 'sehet', 'sehi', 'sehlemumtana', 'sehna', 'sehr', 'sehra', 'sehree', 'sehri', 'sehrish', 'seht', 'sekathy', 'sekey', 'sekh', 'sekha', 'sekhane', 'sekhna', 'sekhne', 'sekhta', 'sekhygy', 'sekuch', 'selaab', 'selab', 'select', 'selecters', 'selection', 'selectionselector', 'selectors', 'self', 'selfie', 'selfieking', 'selfies', 'sell', 'seller', 'selma', 'selve', 'sem2sem', 'semab', 'semein', 'semester', 'semi', 'semint', 'sen', 'sena', 'senate', 'sence', 'senchery', 'send', 'sendhe', 'sene', 'senior', 'seniority', 'seniors', 'senit', 'senkron', 'sens', 'sense', 'sensor', 'sent', 'sentec', 'seoni', 'sep', 'sepather', 'sephora', 'sepp', 'september', 'septembr', 'sequel', 'sequels', 'ser', 'seraf', 'serat', 'serbarha', 'sereis', 'serf', 'serial', 'serials', 'series', 'serious', 'seriously', 'seriouslydrmussadiq', 'seriouslykahi', 'serkari', 'serkit', 'seron', 'serparasti', 'serparsti', 'service', 'services', 'sesirf', 'session', 'sessions', 'set', 'seth', 'setting', 'settle', 'seuni', 'seven', 'sew', 'sewa', 'sewerage', 'sex', 'sexualized', 'sexy', 'sey', 'sey1975', 'seyasat', 'seyasi', 'seye', 'seylutf', 'sfai', 'sfeed', 'sha', 'shaa', 'shaadi', 'shaakie', 'shaam', 'shaan', 'shaandaar', 'shaarkain', 'shaat', 'shaayr', 'shab', 'shabaab', 'shabana', 'shabas', 'shabash', 'shabbir', 'shabekhoon', 'shabi', 'shabnam', 'shad', 'shadat', 'shaded', 'shadeed', 'shades', 'shadi', 'shadia', 'shadian', 'shadid', 'shadii', 'shadio', 'shadiou', 'shadiya', 'shadiyan', 'shadiyon', 'shadiyou', 'shadmani', 'shadomad', 'shae', 'shaea', 'shaed', 'shaeed', 'shaeef', 'shaeoor', 'shaeri', 'shaeron', 'shaey', 'shaeze', 'shafa', 'shafaf', 'shafay', 'shafi', 'shafif', 'shafio', 'shafqat', 'shafuftagi', 'shagird', 'shagufta', 'shagutagi', 'shah', 'shahaaj', 'shahaap', 'shahab', 'shahabsa', 'shahadat', 'shahadaten', 'shahana', 'shahar', 'shahbaz', 'shahdat', 'shahed', 'shaheed', 'shaheen', 'shaher', 'shahi', 'shahid', 'shahkar', 'shahnamaeislam', 'shahnawaz', 'shahneez', 'shahpur', 'shahra', 'shahrah', 'shahri', 'shahrif', 'shahrukh', 'shahzad', 'shahzadae', 'shahzadah', 'shahzadi', 'shaiad', 'shaib', 'shaid', 'shaiding', 'shaied', 'shaikh', 'shaiqeen', 'shair', 'shairana', 'shairi', 'shairrrrr', 'shaista', 'shaitaan', 'shaitan', 'shaitani', 'shaiyqeen', 'shaiyr', 'shaiyri', 'shajjar', 'shak', 'shaka', 'shakal', 'shakanje', 'shakast', 'shake', 'shakeel', 'shakh', 'shakhein', 'shakhs', 'shakhsi', 'shakhsiat', 'shakhsiyat', 'shaki', 'shakib', 'shakk', 'shakloon', 'shakra', 'shaks', 'shaksiyat', 'shalimar', 'shallah', 'shalwar', 'sham', 'shamal', 'shamat', 'shame', 'shami', 'shamil', 'shamila', 'shamoliat', 'shamoliyat', 'shampoo', 'shams', 'shamsi', 'shamuliyat', 'shamy', 'shan', 'shana', 'shanakht', 'shanakhti', 'shanas', 'shanasaai', 'shanasai', 'shanasi', 'shanawaz', 'shandaar', 'shandar', 'shane', 'shaneed', 'shaneramza', 'shangla', 'shani', 'shaniera', 'shano', 'shaoor', 'shaor', 'shapar', 'shaper', 'shaq', 'shaqlein', 'shaqs', 'shar', 'shara', 'sharab', 'sharabe', 'sharabi', 'sharaefaisal', 'sharaf', 'sharafat', 'sharafi', 'sharaft', 'sharah', 'sharait', 'sharak', 'sharakat', 'sharakkk', 'sharam', 'sharamkl', 'sharamnaak', 'sharat', 'share', 'shareeef', 'shareef', 'shareek', 'sharef', 'sharefon', 'shari', 'sharif', 'sharifa', 'sharifmilamujhe', 'sharifs', 'sharifyou', 'sharik', 'sharjah', 'sharjeel', 'shark', 'sharkaaainn', 'sharkain', 'sharkat', 'sharkein', 'sharm', 'sharma', 'sharmandagi', 'sharmeela', 'sharmeele', 'sharmi', 'sharmilapan', 'sharmile', 'sharminda', 'sharmnak', 'sharp', 'sharqiya', 'sharre', 'sharshindagi', 'sharum', 'shashkay', 'shashkon', 'shason', 'shatan', 'shatranj', 'shauk', 'shaukat', 'shauket', 'shauq', 'shauqia', 'shauqiya', 'shaur', 'shave', 'shawa', 'shawahid', 'shawal', 'shawl', 'shawwal', 'shaya', 'shayad', 'shayar', 'shayari', 'shayateen', 'shayd', 'shayed', 'shayid', 'shayr', 'shaytaano', 'shazia', 'shazib', 'shazish', 'shazonadir', 'shb', 'she', 'shearon', 'shedding', 'sheer', 'sheeren', 'sheesha', 'sheeshe', 'sheet', 'sheetan', 'sheetani', 'sheets', 'sheeza', 'shehar', 'sheharon', 'shehbaz', 'sheher', 'shehr', 'shehri', 'shehrion', 'shehrioon', 'shehriyo', 'shehro', 'shehron', 'shehry', 'shehryun', 'shehshah', 'shehzad', 'shehzada', 'shehzade', 'shehzadi', 'sheikh', 'sheikhan', 'sheir', 'shejrea', 'shekhst', 'sher', 'sherah', 'sherat', 'sheraza', 'sheri', 'sheriff', 'sheriyon', 'sherry', 'shershah', 'sherwani', 'shery', 'shesha', 'shetaan', 'shetan', 'shetanlga', 'sheva', 'shewa', 'shey', 'sheyr', 'sheyroadab', 'sheyrtanu', 'shezofareniya', 'shfaf', 'shhhshshshshshs', 'shi', 'shia', 'shiad', 'shiaon', 'shias', 'shiayri', 'shibli', 'shidad', 'shidat', 'shiddat', 'shield', 'shifa', 'shifai', 'shift', 'shikaar', 'shikar', 'shikari', 'shikasht', 'shikast', 'shikayat', 'shikayatein', 'shikray', 'shikst', 'shikt', 'shikway', 'shikwey', 'shild', 'shinakth', 'shinas', 'shinging', 'shining', 'shiny', 'ship', 'shipment', 'shiq', 'shirak', 'shirakatdari', 'shireen', 'shirk', 'shirkat', 'shirket', 'shirko', 'shirq', 'shirt', 'shirts', 'shishat', 'shittt', 'shiv', 'shkar', 'shkhas', 'shkhs', 'shkhsiyat', 'shkl', 'shkll', 'shkriya', 'shks', 'shksiyat', 'shkta', 'shlwar', 'sho', 'shoaari', 'shoaba', 'shoaib', 'shoar', 'shoara', 'shoba', 'shobaa', 'shobaetawanaie', 'shobah', 'shobe', 'shobey', 'shobon', 'shoda', 'shodi', 'shoes', 'shohar', 'shohda', 'shohdaa', 'shoher', 'shohra', 'shohrat', 'shokat', 'shokhi', 'shokhii', 'shokiya', 'shokryea', 'shoomar', 'shoooo', 'shoooooo', 'shooru', 'shoorwa', 'shoot', 'shop', 'shoping', 'shopping', 'shoppingkr', 'shops', 'shoq', 'shoqeen', 'shor', 'shora', 'shorat', 'shoro', 'short', 'shorts', 'shoru', 'shosha', 'shot', 'shots', 'shou', 'shoubon', 'shouhrat', 'shouk', 'shoukat', 'shoukeen', 'should', 'shouq', 'shoutout', 'show', 'showbiz', 'showcase', 'showed', 'shower', 'showpiece', 'shows', 'showz', 'shrafat', 'shram', 'shrarat', 'shreef', 'shrf', 'shrif', 'shrink', 'shrkiyan', 'shrm', 'shro', 'shrt', 'shrts', 'shru', 'shrugs', 'shu', 'shuaar', 'shuakr', 'shuba', 'shubahat', 'shube', 'shubhanallah', 'shuda', 'shudah', 'shugal', 'shughal', 'shughar', 'shugli', 'shuhra', 'shuhrat', 'shujaat', 'shujahabad', 'shujat', 'shuk', 'shukar', 'shukari', 'shukarullah', 'shukarya', 'shukat', 'shuker', 'shukeriya', 'shukk', 'shukr', 'shukran', 'shukrany', 'shukray', 'shukrea', 'shukrguzar', 'shukria', 'shukriaaaa', 'shukriya', 'shukriyaaa', 'shukrr', 'shukrri', 'shukrya', 'shumali', 'shumar', 'shumari', 'shuq', 'shura', 'shuraka', 'shurat', 'shurh', 'shurka', 'shurkaa', 'shurkain', 'shuro', 'shuroo', 'shuru', 'shuruat', 'shuruh', 'shuruwat', 'shut', 'shyad', 'shyd', 'shyed', 'si', 'siahmary', 'sial', 'sialkot', 'siasat', 'siasatdan', 'siasatdano', 'siasatye', 'siaset', 'siasi', 'siast', 'sibbi', 'siddiq', 'siddiqui', 'siddiquitum', 'side', 'sided', 'sidhe', 'sidiqi', 'sidiqui', 'sidq', 'sidr', 'sied', 'sif', 'sifaratkari', 'sifarish', 'sifarishat', 'sifarshi', 'sifat', 'sign', 'signal', 'signals', 'signature', 'sihat', 'sii', 'sijda', 'sikandar', 'sikander', 'sikender', 'sikh', 'sikha', 'sikhaaya', 'sikhaega', 'sikhaey', 'sikhai', 'sikhanjy', 'sikhatein', 'sikhaty', 'sikhaya', 'sikheny', 'sikhne', 'sikho', 'sikin', 'sila', 'silaa', 'silai', 'silay', 'sile', 'silees', 'silence', 'siley', 'silicone', 'silsala', 'silsaly', 'silseley', 'silsila', 'silsilah', 'silsilay', 'silsile', 'silva', 'silver', 'silwatein', 'sim', 'simi', 'simon', 'simple', 'simron', 'simt', 'sina', 'since', 'sincere', 'sindbad', 'sindh', 'sindhi', 'sine', 'singer', 'singers', 'singh', 'singing', 'single', 'singoline', 'sings', 'sino', 'sipah', 'sipahi', 'siphiyon', 'siqam', 'sir', 'siraf', 'siraj', 'siran', 'sirbulandi', 'sire', 'sires', 'sirf', 'sirff', 'sirif', 'siroo', 'sis', 'sistar', 'sister', 'sisterb', 'sisters', 'sitaaron', 'sitah', 'sitam', 'sitara', 'sitaraeimtiaz', 'sitare', 'sitaro', 'sitaron', 'site', 'sithat', 'sitm', 'sitmgr', 'sitter', 'sitting', 'sivaay', 'siwa', 'siwae', 'siwaye', 'six', 'sixers', 'sixes', 'siyachin', 'siyah', 'siyahat', 'siyahati', 'siyal', 'siyasadan', 'siyasat', 'siyasatdaan', 'siyasatdan', 'siyasatdano', 'siyasi', 'siyasiyat', 'siyat', 'siysat', 'size', 'sizebekaar', 'sizes', 'sj', 'sjdo', 'skata', 'skay', 'skd', 'skeem', 'skht', 'skhta', 'skhursheedshah', 'ski', 'skill', 'skills', 'skin', 'skirt', 'skn', 'sko', 'skon', 'skoon', 'skta', 'sktaa', 'sktae', 'sktay', 'skte', 'skti', 'sktienajeeb', 'skty', 'skul', 'sky', 'slai', 'slam', 'slamaat', 'slamat', 'slamt', 'slap', 'slasal', 'slaughter', 'sleeveless', 'sleeves', 'sleman', 'slgira', 'slim', 'slip', 'slippers', 'sllam', 'slmt', 'slob', 'slow', 'slug', 'sm', 'smajhi', 'smar', 'smart', 'smasher', 'smbhala', 'smell', 'smester', 'smile', 'smith', 'smj', 'smja', 'smjaey', 'smjaya', 'smjh', 'smjha', 'smjhane', 'smjhi', 'smjhii', 'smjhiye', 'smjhne', 'smjhta', 'smjhtii', 'smjhun', 'smjhyn', 'smjny', 'smjta', 'smjyo', 'smne', 'smny', 'smooch', 'smoot', 'smooth', 'sms', 'smurdge', 'snacks', 'snam', 'snatcher', 'sne', 'snidh', 'so', 'soap', 'soba', 'sobaesarhad', 'sobai', 'sobatain', 'sobay', 'sobedar', 'sobers', 'sobia', 'soboh', 'sobon', 'soch', 'socha', 'soche', 'sochen', 'sochenge', 'sochin', 'sochiye', 'sochna', 'sochnay', 'sochne', 'socho', 'sochon', 'sochta', 'sochtay', 'sochte', 'sochtey', 'sochti', 'sochty', 'sochy', 'social', 'socialism', 'socialist', 'society', 'soco', 'socrate', 'soda', 'soe', 'soft', 'software', 'softwr', 'sog', 'sogh', 'sogwar', 'sogwaron', 'sohab', 'sohaib', 'sohaii', 'sohail', 'sohal', 'sohar', 'sohbat', 'sohna', 'sohnay', 'sohni', 'sohrab', 'soja', 'sojaaaaa', 'sojh', 'sola', 'sold', 'soldier', 'soleplate', 'solid', 'solo', 'soloq', 'solution', 'solve', 'some', 'somebody', 'somedays', 'something', 'sometime', 'somi', 'son', 'sona', 'sonal', 'sonay', 'sonch', 'sonda', 'sone', 'sonee', 'soney', 'song', 'songs', 'soni', 'sonia', 'sonlove', 'sonp', 'sony', 'soo', 'sooba', 'soobay', 'soobey', 'sooch', 'sooche', 'soochti', 'sood', 'soofiyaekaram', 'soomro', 'soon', 'soona', 'soonaa', 'sooo', 'soooch', 'sooon', 'soooo', 'sooooo', 'soooooo', 'sooooooo', 'sooooooooonice', 'sooooooooooo', 'soor', 'soorah', 'sooraj', 'soorat', 'sopaholicks', 'sopnay', 'soraj', 'sorat', 'soratehaal', 'sore', 'sorish', 'sorove', 'sorry', 'sort', 'sorton', 'sory', 'sos', 'soshi', 'sota', 'sotay', 'sote', 'soti', 'sou', 'souch', 'souchy', 'soug', 'soul', 'sound', 'sounphney', 'sources', 'south', 'southern', 'soviet', 'sowari', 'soya', 'soye', 'soz', 'soza', 'sozosaaz', 'sp', 'spai', 'spaker', 'spanner', 'sparing', 'sparrow', 'spcl', 'spe', 'speaker', 'speakers', 'specaily', 'special', 'specialist', 'specialization', 'specially', 'specialy', 'speeches', 'speechless', 'speed', 'speen', 'speilberg', 'spelling', 'spend', 'spending', 'spielberg', 'spin', 'spiner', 'spiners', 'spinner', 'spiritual', 'split', 'sponser', 'sport', 'sporting', 'sports', 'spose', 'spot', 'spotters', 'spray', 'spread', 'sprinter', 'spt', 'squ', 'squad', 'square', 'squash', 'sr', 'srbrahi', 'srf', 'sri', 'srif', 'srkan', 'sry', 'ss', 'ssg', 'ssigne', 'ssp', 'ssu', 'st0ry', 'sta', 'stadium', 'stadiums', 'staff', 'stage', 'stain', 'stalk', 'stallion', 'stallone', 'stand', 'standard', 'standards', 'stanford', 'star', 'starc', 'starch', 'stars', 'start', 'starting', 'startng', 'state', 'statement', 'station', 'stations', 'stats', 'status', 'stay', 'steel', 'stel', 'stemina', 'step', 'steps', 'stereo', 'steroids', 'steve', 'steven', 'sth', 'stiching', 'sticker', 'stickness', 'still', 'stitching', 'stock', 'stodio', 'stomach', 'stones', 'stop', 'stops', 'storage', 'store', 'stores', 'stories', 'story', 'storyba', 'strap', 'straps', 'streak', 'streer', 'street', 'stressful', 'strike', 'strokes', 'strong', 'strreet', 'strt', 'struggle', 'student', 'students', 'studio', 'studios', 'study', 'stuf', 'stuff', 'stuffing', 'stump', 'stupid', 'styen', 'styil', 'style', 'stylish', 'su', 'suar', 'sub', 'suba', 'subah', 'subai', 'subey', 'subh', 'subha', 'subhan', 'subhanallah', 'subhanllah', 'subject', 'subjects', 'subko', 'submitte', 'subogdosh', 'subon', 'suboot', 'subse', 'substandard', 'subuk', 'subukdosh', 'subwoofer', 'subzi', 'success', 'such', 'suchai', 'suchi', 'suchy', 'sudhar', 'sudharne', 'sudheer', 'suf', 'suff', 'sufi', 'sufyan', 'sugar', 'suggest', 'suggestion', 'suggestionsidiots', 'sughra', 'suhail', 'suhana', 'suhbat', 'suhdae', 'suheri', 'suhkar', 'suhki', 'suhlahiyat', 'suhrat', 'suhrawardy', 'suhrawardyall', 'sui', 'suicide', 'suit', 'suitable', 'sukar', 'sukaria', 'sukh', 'sukhan', 'sukhana', 'sukhuru', 'sukkar', 'sukon', 'sukoon', 'sukrhao', 'sukun', 'sulah', 'suleman', 'sulkahi', 'sulok', 'sulook', 'sultan', 'sultana', 'sultanabad', 'sultanat', 'sum', 'suma', 'sumameen', 'sumary', 'sumbal', 'sumjha', 'summa', 'summary', 'summer', 'sums', 'sun', 'suna', 'sunaaa', 'sunaaey', 'sunae', 'sunahre', 'sunai', 'sunain', 'sunanay', 'sunane', 'sunao', 'sunatay', 'sunati', 'sunato', 'sunaty', 'sunay', 'sunaya', 'sunaye', 'sunayi', 'sundar', 'sundari', 'sunday', 'sune', 'sunege', 'sunehri', 'sunheri', 'suni', 'suniii', 'sunil', 'suniye', 'sunjay', 'sunke', 'sunn', 'sunna', 'sunnat', 'sunnatehussain', 'sunnay', 'sunne', 'sunny', 'suno', 'sunooooooooooooo', 'sunta', 'suntay', 'sunte', 'suntein', 'sunti', 'sunty', 'suny', 'suo', 'supah', 'supahi', 'supahiyon', 'super', 'superb', 'superbbb', 'superintendent', 'superman', 'superstars', 'superstitions', 'suport', 'supplements', 'supplier', 'support', 'supporter', 'supporterisey', 'supporters', 'suppose', 'supprter', 'supreem', 'supreme', 'supurd', 'sur', 'suragh', 'surah', 'suraj', 'surajyahan', 'surakh', 'surang', 'surangein', 'surangon', 'surat', 'surathal', 'sure', 'sureela', 'sureh', 'surface', 'surgery', 'surile', 'surjani', 'surkh', 'suron', 'suroor', 'surprise', 'surprised', 'surr', 'surriya', 'surrogate', 'surron', 'surto', 'surunjaam', 'survey', 'suspend', 'suspense', 'susraal', 'susral', 'sust', 'susti', 'susu', 'sutan', 'suthra', 'sutty', 'swab', 'swaiay', 'swal', 'swar', 'swari', 'swear', 'sweat', 'sweater', 'sweatpants', 'sweatshirts', 'swedish', 'sweet', 'sweeter', 'sweetie', 'sweety', 'swery', 'swet', 'swing', 'swinger', 'switches', 'switzerland', 'swt', 'sy', 'syasat', 'syasatdano', 'syaya', 'syed', 'syllabus', 'sylvester', 'symbol', 'sympathy', 'syria', 'system', 'systems', 'syyyh', 't', 't0', 't20', 'ta', 'taa', 'taab', 'taadiq', 'taaj', 'taajir', 'taak', 'taake', 'taakra', 'taala', 'taalbat', 'taaluq', 'taan', 'taang', 'taanga', 'taareef', 'taari', 'taarikhi', 'taasobi', 'taasurat', 'taazgi', 'tab', 'taba', 'tabaa', 'tabadley', 'tabah', 'tabaha', 'tabahee', 'tabahi', 'tabahkun', 'tabai', 'tabar', 'tabarakallah', 'tabassum', 'tabba', 'tabbah', 'tabdeel', 'tabdeeli', 'tabdeli', 'tabdil', 'tabdili', 'tabeeh', 'tabeen', 'tabeer', 'tabeeragar', 'tabha', 'tabhe', 'tabhee', 'tabhi', 'tabi', 'tabia', 'tabie', 'tabishor', 'tabiyat', 'table', 'tableeg', 'tableeghi', 'tableghi', 'tabnak', 'tabqa', 'tabqe', 'tabqey', 'tabqoon', 'tabraiz', 'tabrlay', 'tabsare', 'tabsarey', 'tabseray', 'tabyat', 'tadaad', 'tadabeer', 'tadad', 'tadam', 'tadat', 'tadbar', 'tadbeer', 'taddad', 'tade', 'tadfeen', 'tadrees', 'tadris', 'tadwene', 'tadyr', 'taed', 'taezi', 'tafarrukat', 'tafeeq', 'taffanun', 'tafhim', 'tafreeh', 'tafri', 'tafseel', 'tafseer', 'tafsil', 'tag', 'taghaiyour', 'tago', 'tagra', 'tagri', 'tah', 'taha', 'tahaal', 'tahaf', 'tahafaz', 'tahaffuz', 'tahaffuzat', 'tahafoz', 'tahafuz', 'tahaji', 'tahajjud', 'tahajud', 'tahal', 'tahalka', 'taham', 'tahapne', 'tahareek', 'tahat', 'tahe', 'taheek', 'tahfuz', 'tahir', 'tahna', 'tahqiq', 'tahqiqat', 'tahreek', 'tahreer', 'tahrek', 'tahryk', 'tahsen', 'tahsreef', 'tahum', 'tahweel', 'tahzeb', 'taihat', 'tail', 'tailing', 'tailor', 'taiming', 'tair', 'tairana', 'tairi', 'tairy', 'taisi', 'tait', 'taiwan', 'taiya', 'taiyar', 'taiyd', 'taiyon', 'taiz', 'taizi', 'taj', 'tajarba', 'tajasus', 'tajaweez', 'tajawizat', 'tajir', 'tajiran', 'tajiron', 'tajrbakaar', 'tajrubakar', 'tajseem', 'tajub', 'tajurba', 'tajurbakaar', 'tajurbat', 'tajurbay', 'tajurbe', 'tajurby', 'tajveez', 'tajweej', 'tajweez', 'tajwiz', 'tajzeye', 'tak', 'takaleef', 'takallufana', 'takallum', 'takar', 'takat', 'takay', 'takbbur', 'takbeer', 'take', 'taked', 'takeed', 'takeelf', 'takeh', 'taker', 'takhatub', 'takhe', 'takheer', 'takhfeef', 'takhfife', 'takhir', 'takhleeq', 'takhleeqi', 'takhliq', 'takhliqi', 'takhmina', 'takhsis', 'takht', 'takhta', 'takhtadar', 'takhuwa', 'takia', 'taking', 'takkar', 'takleef', 'taklef', 'taklif', 'takmeel', 'takmil', 'takra', 'takrar', 'takrate', 'takray', 'takraye', 'takreban', 'takreeban', 'takreem', 'takriban', 'taky', 'tal', 'tala', 'talaaq', 'talaash', 'talab', 'talafi', 'talafuz', 'talah', 'talakon', 'talaq', 'talash', 'talashi', 'talat', 'talb', 'talba', 'talbaat', 'talban', 'talbat', 'talbgar', 'talboot', 'tale', 'talebat', 'taleef', 'taleem', 'taleemi', 'taleemotarbiat', 'talem', 'talent', 'talented', 'talentmasha', 'taley', 'talh', 'talha', 'talia', 'taliaan', 'talib', 'taliba', 'taliban', 'talibat', 'talibeilmi', 'talifat', 'talimaat', 'taliqat', 'talit', 'taliyan', 'taliyon', 'talk', 'talkeen', 'talkhi', 'talking', 'tall', 'talla', 'tallafuz', 'tallah', 'talliyaan', 'talluq', 'talluqaat', 'talluqat', 'talluqi', 'taluq', 'taluqat', 'tam', 'tama', 'tamaam', 'tamacha', 'tamaknat', 'tamam', 'taman', 'tamana', 'tamanna', 'tamannaon', 'tamasha', 'tamashai', 'tamashaiyon', 'tamashayon', 'tamashe', 'tambaco', 'tambakoo', 'tameer', 'tameez', 'tamer', 'tamga', 'tamgha', 'tamghe', 'tamil', 'tamim', 'tamirati', 'tamma', 'tammam', 'tan', 'tana', 'tanasub', 'tanawal', 'tanawar', 'tanaza', 'tanazaat', 'tanazay', 'tanazeaat', 'tanazey', 'tanaziyat', 'tanazoli', 'tanazur', 'tanbee', 'tandi', 'tandoor', 'tandrust', 'tandrusti', 'tandurusti', 'tang', 'tangein', 'tangen', 'tangien', 'tanha', 'tanhai', 'tanhaiyo', 'tani', 'taniya', 'tank', 'tankeed', 'tanker', 'tankha', 'tankhain', 'tankhawa', 'tankhuwa', 'tankhuwaen', 'tankhwaian', 'tanks', 'tann', 'tano', 'tanoor', 'tanqed', 'tanqeed', 'tanseebat', 'tansibat', 'tant', 'tanveerramzan', 'tanz', 'tanzeem', 'tanzeemo', 'tanzeemon', 'tanzem', 'tanzemein', 'tanziya', 'tapak', 'tapal', 'tape', 'tapi', 'tapish', 'tapne', 'taporio', 'tappi', 'taq', 'taqarariyon', 'taqareer', 'taqarer', 'taqarir', 'taqarur', 'taqaruri', 'taqaruriyon', 'taqat', 'taqaton', 'taqatown', 'taqatwar', 'taqazon', 'taqdeer', 'taqet', 'taqi', 'taqleed', 'taqlif', 'taqqub', 'taqreb', 'taqreban', 'taqreeb', 'taqreeban', 'taqreer', 'taqreerein', 'taqrer', 'taqreron', 'taqrib', 'taqribaat', 'taqriban', 'taqrir', 'taqriri', 'taqriron', 'taqseem', 'taqub', 'taqwa', 'taqwiyat', 'tar', 'tara', 'taraaaakkiii', 'taradud', 'taraf', 'tarah', 'tarahan', 'tarajum', 'tarak', 'tarakai', 'tarakeeb', 'taraki', 'tarana', 'tarane', 'tarannum', 'taranum', 'tarap', 'tarapna', 'taraqee', 'taraqi', 'taraqqi', 'tarar', 'taras', 'tarash', 'tarashi', 'taraveh', 'tarbiat', 'tarbiyat', 'tarbiyati', 'tardeed', 'tare', 'tareeen', 'tareef', 'tareefain', 'tareefe', 'tareefein', 'tareeka', 'tareekh', 'tareekhi', 'tareeki', 'tareen', 'tareeqay', 'tareeqy', 'taref', 'tareh', 'tarek', 'tareka', 'tarekh', 'tarekhi', 'tareki', 'tareky', 'tareqee', 'tarerqa', 'tarf', 'tarfa', 'target', 'targeted', 'targheeben', 'tarh', 'tarha', 'tarhaa', 'tarhaan', 'tarhan', 'tarhi', 'tari', 'tarif', 'tariff', 'tarifon', 'tarika', 'tarike', 'tarikh', 'tarikhi', 'tariki', 'tarikon', 'tarin', 'tariq', 'tariqa', 'tariqe', 'tariqey', 'tariqi', 'tarjeeh', 'tarjeehat', 'tarjehe', 'tarjih', 'tarjuma', 'tarjumaani', 'tarjuman', 'tarjumani', 'tarjumey', 'tark', 'tarkian', 'tarmeem', 'tarmem', 'tarny', 'tarqi', 'tarqiati', 'tarraqi', 'tarrefain', 'tarruf', 'tars', 'tarsawa', 'tarse', 'tarsey', 'tartan', 'tarteb', 'tarteeb', 'tartib', 'taruf', 'tarwed', 'tarwij', 'tarykhi', 'tarz', 'tarzemazah', 'tarzezindagi', 'tasadam', 'tasadum', 'tasali', 'tasalli', 'tasalut', 'tasanif', 'tasasul', 'tasaub', 'tasaveer', 'tasavir', 'tasawar', 'tasaweer', 'tasawor', 'tasawurrat', 'tasawwuf', 'tasawwur', 'tasbee', 'tasbeeh', 'tasbeehat', 'tasbeh', 'tasbhe', 'tasbhee', 'tasbih', 'tasbiy', 'tasdeeq', 'taseer', 'tasfiya', 'tashaddud', 'tashadud', 'tashadut', 'tashddud', 'tashdud', 'tasheeh', 'tasheer', 'tashheer', 'tashher', 'tashkeel', 'tashkeeli', 'tashkhees', 'tashkhus', 'tashkil', 'tashreef', 'tashreeffarmaan', 'tashrif', 'tashweesh', 'tashwishnak', 'task', 'taskeen', 'taskheer', 'taskher', 'taskhir', 'tasleem', 'taslem', 'taslim', 'taslo', 'tasmania', 'tasneef', 'tasob', 'tasoof', 'tasqeen', 'tasssali', 'tassub', 'tassuf', 'tassur', 'taste', 'tasub', 'tasur', 'tasurrat', 'tasveer', 'tasveeron', 'tasweer', 'taswirein', 'tata', 'tatilat', 'tatoo', 'tatti', 'tau', 'tauba', 'taubaa', 'taufeeq', 'tauheen', 'taur', 'tausee', 'tauseeq', 'tavajo', 'tawaf', 'tawaja', 'tawajah', 'tawajja', 'tawajjah', 'tawaju', 'tawan', 'tawanai', 'tawanaiyan', 'tawaqa', 'tawaqat', 'tawaqoaat', 'tawaqoat', 'tawaqqa', 'tawaqquf', 'tawaqu', 'tawatur', 'tawazun', 'taweel', 'taweez', 'tawel', 'tawil', 'tawojo', 'tawon', 'tawun', 'tawwun', 'tax', 'taxes', 'taxi', 'tay', 'taya', 'tayap', 'tayar', 'tayara', 'tayari', 'tayaria', 'tayeen', 'tayhamaray', 'tayhat', 'tayyab', 'tayyaba', 'tayyar', 'tayyarey', 'tayyari', 'taza', 'tazah', 'tazbikhanay', 'tazeen', 'tazgi', 'taziat', 'taziyat', 'tazkara', 'tazkare', 'tazkiron', 'tazlil', 'tb', 'tbh', 'tbhi', 'tbi', 'tc', 'tchtch', 'tcs', 'tdp', 'te', 'teacher', 'teachers', 'team', 'teame', 'teamis', 'teamnice', 'teams', 'tear', 'teara', 'teary', 'technic', 'technical', 'technique', 'technology', 'tecnical', 'teda', 'tee', 'teechod', 'teek', 'teekh', 'teem', 'teen', 'teendu', 'teeno', 'teenon', 'teenoun', 'teer', 'teesra', 'teesre', 'teesri', 'teez', 'teh', 'tehalka', 'tehat', 'tehayt', 'tehez', 'tehfuzat', 'tehkik', 'tehleel', 'tehmat', 'tehmin', 'tehqeeeq', 'tehqeeq', 'tehqiq', 'tehqiqaat', 'tehqiqat', 'tehqiqati', 'tehraya', 'tehreek', 'tehreekon', 'tehreem', 'tehreer', 'tehreeron', 'tehrekeinsaf', 'tehri', 'tehrik', 'tehrikon', 'tehrir', 'tehrirein', 'tehriron', 'tehrison', 'tehseel', 'tehseen', 'tehsil', 'tehsin', 'tehwar', 'tehwil', 'tehzeeb', 'tehzib', 'teixeira', 'tejarat', 'tek', 'teku', 'tele', 'telecast', 'telecommunications', 'teleem', 'telenor', 'telephone', 'television', 'telgo', 'teli', 'tell', 'telugu', 'temgha', 'temor', 'temperature', 'ten', 'tendulkar', 'tennis', 'teno', 'tenon', 'tension', 'tenu', 'teqiqati', 'ter', 'tera', 'teraa', 'terahusun', 'teray', 'terbiat', 'tere', 'tereef', 'tereen', 'tereh', 'teresa', 'terey', 'terha', 'terhaan', 'teri', 'terian', 'terik', 'teriorst', 'terjuman', 'terms', 'terrific', 'terriosts', 'terrorist', 'terrorists', 'ters', 'terse', 'tery', 'tesbih', 'tesi', 'tesm', 'tesre', 'test', 'testing', 'tewer', 'tex', 'tey', 'teyari', 'teyeb', 'teyh', 'tez', 'tezi', 'th', 'th0ri', 'tha', 'thaa', 'thaaa', 'thaaj', 'thaak', 'thaallah', 'thaam', 'thaap', 'thabs', 'thaburma', 'thadanial', 'thag', 'thahai', 'thai', 'thaila', 'thailand', 'thajb', 'thak', 'thaka', 'thakawat', 'thake', 'thakte', 'thaky', 'thali', 'thalol', 'tham', 'thame', 'thamnay', 'thamohammed', 'than', 'thanay', 'thand', 'thanda', 'thani', 'thanice', 'thank', 'thankew', 'thankewbus', 'thankful', 'thankooo', 'thanks', 'thanksss', 'thanku', 'thankyou', 'thankyu', 'thanny', 'thanq', 'thanwi', 'thanx', 'thanxx', 'thaor', 'thapar', 'thappar', 'thaprou', 'thara', 'tharah', 'tharak', 'tharay', 'tharazia', 'tharki', 'tharkies', 'tharkio', 'tharky', 'tharna', 'tharparkar', 'thasab', 'thashariyat', 'that', 'thatap', 'thatapna', 'thati', 'thatki', 'thats', 'thatta', 'thatwell', 'thaw', 'thay', 'thayallah', 'thaye', 'the', 'thea', 'theak', 'theater', 'theateron', 'thee', 'theee', 'theeen', 'theek', 'theen', 'thehar', 'thehk', 'thehrao', 'thehri', 'thehro', 'thein', 'their', 'theislami', 'thek', 'theka', 'thekedaron', 'thekey', 'thela', 'thelets', 'them', 'theme', 'then', 'thenk', 'theory', 'ther', 'thera', 'therao', 'theraya', 'there', 'therkiis', 'these', 'thesis', 'they', 'theydouble', 'theyve', 'thhook', 'thi', 'thiab', 'thick', 'thidj', 'thie', 'thien', 'thii', 'thiigari', 'thijo', 'thik', 'thikana', 'thikanay', 'thikane', 'thilakin', 'thiland', 'thimeri', 'thin', 'thing', 'think', 'thinking', 'thinphir', 'third', 'this', 'thitujhy', 'thk', 'thkwat', 'thn', 'thndii', 'thnk', 'thnku', 'thnx', 'tho', 'thodi', 'thokra', 'thomas', 'thompson', 'thon', 'thook', 'thookeen', 'thookoooo', 'thooooo', 'thoora', 'thora', 'thoray', 'thore', 'thorha', 'thori', 'thos', 'those', 'thou', 'thought', 'thoughts', 'thousand', 'thra', 'thrak', 'thread', 'threat', 'three', 'threshold', 'thrill', 'thriller', 'thrk', 'through', 'throughout', 'throwing', 'tht', 'thub', 'thukai', 'thukrane', 'thumb', 'thumka', 'thumri', 'thumry', 'thurki', 'thursday', 'thy', 'thya', 'thyhand', 'thyn', 'thyvery', 'ti', 'tiare', 'tibbi', 'tibet', 'tibi', 'tickes', 'ticket', 'tickets', 'tiddda', 'tiddy', 'tiet', 'tiger', 'tigers', 'tight', 'tijarat', 'tijarti', 'tijb', 'tijoriyon', 'tika', 'tikk', 'tilabib', 'tilawat', 'tilismati', 'tilmiz', 'tim', 'timber', 'time', 'timeline', 'times', 'timing', 'timingg', 'timingpefect', 'timming', 'tind', 'tinda', 'tinka', 'tip', 'tips', 'tissue', 'tissuw', 'title', 'titliyaan', 'titt', 'tje', 'tjhe', 'tjhy', 'tjy', 'tk', 'tlash', 'tlp', 'tm', 'tmaary', 'tmahari', 'tmam', 'tmara', 'tmari', 'tmary', 'tmasha', 'tme', 'tmhai', 'tmhara', 'tmharai', 'tmhare', 'tmhari', 'tmhary', 'tmhay', 'tmhe', 'tmhein', 'tmhen', 'tmhn', 'tmhra', 'tmhre', 'tmhri', 'tmhry', 'tmhy', 'tmki', 'tmne', 'tmos', 'tmra', 'tmri', 'tmtw', 'tndrsti', 'to', 'to0t', 'toba', 'tobaaa', 'tobacco', 'tobago', 'tobah', 'tobha', 'today', 'toe', 'tofaan', 'tofaki', 'tofani', 'tofeek', 'tofeeq', 'tofeq', 'tofiqa', 'toghareeb', 'toh', 'toheed', 'toheen', 'tohfa', 'tohfatan', 'tohfay', 'tohfon', 'tohid', 'tohmat', 'toilet', 'toitni', 'tok', 'token', 'tokhe', 'tokyo', 'tola', 'told', 'tole', 'tolerate', 'tolu', 'toly', 'tom', 'tomb', 'tomcros', 'tomhey', 'ton', 'tonawaz', 'tons', 'too', 'tooba', 'toofan', 'toofully', 'tool', 'toon', 'toooooooooooooooo', 'tooosna', 'toop', 'toor', 'toore', 'toos', 'toot', 'toota', 'tootay', 'tooti', 'tootian', 'toots', 'tooty', 'top', 'topee', 'topi', 'topic', 'topics', 'topo', 'topon', 'topper', 'toqeer', 'tor', 'tora', 'torh', 'torha', 'torkham', 'torna', 'tornay', 'toro', 'toronto', 'torr', 'torsam', 'torti', 'torture', 'tos', 'tosath', 'tot', 'tota', 'total', 'totally', 'totaly', 'tote', 'totera', 'totey', 'toth', 'toti', 'totka', 'totna', 'toto', 'totooo', 'tou', 'touba', 'touch', 'toufeq', 'toufiq', 'tour', 'tourism', 'tourist', 'tourisum', 'tournament', 'tournaments', 'tourture', 'tousee', 'tout', 'touu', 'touuu', 'tow', 'towards', 'tower', 'towers', 'town', 'toys', 'tp', 'tplink', 'tqreer', 'tra', 'track', 'tracketer', 'trackter', 'trading', 'traf', 'traffic', 'trafic', 'tragedy', 'trah', 'traha', 'trahbest', 'trahha', 'trahn', 'trailer', 'trailerab', 'train', 'traine', 'trained', 'trainen', 'trainer', 'trainers', 'training', 'trainon', 'trakon', 'tram', 'transfar', 'transfer', 'transit', 'translate', 'transmission', 'transparanci', 'transport', 'transporters', 'traqi', 'trashi', 'travel', 'tray', 'treat', 'treated', 'tree', 'treef', 'treekay', 'treen', 'trees', 'treet', 'trekking', 'trf', 'trh', 'trha', 'trhan', 'tri', 'trial', 'tribunal', 'trick', 'triky', 'trinidad', 'trip', 'triqa', 'troozer', 'trophy', 'trot', 'trouser', 'trousers', 'trs', 'truck', 'trucks', 'trudeau', 'true', 'truesir', 'truest', 'trumpa', 'trust', 'try', 'trying', 'tshirt', 'tshirts', 'tst', 'tsunami', 'ttmko', 'ttp', 'tu', 'tuadey', 'tub', 'tuba', 'tuc', 'tuchay', 'tuesday', 'tufani', 'tufeeq', 'tufek', 'tuff', 'tuffiq', 'tugay', 'tuh', 'tuhafaz', 'tuj', 'tuja', 'tujay', 'tuje', 'tujh', 'tujha', 'tujhe', 'tujhsa', 'tujhy', 'tujy', 'tuk', 'tukay', 'tukk', 'tukray', 'tukrey', 'tukron', 'tul', 'tulba', 'tulkhaba', 'tuloo', 'tulu', 'tum', 'tumahara', 'tumain', 'tumara', 'tumaray', 'tumare', 'tumari', 'tumey', 'tumh', 'tumha', 'tumhain', 'tumhara', 'tumharay', 'tumhare', 'tumharhi', 'tumhari', 'tumharra', 'tumhary', 'tumhay', 'tumhe', 'tumhein', 'tumhen', 'tumhey', 'tumhri', 'tumhry', 'tumhy', 'tumin', 'tumko', 'tumm', 'tummain', 'tumra', 'tumsey', 'tumy', 'tun', 'tundrusti', 'tune', 'tunis', 'tuny', 'tuo', 'turbat', 'turf', 'turhwa', 'turi', 'turke', 'turkey', 'turki', 'turkye', 'turn', 'turra', 'turraki', 'tusbeehkhana', 'tusi', 'tut', 'tutaaa', 'tuti', 'tutorial', 'tutti', 'tuu', 'tuuttt', 'tuuuuaiso', 'tv', 'tvko', 'tw', 'twaaday', 'twada', 'twadi', 'twaqo', 'twenty', 'twin', 'twist', 'twme', 'two', 'two2', 'ty', 'tyaar', 'tym', 'tyma', 'tynat', 'tyou', 'type', 'typhoid', 'tyre', 'tyri', 'tyyy', 'u', 'u3', 'uamr', 'uar', 'ub', 'ubaid', 'ubhaal', 'ubhal', 'ubhar', 'ubharte', 'ubhra', 'ubhre', 'ubhri', 'ubl', 'ubqari', 'ubqri', 'uc', 'ucchltay', 'ucha', 'uchaa', 'uchale', 'uchat', 'udaas', 'udaasi', 'udari', 'udas', 'udba', 'udc', 'uddin', 'ude', 'udhar', 'udher', 'udherh', 'udhr', 'udr', 'udrr', 'ue', 'uf', 'ufaq', 'uff', 'ufff', 'uffff', 'ufffff', 'ufffffff', 'ufffffffff', 'ufone', 'ugalna', 'ugle', 'uh', 'uhad', 'uhday', 'uhdaydaron', 'uhde', 'uhdon', 'uhnein', 'uhnon', 'ujagar', 'ujala', 'ujara', 'ujrat', 'ujrey', 'uk', 'ukharna', 'ukmran', 'uksanay', 'ukta', 'uktahat', 'ul', 'ulaad', 'ulad', 'ulama', 'ulat', 'ulema', 'ulfat', 'uljhano', 'ulladein', 'ullah', 'ulloo', 'ulma', 'ulmas', 'ulom', 'uloom', 'ulsan', 'ulta', 'ulti', 'umad', 'umar', 'umarkot', 'umarzai', 'umat', 'umda', 'umdaaa', 'umdah', 'ume', 'umed', 'umedwar', 'umeed', 'umeedein', 'umeeden', 'umeedwar', 'umeer', 'umer', 'umerw', 'umesafasis', 'umgliyan', 'umid', 'ummat', 'ummaton', 'ummed', 'ummer', 'ummmmmmmmahhhhhhh', 'ummul', 'umoman', 'umoor', 'umr', 'umrah', 'umrain', 'umrao', 'umray', 'umrey', 'umri', 'umul', 'un', 'unani', 'unbkay', 'unboxing', 'uncha', 'unchahe', 'unche', 'uncle', 'uncondtionly', 'unconscious', 'und', 'undaz', 'undekhi', 'under', 'underpass', 'understand', 'understanding', 'undheer', 'undi', 'undono', 'undorene', 'uneducational', 'unees', 'unethical', 'unfit', 'ungaiz', 'unginat', 'ungli', 'ungliyon', 'ungly', 'unh', 'unhaan', 'unhahahah', 'unhain', 'unhan', 'unhay', 'unhe', 'unhein', 'unhen', 'unhi', 'unhien', 'unhne', 'unho', 'unhon', 'unhone', 'unhoon', 'unhoun', 'unhy', 'uni', 'uniform', 'union', 'unique', 'unislamic', 'unit', 'united', 'units', 'unity', 'universities', 'university', 'unjam', 'unjo', 'unk', 'unka', 'unkay', 'unke', 'unkey', 'unki', 'unkle', 'unko', 'unky', 'unlimited', 'unlogo', 'unmarried', 'unn', 'uno', 'unpar', 'unparh', 'unsay', 'unse', 'unsubscribe', 'unsy', 'until', 'untt', 'unty', 'unwaan', 'uny', 'uolad', 'uoncha', 'uopar', 'up', 'upar', 'upchurch', 'update', 'uper', 'upgradation', 'upgrade', 'upload', 'uploaded', 'uploadeddo', 'upoor', 'upr', 'upset', 'upto', 'uqat', 'uqs', 'ur', 'ura', 'uraa', 'urain', 'urane', 'urat', 'uraton', 'uraya', 'urdgan', 'urdh', 'urdo', 'urdu', 'urdukal', 'urdy', 'ure', 'uret', 'urgent', 'urh', 'urhae', 'uroj', 'urooj', 'uroos', 'uroosa', 'urr', 'urra', 'urrehman', 'urroj', 'urton', 'urwa', 'us', 'usa', 'usama', 'usatza', 'usatzaa', 'usay', 'usb', 'use', 'used', 'useless', 'user', 'users', 'usey', 'usi', 'usk', 'uska', 'uskay', 'uske', 'uskey', 'uski', 'uskinaam', 'uskkay', 'usko', 'usky', 'usman', 'usmani', 'usmien', 'usnay', 'usne', 'usney', 'usolon', 'usool', 'usoolon', 'uspe', 'uspehe', 'uss', 'ussay', 'usse', 'ussey', 'ussh', 'ussi', 'usski', 'ussy', 'ustaad', 'ustad', 'ustadon', 'ustani', 'usual', 'usy', 'uta', 'utaar', 'utar', 'utara', 'utarna', 'utarnay', 'utaro', 'utarta', 'utartay', 'utarte', 'uterna', 'uterti', 'uth', 'utha', 'uthaa', 'uthaati', 'uthae', 'uthai', 'uthain', 'uthana', 'uthanay', 'uthane', 'uthany', 'uthaon', 'uthar', 'uthata', 'uthatay', 'uthate', 'uthaty', 'uthay', 'uthaya', 'uthaye', 'uthe', 'uthega', 'uthi', 'uthny', 'uthre', 'uthta', 'uthte', 'uthti', 'uthtithy', 'uthy', 'utility', 'utna', 'utne', 'utni', 'utra', 'utre', 'utrein', 'uttar', 'utthyee', 'utto', 'uty', 'uu', 'uuu', 'uwaz', 'uy', 'uz', 'uzair', 'uzar', 'uziiii', 'uzma', 'uzmaa', 'uzmy', 'v', 'va', 'vaar', 'vacations', 'vagebul', 'vahi', 'vai', 'vala', 'valentine', 'vali', 'valid', 'value', 'van', 'vans', 'vari', 'variety', 'varna', 'vazaeef', 'vdo', 've', 'vecher', 'vedio', 'vedios', 'veer', 'veeraan', 'veet', 'vekhdi', 'velay', 'vellay', 'velli', 'venders', 'vendor', 'veqry', 'ver', 'verbal', 'veriat', 'verna', 'versatile', 'version', 'very', 'vespa', 'vexe', 'vey', 'veyah', 'vgoodfixit', 'vhaly', 'vhaton', 'vi', 'via', 'vice', 'victim', 'victory', 'video', 'videography', 'videos', 'videosbegerat', 'videosgandy', 'vidio', 'view', 'vigara', 'viikkkaaassssss', 'village', 'villages', 'violence', 'vip', 'virsa', 'virus', 'visa', 'viscose', 'visit', 'visitor', 'vital', 'vitamin', 'vladimir', 'vlarification', 'vmeesni', 'vo', 'voh', 'voice', 'volume', 'vot', 'vote', 'voters', 'votes', 'voton', 'vouce', 'vrna', 'vs', 'vsare', 'vulgarism', 'vv', 'w', 'w0h', 'w8', 'wa', 'waaaa', 'waaaaaaa', 'waaaow', 'waada', 'waadi', 'waah', 'waala', 'waalaikum', 'waalay', 'waale', 'waali', 'waalikumaslamaapkobehumpakistanyoketarafseeidmubarkh', 'waalo', 'waalon', 'waalotumhari', 'waar', 'waari', 'waat', 'waba', 'wabasta', 'wabastagi', 'wabastagiyan', 'wabastegi', 'wabi', 'wabista', 'wabistagi', 'wabistegi', 'wada', 'wadah', 'waday', 'wadda', 'wade', 'wadere', 'wadi', 'wadion', 'wadiyon', 'wae', 'waed', 'wafa', 'wafaat', 'wafad', 'wafadar', 'wafadari', 'wafaq', 'wafaqi', 'wafat', 'wafd', 'wafood', 'wagaira', 'wagal', 'wagarna', 'wagat', 'wagera', 'waghaira', 'waghairah', 'waghera', 'waghyra', 'wagons', 'wah', 'waha', 'wahaan', 'wahab', 'wahaj', 'wahan', 'wahanmuqablon', 'wahayat', 'wahe', 'wahed', 'waheed', 'waheen', 'wahein', 'wahh', 'wahhh', 'wahhyaat', 'wahi', 'wahid', 'wahin', 'wahites', 'wahiyat', 'wahyat', 'wai', 'waif', 'waila', 'waisa', 'waisay', 'waise', 'waisi', 'waist', 'waisy', 'wait', 'waiting', 'waitress', 'waja', 'wajaa', 'wajah', 'wajahat', 'wajase', 'wajay', 'wajbat', 'wajebat', 'wajha', 'wajhi', 'wajid', 'wajod', 'wajohaat', 'wajohat', 'wajood', 'wajuhat', 'wajy', 'wak', 'wakai', 'wakalat', 'wakay', 'wakeeeeeel', 'wakeel', 'wakeelon', 'wakt', 'waktt', 'wal', 'wala', 'waladat', 'walaikum', 'walaikumsalam', 'walaun', 'walay', 'walda', 'waldah', 'waldain', 'walden', 'waldha', 'waldiyat', 'wale', 'waleden', 'waleed', 'waley', 'wali', 'walid', 'walida', 'walidain', 'waliden', 'walifilhal', 'walihana', 'walii', 'walikum', 'walima', 'waliy', 'waliyaan', 'walk', 'walkout', 'wall', 'wallah', 'wallahi', 'walle', 'wallet', 'wallow', 'walo', 'walon', 'walony', 'waloo', 'waloon', 'waloun', 'walu', 'walun', 'walwal', 'walwala', 'walwale', 'waly', 'wan', 'wandi', 'wani', 'wanjo', 'want', 'wanted', 'wao', 'wap', 'wapas', 'wapasi', 'wapda', 'wapes', 'wapis', 'waps', 'wapsi', 'waqa', 'waqaai', 'waqaat', 'waqae', 'waqaephr', 'waqaey', 'waqaf', 'waqai', 'waqaii', 'waqak', 'waqar', 'waqas', 'waqat', 'waqayat', 'waqayee', 'waqea', 'waqeaat', 'waqey', 'waqeya', 'waqeyaat', 'waqeyat', 'waqeye', 'waqf', 'waqfa', 'waqfey', 'waqfiyat', 'waqi', 'waqia', 'waqiat', 'waqiaye', 'waqie', 'waqif', 'waqifan', 'waqit', 'waqiyat', 'waqiye', 'waqqasopr', 'waqt', 'waqtan', 'waqti', 'waqton', 'waqua', 'war', 'warana', 'ward', 'wardato', 'wardaton', 'wardi', 'wards', 'wareah', 'wargii', 'warh', 'wari', 'warid', 'waris', 'warisy', 'warna', 'warne', 'warner', 'waron', 'waroo', 'warrant', 'warranty', 'warrning', 'warshal', 'wart', 'warta', 'wartonowear', 'warzi', 'warzion', 'warziyan', 'was', 'wasaf', 'wasail', 'wasaiyl', 'wasakte', 'wasalam', 'wasallam', 'wasay', 'wase', 'wasee', 'waseem', 'waseeobaseet', 'wasein', 'wash', 'washable', 'washal', 'washes', 'washroom', 'wasi', 'wasihat', 'wasila', 'wasim', 'wasol', 'wasool', 'wasooool', 'wasta', 'waste', 'wastee', 'wasti', 'wasuli', 'wasy', 'wata', 'watan', 'watch', 'waten', 'water', 'waterfall', 'watn', 'watneaziz', 'watni', 'watson', 'watt', 'waugh', 'wawa', 'wawela', 'wawww', 'way', 'wayan', 'waye', 'wayki', 'waysay', 'waza', 'wazaaef', 'wazah', 'wazahat', 'wazaif', 'wazair', 'wazan', 'wazarat', 'wazarateuzma', 'wazarto', 'waze', 'wazeefa', 'wazeefay', 'wazeer', 'wazeereazam', 'wazeerekhazana', 'wazer', 'wazif', 'wazifa', 'wazifo', 'wazify', 'wazir', 'wazirati', 'wazire', 'wazirealla', 'wazireazam', 'wazoo', 'wazra', 'wazyaa', 'wazyf', 'wazzan', 'wb', 'wd', 'we', 'weak', 'weapons', 'weaqt', 'wearing', 'web', 'webdes', 'website', 'wed', 'wee', 'week', 'weekend', 'weeks', 'ween', 'weerany', 'wegaira', 'weight', 'wein', 'wekhaya', 'wela', 'welay', 'welcome', 'weldon', 'welfare', 'well', 'wellcome', 'welldone', 'welling', 'welly', 'wer', 'were', 'werna', 'wesa', 'wesay', 'wese', 'wesi', 'wesite', 'wesley', 'west', 'western', 'wesy', 'wghera', 'wh', 'wha', 'whaeed', 'what', 'whats', 'whatsapp', 'whe', 'wheel', 'wheelie', 'wheels', 'when', 'whenever', 'where', 'which', 'while', 'white', 'who', 'whole', 'why', 'wi', 'wich', 'wicket', 'wicketen', 'wickets', 'wickten', 'widya', 'wifaq', 'wifaqi', 'wife', 'wifi', 'wikkat', 'wiladat', 'wilayat', 'will', 'win', 'wing', 'winking', 'winner', 'winning', 'winti', 'wips', 'wirasat', 'wird', 'wirsa', 'wisden', 'wisdon', 'wise', 'wish', 'wishes', 'wit', 'with', 'without', 'witnesses', 'wityhout', 'wiz', 'wizarat', 'wizaret', 'wizartein', 'wja', 'wjaa', 'wjah', 'wjha', 'wjja', 'wkt', 'wkts', 'wla', 'wlai', 'wle', 'wli', 'wly', 'wo', 'woh', 'wohi', 'wohooo', 'woi', 'wok', 'wokla', 'wolrd', 'woman', 'womem', 'women', 'won', 'wonder', 'wonderful', 'woo', 'wooh', 'woqla', 'word', 'wordless', 'wordpress', 'words', 'work', 'workable', 'worked', 'worker', 'workers', 'working', 'works', 'world', 'worldappeal', 'worldcup', 'worry', 'worst', 'worth', 'wossat', 'wot', 'would', 'wow', 'woww', 'wowwwwwwwwwwwwwwwwww', 'wozra', 'wqt', 'wrestling', 'wri', 'write', 'writen', 'writer', 'writers', 'writing', 'writings', 'wrna', 'wrong', 'wrongjis', 'wsa', 'wsawas', 'wse', 'wsy', 'wtf', 'wuhi', 'wujood', 'wukla', 'wusatebeyan', 'wwla', 'wwwfacebookcompakistanfederalgovernmentclerksunion', 'wyse', 'wysy', 'wyz', 'wzeefa', 'wzifa', 'x', 'x700', 'xa', 'xactlycup', 'xctly', 'xd', 'xe', 'xhal', 'xhl', 'xkty', 'xochna', 'xochny', 'xp', 'xulam', 'y', 'y7', 'ya', 'yaa', 'yaaa', 'yaaaaaaaara', 'yaaaar', 'yaaaay', 'yaaad', 'yaaar', 'yaaaro', 'yaaarrr', 'yaad', 'yaadgar', 'yaafta', 'yaan', 'yaani', 'yaar', 'yaaraik', 'yaarr', 'yab', 'yabi', 'yad', 'yada', 'yadasht', 'yadd', 'yaddasht', 'yadgaar', 'yadgar', 'yadil', 'yadon', 'yafta', 'yah', 'yaha', 'yahahahahhahahhahahahhaha', 'yahan', 'yahanb', 'yahe', 'yahee', 'yahein', 'yahen', 'yahi', 'yahin', 'yahn', 'yahod', 'yahodi', 'yahodiyon', 'yahodyun', 'yahoodi', 'yahudiat', 'yahya', 'yai', 'yak', 'yakatoot', 'yakatootlaanat', 'yake', 'yakebad', 'yakeen', 'yakh', 'yakin', 'yakja', 'yaksaa', 'yaksan', 'yaksaniyat', 'yaksar', 'yalghar', 'yalgharon', 'yallah', 'yammi', 'yan', 'yani', 'yanzeem', 'yaqeen', 'yaqeenan', 'yaqeeni', 'yaqeenn', 'yaqeennazmozabt', 'yaqen', 'yaqenan', 'yaqeni', 'yaqinan', 'yaqini', 'yaqjehti', 'yaqoob', 'yar', 'yara', 'yarbilkul', 'yarbohot', 'yard', 'yarr', 'yarro', 'yarrr', 'yarrrr', 'yarrrrrr', 'yarrrrrrrrrrrrr', 'yaseen', 'yashal', 'yasindh', 'yasir', 'yateem', 'yateemon', 'yatemm', 'yavy', 'yawoo', 'yawr', 'yay', 'ybr', 'yd', 'ye', 'yea', 'yeah', 'yeaha', 'yeahhh', 'yeai', 'year', 'years', 'yeb', 'yee', 'yeeah', 'yeer', 'yeh', 'yeha', 'yehan', 'yehe', 'yehee', 'yehhi', 'yehi', 'yehin', 'yehya', 'yellow', 'yemire', 'yer', 'yes', 'yess', 'yessss', 'yesterdays', 'yet', 'yh', 'yha', 'yhan', 'yhi', 'yhii', 'yhu', 'yhudi', 'yi', 'yiu', 'yo', 'yoda', 'yogusalawi', 'yom', 'yon', 'yoon', 'york', 'yorkers', 'yorks', 'yorup', 'you', 'youm', 'youn', 'younas', 'young', 'youngsters', 'younus', 'your', 'yourup', 'yousaf', 'yousafzai', 'yousuf', 'youth', 'youtube', 'youwhat', 'yq', 'yqeen', 'yr', 'yra', 'yrh', 'yrr', 'yrrr', 'yrrrr', 'yu', 'yum', 'yummy', 'yumna', 'yun', 'yunanis', 'yuon', 'yup', 'yuthiyo', 'yyy', 'za', 'zaad', 'zaada', 'zaadi', 'zaahir', 'zaalim', 'zaan', 'zaanoey', 'zaar', 'zaat', 'zaati', 'zabaan', 'zaban', 'zabano', 'zabanon', 'zabar10', 'zabardasat', 'zabardast', 'zabardastdera', 'zabardasti', 'zabardust', 'zabarta', 'zaberdast', 'zaberdasti', 'zaberdst', 'zabrdast', 'zabrdasti', 'zabrdst', 'zabrdust', 'zabt', 'zachgi', 'zad', 'zada', 'zadagi', 'zadah', 'zadd', 'zadgaan', 'zadgan', 'zaereehtemaam', 'zafar', 'zagif', 'zahanat', 'zahar', 'zaheen', 'zaheer', 'zahen', 'zaheni', 'zaher', 'zahid', 'zahir', 'zahiri', 'zahoor', 'zahra', 'zahru', 'zai', 'zaia', 'zaib', 'zaiba', 'zaid', 'zaida', 'zaidagi', 'zaidah', 'zaidi', 'zaif', 'zaika', 'zaily', 'zainab', 'zainabkhan', 'zainda', 'zaindagi', 'zair', 'zaiyd', 'zaiyda', 'zakahm', 'zakat', 'zakhair', 'zakham', 'zakhmi', 'zakhmio', 'zakhmon', 'zakkat', 'zalail', 'zalalat', 'zaleel', 'zalemon', 'zalemu', 'zalil', 'zalim', 'zalima', 'zalimana', 'zalimeu', 'zalimo', 'zalimpolice', 'zalmi', 'zalmo', 'zalmoo', 'zalmow', 'zalmu', 'zalzala', 'zalzalay', 'zalzly', 'zam', 'zamaa', 'zamaima', 'zaman', 'zamana', 'zamanae', 'zamanaeurooj', 'zamanat', 'zamanay', 'zamane', 'zamaney', 'zameen', 'zameer', 'zameir', 'zamen', 'zamin', 'zamino', 'zamir', 'zana', 'zanab', 'zanabein', 'zanban', 'zandabadpakistan', 'zandgi', 'zang', 'zani', 'zaniya', 'zanjeer', 'zanjeron', 'zanzeer', 'zar', 'zara', 'zaraar', 'zaradari', 'zaradi', 'zarae', 'zaraey', 'zaraf', 'zarafat', 'zarai', 'zaraiay', 'zarakarta', 'zarb', 'zarbasti', 'zardaari', 'zardari', 'zardarisb', 'zare', 'zarebubadla', 'zareen', 'zareena', 'zaren', 'zareye', 'zarf', 'zari', 'zarie', 'zarin', 'zarinalit', 'zarirat', 'zariy', 'zariya', 'zariye', 'zarkhez', 'zaroo', 'zaroon', 'zaroooooor', 'zaroor', 'zaroorat', 'zaroori', 'zaroot', 'zaror', 'zarorat', 'zaroratmandon', 'zarori', 'zaroriyat', 'zaroro', 'zarort', 'zarqa', 'zarre', 'zarror', 'zarur', 'zarurat', 'zaruri', 'zarurt', 'zary', 'zarya', 'zarye', 'zat', 'zati', 'zatmein', 'zauq', 'zawaal', 'zawabit', 'zawal', 'zawiye', 'zaya', 'zayada', 'zayadah', 'zayadati', 'zayda', 'zban', 'zbardast', 'zbr', 'zbrdast', 'zbrdst', 'zda', 'zeada', 'zealand', 'zeba', 'zee', 'zeenat', 'zeerak', 'zeeshan', 'zehan', 'zehani', 'zehar', 'zeher', 'zehereeli', 'zehmi', 'zehn', 'zehni', 'zehr', 'zehrat', 'zehreeli', 'zehreely', 'zehri', 'zehrili', 'zeli', 'zema', 'zemadari', 'zemma', 'zenat', 'zenda', 'zendagi', 'zer', 'zere', 'zeri', 'zero', 'zewar', 'zeyada', 'zia', 'ziad', 'ziada', 'ziadah', 'ziadamyn', 'ziadti', 'ziat', 'ziauddin', 'ziaulhaq', 'zibah', 'zibbah', 'zid', 'zida', 'zidagi', 'zidi', 'zihan', 'zihanat', 'zikar', 'ziker', 'zila', 'zilat', 'zilhajj', 'zilla', 'zillah', 'zilon', 'zima', 'zimadar', 'zimadari', 'zimaydariyan', 'zimbabwe', 'zimedaari', 'zimedar', 'zimedari', 'zimedaria', 'zimedariyan', 'zimedariyon', 'zimma', 'zimmedaar', 'zimmedar', 'zimmedarana', 'zimmedari', 'zimmedariyan', 'zimni', 'zina', 'zinadabad', 'zinat', 'zinda', 'zindabaaab', 'zindabaaad', 'zindabaad', 'zindabad', 'zindabadjhote', 'zindabadminhas', 'zindadgi', 'zindage', 'zindagee', 'zindagi', 'zindagy', 'zindah', 'zindge', 'zindgi', 'zindgiyo', 'zindhge', 'zingdgi', 'zirat', 'zirconum', 'ziya', 'ziyada', 'ziyadah', 'ziyadati', 'ziyadatiyon', 'ziyadfa', 'ziyah', 'ziyda', 'zkhmi', 'zlalt', 'znda', 'zndgi', 'zoban', 'zobaria', 'zobi', 'zohaib', 'zone', 'zong', 'zoog', 'zoor', 'zoordar', 'zor', 'zordaar', 'zordar', 'zore', 'zori', 'zoron', 'zorr', 'zou', 'zoya', 'zra', 'zrafe', 'zrdari', 'zria', 'zroooor', 'zroorat', 'zroort', 'zrooryar', 'zror', 'zrorat', 'zrori', 'zrort', 'zrra', 'zrur', 'zrurt', 'zubaan', 'zubaanon', 'zuban', 'zubi', 'zubir', 'zuhar', 'zulaam', 'zulam', 'zulf', 'zulfein', 'zulficar', 'zulfikar', 'zulfikhar', 'zulfiqar', 'zulfon', 'zulim', 'zulm', 'zulum', 'zunair', 'zurar', 'zururi', 'zya', 'zyaada', 'zyaati', 'zyada', 'zyasti', 'zyda', 'zydty', 'zyyada', 'â', 'ïłyäs', 'œ', 'الله', 'او', 'اے', 'بیٹھی', 'جیڑی', 'سی', 'ناں', 'کر', 'کردی', 'ھاں', '砥nchahe', '賭easar', '鄭h', '鄭pwa']\n"
     ]
    }
   ],
   "source": [
    "count_vect = CountVectorizer(analyzer=clean_text)\n",
    "X_counts = count_vect.fit_transform(fullcorpusI['body_text'])\n",
    "## Fit only trains the vectorizer that are in the corpus\n",
    "# fit_transform will actually vectorize the dataset\n",
    "print(X_counts.shape)\n",
    "print(count_vect.get_feature_names())"
   ]
  },
  {
   "cell_type": "markdown",
   "metadata": {},
   "source": [
    "### Vectorizer outputs sparse matrix\n",
    "\n",
    "** Sparse Matrix: A matrix in which most entries are 0. In the interest of efficient storage, a sparse matrix will be stored by only storing the locations of the non-zero elements. \n",
    "\n",
    "** X_counts is a document term matrix that contains the number of text messages as rows and distinct words contained in them as columns. The number represents the number of times each word occured in the text. "
   ]
  },
  {
   "cell_type": "code",
   "execution_count": 62,
   "metadata": {},
   "outputs": [
    {
     "data": {
      "text/html": [
       "<div>\n",
       "<style scoped>\n",
       "    .dataframe tbody tr th:only-of-type {\n",
       "        vertical-align: middle;\n",
       "    }\n",
       "\n",
       "    .dataframe tbody tr th {\n",
       "        vertical-align: top;\n",
       "    }\n",
       "\n",
       "    .dataframe thead th {\n",
       "        text-align: right;\n",
       "    }\n",
       "</style>\n",
       "<table border=\"1\" class=\"dataframe\">\n",
       "  <thead>\n",
       "    <tr style=\"text-align: right;\">\n",
       "      <th></th>\n",
       "      <th>0</th>\n",
       "      <th>1</th>\n",
       "      <th>2</th>\n",
       "      <th>3</th>\n",
       "      <th>4</th>\n",
       "      <th>5</th>\n",
       "      <th>6</th>\n",
       "      <th>7</th>\n",
       "      <th>8</th>\n",
       "      <th>9</th>\n",
       "      <th>...</th>\n",
       "      <th>25621</th>\n",
       "      <th>25622</th>\n",
       "      <th>25623</th>\n",
       "      <th>25624</th>\n",
       "      <th>25625</th>\n",
       "      <th>25626</th>\n",
       "      <th>25627</th>\n",
       "      <th>25628</th>\n",
       "      <th>25629</th>\n",
       "      <th>25630</th>\n",
       "    </tr>\n",
       "  </thead>\n",
       "  <tbody>\n",
       "    <tr>\n",
       "      <th>0</th>\n",
       "      <td>0</td>\n",
       "      <td>0</td>\n",
       "      <td>0</td>\n",
       "      <td>0</td>\n",
       "      <td>0</td>\n",
       "      <td>0</td>\n",
       "      <td>0</td>\n",
       "      <td>0</td>\n",
       "      <td>0</td>\n",
       "      <td>0</td>\n",
       "      <td>...</td>\n",
       "      <td>0</td>\n",
       "      <td>0</td>\n",
       "      <td>0</td>\n",
       "      <td>0</td>\n",
       "      <td>0</td>\n",
       "      <td>0</td>\n",
       "      <td>0</td>\n",
       "      <td>0</td>\n",
       "      <td>0</td>\n",
       "      <td>0</td>\n",
       "    </tr>\n",
       "    <tr>\n",
       "      <th>1</th>\n",
       "      <td>0</td>\n",
       "      <td>0</td>\n",
       "      <td>0</td>\n",
       "      <td>0</td>\n",
       "      <td>0</td>\n",
       "      <td>0</td>\n",
       "      <td>0</td>\n",
       "      <td>0</td>\n",
       "      <td>0</td>\n",
       "      <td>0</td>\n",
       "      <td>...</td>\n",
       "      <td>0</td>\n",
       "      <td>0</td>\n",
       "      <td>0</td>\n",
       "      <td>0</td>\n",
       "      <td>0</td>\n",
       "      <td>0</td>\n",
       "      <td>0</td>\n",
       "      <td>0</td>\n",
       "      <td>0</td>\n",
       "      <td>0</td>\n",
       "    </tr>\n",
       "    <tr>\n",
       "      <th>2</th>\n",
       "      <td>0</td>\n",
       "      <td>0</td>\n",
       "      <td>0</td>\n",
       "      <td>0</td>\n",
       "      <td>0</td>\n",
       "      <td>0</td>\n",
       "      <td>0</td>\n",
       "      <td>0</td>\n",
       "      <td>0</td>\n",
       "      <td>0</td>\n",
       "      <td>...</td>\n",
       "      <td>0</td>\n",
       "      <td>0</td>\n",
       "      <td>0</td>\n",
       "      <td>0</td>\n",
       "      <td>0</td>\n",
       "      <td>0</td>\n",
       "      <td>0</td>\n",
       "      <td>0</td>\n",
       "      <td>0</td>\n",
       "      <td>0</td>\n",
       "    </tr>\n",
       "    <tr>\n",
       "      <th>3</th>\n",
       "      <td>0</td>\n",
       "      <td>0</td>\n",
       "      <td>0</td>\n",
       "      <td>0</td>\n",
       "      <td>0</td>\n",
       "      <td>0</td>\n",
       "      <td>0</td>\n",
       "      <td>0</td>\n",
       "      <td>0</td>\n",
       "      <td>0</td>\n",
       "      <td>...</td>\n",
       "      <td>0</td>\n",
       "      <td>0</td>\n",
       "      <td>0</td>\n",
       "      <td>0</td>\n",
       "      <td>0</td>\n",
       "      <td>0</td>\n",
       "      <td>0</td>\n",
       "      <td>0</td>\n",
       "      <td>0</td>\n",
       "      <td>0</td>\n",
       "    </tr>\n",
       "    <tr>\n",
       "      <th>4</th>\n",
       "      <td>0</td>\n",
       "      <td>0</td>\n",
       "      <td>0</td>\n",
       "      <td>0</td>\n",
       "      <td>0</td>\n",
       "      <td>0</td>\n",
       "      <td>0</td>\n",
       "      <td>0</td>\n",
       "      <td>0</td>\n",
       "      <td>0</td>\n",
       "      <td>...</td>\n",
       "      <td>0</td>\n",
       "      <td>0</td>\n",
       "      <td>0</td>\n",
       "      <td>0</td>\n",
       "      <td>0</td>\n",
       "      <td>0</td>\n",
       "      <td>0</td>\n",
       "      <td>0</td>\n",
       "      <td>0</td>\n",
       "      <td>0</td>\n",
       "    </tr>\n",
       "  </tbody>\n",
       "</table>\n",
       "<p>5 rows × 25631 columns</p>\n",
       "</div>"
      ],
      "text/plain": [
       "   0      1      2      3      4      5      6      7      8      9      ...  \\\n",
       "0      0      0      0      0      0      0      0      0      0      0  ...   \n",
       "1      0      0      0      0      0      0      0      0      0      0  ...   \n",
       "2      0      0      0      0      0      0      0      0      0      0  ...   \n",
       "3      0      0      0      0      0      0      0      0      0      0  ...   \n",
       "4      0      0      0      0      0      0      0      0      0      0  ...   \n",
       "\n",
       "   25621  25622  25623  25624  25625  25626  25627  25628  25629  25630  \n",
       "0      0      0      0      0      0      0      0      0      0      0  \n",
       "1      0      0      0      0      0      0      0      0      0      0  \n",
       "2      0      0      0      0      0      0      0      0      0      0  \n",
       "3      0      0      0      0      0      0      0      0      0      0  \n",
       "4      0      0      0      0      0      0      0      0      0      0  \n",
       "\n",
       "[5 rows x 25631 columns]"
      ]
     },
     "execution_count": 62,
     "metadata": {},
     "output_type": "execute_result"
    }
   ],
   "source": [
    "X_counts_df = pd.DataFrame(X_counts.toarray())\n",
    "X_counts_df.head()"
   ]
  },
  {
   "cell_type": "code",
   "execution_count": 63,
   "metadata": {},
   "outputs": [],
   "source": [
    "X_counts_df.columns = count_vect.get_feature_names()"
   ]
  },
  {
   "cell_type": "code",
   "execution_count": 64,
   "metadata": {},
   "outputs": [
    {
     "data": {
      "text/html": [
       "<div>\n",
       "<style scoped>\n",
       "    .dataframe tbody tr th:only-of-type {\n",
       "        vertical-align: middle;\n",
       "    }\n",
       "\n",
       "    .dataframe tbody tr th {\n",
       "        vertical-align: top;\n",
       "    }\n",
       "\n",
       "    .dataframe thead th {\n",
       "        text-align: right;\n",
       "    }\n",
       "</style>\n",
       "<table border=\"1\" class=\"dataframe\">\n",
       "  <thead>\n",
       "    <tr style=\"text-align: right;\">\n",
       "      <th></th>\n",
       "      <th></th>\n",
       "      <th>0</th>\n",
       "      <th>03002341366</th>\n",
       "      <th>03004328290</th>\n",
       "      <th>0300929358603339293586</th>\n",
       "      <th>03097065975</th>\n",
       "      <th>04</th>\n",
       "      <th>0esa</th>\n",
       "      <th>0r</th>\n",
       "      <th>1</th>\n",
       "      <th>...</th>\n",
       "      <th>جیڑی</th>\n",
       "      <th>سی</th>\n",
       "      <th>ناں</th>\n",
       "      <th>کر</th>\n",
       "      <th>کردی</th>\n",
       "      <th>ھاں</th>\n",
       "      <th>砥nchahe</th>\n",
       "      <th>賭easar</th>\n",
       "      <th>鄭h</th>\n",
       "      <th>鄭pwa</th>\n",
       "    </tr>\n",
       "  </thead>\n",
       "  <tbody>\n",
       "    <tr>\n",
       "      <th>0</th>\n",
       "      <td>0</td>\n",
       "      <td>0</td>\n",
       "      <td>0</td>\n",
       "      <td>0</td>\n",
       "      <td>0</td>\n",
       "      <td>0</td>\n",
       "      <td>0</td>\n",
       "      <td>0</td>\n",
       "      <td>0</td>\n",
       "      <td>0</td>\n",
       "      <td>...</td>\n",
       "      <td>0</td>\n",
       "      <td>0</td>\n",
       "      <td>0</td>\n",
       "      <td>0</td>\n",
       "      <td>0</td>\n",
       "      <td>0</td>\n",
       "      <td>0</td>\n",
       "      <td>0</td>\n",
       "      <td>0</td>\n",
       "      <td>0</td>\n",
       "    </tr>\n",
       "    <tr>\n",
       "      <th>1</th>\n",
       "      <td>0</td>\n",
       "      <td>0</td>\n",
       "      <td>0</td>\n",
       "      <td>0</td>\n",
       "      <td>0</td>\n",
       "      <td>0</td>\n",
       "      <td>0</td>\n",
       "      <td>0</td>\n",
       "      <td>0</td>\n",
       "      <td>0</td>\n",
       "      <td>...</td>\n",
       "      <td>0</td>\n",
       "      <td>0</td>\n",
       "      <td>0</td>\n",
       "      <td>0</td>\n",
       "      <td>0</td>\n",
       "      <td>0</td>\n",
       "      <td>0</td>\n",
       "      <td>0</td>\n",
       "      <td>0</td>\n",
       "      <td>0</td>\n",
       "    </tr>\n",
       "    <tr>\n",
       "      <th>2</th>\n",
       "      <td>0</td>\n",
       "      <td>0</td>\n",
       "      <td>0</td>\n",
       "      <td>0</td>\n",
       "      <td>0</td>\n",
       "      <td>0</td>\n",
       "      <td>0</td>\n",
       "      <td>0</td>\n",
       "      <td>0</td>\n",
       "      <td>0</td>\n",
       "      <td>...</td>\n",
       "      <td>0</td>\n",
       "      <td>0</td>\n",
       "      <td>0</td>\n",
       "      <td>0</td>\n",
       "      <td>0</td>\n",
       "      <td>0</td>\n",
       "      <td>0</td>\n",
       "      <td>0</td>\n",
       "      <td>0</td>\n",
       "      <td>0</td>\n",
       "    </tr>\n",
       "    <tr>\n",
       "      <th>3</th>\n",
       "      <td>0</td>\n",
       "      <td>0</td>\n",
       "      <td>0</td>\n",
       "      <td>0</td>\n",
       "      <td>0</td>\n",
       "      <td>0</td>\n",
       "      <td>0</td>\n",
       "      <td>0</td>\n",
       "      <td>0</td>\n",
       "      <td>0</td>\n",
       "      <td>...</td>\n",
       "      <td>0</td>\n",
       "      <td>0</td>\n",
       "      <td>0</td>\n",
       "      <td>0</td>\n",
       "      <td>0</td>\n",
       "      <td>0</td>\n",
       "      <td>0</td>\n",
       "      <td>0</td>\n",
       "      <td>0</td>\n",
       "      <td>0</td>\n",
       "    </tr>\n",
       "    <tr>\n",
       "      <th>4</th>\n",
       "      <td>0</td>\n",
       "      <td>0</td>\n",
       "      <td>0</td>\n",
       "      <td>0</td>\n",
       "      <td>0</td>\n",
       "      <td>0</td>\n",
       "      <td>0</td>\n",
       "      <td>0</td>\n",
       "      <td>0</td>\n",
       "      <td>0</td>\n",
       "      <td>...</td>\n",
       "      <td>0</td>\n",
       "      <td>0</td>\n",
       "      <td>0</td>\n",
       "      <td>0</td>\n",
       "      <td>0</td>\n",
       "      <td>0</td>\n",
       "      <td>0</td>\n",
       "      <td>0</td>\n",
       "      <td>0</td>\n",
       "      <td>0</td>\n",
       "    </tr>\n",
       "  </tbody>\n",
       "</table>\n",
       "<p>5 rows × 25631 columns</p>\n",
       "</div>"
      ],
      "text/plain": [
       "      0  03002341366  03004328290  0300929358603339293586  03097065975  04  \\\n",
       "0  0  0            0            0                       0            0   0   \n",
       "1  0  0            0            0                       0            0   0   \n",
       "2  0  0            0            0                       0            0   0   \n",
       "3  0  0            0            0                       0            0   0   \n",
       "4  0  0            0            0                       0            0   0   \n",
       "\n",
       "   0esa  0r  1  ...  جیڑی  سی  ناں  کر  کردی  ھاں  砥nchahe  賭easar  鄭h  鄭pwa  \n",
       "0     0   0  0  ...     0   0    0   0     0    0        0       0   0     0  \n",
       "1     0   0  0  ...     0   0    0   0     0    0        0       0   0     0  \n",
       "2     0   0  0  ...     0   0    0   0     0    0        0       0   0     0  \n",
       "3     0   0  0  ...     0   0    0   0     0    0        0       0   0     0  \n",
       "4     0   0  0  ...     0   0    0   0     0    0        0       0   0     0  \n",
       "\n",
       "[5 rows x 25631 columns]"
      ]
     },
     "execution_count": 64,
     "metadata": {},
     "output_type": "execute_result"
    }
   ],
   "source": [
    "X_counts_df.head()"
   ]
  },
  {
   "cell_type": "markdown",
   "metadata": {},
   "source": [
    "## Vectorizing raw data: N-Grams"
   ]
  },
  {
   "cell_type": "markdown",
   "metadata": {},
   "source": [
    "**N-Grams** - Creates a document term matrix where ther counts still occupy the cell but instead of the columns representing single terms, they represent all combinations of adjacent words of length in your text.  \n",
    "\n",
    "For example: \"NLP is an interesting topic\". \n",
    "\n",
    "| n | Name | Tokens |\n",
    "|---|------|--------|\n",
    "| 2 | Bigram | [\"nlp is\"], [\"is an\"], [\"an interesting\"], [\"interesting topic\"] |\n",
    "| 3 | Trigram | [\"nlp is an\"], [\"is an interesting\"], [\"an interesting topic\"] |\n",
    "| 4 | four-gram | [\"nlp is an intersting\"], [\"is an interesting topic\"] |"
   ]
  },
  {
   "cell_type": "markdown",
   "metadata": {},
   "source": [
    "### Applying count vectorizer with N-Gram"
   ]
  },
  {
   "cell_type": "code",
   "execution_count": 66,
   "metadata": {},
   "outputs": [
    {
     "name": "stdout",
     "output_type": "stream",
     "text": [
      "(11300, 112162)\n"
     ]
    }
   ],
   "source": [
    "ngram_vect = CountVectorizer(ngram_range=(2,2))\n",
    "# Count vectorizer will search in the range 2,2, meaning only bi-grams. If the range is 1,2, then it will look \n",
    "# for unigrams and bigrams. If the range is 1,3 then it will start with unigrams until trigrams including bigrams. \n",
    "X_counts_ngram = ngram_vect.fit_transform(fullcorpusI['body_text'])\n",
    "print(X_counts_ngram.shape)"
   ]
  },
  {
   "cell_type": "code",
   "execution_count": 67,
   "metadata": {},
   "outputs": [],
   "source": [
    "X_count_feat = pd.concat([fullcorpusI['body_length'], fullcorpusI['punct%'], pd.DataFrame(X_counts_ngram.toarray())])"
   ]
  },
  {
   "cell_type": "markdown",
   "metadata": {},
   "source": [
    "# Tfidf Vectorizer"
   ]
  },
  {
   "cell_type": "markdown",
   "metadata": {},
   "source": [
    "** Inverse Document Frequency Weighting **\n",
    "\n",
    "$w_{i,j}$ = $tf_{i,j}$ $\\times$ log$\\frac{N}{df_{i}}$\n",
    "\n",
    "* $tf_{i,j}$: Number of times the word i occured in word j divided by the total number of terms (words) in j \n",
    "* $df_{i}$: Number of documents containing i\n",
    "* N: Total number of documents"
   ]
  },
  {
   "cell_type": "code",
   "execution_count": 68,
   "metadata": {},
   "outputs": [
    {
     "name": "stdout",
     "output_type": "stream",
     "text": [
      "(11300, 25631)\n"
     ]
    }
   ],
   "source": [
    "tfidf_Vect = TfidfVectorizer(analyzer=clean_text)\n",
    "X_tfidf = tfidf_Vect.fit_transform(fullcorpusI['body_text'])\n",
    "print(X_tfidf.shape)"
   ]
  },
  {
   "cell_type": "code",
   "execution_count": 113,
   "metadata": {},
   "outputs": [],
   "source": [
    "X_tfidf_feat = pd.DataFrame(X_tfidf.toarray())"
   ]
  },
  {
   "cell_type": "code",
   "execution_count": 72,
   "metadata": {},
   "outputs": [],
   "source": [
    "X_tfidf_feat = pd.concat([fullcorpusI['body_length'], fullcorpusI['punct%'], pd.DataFrame(X_tfidf.toarray())], axis=1)"
   ]
  },
  {
   "cell_type": "code",
   "execution_count": 114,
   "metadata": {},
   "outputs": [
    {
     "data": {
      "text/plain": [
       "(11300, 25631)"
      ]
     },
     "execution_count": 114,
     "metadata": {},
     "output_type": "execute_result"
    }
   ],
   "source": [
    "X_tfidf_feat.shape"
   ]
  },
  {
   "cell_type": "code",
   "execution_count": 112,
   "metadata": {},
   "outputs": [
    {
     "data": {
      "text/plain": [
       "(11300, 5)"
      ]
     },
     "execution_count": 112,
     "metadata": {},
     "output_type": "execute_result"
    }
   ],
   "source": [
    "fullcorpusI.shape"
   ]
  },
  {
   "cell_type": "markdown",
   "metadata": {},
   "source": [
    "# Machine Learning Models: Random Forest"
   ]
  },
  {
   "cell_type": "markdown",
   "metadata": {},
   "source": [
    "**Benefits of Random forest**\n",
    "\n",
    "* Versatile: Can be used for regression and classification types problems\n",
    "* Easily handles outliers and missing values\n",
    "* Can handle various types of inputs, continuous or ordinal \n",
    "* Outputs feature importance"
   ]
  },
  {
   "cell_type": "code",
   "execution_count": 101,
   "metadata": {},
   "outputs": [
    {
     "name": "stdout",
     "output_type": "stream",
     "text": [
      "['__abstractmethods__', '__class__', '__delattr__', '__dict__', '__dir__', '__doc__', '__eq__', '__format__', '__ge__', '__getattribute__', '__getitem__', '__getstate__', '__gt__', '__hash__', '__init__', '__init_subclass__', '__iter__', '__le__', '__len__', '__lt__', '__module__', '__ne__', '__new__', '__reduce__', '__reduce_ex__', '__repr__', '__setattr__', '__setstate__', '__sizeof__', '__str__', '__subclasshook__', '__weakref__', '_abc_impl', '_estimator_type', '_get_param_names', '_get_tags', '_make_estimator', '_more_tags', '_required_parameters', '_set_oob_score', '_validate_X_predict', '_validate_estimator', '_validate_y_class_weight', 'apply', 'decision_path', 'feature_importances_', 'fit', 'get_params', 'predict', 'predict_log_proba', 'predict_proba', 'score', 'set_params']\n"
     ]
    }
   ],
   "source": [
    "print(dir(RandomForestClassifier))"
   ]
  },
  {
   "cell_type": "code",
   "execution_count": 102,
   "metadata": {},
   "outputs": [
    {
     "name": "stdout",
     "output_type": "stream",
     "text": [
      "RandomForestClassifier(bootstrap=True, class_weight=None, criterion='gini',\n",
      "                       max_depth=None, max_features='auto', max_leaf_nodes=None,\n",
      "                       min_impurity_decrease=0.0, min_impurity_split=None,\n",
      "                       min_samples_leaf=1, min_samples_split=2,\n",
      "                       min_weight_fraction_leaf=0.0, n_estimators='warn',\n",
      "                       n_jobs=None, oob_score=False, random_state=None,\n",
      "                       verbose=0, warm_start=False)\n"
     ]
    }
   ],
   "source": [
    "print(RandomForestClassifier())"
   ]
  },
  {
   "cell_type": "markdown",
   "metadata": {},
   "source": [
    "## Explore RandomForestClassifier through Cross-Validation"
   ]
  },
  {
   "cell_type": "code",
   "execution_count": 103,
   "metadata": {},
   "outputs": [],
   "source": [
    "rf = RandomForestClassifier(n_jobs=-1)\n",
    "# n_jobs = -1 allows the random forests to be built parallel and allows for faster processing. "
   ]
  },
  {
   "cell_type": "code",
   "execution_count": 104,
   "metadata": {},
   "outputs": [],
   "source": [
    "k_fold = KFold(n_splits=5)"
   ]
  },
  {
   "cell_type": "code",
   "execution_count": 105,
   "metadata": {},
   "outputs": [],
   "source": [
    "X_features = pd.concat([fullcorpusI['body_length'], fullcorpusI['punct%'], pd.DataFrame(X_tfidf.toarray())], axis=1)"
   ]
  },
  {
   "cell_type": "code",
   "execution_count": 116,
   "metadata": {},
   "outputs": [
    {
     "data": {
      "text/plain": [
       "{'fit_time': array([53.20803905, 52.89355898, 51.96148705, 53.30927992, 51.21335697]),\n",
       " 'score_time': array([0.70344591, 0.77930307, 1.1829679 , 0.75700307, 1.62841606]),\n",
       " 'test_score': array([0.20575221, 0.66637168, 0.21371681, 0.64336283, 0.63362832]),\n",
       " 'train_score': array([0.9829646 , 0.98539823, 0.99336283, 0.98727876, 0.99070796])}"
      ]
     },
     "execution_count": 116,
     "metadata": {},
     "output_type": "execute_result"
    }
   ],
   "source": [
    "cross_validate(rf, X_tfidf_feat , fullcorpusI['sentiment'], cv=k_fold, scoring='accuracy', n_jobs=-1, \n",
    "               return_train_score=True)"
   ]
  },
  {
   "cell_type": "markdown",
   "metadata": {},
   "source": [
    "## Explore RandomForestClassifier through a holdout set"
   ]
  },
  {
   "cell_type": "code",
   "execution_count": 122,
   "metadata": {},
   "outputs": [],
   "source": [
    "X_train, X_test, y_train, y_test = train_test_split(X_tfidf_feat, fullcorpusI['sentiment'], test_size=0.2)"
   ]
  },
  {
   "cell_type": "code",
   "execution_count": 123,
   "metadata": {},
   "outputs": [],
   "source": [
    "rf = RandomForestClassifier(n_estimators=50, max_depth=20, n_jobs=-1)\n",
    "rf_model = rf.fit(X_train, y_train)"
   ]
  },
  {
   "cell_type": "code",
   "execution_count": 124,
   "metadata": {},
   "outputs": [
    {
     "name": "stdout",
     "output_type": "stream",
     "text": [
      "RandomForestClassifier(bootstrap=True, class_weight=None, criterion='gini',\n",
      "                       max_depth=20, max_features='auto', max_leaf_nodes=None,\n",
      "                       min_impurity_decrease=0.0, min_impurity_split=None,\n",
      "                       min_samples_leaf=1, min_samples_split=2,\n",
      "                       min_weight_fraction_leaf=0.0, n_estimators=50, n_jobs=-1,\n",
      "                       oob_score=False, random_state=None, verbose=0,\n",
      "                       warm_start=False)\n"
     ]
    }
   ],
   "source": [
    "print(rf_model)"
   ]
  },
  {
   "cell_type": "code",
   "execution_count": 125,
   "metadata": {},
   "outputs": [
    {
     "data": {
      "text/plain": [
       "[(0.023621686621637206, 0),\n",
       " (0.019934716464124633, 1412),\n",
       " (0.017668479311533206, 12273),\n",
       " (0.014768864156285795, 2155),\n",
       " (0.013688838084301084, 17118),\n",
       " (0.011802991463865861, 13723),\n",
       " (0.010398398668048054, 8413),\n",
       " (0.009045470120240632, 762),\n",
       " (0.009034306409854297, 14172),\n",
       " (0.008979004783417498, 4001)]"
      ]
     },
     "execution_count": 125,
     "metadata": {},
     "output_type": "execute_result"
    }
   ],
   "source": [
    "sorted(zip(rf_model.feature_importances_, X_train.columns), reverse=True)[0:10]"
   ]
  },
  {
   "cell_type": "code",
   "execution_count": 126,
   "metadata": {},
   "outputs": [],
   "source": [
    "y_pred = rf_model.predict(X_test)"
   ]
  },
  {
   "cell_type": "code",
   "execution_count": 127,
   "metadata": {},
   "outputs": [
    {
     "name": "stderr",
     "output_type": "stream",
     "text": [
      "/anaconda3/lib/python3.7/site-packages/sklearn/metrics/classification.py:1259: UserWarning: Note that pos_label (set to 0) is ignored when average != 'binary' (got 'micro'). You may use labels=[pos_label] to specify a single positive class.\n",
      "  % (pos_label, average), UserWarning)\n"
     ]
    }
   ],
   "source": [
    "precision, recall, fscore, support = score(y_test, y_pred, pos_label=0, average='micro') \n",
    "# When the labels are not binary (0 or 1) such as in this case our labels are ham or spam, we need to tell the \n",
    "# model what we want to it predict. Meaning our positive label will be 'spam'. So it can predict 'spam' labels."
   ]
  },
  {
   "cell_type": "code",
   "execution_count": 128,
   "metadata": {},
   "outputs": [
    {
     "name": "stdout",
     "output_type": "stream",
     "text": [
      "0.6672566371681415 0.6672566371681415 0.6672566371681415 None\n"
     ]
    }
   ],
   "source": [
    "print(precision, recall, fscore, support)"
   ]
  },
  {
   "cell_type": "code",
   "execution_count": 129,
   "metadata": {},
   "outputs": [
    {
     "name": "stdout",
     "output_type": "stream",
     "text": [
      "Precision: 0.667 / Recall: 0.667 / Accuracy: 0.667\n"
     ]
    }
   ],
   "source": [
    "print('Precision: {} / Recall: {} / Accuracy: {}'.format(round(precision, 3),\n",
    "                                                         round(recall, 3),\n",
    "                                                         round((y_pred == y_test).sum()/len(y_pred), 3)))"
   ]
  },
  {
   "cell_type": "markdown",
   "metadata": {},
   "source": [
    "# Building Machine Learning Classifiers: Explore Random Forest model with grid search "
   ]
  },
  {
   "cell_type": "markdown",
   "metadata": {},
   "source": [
    "**Grid Search**: Building a grid of hyper-parameter settings, and then exploring a model fit with each of those \n",
    "                 hyper-parameters settings."
   ]
  },
  {
   "cell_type": "markdown",
   "metadata": {},
   "source": [
    "## Build your own grid search"
   ]
  },
  {
   "cell_type": "code",
   "execution_count": 130,
   "metadata": {},
   "outputs": [],
   "source": [
    "def train_RF(n_est, depth):\n",
    "    rf = RandomForestClassifier(n_estimators=n_est, max_depth=depth, n_jobs=-1)\n",
    "    rf_model = rf.fit(X_train, y_train)\n",
    "    y_pred = rf_model.predict(X_test)\n",
    "    precision, recall, fscore, support = score(y_test, y_pred, average='weighted')\n",
    "    print('Estimators: {} / Depth: {} ---- Precision: {} / Recall: {} / Accuracy: {}'.format(\n",
    "           n_est, depth, round(precision,3), round(recall,3), round(fscore,3), \n",
    "           round((y_test == y_pred).sum()/len(y_test),3)))"
   ]
  },
  {
   "cell_type": "code",
   "execution_count": 131,
   "metadata": {},
   "outputs": [
    {
     "name": "stdout",
     "output_type": "stream",
     "text": [
      "Estimators: 10 / Depth: 10 ---- Precision: 0.636 / Recall: 0.577 / Accuracy: 0.514\n",
      "Estimators: 10 / Depth: 20 ---- Precision: 0.654 / Recall: 0.631 / Accuracy: 0.611\n",
      "Estimators: 10 / Depth: 30 ---- Precision: 0.682 / Recall: 0.661 / Accuracy: 0.647\n",
      "Estimators: 10 / Depth: None ---- Precision: 0.716 / Recall: 0.713 / Accuracy: 0.713\n",
      "Estimators: 50 / Depth: 10 ---- Precision: 0.697 / Recall: 0.569 / Accuracy: 0.475\n",
      "Estimators: 50 / Depth: 20 ---- Precision: 0.696 / Recall: 0.658 / Accuracy: 0.637\n",
      "Estimators: 50 / Depth: 30 ---- Precision: 0.703 / Recall: 0.685 / Accuracy: 0.676\n",
      "Estimators: 50 / Depth: None ---- Precision: 0.753 / Recall: 0.753 / Accuracy: 0.753\n",
      "Estimators: 100 / Depth: 10 ---- Precision: 0.679 / Recall: 0.566 / Accuracy: 0.472\n",
      "Estimators: 100 / Depth: 20 ---- Precision: 0.713 / Recall: 0.669 / Accuracy: 0.647\n",
      "Estimators: 100 / Depth: 30 ---- Precision: 0.721 / Recall: 0.708 / Accuracy: 0.702\n",
      "Estimators: 100 / Depth: None ---- Precision: 0.753 / Recall: 0.753 / Accuracy: 0.753\n"
     ]
    }
   ],
   "source": [
    "for n_est in [10, 50, 100]:\n",
    "    for depth in [10, 20, 30, None]:\n",
    "        train_RF(n_est, depth)"
   ]
  },
  {
   "cell_type": "markdown",
   "metadata": {},
   "source": [
    "# Logistic Regression & Support Vector Machines"
   ]
  },
  {
   "cell_type": "code",
   "execution_count": 133,
   "metadata": {},
   "outputs": [],
   "source": [
    "lr = LogisticRegression(max_iter=100, C=1)\n",
    "svm = SGDClassifier(loss='hinge')"
   ]
  },
  {
   "cell_type": "code",
   "execution_count": 134,
   "metadata": {},
   "outputs": [],
   "source": [
    "def train_predict_model(classifier, \n",
    "                        train_features, train_labels, test_features, test_labels):\n",
    "    # build model\n",
    "    classifier.fit(train_features, train_labels)\n",
    "    # predict using the model\n",
    "    predictions = classifier.predict(test_features)\n",
    "    return predictions"
   ]
  },
  {
   "cell_type": "code",
   "execution_count": 136,
   "metadata": {},
   "outputs": [],
   "source": [
    "# creating train and test datasets\n",
    "train_df = X_tfidf_feat\n",
    "test_df = fullcorpusI['sentiment']"
   ]
  },
  {
   "cell_type": "code",
   "execution_count": 137,
   "metadata": {},
   "outputs": [],
   "source": [
    "# Splitting the dataset into testing (20%) and training (80%) pieces\n",
    "X_train, X_test, y_train, y_test = train_test_split(train_df, test_df, test_size=0.2)"
   ]
  },
  {
   "cell_type": "code",
   "execution_count": 139,
   "metadata": {},
   "outputs": [
    {
     "name": "stderr",
     "output_type": "stream",
     "text": [
      "/anaconda3/lib/python3.7/site-packages/sklearn/linear_model/logistic.py:432: FutureWarning: Default solver will be changed to 'lbfgs' in 0.22. Specify a solver to silence this warning.\n",
      "  FutureWarning)\n"
     ]
    }
   ],
   "source": [
    "# Logistic Regression model on urdu dataset features\n",
    "lr_predictions = train_predict_model(classifier=lr, train_features=X_train, train_labels=y_train, \n",
    "                                     test_features=X_test, test_labels=y_test)"
   ]
  },
  {
   "cell_type": "code",
   "execution_count": 140,
   "metadata": {},
   "outputs": [],
   "source": [
    "def display_model_performance_metrics(true_labels, predicted_labels, classes=[1,0]):\n",
    "    print('Model performance metrics:')\n",
    "    print('-'*30)\n",
    "    get_metrics(true_labels=true_labels, predicted_labels=predicted_labels)\n",
    "    \n",
    "    print('\\nPredicting confusion matrix:')\n",
    "    print('-'*30)\n",
    "    display_confusion_matrix(true_labels=true_labels, predicted_labels=predicted_labels, classes=classes)"
   ]
  },
  {
   "cell_type": "code",
   "execution_count": 142,
   "metadata": {},
   "outputs": [],
   "source": [
    "def get_metrics(true_labels, predicted_labels):\n",
    "    \n",
    "    print('Accuracy:', np.round(\n",
    "                        metrics.accuracy_score(true_labels, \n",
    "                                               predicted_labels),\n",
    "                        4))\n",
    "    print('Precision:', np.round(\n",
    "                        metrics.precision_score(true_labels, \n",
    "                                               predicted_labels,\n",
    "                                               average='weighted'),\n",
    "                        4))\n",
    "    print('Recall:', np.round(\n",
    "                        metrics.recall_score(true_labels, \n",
    "                                               predicted_labels,\n",
    "                                               average='weighted'),\n",
    "                        4))\n",
    "    print('F1 Score:', np.round(\n",
    "                        metrics.f1_score(true_labels, \n",
    "                                               predicted_labels,\n",
    "                                               average='weighted'),\n",
    "                        4))"
   ]
  },
  {
   "cell_type": "code",
   "execution_count": 144,
   "metadata": {},
   "outputs": [],
   "source": [
    "def display_confusion_matrix(true_labels, predicted_labels, classes=[1,0]):\n",
    "    \n",
    "    total_classes = len(classes)\n",
    "    level_labels = [total_classes*[0], list(range(total_classes))]\n",
    "\n",
    "    cm = metrics.confusion_matrix(y_true=true_labels, y_pred=predicted_labels, \n",
    "                                  labels=classes)\n",
    "    cm_frame = pd.DataFrame(data=cm, \n",
    "                            columns=pd.MultiIndex(levels=[['Predicted:'], classes], \n",
    "                                                  labels=level_labels), \n",
    "                            index=pd.MultiIndex(levels=[['Actual:'], classes], \n",
    "                                                labels=level_labels)) \n",
    "    print(cm_frame) "
   ]
  },
  {
   "cell_type": "code",
   "execution_count": 145,
   "metadata": {},
   "outputs": [
    {
     "name": "stdout",
     "output_type": "stream",
     "text": [
      "Model performance metrics:\n",
      "------------------------------\n",
      "Accuracy: 0.7969\n",
      "Precision: 0.7972\n",
      "Recall: 0.7969\n",
      "F1 Score: 0.797\n",
      "\n",
      "Predicting confusion matrix:\n",
      "------------------------------\n",
      "          Predicted:     \n",
      "                   1    0\n",
      "Actual: 1        961  239\n",
      "        0        220  840\n"
     ]
    },
    {
     "name": "stderr",
     "output_type": "stream",
     "text": [
      "/anaconda3/lib/python3.7/site-packages/ipykernel_launcher.py:10: FutureWarning: the 'labels' keyword is deprecated, use 'codes' instead\n",
      "  # Remove the CWD from sys.path while we load stuff.\n",
      "/anaconda3/lib/python3.7/site-packages/ipykernel_launcher.py:12: FutureWarning: the 'labels' keyword is deprecated, use 'codes' instead\n",
      "  if sys.path[0] == '':\n"
     ]
    }
   ],
   "source": [
    "display_model_performance_metrics(true_labels=y_test, \n",
    "                                  predicted_labels=lr_predictions,\n",
    "                                  classes=[1, 0])"
   ]
  },
  {
   "cell_type": "code",
   "execution_count": 146,
   "metadata": {},
   "outputs": [
    {
     "data": {
      "text/plain": [
       "(2260,)"
      ]
     },
     "execution_count": 146,
     "metadata": {},
     "output_type": "execute_result"
    }
   ],
   "source": [
    "y_test.shape"
   ]
  },
  {
   "cell_type": "code",
   "execution_count": 147,
   "metadata": {},
   "outputs": [],
   "source": [
    "# Support Vector Machine on urdu dataset features\n",
    "svm_predictions = train_predict_model(classifier=svm, train_features=X_train, train_labels=y_train, \n",
    "                                     test_features=X_test, test_labels=y_test)"
   ]
  },
  {
   "cell_type": "code",
   "execution_count": 148,
   "metadata": {},
   "outputs": [
    {
     "name": "stdout",
     "output_type": "stream",
     "text": [
      "Model performance metrics:\n",
      "------------------------------\n",
      "Accuracy: 0.7973\n",
      "Precision: 0.799\n",
      "Recall: 0.7973\n",
      "F1 Score: 0.7975\n",
      "\n",
      "Predicting confusion matrix:\n",
      "------------------------------\n",
      "          Predicted:     \n",
      "                   1    0\n",
      "Actual: 1        939  261\n",
      "        0        197  863\n"
     ]
    },
    {
     "name": "stderr",
     "output_type": "stream",
     "text": [
      "/anaconda3/lib/python3.7/site-packages/ipykernel_launcher.py:10: FutureWarning: the 'labels' keyword is deprecated, use 'codes' instead\n",
      "  # Remove the CWD from sys.path while we load stuff.\n",
      "/anaconda3/lib/python3.7/site-packages/ipykernel_launcher.py:12: FutureWarning: the 'labels' keyword is deprecated, use 'codes' instead\n",
      "  if sys.path[0] == '':\n"
     ]
    }
   ],
   "source": [
    "display_model_performance_metrics(true_labels=y_test, \n",
    "                                  predicted_labels=svm_predictions,\n",
    "                                  classes=[1, 0])"
   ]
  },
  {
   "cell_type": "code",
   "execution_count": 152,
   "metadata": {},
   "outputs": [],
   "source": [
    "rf = RandomForestClassifier(n_estimators=50, max_depth=None, n_jobs=-1)"
   ]
  },
  {
   "cell_type": "code",
   "execution_count": 153,
   "metadata": {},
   "outputs": [],
   "source": [
    "# Random Forest Classifier on urdu dataset features\n",
    "rf_predictions = train_predict_model(classifier=rf, train_features=X_train, train_labels=y_train, \n",
    "                                     test_features=X_test, test_labels=y_test)"
   ]
  },
  {
   "cell_type": "code",
   "execution_count": 154,
   "metadata": {},
   "outputs": [
    {
     "name": "stdout",
     "output_type": "stream",
     "text": [
      "Model performance metrics:\n",
      "------------------------------\n",
      "Accuracy: 0.7522\n",
      "Precision: 0.7541\n",
      "Recall: 0.7522\n",
      "F1 Score: 0.7525\n",
      "\n",
      "Predicting confusion matrix:\n",
      "------------------------------\n",
      "          Predicted:     \n",
      "                   1    0\n",
      "Actual: 1        885  315\n",
      "        0        245  815\n"
     ]
    },
    {
     "name": "stderr",
     "output_type": "stream",
     "text": [
      "/anaconda3/lib/python3.7/site-packages/ipykernel_launcher.py:10: FutureWarning: the 'labels' keyword is deprecated, use 'codes' instead\n",
      "  # Remove the CWD from sys.path while we load stuff.\n",
      "/anaconda3/lib/python3.7/site-packages/ipykernel_launcher.py:12: FutureWarning: the 'labels' keyword is deprecated, use 'codes' instead\n",
      "  if sys.path[0] == '':\n"
     ]
    }
   ],
   "source": [
    "display_model_performance_metrics(true_labels=y_test, \n",
    "                                  predicted_labels=rf_predictions,\n",
    "                                  classes=[1, 0])"
   ]
  },
  {
   "cell_type": "markdown",
   "metadata": {},
   "source": [
    "# Deep Learning Models"
   ]
  },
  {
   "cell_type": "code",
   "execution_count": 156,
   "metadata": {},
   "outputs": [],
   "source": [
    "from keras.models import Sequential\n",
    "from keras import layers"
   ]
  },
  {
   "cell_type": "code",
   "execution_count": 157,
   "metadata": {},
   "outputs": [],
   "source": [
    "input_dim = X_train.shape[1] #Number of features"
   ]
  },
  {
   "cell_type": "code",
   "execution_count": 158,
   "metadata": {},
   "outputs": [
    {
     "name": "stdout",
     "output_type": "stream",
     "text": [
      "25631\n"
     ]
    }
   ],
   "source": [
    "print(input_dim)"
   ]
  },
  {
   "cell_type": "code",
   "execution_count": 162,
   "metadata": {},
   "outputs": [],
   "source": [
    "model = Sequential()\n",
    "model.add(layers.Dense(10, input_dim=input_dim, activation='relu'))\n",
    "model.add(layers.Dense(1, activation='sigmoid'))"
   ]
  },
  {
   "cell_type": "code",
   "execution_count": 163,
   "metadata": {},
   "outputs": [
    {
     "name": "stdout",
     "output_type": "stream",
     "text": [
      "Model: \"sequential_2\"\n",
      "_________________________________________________________________\n",
      "Layer (type)                 Output Shape              Param #   \n",
      "=================================================================\n",
      "dense_3 (Dense)              (None, 10)                256320    \n",
      "_________________________________________________________________\n",
      "dense_4 (Dense)              (None, 1)                 11        \n",
      "=================================================================\n",
      "Total params: 256,331\n",
      "Trainable params: 256,331\n",
      "Non-trainable params: 0\n",
      "_________________________________________________________________\n"
     ]
    }
   ],
   "source": [
    "model.compile(loss='binary_crossentropy', \n",
    "              optimizer='adam', \n",
    "              metrics=['accuracy'])\n",
    "model.summary()"
   ]
  },
  {
   "cell_type": "code",
   "execution_count": 179,
   "metadata": {},
   "outputs": [],
   "source": [
    "history = model.fit(X_train, y_train, \n",
    "                    epochs=100, \n",
    "                    verbose=False,\n",
    "                    validation_data=(X_test, y_test),\n",
    "                    batch_size=10)"
   ]
  },
  {
   "cell_type": "code",
   "execution_count": 176,
   "metadata": {},
   "outputs": [
    {
     "name": "stdout",
     "output_type": "stream",
     "text": [
      "9040/9040 [==============================] - 1s 95us/step\n",
      "Training Accuracy: 0.9994\n",
      "2260/2260 [==============================] - 0s 94us/step\n",
      "Testing accuracy: 0.7540\n"
     ]
    }
   ],
   "source": [
    "loss, accuracy = model.evaluate(X_train, y_train, verbose=True)\n",
    "print(\"Training Accuracy: {:.4f}\".format(accuracy))\n",
    "loss, accuracy = model.evaluate(X_test, y_test, verbose=True)\n",
    "print(\"Testing accuracy: {:.4f}\".format(accuracy))"
   ]
  },
  {
   "cell_type": "code",
   "execution_count": 177,
   "metadata": {},
   "outputs": [],
   "source": [
    "def plot_history(history):\n",
    "    acc = history.history['acc']\n",
    "    val_acc = history.history['val_acc']\n",
    "    loss = history.history['loss']\n",
    "    val_loss = history.history['val_loss']\n",
    "    x = range(1, len(acc)+1)\n",
    "    \n",
    "    plt.figure(figsize=(12,5))\n",
    "    plt.subplot(1,2,1)\n",
    "    plt.plot(x, acc, 'b', label='Training accuracy')\n",
    "    plt.plot(x, val_acc, 'r', label='Validation accuracy')\n",
    "    plt.title('Training and validation accuracy')\n",
    "    plt.legend()\n",
    "    plt.subplot(1,2,2)\n",
    "    plt.plot(x, loss, 'b', label='Training loss')\n",
    "    plt.plot(x, val_loss, 'r', label='Validation loss')\n",
    "    plt.title('Training and validation loss')\n",
    "    plt.legend()"
   ]
  },
  {
   "cell_type": "code",
   "execution_count": 178,
   "metadata": {},
   "outputs": [
    {
     "data": {
      "image/png": "[encoded data removed]",
      "text/plain": [
       "<Figure size 864x360 with 2 Axes>"
      ]
     },
     "metadata": {},
     "output_type": "display_data"
    }
   ],
   "source": [
    "plot_history(history)"
   ]
  },
  {
   "cell_type": "code",
   "execution_count": null,
   "metadata": {},
   "outputs": [],
   "source": []
  }
 ],
 "metadata": {
  "kernelspec": {
   "display_name": "Python 3",
   "language": "python",
   "name": "python3"
  },
  "language_info": {
   "codemirror_mode": {
    "name": "ipython",
    "version": 3
   },
   "file_extension": ".py",
   "mimetype": "text/x-python",
   "name": "python",
   "nbconvert_exporter": "python",
   "pygments_lexer": "ipython3",
   "version": "3.7.3"
  },
  "toc": {
   "base_numbering": 1,
   "nav_menu": {},
   "number_sections": true,
   "sideBar": true,
   "skip_h1_title": false,
   "title_cell": "Table of Contents",
   "title_sidebar": "Contents",
   "toc_cell": false,
   "toc_position": {},
   "toc_section_display": true,
   "toc_window_display": true
  }
 },
 "nbformat": 4,
 "nbformat_minor": 2
}
