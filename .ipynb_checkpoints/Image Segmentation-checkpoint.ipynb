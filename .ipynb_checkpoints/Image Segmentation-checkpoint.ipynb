{
 "cells": [
  {
   "cell_type": "markdown",
   "metadata": {},
   "source": [
    "# Introduction"
   ]
  },
  {
   "cell_type": "markdown",
   "metadata": {},
   "source": [
    "We will be working with 3D MRI brain scans from the public [Medical Segmentation Decathalon](https://decathlon-10.grand-challenge.org/) challenge project. This is an incredibly rich dataset that provides with labels associated with each point (voxel) inside a representation of a patient's brain. Ultimately, the aim is to train a neural network to make 3D spatial segmentation predictions for common brain disorders. "
   ]
  },
  {
   "cell_type": "markdown",
   "metadata": {},
   "source": [
    "**Import Packages**"
   ]
  },
  {
   "cell_type": "code",
   "execution_count": 1,
   "metadata": {},
   "outputs": [],
   "source": [
    "# Import all the necessary packages\n",
    "import numpy as np\n",
    "import nibabel as nib\n",
    "import itk\n",
    "import itkwidgets\n",
    "from ipywidgets import interact, interactive, IntSlider, ToggleButtons\n",
    "import matplotlib.pyplot as plt\n",
    "%matplotlib inline\n",
    "import seaborn as sns\n",
    "sns.set_style('darkgrid')\n",
    "import os\n",
    "from pathlib import Path "
   ]
  },
  {
   "cell_type": "markdown",
   "metadata": {},
   "source": [
    "**Load Images of Brain**"
   ]
  },
  {
   "cell_type": "code",
   "execution_count": 8,
   "metadata": {},
   "outputs": [
    {
     "name": "stdout",
     "output_type": "stream",
     "text": [
      "Type of the image <class 'nibabel.nifti1.Nifti1Image'>\n"
     ]
    }
   ],
   "source": [
    "basepath = Path('/Users/monsharm6/Projects/AIforMedicalDiagnosis/AI4M/AI for Medical Diagnosis/Week3/Task01_BrainTumour/imagesTr')\n",
    "image_path = \"BRATS_001.nii.gz\"\n",
    "imagePath = os.path.join(basepath, image_path)\n",
    "image_obj = nib.load(imagePath)\n",
    "print(f'Type of the image {type(image_obj)}')"
   ]
  },
  {
   "cell_type": "markdown",
   "metadata": {},
   "source": [
    "**Extract the data as a numpy array**"
   ]
  },
  {
   "cell_type": "markdown",
   "metadata": {},
   "source": [
    "Extracting the data using the <mark>get_fdata()</mark> method of the image object"
   ]
  },
  {
   "cell_type": "code",
   "execution_count": 9,
   "metadata": {},
   "outputs": [
    {
     "data": {
      "text/plain": [
       "numpy.ndarray"
      ]
     },
     "execution_count": 9,
     "metadata": {},
     "output_type": "execute_result"
    }
   ],
   "source": [
    "# Extract data as numpy ndarray\n",
    "image_data = image_obj.get_fdata()\n",
    "type(image_data)"
   ]
  },
  {
   "cell_type": "code",
   "execution_count": 12,
   "metadata": {},
   "outputs": [
    {
     "name": "stdout",
     "output_type": "stream",
     "text": [
      "The image object has the following dimensions: height: 240, width: 240, depth: 155, channels: 4\n"
     ]
    }
   ],
   "source": [
    "# Get the image shape and print it out\n",
    "height, width, depth, channels = image_data.shape\n",
    "print(f\"The image object has the following dimensions: height: {height}, width: {width}, depth: {depth}, channels: {channels}\")"
   ]
  },
  {
   "cell_type": "markdown",
   "metadata": {},
   "source": [
    "These image objects are 4-dimensional."
   ]
  },
  {
   "cell_type": "markdown",
   "metadata": {},
   "source": [
    "**Visualize the data**\n",
    "\n",
    "The \"depth\" listed above indicates that there are 155 layers (slices through the brain) in every image object. Let's use the code below to visualize a single layer. Note that if the layer is one of the first or the the last (\"i\" near 0 or 154), you won't find much information and the screen will be dark. One can run this cell multiple times to look at different layers. You can also change which channel to look at by changing the <mark>channel</mark> variable. "
   ]
  },
  {
   "cell_type": "code",
   "execution_count": 29,
   "metadata": {},
   "outputs": [
    {
     "name": "stdout",
     "output_type": "stream",
     "text": [
      "Plotting layer 75 Channel 3 of Image\n"
     ]
    },
    {
     "data": {
      "text/plain": [
       "(-0.5, 239.5, 239.5, -0.5)"
      ]
     },
     "execution_count": 29,
     "metadata": {},
     "output_type": "execute_result"
    },
    {
     "data": {
      "image/png": "[encoded data removed]",
      "text/plain": [
       "<Figure size 432x288 with 1 Axes>"
      ]
     },
     "metadata": {
      "needs_background": "light"
     },
     "output_type": "display_data"
    }
   ],
   "source": [
    "# select random layer number\n",
    "maxval = 154\n",
    "i = np.random.randint(0, maxval)\n",
    "# Define a channel to look at\n",
    "channel = 3\n",
    "print(f\"Plotting layer {i} Channel {channel} of Image\")\n",
    "plt.imshow(image_data[:, :, i, channel], cmap='gray')\n",
    "plt.axis('off')"
   ]
  },
  {
   "cell_type": "code",
   "execution_count": 36,
   "metadata": {},
   "outputs": [
    {
     "data": {
      "text/plain": [
       "(240, 240, 155, 4)"
      ]
     },
     "execution_count": 36,
     "metadata": {},
     "output_type": "execute_result"
    }
   ],
   "source": [
    "image_data.shape"
   ]
  },
  {
   "cell_type": "markdown",
   "metadata": {},
   "source": [
    "**Interactive Exploration**\n",
    "\n",
    "Another way to visualize this dataset is by using IPython Widgets to allow for interactive exploration of the data. \n",
    "\n",
    "Slider allows you to explore different layers of the image. Change the <mark>channel</mark> value to explore different channels. See if you can tell which layer corresponds to the top of the brain and which corresponds to the bottom! "
   ]
  },
  {
   "cell_type": "code",
   "execution_count": 30,
   "metadata": {},
   "outputs": [
    {
     "data": {
      "application/vnd.jupyter.widget-view+json": {
       "model_id": "addf0d9fe2994039bc94a653362b1987",
       "version_major": 2,
       "version_minor": 0
      },
      "text/plain": [
       "interactive(children=(IntSlider(value=77, description='layer', max=154), Output()), _dom_classes=('widget-inte…"
      ]
     },
     "metadata": {},
     "output_type": "display_data"
    },
    {
     "data": {
      "text/plain": [
       "<function __main__.explore_3dimage(layer)>"
      ]
     },
     "execution_count": 30,
     "metadata": {},
     "output_type": "execute_result"
    }
   ],
   "source": [
    "# Define a function to visualize the data\n",
    "def explore_3dimage(layer):\n",
    "    plt.figure(figsize=(10,5))\n",
    "    channel=3\n",
    "    plt.imshow(image_data[:, :, layer, channel], cmap='gray')\n",
    "    plt.title('Explore layers of Brain MRI', fontsize=20)\n",
    "    plt.axis('off')\n",
    "    return layer\n",
    "\n",
    "# Run the ipywidget interact() function to explore the data\n",
    "interact(explore_3dimage, layer=(0, image_data.shape[2] - 1))"
   ]
  },
  {
   "cell_type": "markdown",
   "metadata": {},
   "source": [
    "**Explore the data labels**\n",
    "\n",
    "The cell below loads the labeled dataset for the image object we inspected above. "
   ]
  },
  {
   "cell_type": "code",
   "execution_count": 39,
   "metadata": {},
   "outputs": [
    {
     "data": {
      "text/plain": [
       "nibabel.nifti1.Nifti1Image"
      ]
     },
     "execution_count": 39,
     "metadata": {},
     "output_type": "execute_result"
    }
   ],
   "source": [
    "# Define the data path and load the path\n",
    "label_obj = nib.load(imagePath)\n",
    "type(label_obj)"
   ]
  },
  {
   "cell_type": "markdown",
   "metadata": {},
   "source": [
    "**Extract the data as a numpy array**\n",
    "\n",
    "Run the next cell to extract the data labels using the <mark>get_fdata()</mark> method of the image object."
   ]
  },
  {
   "cell_type": "code",
   "execution_count": 40,
   "metadata": {},
   "outputs": [
    {
     "data": {
      "text/plain": [
       "numpy.ndarray"
      ]
     },
     "execution_count": 40,
     "metadata": {},
     "output_type": "execute_result"
    }
   ],
   "source": [
    "# Extract the data labels\n",
    "label_array = label_obj.get_fdata()\n",
    "type(label_array)"
   ]
  },
  {
   "cell_type": "code",
   "execution_count": 42,
   "metadata": {},
   "outputs": [
    {
     "data": {
      "text/plain": [
       "(240, 240, 155, 4)"
      ]
     },
     "execution_count": 42,
     "metadata": {},
     "output_type": "execute_result"
    }
   ],
   "source": [
    "label_array.shape"
   ]
  },
  {
   "cell_type": "code",
   "execution_count": 43,
   "metadata": {},
   "outputs": [
    {
     "name": "stdout",
     "output_type": "stream",
     "text": [
      "Dimensions of labels data array height: 240, width: 240, depth: 155\n",
      "With the unique values: [0.000e+00 1.000e+00 2.000e+00 ... 2.195e+03 2.238e+03 2.239e+03]\n",
      "Corresponding to the following label categories: \n",
      "0: for normal \n",
      "1: for edema\n",
      "2: for non-enhancing tumor \n",
      "3: for enhancing tumor\n"
     ]
    }
   ],
   "source": [
    "# Extract and print out the shape of the labels data\n",
    "height, width, depth, channel = label_array.shape\n",
    "print(f\"Dimensions of labels data array height: {height}, width: {width}, depth: {depth}\")\n",
    "print(f'With the unique values: {np.unique(label_array)}')\n",
    "print(\"\"\"Corresponding to the following label categories: \n",
    "0: for normal \n",
    "1: for edema\n",
    "2: for non-enhancing tumor \n",
    "3: for enhancing tumor\"\"\")"
   ]
  },
  {
   "cell_type": "markdown",
   "metadata": {},
   "source": [
    "**Visualize the labels for a specific layer**\n",
    "\n",
    "The cell below helps visualize a single layer of the labeled data. The code below is set tp to show a single layer and you set <mark>i</mark> to any value from 0 to 154 to look at different layers. \n",
    "\n",
    "Note: If you choose a layer near 0 or 154 there might not be much to look at in the image. "
   ]
  },
  {
   "cell_type": "code",
   "execution_count": 49,
   "metadata": {},
   "outputs": [
    {
     "data": {
      "image/png": "[encoded data removed]",
      "text/plain": [
       "<Figure size 3600x2160 with 4 Axes>"
      ]
     },
     "metadata": {
      "needs_background": "light"
     },
     "output_type": "display_data"
    }
   ],
   "source": [
    "# Define a single layer for plotting\n",
    "layer = 120\n",
    "# Define a dictionary of class labels\n",
    "classes_dict = {\n",
    "    'Normal': 0.,\n",
    "    'Edema': 1.,\n",
    "    'Non-enhancing tumor': 2.,\n",
    "    'Enhancing tumor': 3.\n",
    "}\n",
    "# Set up for plotting\n",
    "fig, ax = plt.subplots(nrows=1, ncols=4, figsize=(50, 30))\n",
    "for i in range(4):\n",
    "    img_label_str = list(classes_dict.keys())[i]\n",
    "    img = label_array[:,:,layer]\n",
    "    mask = np.where(img == classes_dict[img_label_str], 255, 0)\n",
    "    ax[i].imshow(mask)\n",
    "    ax[i].set_title(f'Layer {layer} for {img_label_str}', fontsize=45)\n",
    "    ax[i].axis('off')\n",
    "plt.tight_layout()"
   ]
  },
  {
   "cell_type": "markdown",
   "metadata": {},
   "source": [
    "**Interactive Visualization across layers**"
   ]
  },
  {
   "cell_type": "code",
   "execution_count": 48,
   "metadata": {},
   "outputs": [
    {
     "data": {
      "application/vnd.jupyter.widget-view+json": {
       "model_id": "c2710f6a9bd4404f97b4e8e7a9f4d3fc",
       "version_major": 2,
       "version_minor": 0
      },
      "text/plain": [
       "interactive(children=(ToggleButtons(button_style='info', description='Select Class:', options=('Normal', 'Edem…"
      ]
     },
     "metadata": {},
     "output_type": "display_data"
    }
   ],
   "source": [
    "# Create button values\n",
    "select_class = ToggleButtons(\n",
    "    options=['Normal','Edema','Non-enhancing tumor','Enhancing tumor'],\n",
    "    description='Select Class:',\n",
    "    disabled=False,\n",
    "    button_style='info',\n",
    ")\n",
    "\n",
    "# Create layer slider\n",
    "select_layer = IntSlider(min=0, max=154, \n",
    "                         description='Select Layer',\n",
    "                         continuous_update=False)\n",
    "\n",
    "# Define a function for plotting images\n",
    "def plot_image(seg_class, layer):\n",
    "    print(f'Plotting {layer} Layer Label: {seg_class}')\n",
    "    img_label = classes_dict[seg_class]\n",
    "    mask = np.where(label_array[:,:,layer] == img_label, 255, 0)\n",
    "    plt.figure(figsize=(10,5))\n",
    "    plt.imshow(mask, cmap='gray')\n",
    "    plt.axis('off')\n",
    "    \n",
    "interactive(plot_image, seg_class=select_class, layer=select_layer)"
   ]
  },
  {
   "cell_type": "markdown",
   "metadata": {},
   "source": [
    "# Extract a Sub-Section"
   ]
  },
  {
   "cell_type": "markdown",
   "metadata": {},
   "source": [
    "We will be extracting sub-sections of the MRI data to train the network. Training on a full MRI scan would be too memory intensive to be practical. "
   ]
  },
  {
   "cell_type": "code",
   "execution_count": 50,
   "metadata": {},
   "outputs": [
    {
     "data": {
      "text/plain": [
       "array([10, 11, 12, 13, 14, 15])"
      ]
     },
     "execution_count": 50,
     "metadata": {},
     "output_type": "execute_result"
    }
   ],
   "source": [
    "# Define a simple one dimensional \"image\" to extract from\n",
    "image = np.array([10,11,12,13,14,15])\n",
    "image"
   ]
  },
  {
   "cell_type": "code",
   "execution_count": 55,
   "metadata": {},
   "outputs": [
    {
     "data": {
      "text/plain": [
       "6"
      ]
     },
     "execution_count": 55,
     "metadata": {},
     "output_type": "execute_result"
    }
   ],
   "source": [
    "# Compute the dimensions of your \"image\"\n",
    "image_length = image.shape[0]\n",
    "image_length"
   ]
  },
  {
   "cell_type": "code",
   "execution_count": 64,
   "metadata": {},
   "outputs": [],
   "source": [
    "# Define a patch lenght, which will be the size of the extracted sub-section\n",
    "patch_length = 3\n",
    "\n",
    "# Define a start index\n",
    "start_i = 0"
   ]
  },
  {
   "cell_type": "code",
   "execution_count": 65,
   "metadata": {},
   "outputs": [
    {
     "name": "stdout",
     "output_type": "stream",
     "text": [
      "start index 0\n",
      "[10 11 12]\n"
     ]
    }
   ],
   "source": [
    "# Define an end index given your start index and patch size\n",
    "print(f\"start index {start_i}\")\n",
    "end_i = start_i + patch_length\n",
    "# Extract a sub-section from your \"image\"\n",
    "sub_section = image[start_i: end_i]\n",
    "print(sub_section)\n",
    "# Add one to your start index\n",
    "start_i += 1"
   ]
  },
  {
   "cell_type": "markdown",
   "metadata": {},
   "source": [
    "You'll notice when you run the above multiple times, that eventually the sub-section returned is no longer of length `patch_length`. \n",
    "\n",
    "In the assignment, your neural network will be expecting a particular sub-section size and will not accept inputs of other dimensions. For the start indices, you will be randomly choosing values and you need to ensure that your random number generator is set up to avoid the edges of your image object.\n",
    "\n",
    "The next few code cells include a demonstration of how you could determine the constraints on your start index for the simple one dimensional example."
   ]
  },
  {
   "cell_type": "code",
   "execution_count": 67,
   "metadata": {},
   "outputs": [
    {
     "name": "stdout",
     "output_type": "stream",
     "text": [
      "Start index 3\n",
      "End index 6\n",
      "[13 14 15]\n"
     ]
    }
   ],
   "source": [
    "# Set your start index to 3 to extract a valid patch\n",
    "start_i = 3\n",
    "print(f\"Start index {start_i}\")\n",
    "end_i = start_i + patch_length\n",
    "print(f\"End index {end_i}\")\n",
    "sub_section = image[start_i: end_i]\n",
    "print(sub_section)"
   ]
  },
  {
   "cell_type": "code",
   "execution_count": 68,
   "metadata": {},
   "outputs": [
    {
     "name": "stdout",
     "output_type": "stream",
     "text": [
      "The largest start index for which a sub section is still valid is 3\n"
     ]
    }
   ],
   "source": [
    "# Compute and print the largest valid value for start index\n",
    "print(f\"The largest start index for which \"\n",
    "      f\"a sub section is still valid is \"\n",
    "      f\"{image_length - patch_length}\")"
   ]
  },
  {
   "cell_type": "code",
   "execution_count": 69,
   "metadata": {},
   "outputs": [
    {
     "name": "stdout",
     "output_type": "stream",
     "text": [
      "The range of valid start indices is:\n",
      "[0, 1, 2, 3]\n"
     ]
    }
   ],
   "source": [
    "# Compute and print the range of valid start indices\n",
    "print(f\"The range of valid start indices is:\")\n",
    "# Compute valid start indices, note the range() function excludes the upper bound\n",
    "valid_start_i = [i for i in range(image_length - patch_length + 1)]\n",
    "print(valid_start_i)"
   ]
  },
  {
   "cell_type": "markdown",
   "metadata": {},
   "source": [
    "**Random selection of start indices**\n",
    "\n",
    "To randomly select a valid integer for the start index in each of the three dimensions, use the logic below. "
   ]
  },
  {
   "cell_type": "code",
   "execution_count": 81,
   "metadata": {},
   "outputs": [
    {
     "name": "stdout",
     "output_type": "stream",
     "text": [
      "randomly selected start index 1\n"
     ]
    }
   ],
   "source": [
    "# Choose a random start index, note the np.random.randint() function \n",
    "# excludes the upper bound\n",
    "start_i = np.random.randint(image_length - patch_length + 1)\n",
    "print(f\"randomly selected start index {start_i}\")"
   ]
  },
  {
   "cell_type": "code",
   "execution_count": 82,
   "metadata": {},
   "outputs": [
    {
     "name": "stdout",
     "output_type": "stream",
     "text": [
      "randomly selected start index 3\n",
      "randomly selected start index 2\n",
      "randomly selected start index 3\n",
      "randomly selected start index 1\n",
      "randomly selected start index 1\n",
      "randomly selected start index 1\n",
      "randomly selected start index 2\n",
      "randomly selected start index 3\n",
      "randomly selected start index 3\n",
      "randomly selected start index 0\n"
     ]
    }
   ],
   "source": [
    "# Randomly selete multiple start indices in a loop\n",
    "for _ in range(10):\n",
    "    start_i = np.random.randint(image_length - patch_length + 1)\n",
    "    print(f\"randomly selected start index {start_i}\")"
   ]
  },
  {
   "cell_type": "code",
   "execution_count": null,
   "metadata": {},
   "outputs": [],
   "source": []
  }
 ],
 "metadata": {
  "kernelspec": {
   "display_name": "Python 3",
   "language": "python",
   "name": "python3"
  },
  "language_info": {
   "codemirror_mode": {
    "name": "ipython",
    "version": 3
   },
   "file_extension": ".py",
   "mimetype": "text/x-python",
   "name": "python",
   "nbconvert_exporter": "python",
   "pygments_lexer": "ipython3",
   "version": "3.7.3"
  },
  "toc": {
   "base_numbering": 1,
   "nav_menu": {},
   "number_sections": true,
   "sideBar": true,
   "skip_h1_title": false,
   "title_cell": "Table of Contents",
   "title_sidebar": "Contents",
   "toc_cell": false,
   "toc_position": {},
   "toc_section_display": true,
   "toc_window_display": false
  }
 },
 "nbformat": 4,
 "nbformat_minor": 2
}
